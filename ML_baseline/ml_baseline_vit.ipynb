{
 "cells": [
  {
   "cell_type": "code",
   "execution_count": 1,
   "metadata": {},
   "outputs": [],
   "source": [
    "# Импорты\n",
    "import pandas as pd\n",
    "import joblib\n",
    "import numpy as np\n",
    "import random\n",
    "from sklearn.pipeline import Pipeline\n",
    "from sklearn.feature_extraction.text import TfidfVectorizer\n",
    "from sklearn.multiclass import OneVsRestClassifier\n",
    "from sklearn.svm import LinearSVC\n",
    "from sklearn.model_selection import GridSearchCV, train_test_split\n",
    "from sklearn.linear_model import LogisticRegression\n",
    "from sklearn.model_selection import KFold\n",
    "from sklearn.metrics import precision_score, recall_score, f1_score, hamming_loss, roc_auc_score\n",
    "from typing import Dict, List, Union\n",
    "from sklearn.preprocessing import MultiLabelBinarizer\n",
    "from sklearn.feature_selection import VarianceThreshold\n",
    "from nltk.util import ngrams\n",
    "random.seed(42)\n",
    "np.random.seed(42)\n",
    "pd.options.mode.chained_assignment = None"
   ]
  },
  {
   "cell_type": "code",
   "execution_count": 2,
   "metadata": {},
   "outputs": [],
   "source": [
    "df = pd.read_parquet(\"df_l_fin.parquet\")"
   ]
  },
  {
   "cell_type": "code",
   "execution_count": 3,
   "metadata": {},
   "outputs": [
    {
     "data": {
      "text/html": [
       "<div>\n",
       "<style scoped>\n",
       "    .dataframe tbody tr th:only-of-type {\n",
       "        vertical-align: middle;\n",
       "    }\n",
       "\n",
       "    .dataframe tbody tr th {\n",
       "        vertical-align: top;\n",
       "    }\n",
       "\n",
       "    .dataframe thead th {\n",
       "        text-align: right;\n",
       "    }\n",
       "</style>\n",
       "<table border=\"1\" class=\"dataframe\">\n",
       "  <thead>\n",
       "    <tr style=\"text-align: right;\">\n",
       "      <th></th>\n",
       "      <th>author</th>\n",
       "      <th>publication_date</th>\n",
       "      <th>hubs</th>\n",
       "      <th>comments</th>\n",
       "      <th>views</th>\n",
       "      <th>url</th>\n",
       "      <th>reading_time</th>\n",
       "      <th>individ/company</th>\n",
       "      <th>bookmarks_cnt</th>\n",
       "      <th>text_length</th>\n",
       "      <th>tags_tokens</th>\n",
       "      <th>title_tokens</th>\n",
       "      <th>rating_new</th>\n",
       "      <th>text_tokens</th>\n",
       "      <th>text_pos_tags</th>\n",
       "    </tr>\n",
       "  </thead>\n",
       "  <tbody>\n",
       "    <tr>\n",
       "      <th>0</th>\n",
       "      <td>complex</td>\n",
       "      <td>2009-08-03 14:34:35+00:00</td>\n",
       "      <td>GTD</td>\n",
       "      <td>67</td>\n",
       "      <td>6800</td>\n",
       "      <td>https://habr.com/ru/articles/66091/</td>\n",
       "      <td>2.0</td>\n",
       "      <td>individual</td>\n",
       "      <td>25.0</td>\n",
       "      <td>2027</td>\n",
       "      <td>['лень' 'учись' 'работать' 'самомотивация' 'мо...</td>\n",
       "      <td>['лечение' 'приступ' 'лень']</td>\n",
       "      <td>4.0</td>\n",
       "      <td>['лишать' 'девственность' 'бложик' 'происходит...</td>\n",
       "      <td>[NOUN, VERB, NOUN, DET, NOUN, ADV, SCONJ, PRON...</td>\n",
       "    </tr>\n",
       "    <tr>\n",
       "      <th>1</th>\n",
       "      <td>popotam2</td>\n",
       "      <td>2009-07-15 20:24:31+00:00</td>\n",
       "      <td>GTD</td>\n",
       "      <td>13</td>\n",
       "      <td>3100</td>\n",
       "      <td>https://habr.com/ru/articles/64586/</td>\n",
       "      <td>1.0</td>\n",
       "      <td>individual</td>\n",
       "      <td>6.0</td>\n",
       "      <td>424</td>\n",
       "      <td>['развитие' 'работоспособность' 'организация' ...</td>\n",
       "      <td>['организация' 'рабочий' 'время' 'помощь' 'цвет']</td>\n",
       "      <td>1.0</td>\n",
       "      <td>['предлагать' 'вариант' 'сделать' 'организован...</td>\n",
       "      <td>[VERB, ADV, NUM, NOUN, VERB, PRON, ADV, ADJ, C...</td>\n",
       "    </tr>\n",
       "    <tr>\n",
       "      <th>2</th>\n",
       "      <td>COOL_ALMANAH</td>\n",
       "      <td>2009-05-13 11:37:50+00:00</td>\n",
       "      <td>GTD</td>\n",
       "      <td>22</td>\n",
       "      <td>1300</td>\n",
       "      <td>https://habr.com/ru/articles/59477/</td>\n",
       "      <td>1.0</td>\n",
       "      <td>individual</td>\n",
       "      <td>6.0</td>\n",
       "      <td>1084</td>\n",
       "      <td>['flash' 'работа' 'время' 'контроль' 'шахматны...</td>\n",
       "      <td>['контроль' 'потерять' 'время' 'flash' 'обновл...</td>\n",
       "      <td>4.0</td>\n",
       "      <td>['таймер' 'обновиться' 'надеяться' 'удобный' '...</td>\n",
       "      <td>[NOUN, VERB, SPACE, ADV, PRON, VERB, AUX, ADJ,...</td>\n",
       "    </tr>\n",
       "    <tr>\n",
       "      <th>3</th>\n",
       "      <td>ZakharS</td>\n",
       "      <td>2009-05-14 11:13:12+00:00</td>\n",
       "      <td>GTD</td>\n",
       "      <td>314</td>\n",
       "      <td>6700</td>\n",
       "      <td>https://habr.com/ru/articles/59584/</td>\n",
       "      <td>5.0</td>\n",
       "      <td>individual</td>\n",
       "      <td>104.0</td>\n",
       "      <td>7852</td>\n",
       "      <td>['карьера' 'it' 'финансы' 'рост']</td>\n",
       "      <td>['достигнуть' 'потолок' 'зарплата']</td>\n",
       "      <td>147.0</td>\n",
       "      <td>['предупредить' 'несмотря' 'экран' 'текст' 'ст...</td>\n",
       "      <td>[VERB, ADV, VERB, PRON, ADV, ADP, NUM, NOUN, N...</td>\n",
       "    </tr>\n",
       "    <tr>\n",
       "      <th>4</th>\n",
       "      <td>Kerf</td>\n",
       "      <td>2009-03-19 14:44:04+00:00</td>\n",
       "      <td>GTD</td>\n",
       "      <td>3</td>\n",
       "      <td>892</td>\n",
       "      <td>https://habr.com/ru/articles/54970/</td>\n",
       "      <td>6.0</td>\n",
       "      <td>individual</td>\n",
       "      <td>16.0</td>\n",
       "      <td>8872</td>\n",
       "      <td>['бизнес' 'корпорация' 'вебдизайн' 'контент']</td>\n",
       "      <td>['вещь' 'знать' 'клиент']</td>\n",
       "      <td>3.0</td>\n",
       "      <td>['когдалибо' 'чувствовать' 'бесконечно' 'повто...</td>\n",
       "      <td>[PRON, PRON, VERB, SCONJ, PRON, ADV, VERB, DET...</td>\n",
       "    </tr>\n",
       "  </tbody>\n",
       "</table>\n",
       "</div>"
      ],
      "text/plain": [
       "         author          publication_date hubs  comments  views  \\\n",
       "0       complex 2009-08-03 14:34:35+00:00  GTD        67   6800   \n",
       "1      popotam2 2009-07-15 20:24:31+00:00  GTD        13   3100   \n",
       "2  COOL_ALMANAH 2009-05-13 11:37:50+00:00  GTD        22   1300   \n",
       "3       ZakharS 2009-05-14 11:13:12+00:00  GTD       314   6700   \n",
       "4          Kerf 2009-03-19 14:44:04+00:00  GTD         3    892   \n",
       "\n",
       "                                   url  reading_time individ/company  \\\n",
       "0  https://habr.com/ru/articles/66091/           2.0      individual   \n",
       "1  https://habr.com/ru/articles/64586/           1.0      individual   \n",
       "2  https://habr.com/ru/articles/59477/           1.0      individual   \n",
       "3  https://habr.com/ru/articles/59584/           5.0      individual   \n",
       "4  https://habr.com/ru/articles/54970/           6.0      individual   \n",
       "\n",
       "   bookmarks_cnt  text_length  \\\n",
       "0           25.0         2027   \n",
       "1            6.0          424   \n",
       "2            6.0         1084   \n",
       "3          104.0         7852   \n",
       "4           16.0         8872   \n",
       "\n",
       "                                         tags_tokens  \\\n",
       "0  ['лень' 'учись' 'работать' 'самомотивация' 'мо...   \n",
       "1  ['развитие' 'работоспособность' 'организация' ...   \n",
       "2  ['flash' 'работа' 'время' 'контроль' 'шахматны...   \n",
       "3                  ['карьера' 'it' 'финансы' 'рост']   \n",
       "4      ['бизнес' 'корпорация' 'вебдизайн' 'контент']   \n",
       "\n",
       "                                        title_tokens  rating_new  \\\n",
       "0                       ['лечение' 'приступ' 'лень']         4.0   \n",
       "1  ['организация' 'рабочий' 'время' 'помощь' 'цвет']         1.0   \n",
       "2  ['контроль' 'потерять' 'время' 'flash' 'обновл...         4.0   \n",
       "3                ['достигнуть' 'потолок' 'зарплата']       147.0   \n",
       "4                          ['вещь' 'знать' 'клиент']         3.0   \n",
       "\n",
       "                                         text_tokens  \\\n",
       "0  ['лишать' 'девственность' 'бложик' 'происходит...   \n",
       "1  ['предлагать' 'вариант' 'сделать' 'организован...   \n",
       "2  ['таймер' 'обновиться' 'надеяться' 'удобный' '...   \n",
       "3  ['предупредить' 'несмотря' 'экран' 'текст' 'ст...   \n",
       "4  ['когдалибо' 'чувствовать' 'бесконечно' 'повто...   \n",
       "\n",
       "                                       text_pos_tags  \n",
       "0  [NOUN, VERB, NOUN, DET, NOUN, ADV, SCONJ, PRON...  \n",
       "1  [VERB, ADV, NUM, NOUN, VERB, PRON, ADV, ADJ, C...  \n",
       "2  [NOUN, VERB, SPACE, ADV, PRON, VERB, AUX, ADJ,...  \n",
       "3  [VERB, ADV, VERB, PRON, ADV, ADP, NUM, NOUN, N...  \n",
       "4  [PRON, PRON, VERB, SCONJ, PRON, ADV, VERB, DET...  "
      ]
     },
     "execution_count": 3,
     "metadata": {},
     "output_type": "execute_result"
    }
   ],
   "source": [
    "df.head()"
   ]
  },
  {
   "cell_type": "code",
   "execution_count": 4,
   "metadata": {},
   "outputs": [
    {
     "data": {
      "text/plain": [
       "hubs\n",
       "Чулан                                                29244\n",
       "Я пиарюсь                                             6217\n",
       "IT-компании                                           5805\n",
       "Информационная безопасность                           4650\n",
       "Веб-разработка                                        3014\n",
       "                                                     ...  \n",
       "Математика, Транспорт                                    1\n",
       "Блог компании RUVDS.com, Open source, Карьера ...        1\n",
       "Блог компании Karuna, Управление разработкой, ...        1\n",
       "Open source, Python, API, Софт, Искусственный ...        1\n",
       "C++, Проектирование и рефакторинг, Управление ...        1\n",
       "Name: count, Length: 77273, dtype: Int64"
      ]
     },
     "execution_count": 4,
     "metadata": {},
     "output_type": "execute_result"
    }
   ],
   "source": [
    "df.hubs.value_counts()"
   ]
  },
  {
   "cell_type": "markdown",
   "metadata": {},
   "source": [
    "# Предобработка"
   ]
  },
  {
   "cell_type": "markdown",
   "metadata": {},
   "source": [
    "## Модификации"
   ]
  },
  {
   "cell_type": "code",
   "execution_count": 5,
   "metadata": {},
   "outputs": [
    {
     "data": {
      "text/plain": [
       "count    284895.000000\n",
       "mean       7571.855771\n",
       "std        7980.117174\n",
       "min           1.000000\n",
       "25%        2104.000000\n",
       "50%        5514.000000\n",
       "75%       10315.000000\n",
       "max      197359.000000\n",
       "Name: text_length, dtype: float64"
      ]
     },
     "metadata": {},
     "output_type": "display_data"
    },
    {
     "data": {
      "text/plain": [
       "count    282640.000000\n",
       "mean       7631.863576\n",
       "std        7983.445597\n",
       "min         101.000000\n",
       "25%        2168.000000\n",
       "50%        5575.000000\n",
       "75%       10372.000000\n",
       "max      197359.000000\n",
       "Name: text_length, dtype: float64"
      ]
     },
     "execution_count": 5,
     "metadata": {},
     "output_type": "execute_result"
    }
   ],
   "source": [
    "# Уберем слишком короткие (неинформативные) статьи\n",
    "display(df['text_length'].describe())\n",
    "df = df[df['text_length']>100].copy()\n",
    "df['text_length'].describe()"
   ]
  },
  {
   "cell_type": "code",
   "execution_count": 6,
   "metadata": {},
   "outputs": [],
   "source": [
    "# Выделение шкалы оценок на основе рейтинга статьи,\n",
    "# Это будет таргет для предсказания оценки статьи\n",
    "neg_d = df[df['rating_new']<0]['rating_new'].describe()\n",
    "pos_d = df[df['rating_new']>0]['rating_new'].describe()\n",
    "\n",
    "def rating_func(row):\n",
    "    rate = row['rating_new']\n",
    "\n",
    "    if pos_d['25%'] >= rate >= neg_d['75%']:\n",
    "        return('neutral')\n",
    "    \n",
    "    elif pos_d['75%'] >= rate > pos_d['25%']:\n",
    "        return('positive')\n",
    "    \n",
    "    elif rate > pos_d['75%']:\n",
    "        return('very positive')\n",
    "    \n",
    "    elif neg_d['75%'] > rate >= neg_d['25%']:\n",
    "        return('negative')\n",
    "    \n",
    "    elif neg_d['25%'] > rate:\n",
    "        return('very negative')\n",
    "    \n",
    "df['rating_level'] = df.apply(rating_func, axis=1)"
   ]
  },
  {
   "cell_type": "code",
   "execution_count": 7,
   "metadata": {},
   "outputs": [],
   "source": [
    "# сохранение дф для создания N-грам\n",
    "df_wth_tokens = df.copy()\n",
    "\n",
    "# Сразу удалим ненужные столбцы для облегчения вычислений\n",
    "df_wth_tokens.drop(columns=['tags_tokens', 'title_tokens'], inplace=True)"
   ]
  },
  {
   "cell_type": "code",
   "execution_count": 8,
   "metadata": {},
   "outputs": [],
   "source": [
    "# Извлекаем уникальные метки из тегов\n",
    "unique_labels = set()\n",
    "df_wth_tokens['hubs'].str.split(', ').apply(unique_labels.update)  # Собираем уникальные метки\n",
    "label_to_index = {label: idx for idx, label in enumerate(sorted(unique_labels))}  # Маппинг меток в индексы\n",
    "\n",
    "# Преобразуем строки в списки индексов\n",
    "df_wth_tokens['hubs_encoded'] = df_wth_tokens['hubs'].apply(lambda x: [label_to_index[label] for label in x.split(', ')])"
   ]
  },
  {
   "cell_type": "code",
   "execution_count": 9,
   "metadata": {},
   "outputs": [
    {
     "data": {
      "text/html": [
       "<div>\n",
       "<style scoped>\n",
       "    .dataframe tbody tr th:only-of-type {\n",
       "        vertical-align: middle;\n",
       "    }\n",
       "\n",
       "    .dataframe tbody tr th {\n",
       "        vertical-align: top;\n",
       "    }\n",
       "\n",
       "    .dataframe thead th {\n",
       "        text-align: right;\n",
       "    }\n",
       "</style>\n",
       "<table border=\"1\" class=\"dataframe\">\n",
       "  <thead>\n",
       "    <tr style=\"text-align: right;\">\n",
       "      <th></th>\n",
       "      <th>author</th>\n",
       "      <th>publication_date</th>\n",
       "      <th>hubs</th>\n",
       "      <th>comments</th>\n",
       "      <th>views</th>\n",
       "      <th>url</th>\n",
       "      <th>reading_time</th>\n",
       "      <th>individ/company</th>\n",
       "      <th>bookmarks_cnt</th>\n",
       "      <th>text_length</th>\n",
       "      <th>rating_new</th>\n",
       "      <th>text_tokens</th>\n",
       "      <th>text_pos_tags</th>\n",
       "      <th>rating_level</th>\n",
       "      <th>hubs_encoded</th>\n",
       "    </tr>\n",
       "  </thead>\n",
       "  <tbody>\n",
       "    <tr>\n",
       "      <th>0</th>\n",
       "      <td>complex</td>\n",
       "      <td>2009-08-03 14:34:35+00:00</td>\n",
       "      <td>GTD</td>\n",
       "      <td>67</td>\n",
       "      <td>6800</td>\n",
       "      <td>https://habr.com/ru/articles/66091/</td>\n",
       "      <td>2.0</td>\n",
       "      <td>individual</td>\n",
       "      <td>25.0</td>\n",
       "      <td>2027</td>\n",
       "      <td>4.0</td>\n",
       "      <td>['лишать' 'девственность' 'бложик' 'происходит...</td>\n",
       "      <td>[NOUN, VERB, NOUN, DET, NOUN, ADV, SCONJ, PRON...</td>\n",
       "      <td>neutral</td>\n",
       "      <td>[80]</td>\n",
       "    </tr>\n",
       "  </tbody>\n",
       "</table>\n",
       "</div>"
      ],
      "text/plain": [
       "    author          publication_date hubs  comments  views  \\\n",
       "0  complex 2009-08-03 14:34:35+00:00  GTD        67   6800   \n",
       "\n",
       "                                   url  reading_time individ/company  \\\n",
       "0  https://habr.com/ru/articles/66091/           2.0      individual   \n",
       "\n",
       "   bookmarks_cnt  text_length  rating_new  \\\n",
       "0           25.0         2027         4.0   \n",
       "\n",
       "                                         text_tokens  \\\n",
       "0  ['лишать' 'девственность' 'бложик' 'происходит...   \n",
       "\n",
       "                                       text_pos_tags rating_level hubs_encoded  \n",
       "0  [NOUN, VERB, NOUN, DET, NOUN, ADV, SCONJ, PRON...      neutral         [80]  "
      ]
     },
     "execution_count": 9,
     "metadata": {},
     "output_type": "execute_result"
    }
   ],
   "source": [
    "df_wth_tokens.head(1)"
   ]
  },
  {
   "cell_type": "code",
   "execution_count": 10,
   "metadata": {},
   "outputs": [],
   "source": [
    "# Функция для предсказания метрик precision, recall, f1-score и hamming-loss\n",
    "def calculate_metrics(\n",
    "    y_test: Union[List[int], np.ndarray],\n",
    "    y_pred: Union[List[int], np.ndarray],\n",
    "    average: str = '',\n",
    "    zero_division: int = 0) -> Dict[str, float]:\n",
    "    \"\"\"\n",
    "    Вычисление метрик precision, recall, f1-score и hamming-loss\n",
    "\n",
    "    Параметры:\n",
    "        y_test: Истинные значения\n",
    "        y_pred: Предсказанные значения\n",
    "        average: Метод усреднения для метрик precision, recall и f1-score\n",
    "                       Может быть 'micro', 'macro'или 'weighted'\n",
    "        zero_division: Обработка деления на ноль в метриках (0 или 1).\n",
    "\n",
    "    Возвращает:\n",
    "        Dict: Словарь с метриками\n",
    "    \"\"\"\n",
    "    precision = round(precision_score(y_test, y_pred, average=average, zero_division=zero_division), 4)\n",
    "    recall = round(recall_score(y_test, y_pred, average=average, zero_division=zero_division), 4)\n",
    "    f1 = round(f1_score(y_test, y_pred, average=average, zero_division=zero_division), 4)\n",
    "    hamming = round(hamming_loss(y_test, y_pred), 4)\n",
    "\n",
    "    metrics = {'Precision': precision, 'Recall': recall,\n",
    "               'F1-Score': f1, 'Hamming Loss': hamming}\n",
    "    return metrics"
   ]
  },
  {
   "cell_type": "markdown",
   "metadata": {},
   "source": [
    "## Сэмплирование"
   ]
  },
  {
   "cell_type": "code",
   "execution_count": 11,
   "metadata": {},
   "outputs": [],
   "source": [
    "# Сэмпл данных - 10% от всего объёма\n",
    "sample_df = df_wth_tokens.sample(frac=0.1, random_state=42)\n",
    "\n",
    "# Преобразование hubs_ecoded в формат матрицы с уникальными метками хабов\n",
    "mlb = MultiLabelBinarizer()\n",
    "y_multi = mlb.fit_transform(sample_df['hubs_encoded'])\n",
    "\n",
    "# Удаляем метки, которые встречаются в менее чем 1% случаев\n",
    "selector = VarianceThreshold(threshold=0.01)\n",
    "y_multi_reduced = selector.fit_transform(y_multi)"
   ]
  },
  {
   "cell_type": "code",
   "execution_count": 12,
   "metadata": {},
   "outputs": [
    {
     "data": {
      "text/plain": [
       "(28264, 56)"
      ]
     },
     "execution_count": 12,
     "metadata": {},
     "output_type": "execute_result"
    }
   ],
   "source": [
    "y_multi_reduced.shape"
   ]
  },
  {
   "cell_type": "markdown",
   "metadata": {},
   "source": [
    "# Классификация"
   ]
  },
  {
   "cell_type": "markdown",
   "metadata": {},
   "source": [
    "## обработка html тегов"
   ]
  },
  {
   "cell_type": "markdown",
   "metadata": {},
   "source": [
    "кривая строка -> ['слово', 'слово2']"
   ]
  },
  {
   "cell_type": "code",
   "execution_count": 13,
   "metadata": {},
   "outputs": [
    {
     "data": {
      "text/plain": [
       "<StringArray>\n",
       "[\"['лишать' 'девственность' 'бложик' 'происходить' 'сегодня' 'понедельник'\\n 'день' 'неделя' 'крокодил' 'ловится' 'расти' 'кокос' 'закину'\\n 'соответствующий' 'пост' 'самомотивация' 'период' 'жизнь' 'инициативный'\\n 'неугомонный' 'трудоголик' 'смотреть' 'подумаешь' 'периодически'\\n 'происходить' 'нападать' 'тотальный' 'апатия' 'лень' 'происходить'\\n 'неимение' 'возможность' 'устроить' 'выходной' 'неделя' 'подряд'\\n 'происходить' 'избавиться' 'пост' 'написать' 'учись' 'работать'\\n 'мотивация' 'заставлять' 'работать' 'избавляться' 'состояние' 'работать'\\n 'хотеться' 'человек' 'инициативный' 'неугомонный' 'трудоголик'\\n 'гордиться' 'временами' 'день' 'ночь' 'сутками' 'работа' 'работать'\\n 'попадать' 'ступор' 'мозг' 'напрочь' 'отказываться' 'чтолибо' 'думать'\\n 'соответственно' 'чтото' 'делать' 'получаться' 'плохо' 'голова'\\n 'вериться' 'фраза' 'работать' 'делать' 'хотеться' 'озвучить' 'многих'\\n 'топика' 'хабре' 'лекарство' 'помогать' 'отключить' 'интернет'\\n 'представить' 'миллион' 'заработаешь' 'подумать' 'зп' 'урезать'\\n 'пересилить' 'станешь' 'работать' 'тп' 'средство' 'пытаться' 'пересилить'\\n 'заставлять' 'работать' 'хотеться' 'сделать' 'противный' 'горд' 'бывать'\\n 'стыдно' 'помогать' 'лекарство' 'напиться' 'синяк' 'месяц' 'практикую'\\n 'твой' 'жизнь' 'пара' 'суток' 'улетать' 'больший' 'количество' 'вещь'\\n 'кои' 'ценить' 'здоровье' 'время' 'деньга' 'контакт' 'апатия'\\n 'улетучивается' 'понимать' 'отрезвев' 'поиграть' 'игра' 'заядлый'\\n 'геймер' 'истечение' 'какогото' 'время' 'почувствовать' 'усиливаться'\\n 'переживание' 'время' 'тратить' 'впустую' 'полезный' 'сделать' 'человек']\"]\n",
       "Length: 1, dtype: string"
      ]
     },
     "execution_count": 13,
     "metadata": {},
     "output_type": "execute_result"
    }
   ],
   "source": [
    "df_wth_tokens.head(1)['text_tokens'].values"
   ]
  },
  {
   "cell_type": "code",
   "execution_count": 14,
   "metadata": {},
   "outputs": [
    {
     "name": "stdout",
     "output_type": "stream",
     "text": [
      "['Список', 'apple', 'banana', 'мир']\n"
     ]
    }
   ],
   "source": [
    "import re\n",
    "\n",
    "def extract_words(input_string):\n",
    "    # Заменяем символы '[', ']', '\"' на пробелы\n",
    "    \n",
    "    # Извлекаем слова, используя регулярное выражение\n",
    "    words = re.findall(r\"(\\b\\w+\\b)\", input_string)\n",
    "    return words\n",
    "\n",
    "# Пример использования\n",
    "input_string = 'Список: [\"apple\", \"banana\", [мир]]'\n",
    "words = extract_words(input_string)\n",
    "print(words)"
   ]
  },
  {
   "cell_type": "code",
   "execution_count": 15,
   "metadata": {},
   "outputs": [],
   "source": [
    "df_wth_tokens['clear_text'] = df_wth_tokens['text_tokens'].apply(extract_words)"
   ]
  },
  {
   "cell_type": "code",
   "execution_count": 16,
   "metadata": {},
   "outputs": [
    {
     "data": {
      "text/html": [
       "<div>\n",
       "<style scoped>\n",
       "    .dataframe tbody tr th:only-of-type {\n",
       "        vertical-align: middle;\n",
       "    }\n",
       "\n",
       "    .dataframe tbody tr th {\n",
       "        vertical-align: top;\n",
       "    }\n",
       "\n",
       "    .dataframe thead th {\n",
       "        text-align: right;\n",
       "    }\n",
       "</style>\n",
       "<table border=\"1\" class=\"dataframe\">\n",
       "  <thead>\n",
       "    <tr style=\"text-align: right;\">\n",
       "      <th></th>\n",
       "      <th>author</th>\n",
       "      <th>publication_date</th>\n",
       "      <th>hubs</th>\n",
       "      <th>comments</th>\n",
       "      <th>views</th>\n",
       "      <th>url</th>\n",
       "      <th>reading_time</th>\n",
       "      <th>individ/company</th>\n",
       "      <th>bookmarks_cnt</th>\n",
       "      <th>text_length</th>\n",
       "      <th>rating_new</th>\n",
       "      <th>text_tokens</th>\n",
       "      <th>text_pos_tags</th>\n",
       "      <th>rating_level</th>\n",
       "      <th>hubs_encoded</th>\n",
       "      <th>clear_text</th>\n",
       "    </tr>\n",
       "  </thead>\n",
       "  <tbody>\n",
       "    <tr>\n",
       "      <th>0</th>\n",
       "      <td>complex</td>\n",
       "      <td>2009-08-03 14:34:35+00:00</td>\n",
       "      <td>GTD</td>\n",
       "      <td>67</td>\n",
       "      <td>6800</td>\n",
       "      <td>https://habr.com/ru/articles/66091/</td>\n",
       "      <td>2.0</td>\n",
       "      <td>individual</td>\n",
       "      <td>25.0</td>\n",
       "      <td>2027</td>\n",
       "      <td>4.0</td>\n",
       "      <td>['лишать' 'девственность' 'бложик' 'происходит...</td>\n",
       "      <td>[NOUN, VERB, NOUN, DET, NOUN, ADV, SCONJ, PRON...</td>\n",
       "      <td>neutral</td>\n",
       "      <td>[80]</td>\n",
       "      <td>[лишать, девственность, бложик, происходить, с...</td>\n",
       "    </tr>\n",
       "    <tr>\n",
       "      <th>1</th>\n",
       "      <td>popotam2</td>\n",
       "      <td>2009-07-15 20:24:31+00:00</td>\n",
       "      <td>GTD</td>\n",
       "      <td>13</td>\n",
       "      <td>3100</td>\n",
       "      <td>https://habr.com/ru/articles/64586/</td>\n",
       "      <td>1.0</td>\n",
       "      <td>individual</td>\n",
       "      <td>6.0</td>\n",
       "      <td>424</td>\n",
       "      <td>1.0</td>\n",
       "      <td>['предлагать' 'вариант' 'сделать' 'организован...</td>\n",
       "      <td>[VERB, ADV, NUM, NOUN, VERB, PRON, ADV, ADJ, C...</td>\n",
       "      <td>neutral</td>\n",
       "      <td>[80]</td>\n",
       "      <td>[предлагать, вариант, сделать, организованный,...</td>\n",
       "    </tr>\n",
       "  </tbody>\n",
       "</table>\n",
       "</div>"
      ],
      "text/plain": [
       "     author          publication_date hubs  comments  views  \\\n",
       "0   complex 2009-08-03 14:34:35+00:00  GTD        67   6800   \n",
       "1  popotam2 2009-07-15 20:24:31+00:00  GTD        13   3100   \n",
       "\n",
       "                                   url  reading_time individ/company  \\\n",
       "0  https://habr.com/ru/articles/66091/           2.0      individual   \n",
       "1  https://habr.com/ru/articles/64586/           1.0      individual   \n",
       "\n",
       "   bookmarks_cnt  text_length  rating_new  \\\n",
       "0           25.0         2027         4.0   \n",
       "1            6.0          424         1.0   \n",
       "\n",
       "                                         text_tokens  \\\n",
       "0  ['лишать' 'девственность' 'бложик' 'происходит...   \n",
       "1  ['предлагать' 'вариант' 'сделать' 'организован...   \n",
       "\n",
       "                                       text_pos_tags rating_level  \\\n",
       "0  [NOUN, VERB, NOUN, DET, NOUN, ADV, SCONJ, PRON...      neutral   \n",
       "1  [VERB, ADV, NUM, NOUN, VERB, PRON, ADV, ADJ, C...      neutral   \n",
       "\n",
       "  hubs_encoded                                         clear_text  \n",
       "0         [80]  [лишать, девственность, бложик, происходить, с...  \n",
       "1         [80]  [предлагать, вариант, сделать, организованный,...  "
      ]
     },
     "execution_count": 16,
     "metadata": {},
     "output_type": "execute_result"
    }
   ],
   "source": [
    "df_wth_tokens.head(2)"
   ]
  },
  {
   "cell_type": "code",
   "execution_count": 17,
   "metadata": {},
   "outputs": [
    {
     "data": {
      "text/plain": [
       "array([list(['лишать', 'девственность', 'бложик', 'происходить', 'сегодня', 'понедельник', 'день', 'неделя', 'крокодил', 'ловится', 'расти', 'кокос', 'закину', 'соответствующий', 'пост', 'самомотивация', 'период', 'жизнь', 'инициативный', 'неугомонный', 'трудоголик', 'смотреть', 'подумаешь', 'периодически', 'происходить', 'нападать', 'тотальный', 'апатия', 'лень', 'происходить', 'неимение', 'возможность', 'устроить', 'выходной', 'неделя', 'подряд', 'происходить', 'избавиться', 'пост', 'написать', 'учись', 'работать', 'мотивация', 'заставлять', 'работать', 'избавляться', 'состояние', 'работать', 'хотеться', 'человек', 'инициативный', 'неугомонный', 'трудоголик', 'гордиться', 'временами', 'день', 'ночь', 'сутками', 'работа', 'работать', 'попадать', 'ступор', 'мозг', 'напрочь', 'отказываться', 'чтолибо', 'думать', 'соответственно', 'чтото', 'делать', 'получаться', 'плохо', 'голова', 'вериться', 'фраза', 'работать', 'делать', 'хотеться', 'озвучить', 'многих', 'топика', 'хабре', 'лекарство', 'помогать', 'отключить', 'интернет', 'представить', 'миллион', 'заработаешь', 'подумать', 'зп', 'урезать', 'пересилить', 'станешь', 'работать', 'тп', 'средство', 'пытаться', 'пересилить', 'заставлять', 'работать', 'хотеться', 'сделать', 'противный', 'горд', 'бывать', 'стыдно', 'помогать', 'лекарство', 'напиться', 'синяк', 'месяц', 'практикую', 'твой', 'жизнь', 'пара', 'суток', 'улетать', 'больший', 'количество', 'вещь', 'кои', 'ценить', 'здоровье', 'время', 'деньга', 'контакт', 'апатия', 'улетучивается', 'понимать', 'отрезвев', 'поиграть', 'игра', 'заядлый', 'геймер', 'истечение', 'какогото', 'время', 'почувствовать', 'усиливаться', 'переживание', 'время', 'тратить', 'впустую', 'полезный', 'сделать', 'человек'])],\n",
       "      dtype=object)"
      ]
     },
     "execution_count": 17,
     "metadata": {},
     "output_type": "execute_result"
    }
   ],
   "source": [
    "df_wth_tokens.head(1)['clear_text'].values"
   ]
  },
  {
   "cell_type": "code",
   "execution_count": 18,
   "metadata": {},
   "outputs": [],
   "source": [
    "# Функция для преобразования массива в строку\n",
    "df_wth_tokens['sentence'] = df_wth_tokens['clear_text'].apply(lambda x: ' '.join(x))"
   ]
  },
  {
   "cell_type": "code",
   "execution_count": 19,
   "metadata": {},
   "outputs": [
    {
     "data": {
      "text/html": [
       "<div>\n",
       "<style scoped>\n",
       "    .dataframe tbody tr th:only-of-type {\n",
       "        vertical-align: middle;\n",
       "    }\n",
       "\n",
       "    .dataframe tbody tr th {\n",
       "        vertical-align: top;\n",
       "    }\n",
       "\n",
       "    .dataframe thead th {\n",
       "        text-align: right;\n",
       "    }\n",
       "</style>\n",
       "<table border=\"1\" class=\"dataframe\">\n",
       "  <thead>\n",
       "    <tr style=\"text-align: right;\">\n",
       "      <th></th>\n",
       "      <th>author</th>\n",
       "      <th>publication_date</th>\n",
       "      <th>hubs</th>\n",
       "      <th>comments</th>\n",
       "      <th>views</th>\n",
       "      <th>url</th>\n",
       "      <th>reading_time</th>\n",
       "      <th>individ/company</th>\n",
       "      <th>bookmarks_cnt</th>\n",
       "      <th>text_length</th>\n",
       "      <th>rating_new</th>\n",
       "      <th>text_tokens</th>\n",
       "      <th>text_pos_tags</th>\n",
       "      <th>rating_level</th>\n",
       "      <th>hubs_encoded</th>\n",
       "      <th>clear_text</th>\n",
       "      <th>sentence</th>\n",
       "    </tr>\n",
       "  </thead>\n",
       "  <tbody>\n",
       "    <tr>\n",
       "      <th>0</th>\n",
       "      <td>complex</td>\n",
       "      <td>2009-08-03 14:34:35+00:00</td>\n",
       "      <td>GTD</td>\n",
       "      <td>67</td>\n",
       "      <td>6800</td>\n",
       "      <td>https://habr.com/ru/articles/66091/</td>\n",
       "      <td>2.0</td>\n",
       "      <td>individual</td>\n",
       "      <td>25.0</td>\n",
       "      <td>2027</td>\n",
       "      <td>4.0</td>\n",
       "      <td>['лишать' 'девственность' 'бложик' 'происходит...</td>\n",
       "      <td>[NOUN, VERB, NOUN, DET, NOUN, ADV, SCONJ, PRON...</td>\n",
       "      <td>neutral</td>\n",
       "      <td>[80]</td>\n",
       "      <td>[лишать, девственность, бложик, происходить, с...</td>\n",
       "      <td>лишать девственность бложик происходить сегодн...</td>\n",
       "    </tr>\n",
       "  </tbody>\n",
       "</table>\n",
       "</div>"
      ],
      "text/plain": [
       "    author          publication_date hubs  comments  views  \\\n",
       "0  complex 2009-08-03 14:34:35+00:00  GTD        67   6800   \n",
       "\n",
       "                                   url  reading_time individ/company  \\\n",
       "0  https://habr.com/ru/articles/66091/           2.0      individual   \n",
       "\n",
       "   bookmarks_cnt  text_length  rating_new  \\\n",
       "0           25.0         2027         4.0   \n",
       "\n",
       "                                         text_tokens  \\\n",
       "0  ['лишать' 'девственность' 'бложик' 'происходит...   \n",
       "\n",
       "                                       text_pos_tags rating_level  \\\n",
       "0  [NOUN, VERB, NOUN, DET, NOUN, ADV, SCONJ, PRON...      neutral   \n",
       "\n",
       "  hubs_encoded                                         clear_text  \\\n",
       "0         [80]  [лишать, девственность, бложик, происходить, с...   \n",
       "\n",
       "                                            sentence  \n",
       "0  лишать девственность бложик происходить сегодн...  "
      ]
     },
     "execution_count": 19,
     "metadata": {},
     "output_type": "execute_result"
    }
   ],
   "source": [
    "df_wth_tokens.head(1)"
   ]
  },
  {
   "cell_type": "markdown",
   "metadata": {},
   "source": [
    "## N-грамы"
   ]
  },
  {
   "cell_type": "code",
   "execution_count": 40,
   "metadata": {},
   "outputs": [],
   "source": [
    "def ngram(row, n):\n",
    "    return list(ngrams(row, n))\n",
    "\n",
    "# def extract_ngrams(text, n):\n",
    "#     # Токенизация текста\n",
    "#     tokens = nltk.word_tokenize(text)\n",
    "#     # Генерация N-грамм\n",
    "#     n_grams = ngrams(tokens, n)\n",
    "#     # Преобразование в список\n",
    "#     return list(n_grams)"
   ]
  },
  {
   "cell_type": "code",
   "execution_count": 41,
   "metadata": {},
   "outputs": [],
   "source": [
    "df_wth_tokens['ngr_2'] = df_wth_tokens['clear_text'].apply(lambda x: ngram(x, 2))"
   ]
  },
  {
   "cell_type": "code",
   "execution_count": 42,
   "metadata": {},
   "outputs": [],
   "source": [
    "df_wth_tokens['ngr_3'] = df_wth_tokens['clear_text'].apply(lambda x: ngram(x, 3))"
   ]
  },
  {
   "cell_type": "code",
   "execution_count": 43,
   "metadata": {},
   "outputs": [
    {
     "data": {
      "text/html": [
       "<div>\n",
       "<style scoped>\n",
       "    .dataframe tbody tr th:only-of-type {\n",
       "        vertical-align: middle;\n",
       "    }\n",
       "\n",
       "    .dataframe tbody tr th {\n",
       "        vertical-align: top;\n",
       "    }\n",
       "\n",
       "    .dataframe thead th {\n",
       "        text-align: right;\n",
       "    }\n",
       "</style>\n",
       "<table border=\"1\" class=\"dataframe\">\n",
       "  <thead>\n",
       "    <tr style=\"text-align: right;\">\n",
       "      <th></th>\n",
       "      <th>author</th>\n",
       "      <th>publication_date</th>\n",
       "      <th>hubs</th>\n",
       "      <th>comments</th>\n",
       "      <th>views</th>\n",
       "      <th>url</th>\n",
       "      <th>reading_time</th>\n",
       "      <th>individ/company</th>\n",
       "      <th>bookmarks_cnt</th>\n",
       "      <th>text_length</th>\n",
       "      <th>rating_new</th>\n",
       "      <th>text_tokens</th>\n",
       "      <th>text_pos_tags</th>\n",
       "      <th>rating_level</th>\n",
       "      <th>hubs_encoded</th>\n",
       "      <th>clear_text</th>\n",
       "      <th>ngr_2</th>\n",
       "      <th>ngr_3</th>\n",
       "    </tr>\n",
       "  </thead>\n",
       "  <tbody>\n",
       "    <tr>\n",
       "      <th>0</th>\n",
       "      <td>complex</td>\n",
       "      <td>2009-08-03 14:34:35+00:00</td>\n",
       "      <td>GTD</td>\n",
       "      <td>67</td>\n",
       "      <td>6800</td>\n",
       "      <td>https://habr.com/ru/articles/66091/</td>\n",
       "      <td>2.0</td>\n",
       "      <td>individual</td>\n",
       "      <td>25.0</td>\n",
       "      <td>2027</td>\n",
       "      <td>4.0</td>\n",
       "      <td>['лишать' 'девственность' 'бложик' 'происходит...</td>\n",
       "      <td>[NOUN, VERB, NOUN, DET, NOUN, ADV, SCONJ, PRON...</td>\n",
       "      <td>neutral</td>\n",
       "      <td>[80]</td>\n",
       "      <td>[лишать, девственность, бложик, происходить, с...</td>\n",
       "      <td>[(лишать, девственность), (девственность, блож...</td>\n",
       "      <td>[(лишать, девственность, бложик), (девственнос...</td>\n",
       "    </tr>\n",
       "    <tr>\n",
       "      <th>1</th>\n",
       "      <td>popotam2</td>\n",
       "      <td>2009-07-15 20:24:31+00:00</td>\n",
       "      <td>GTD</td>\n",
       "      <td>13</td>\n",
       "      <td>3100</td>\n",
       "      <td>https://habr.com/ru/articles/64586/</td>\n",
       "      <td>1.0</td>\n",
       "      <td>individual</td>\n",
       "      <td>6.0</td>\n",
       "      <td>424</td>\n",
       "      <td>1.0</td>\n",
       "      <td>['предлагать' 'вариант' 'сделать' 'организован...</td>\n",
       "      <td>[VERB, ADV, NUM, NOUN, VERB, PRON, ADV, ADJ, C...</td>\n",
       "      <td>neutral</td>\n",
       "      <td>[80]</td>\n",
       "      <td>[предлагать, вариант, сделать, организованный,...</td>\n",
       "      <td>[(предлагать, вариант), (вариант, сделать), (с...</td>\n",
       "      <td>[(предлагать, вариант, сделать), (вариант, сде...</td>\n",
       "    </tr>\n",
       "  </tbody>\n",
       "</table>\n",
       "</div>"
      ],
      "text/plain": [
       "     author          publication_date hubs  comments  views  \\\n",
       "0   complex 2009-08-03 14:34:35+00:00  GTD        67   6800   \n",
       "1  popotam2 2009-07-15 20:24:31+00:00  GTD        13   3100   \n",
       "\n",
       "                                   url  reading_time individ/company  \\\n",
       "0  https://habr.com/ru/articles/66091/           2.0      individual   \n",
       "1  https://habr.com/ru/articles/64586/           1.0      individual   \n",
       "\n",
       "   bookmarks_cnt  text_length  rating_new  \\\n",
       "0           25.0         2027         4.0   \n",
       "1            6.0          424         1.0   \n",
       "\n",
       "                                         text_tokens  \\\n",
       "0  ['лишать' 'девственность' 'бложик' 'происходит...   \n",
       "1  ['предлагать' 'вариант' 'сделать' 'организован...   \n",
       "\n",
       "                                       text_pos_tags rating_level  \\\n",
       "0  [NOUN, VERB, NOUN, DET, NOUN, ADV, SCONJ, PRON...      neutral   \n",
       "1  [VERB, ADV, NUM, NOUN, VERB, PRON, ADV, ADJ, C...      neutral   \n",
       "\n",
       "  hubs_encoded                                         clear_text  \\\n",
       "0         [80]  [лишать, девственность, бложик, происходить, с...   \n",
       "1         [80]  [предлагать, вариант, сделать, организованный,...   \n",
       "\n",
       "                                               ngr_2  \\\n",
       "0  [(лишать, девственность), (девственность, блож...   \n",
       "1  [(предлагать, вариант), (вариант, сделать), (с...   \n",
       "\n",
       "                                               ngr_3  \n",
       "0  [(лишать, девственность, бложик), (девственнос...  \n",
       "1  [(предлагать, вариант, сделать), (вариант, сде...  "
      ]
     },
     "execution_count": 43,
     "metadata": {},
     "output_type": "execute_result"
    }
   ],
   "source": [
    "df_wth_tokens.head(2)"
   ]
  },
  {
   "cell_type": "markdown",
   "metadata": {},
   "source": [
    "## N-gram + Naive Bayes"
   ]
  },
  {
   "cell_type": "code",
   "execution_count": 20,
   "metadata": {},
   "outputs": [],
   "source": [
    "from sklearn.feature_extraction.text import CountVectorizer\n",
    "from sklearn.naive_bayes import MultinomialNB\n",
    "from sklearn.pipeline import make_pipeline\n",
    "from sklearn.model_selection import train_test_split\n",
    "from sklearn import metrics"
   ]
  },
  {
   "cell_type": "code",
   "execution_count": 21,
   "metadata": {},
   "outputs": [],
   "source": [
    "sample_df = df_wth_tokens.sample(frac=0.1, random_state=42)"
   ]
  },
  {
   "cell_type": "code",
   "execution_count": 22,
   "metadata": {},
   "outputs": [],
   "source": [
    "from sklearn.metrics import accuracy_score, classification_report"
   ]
  },
  {
   "cell_type": "markdown",
   "metadata": {},
   "source": [
    "### Предсказание Рейтинга"
   ]
  },
  {
   "cell_type": "code",
   "execution_count": 72,
   "metadata": {},
   "outputs": [],
   "source": [
    "X = sample_df['sentence']"
   ]
  },
  {
   "cell_type": "code",
   "execution_count": 71,
   "metadata": {},
   "outputs": [],
   "source": [
    "# Разделение на обучающую и тестовую выборки для предсказания рейтинга статьи\n",
    "y_rating = sample_df['rating_level']\n",
    "y_rating = y_rating.map({'very negative': -2, 'negative': -1, 'neutral': 0, 'positive': 1, 'very positive': 2})"
   ]
  },
  {
   "cell_type": "code",
   "execution_count": 73,
   "metadata": {},
   "outputs": [],
   "source": [
    "# Разделение на обучающую и тестовую выборки для предсказания рейтинга статей\n",
    "X_train, X_test, y_train_h, y_test_h = train_test_split(X, y_rating, test_size=0.25)"
   ]
  },
  {
   "cell_type": "markdown",
   "metadata": {},
   "source": [
    "#### Униграмма"
   ]
  },
  {
   "cell_type": "code",
   "execution_count": 78,
   "metadata": {},
   "outputs": [],
   "source": [
    "# Векторизация n-грамм\n",
    "vectorizer = CountVectorizer(ngram_range=(1, 1))\n",
    "X_train_vect = vectorizer.fit_transform(X_train)\n",
    "X_test_vect = vectorizer.transform(X_test)\n",
    "\n",
    "# Шаг 3: Создание и обучение модели\n",
    "model = MultinomialNB()\n",
    "model.fit(X_train_vect, y_train_h)\n",
    "\n",
    "# Шаг 4: Оценка модели\n",
    "y_pred = model.predict(X_test_vect)"
   ]
  },
  {
   "cell_type": "code",
   "execution_count": 79,
   "metadata": {},
   "outputs": [
    {
     "name": "stdout",
     "output_type": "stream",
     "text": [
      "Accuracy: 0.4616473252193603\n",
      "Classification Report:n               precision    recall  f1-score   support\n",
      "\n",
      "          -2       0.00      0.00      0.00        91\n",
      "          -1       0.00      0.00      0.00       220\n",
      "           0       0.45      0.37      0.41      2086\n",
      "           1       0.49      0.66      0.56      3083\n",
      "           2       0.39      0.28      0.33      1586\n",
      "\n",
      "    accuracy                           0.46      7066\n",
      "   macro avg       0.27      0.26      0.26      7066\n",
      "weighted avg       0.43      0.46      0.44      7066\n",
      "\n"
     ]
    },
    {
     "name": "stderr",
     "output_type": "stream",
     "text": [
      "/Users/vitaly/opt/anaconda3/lib/python3.8/site-packages/sklearn/metrics/_classification.py:1221: UndefinedMetricWarning: Precision and F-score are ill-defined and being set to 0.0 in labels with no predicted samples. Use `zero_division` parameter to control this behavior.\n",
      "  _warn_prf(average, modifier, msg_start, len(result))\n"
     ]
    }
   ],
   "source": [
    "# Печать результата\n",
    "print(\"Accuracy:\", accuracy_score(y_test_h, y_pred))\n",
    "print(\"Classification Report:n\", classification_report(y_test_h, y_pred))"
   ]
  },
  {
   "cell_type": "markdown",
   "metadata": {},
   "source": [
    "#### Двуграмма"
   ]
  },
  {
   "cell_type": "code",
   "execution_count": 74,
   "metadata": {},
   "outputs": [],
   "source": [
    "# Векторизация n-грамм\n",
    "vectorizer = CountVectorizer(ngram_range=(2, 2))\n",
    "X_train_vect = vectorizer.fit_transform(X_train)\n",
    "X_test_vect = vectorizer.transform(X_test)\n",
    "\n",
    "# Шаг 3: Создание и обучение модели\n",
    "model = MultinomialNB()\n",
    "model.fit(X_train_vect, y_train_h)\n",
    "\n",
    "# Шаг 4: Оценка модели\n",
    "y_pred = model.predict(X_test_vect)"
   ]
  },
  {
   "cell_type": "code",
   "execution_count": 77,
   "metadata": {},
   "outputs": [
    {
     "name": "stdout",
     "output_type": "stream",
     "text": [
      "Accuracy: 0.4626379847155392\n",
      "Classification Report:n               precision    recall  f1-score   support\n",
      "\n",
      "          -2       0.00      0.00      0.00        91\n",
      "          -1       1.00      0.01      0.03       220\n",
      "           0       0.46      0.26      0.33      2086\n",
      "           1       0.46      0.84      0.60      3083\n",
      "           2       0.47      0.10      0.16      1586\n",
      "\n",
      "    accuracy                           0.46      7066\n",
      "   macro avg       0.48      0.24      0.22      7066\n",
      "weighted avg       0.48      0.46      0.39      7066\n",
      "\n"
     ]
    },
    {
     "name": "stderr",
     "output_type": "stream",
     "text": [
      "/Users/vitaly/opt/anaconda3/lib/python3.8/site-packages/sklearn/metrics/_classification.py:1221: UndefinedMetricWarning: Precision and F-score are ill-defined and being set to 0.0 in labels with no predicted samples. Use `zero_division` parameter to control this behavior.\n",
      "  _warn_prf(average, modifier, msg_start, len(result))\n"
     ]
    }
   ],
   "source": [
    "# Печать результата\n",
    "print(\"Accuracy:\", accuracy_score(y_test_h, y_pred))\n",
    "print(\"Classification Report:n\", classification_report(y_test_h, y_pred))"
   ]
  },
  {
   "cell_type": "markdown",
   "metadata": {},
   "source": [
    "Качество плохое, accuracy = 0.46"
   ]
  },
  {
   "cell_type": "markdown",
   "metadata": {},
   "source": [
    "#### Триграмма"
   ]
  },
  {
   "cell_type": "code",
   "execution_count": 80,
   "metadata": {},
   "outputs": [],
   "source": [
    "# Векторизация n-грамм\n",
    "vectorizer = CountVectorizer(ngram_range=(3, 3))\n",
    "X_train_vect = vectorizer.fit_transform(X_train)\n",
    "X_test_vect = vectorizer.transform(X_test)\n",
    "\n",
    "# Шаг 3: Создание и обучение модели\n",
    "model = MultinomialNB()\n",
    "model.fit(X_train_vect, y_train_h)\n",
    "\n",
    "# Шаг 4: Оценка модели\n",
    "y_pred = model.predict(X_test_vect)"
   ]
  },
  {
   "cell_type": "code",
   "execution_count": 81,
   "metadata": {
    "scrolled": true
   },
   "outputs": [
    {
     "name": "stdout",
     "output_type": "stream",
     "text": [
      "Accuracy: 0.4358901783187093\n",
      "Classification Report:n               precision    recall  f1-score   support\n",
      "\n",
      "          -2       0.00      0.00      0.00        91\n",
      "          -1       0.55      0.03      0.05       220\n",
      "           0       0.40      0.33      0.36      2086\n",
      "           1       0.46      0.68      0.55      3083\n",
      "           2       0.38      0.18      0.24      1586\n",
      "\n",
      "    accuracy                           0.44      7066\n",
      "   macro avg       0.36      0.24      0.24      7066\n",
      "weighted avg       0.42      0.44      0.40      7066\n",
      "\n"
     ]
    }
   ],
   "source": [
    "# Печать результата\n",
    "print(\"Accuracy:\", accuracy_score(y_test_h, y_pred))\n",
    "print(\"Classification Report:n\", classification_report(y_test_h, y_pred))"
   ]
  },
  {
   "cell_type": "markdown",
   "metadata": {},
   "source": [
    "#### униграммы, биграммы и триграммы"
   ]
  },
  {
   "cell_type": "code",
   "execution_count": 82,
   "metadata": {},
   "outputs": [],
   "source": [
    "# Векторизация n-грамм\n",
    "vectorizer = CountVectorizer(ngram_range=(1, 3))\n",
    "X_train_vect = vectorizer.fit_transform(X_train)\n",
    "X_test_vect = vectorizer.transform(X_test)\n",
    "\n",
    "# Шаг 3: Создание и обучение модели\n",
    "model = MultinomialNB()\n",
    "model.fit(X_train_vect, y_train_h)\n",
    "\n",
    "# Шаг 4: Оценка модели\n",
    "y_pred = model.predict(X_test_vect)"
   ]
  },
  {
   "cell_type": "code",
   "execution_count": 83,
   "metadata": {},
   "outputs": [
    {
     "name": "stdout",
     "output_type": "stream",
     "text": [
      "Accuracy: 0.45131616190206625\n",
      "Classification Report:n               precision    recall  f1-score   support\n",
      "\n",
      "          -2       0.00      0.00      0.00        91\n",
      "          -1       1.00      0.01      0.02       220\n",
      "           0       0.54      0.07      0.12      2086\n",
      "           1       0.44      0.97      0.61      3083\n",
      "           2       0.69      0.04      0.07      1586\n",
      "\n",
      "    accuracy                           0.45      7066\n",
      "   macro avg       0.53      0.22      0.16      7066\n",
      "weighted avg       0.54      0.45      0.32      7066\n",
      "\n"
     ]
    },
    {
     "name": "stderr",
     "output_type": "stream",
     "text": [
      "/Users/vitaly/opt/anaconda3/lib/python3.8/site-packages/sklearn/metrics/_classification.py:1221: UndefinedMetricWarning: Precision and F-score are ill-defined and being set to 0.0 in labels with no predicted samples. Use `zero_division` parameter to control this behavior.\n",
      "  _warn_prf(average, modifier, msg_start, len(result))\n"
     ]
    }
   ],
   "source": [
    "# Печать результата\n",
    "print(\"Accuracy:\", accuracy_score(y_test_h, y_pred))\n",
    "print(\"Classification Report:n\", classification_report(y_test_h, y_pred))"
   ]
  },
  {
   "cell_type": "markdown",
   "metadata": {},
   "source": [
    "#### 1-4 граммы"
   ]
  },
  {
   "cell_type": "code",
   "execution_count": 84,
   "metadata": {},
   "outputs": [],
   "source": [
    "# Векторизация n-грамм\n",
    "vectorizer = CountVectorizer(ngram_range=(1, 4))\n",
    "X_train_vect = vectorizer.fit_transform(X_train)\n",
    "X_test_vect = vectorizer.transform(X_test)\n",
    "\n",
    "# Шаг 3: Создание и обучение модели\n",
    "model = MultinomialNB()\n",
    "model.fit(X_train_vect, y_train_h)\n",
    "\n",
    "# Шаг 4: Оценка модели\n",
    "y_pred = model.predict(X_test_vect)"
   ]
  },
  {
   "cell_type": "code",
   "execution_count": 85,
   "metadata": {},
   "outputs": [
    {
     "name": "stdout",
     "output_type": "stream",
     "text": [
      "Accuracy: 0.45075007076139256\n",
      "Classification Report:n               precision    recall  f1-score   support\n",
      "\n",
      "          -2       0.00      0.00      0.00        91\n",
      "          -1       1.00      0.01      0.03       220\n",
      "           0       0.55      0.06      0.11      2086\n",
      "           1       0.44      0.97      0.61      3083\n",
      "           2       0.72      0.04      0.07      1586\n",
      "\n",
      "    accuracy                           0.45      7066\n",
      "   macro avg       0.54      0.22      0.16      7066\n",
      "weighted avg       0.55      0.45      0.32      7066\n",
      "\n"
     ]
    },
    {
     "name": "stderr",
     "output_type": "stream",
     "text": [
      "/Users/vitaly/opt/anaconda3/lib/python3.8/site-packages/sklearn/metrics/_classification.py:1221: UndefinedMetricWarning: Precision and F-score are ill-defined and being set to 0.0 in labels with no predicted samples. Use `zero_division` parameter to control this behavior.\n",
      "  _warn_prf(average, modifier, msg_start, len(result))\n"
     ]
    }
   ],
   "source": [
    "# Печать результата\n",
    "print(\"Accuracy:\", accuracy_score(y_test_h, y_pred))\n",
    "print(\"Classification Report:n\", classification_report(y_test_h, y_pred))"
   ]
  },
  {
   "cell_type": "markdown",
   "metadata": {},
   "source": [
    "**Выводы** \n",
    "\n",
    "При Naive Bayes классификации рейтинга по WEIGHTED AVG лучше всего модель по 1-4 граммам, но прирост по сравнению с 1-3 граммами всего 0.01, поэтому лучше всего использовать 1-3 граммы\n"
   ]
  },
  {
   "cell_type": "markdown",
   "metadata": {},
   "source": [
    "### Хабы"
   ]
  },
  {
   "cell_type": "code",
   "execution_count": 23,
   "metadata": {},
   "outputs": [
    {
     "data": {
      "text/html": [
       "<div>\n",
       "<style scoped>\n",
       "    .dataframe tbody tr th:only-of-type {\n",
       "        vertical-align: middle;\n",
       "    }\n",
       "\n",
       "    .dataframe tbody tr th {\n",
       "        vertical-align: top;\n",
       "    }\n",
       "\n",
       "    .dataframe thead th {\n",
       "        text-align: right;\n",
       "    }\n",
       "</style>\n",
       "<table border=\"1\" class=\"dataframe\">\n",
       "  <thead>\n",
       "    <tr style=\"text-align: right;\">\n",
       "      <th></th>\n",
       "      <th>author</th>\n",
       "      <th>publication_date</th>\n",
       "      <th>hubs</th>\n",
       "      <th>comments</th>\n",
       "      <th>views</th>\n",
       "      <th>url</th>\n",
       "      <th>reading_time</th>\n",
       "      <th>individ/company</th>\n",
       "      <th>bookmarks_cnt</th>\n",
       "      <th>text_length</th>\n",
       "      <th>rating_new</th>\n",
       "      <th>text_tokens</th>\n",
       "      <th>text_pos_tags</th>\n",
       "      <th>rating_level</th>\n",
       "      <th>hubs_encoded</th>\n",
       "      <th>clear_text</th>\n",
       "      <th>sentence</th>\n",
       "    </tr>\n",
       "  </thead>\n",
       "  <tbody>\n",
       "    <tr>\n",
       "      <th>0</th>\n",
       "      <td>complex</td>\n",
       "      <td>2009-08-03 14:34:35+00:00</td>\n",
       "      <td>GTD</td>\n",
       "      <td>67</td>\n",
       "      <td>6800</td>\n",
       "      <td>https://habr.com/ru/articles/66091/</td>\n",
       "      <td>2.0</td>\n",
       "      <td>individual</td>\n",
       "      <td>25.0</td>\n",
       "      <td>2027</td>\n",
       "      <td>4.0</td>\n",
       "      <td>['лишать' 'девственность' 'бложик' 'происходит...</td>\n",
       "      <td>[NOUN, VERB, NOUN, DET, NOUN, ADV, SCONJ, PRON...</td>\n",
       "      <td>neutral</td>\n",
       "      <td>[80]</td>\n",
       "      <td>[лишать, девственность, бложик, происходить, с...</td>\n",
       "      <td>лишать девственность бложик происходить сегодн...</td>\n",
       "    </tr>\n",
       "  </tbody>\n",
       "</table>\n",
       "</div>"
      ],
      "text/plain": [
       "    author          publication_date hubs  comments  views  \\\n",
       "0  complex 2009-08-03 14:34:35+00:00  GTD        67   6800   \n",
       "\n",
       "                                   url  reading_time individ/company  \\\n",
       "0  https://habr.com/ru/articles/66091/           2.0      individual   \n",
       "\n",
       "   bookmarks_cnt  text_length  rating_new  \\\n",
       "0           25.0         2027         4.0   \n",
       "\n",
       "                                         text_tokens  \\\n",
       "0  ['лишать' 'девственность' 'бложик' 'происходит...   \n",
       "\n",
       "                                       text_pos_tags rating_level  \\\n",
       "0  [NOUN, VERB, NOUN, DET, NOUN, ADV, SCONJ, PRON...      neutral   \n",
       "\n",
       "  hubs_encoded                                         clear_text  \\\n",
       "0         [80]  [лишать, девственность, бложик, происходить, с...   \n",
       "\n",
       "                                            sentence  \n",
       "0  лишать девственность бложик происходить сегодн...  "
      ]
     },
     "execution_count": 23,
     "metadata": {},
     "output_type": "execute_result"
    }
   ],
   "source": [
    "df_wth_tokens.head(1)"
   ]
  },
  {
   "cell_type": "code",
   "execution_count": 25,
   "metadata": {},
   "outputs": [],
   "source": [
    "y_hubs = y_multi_reduced"
   ]
  },
  {
   "cell_type": "code",
   "execution_count": 26,
   "metadata": {},
   "outputs": [
    {
     "data": {
      "text/plain": [
       "array([[0, 0, 0, ..., 0, 0, 1],\n",
       "       [0, 0, 0, ..., 0, 1, 0],\n",
       "       [0, 0, 0, ..., 0, 1, 0],\n",
       "       ...,\n",
       "       [0, 0, 0, ..., 0, 0, 0],\n",
       "       [0, 0, 0, ..., 0, 0, 0],\n",
       "       [0, 0, 0, ..., 0, 0, 0]])"
      ]
     },
     "execution_count": 26,
     "metadata": {},
     "output_type": "execute_result"
    }
   ],
   "source": [
    "y_multi_reduced"
   ]
  },
  {
   "cell_type": "code",
   "execution_count": 27,
   "metadata": {},
   "outputs": [],
   "source": [
    "y = np.argmax(y_multi_reduced, axis=1)  # Получим метки: [0, 1, 2, 0, 1]"
   ]
  },
  {
   "cell_type": "code",
   "execution_count": 28,
   "metadata": {},
   "outputs": [
    {
     "data": {
      "text/plain": [
       "array([55, 54, 54, ..., 47, 50, 38])"
      ]
     },
     "execution_count": 28,
     "metadata": {},
     "output_type": "execute_result"
    }
   ],
   "source": [
    "y"
   ]
  },
  {
   "cell_type": "code",
   "execution_count": 29,
   "metadata": {},
   "outputs": [
    {
     "data": {
      "text/plain": [
       "215350    сегодня технопарк digital october стартовать к...\n",
       "275546    оказываться doubleclick windows работет универ...\n",
       "265955    год исследование специалист компания lenovo пр...\n",
       "160133    шелушение кожа перхоть голова впервые столкнут...\n",
       "92672     больший препятствие стоить путь рост небольшой...\n",
       "                                ...                        \n",
       "110085    посмотреть конфиг файрвола увидеть простыня ку...\n",
       "253662    некий пользователь diggcom ник geekcapital поо...\n",
       "16290     привет сегодня поговорить нужный статистика ис...\n",
       "168042    представить летний лагерь ребёнок больший част...\n",
       "51543     устраивалась skyeng солнце светило яркий трава...\n",
       "Name: sentence, Length: 28264, dtype: object"
      ]
     },
     "execution_count": 29,
     "metadata": {},
     "output_type": "execute_result"
    }
   ],
   "source": [
    "X = sample_df['sentence']\n",
    "X"
   ]
  },
  {
   "cell_type": "code",
   "execution_count": 30,
   "metadata": {},
   "outputs": [],
   "source": [
    "# Разделение на обучающую и тестовую выборки для предсказания хабов (тем) статей\n",
    "X_train, X_test, y_train_h, y_test_h = train_test_split(X, y, test_size=0.25)"
   ]
  },
  {
   "cell_type": "markdown",
   "metadata": {},
   "source": [
    "#### Униграммы"
   ]
  },
  {
   "cell_type": "code",
   "execution_count": 31,
   "metadata": {},
   "outputs": [],
   "source": [
    "# Векторизация текста по N-граммам\n",
    "vectorizer = CountVectorizer(ngram_range=(1, 1))\n",
    "X_train_vect = vectorizer.fit_transform(X_train)\n",
    "X_test_vect = vectorizer.transform(X_test)\n",
    "\n",
    "# Шаг 3: Создание и обучение модели\n",
    "model = MultinomialNB()\n",
    "model.fit(X_train_vect, y_train_h)\n",
    "\n",
    "# Шаг 4: Оценка модели\n",
    "y_pred = model.predict(X_test_vect)"
   ]
  },
  {
   "cell_type": "code",
   "execution_count": 32,
   "metadata": {
    "scrolled": true
   },
   "outputs": [
    {
     "name": "stdout",
     "output_type": "stream",
     "text": [
      "Accuracy: 0.2581375601471837\n",
      "Classification Report:n               precision    recall  f1-score   support\n",
      "\n",
      "           0       0.22      0.96      0.36      1498\n",
      "           1       0.50      0.01      0.02        85\n",
      "           2       0.00      0.00      0.00        25\n",
      "           3       1.00      0.03      0.06        91\n",
      "           4       0.76      0.10      0.17       162\n",
      "           5       0.58      0.06      0.11       113\n",
      "           6       1.00      0.01      0.01       151\n",
      "           7       0.27      0.01      0.02       234\n",
      "           8       0.80      0.09      0.16       137\n",
      "           9       0.73      0.18      0.29       242\n",
      "          10       0.00      0.00      0.00        97\n",
      "          11       1.00      0.04      0.07        79\n",
      "          12       0.72      0.18      0.29       146\n",
      "          13       1.00      0.01      0.02        99\n",
      "          14       0.00      0.00      0.00        71\n",
      "          15       0.00      0.00      0.00        45\n",
      "          16       0.00      0.00      0.00        60\n",
      "          17       0.00      0.00      0.00        98\n",
      "          18       0.00      0.00      0.00       217\n",
      "          19       0.00      0.00      0.00        40\n",
      "          20       0.60      0.15      0.24       169\n",
      "          21       0.00      0.00      0.00        66\n",
      "          22       1.00      0.04      0.08        71\n",
      "          23       0.50      0.01      0.03        78\n",
      "          24       0.00      0.00      0.00        71\n",
      "          25       0.69      0.28      0.40       330\n",
      "          26       0.00      0.00      0.00        80\n",
      "          27       0.00      0.00      0.00        46\n",
      "          28       1.00      0.02      0.04        53\n",
      "          29       0.40      0.13      0.20       149\n",
      "          30       0.00      0.00      0.00        84\n",
      "          31       0.90      0.34      0.49       107\n",
      "          32       0.00      0.00      0.00        47\n",
      "          33       0.00      0.00      0.00        33\n",
      "          34       0.00      0.00      0.00        85\n",
      "          35       0.51      0.34      0.41       151\n",
      "          36       1.00      0.01      0.01       152\n",
      "          37       0.25      0.01      0.02        85\n",
      "          38       0.67      0.02      0.04        88\n",
      "          39       0.00      0.00      0.00        76\n",
      "          40       0.00      0.00      0.00        30\n",
      "          41       0.00      0.00      0.00        31\n",
      "          42       0.00      0.00      0.00        33\n",
      "          43       0.00      0.00      0.00        49\n",
      "          44       0.00      0.00      0.00        64\n",
      "          45       0.00      0.00      0.00        43\n",
      "          46       0.00      0.00      0.00        46\n",
      "          47       0.00      0.00      0.00        40\n",
      "          48       0.00      0.00      0.00        58\n",
      "          49       0.00      0.00      0.00         6\n",
      "          50       0.00      0.00      0.00        37\n",
      "          51       0.00      0.00      0.00        14\n",
      "          52       1.00      0.02      0.03        60\n",
      "          53       0.00      0.00      0.00        32\n",
      "          54       0.34      0.05      0.09       664\n",
      "          55       0.00      0.00      0.00       148\n",
      "\n",
      "    accuracy                           0.26      7066\n",
      "   macro avg       0.31      0.06      0.07      7066\n",
      "weighted avg       0.38      0.26      0.16      7066\n",
      "\n"
     ]
    },
    {
     "name": "stderr",
     "output_type": "stream",
     "text": [
      "/Users/vitaly/opt/anaconda3/lib/python3.8/site-packages/sklearn/metrics/_classification.py:1221: UndefinedMetricWarning: Precision and F-score are ill-defined and being set to 0.0 in labels with no predicted samples. Use `zero_division` parameter to control this behavior.\n",
      "  _warn_prf(average, modifier, msg_start, len(result))\n"
     ]
    }
   ],
   "source": [
    "# Печать результата\n",
    "print(\"Accuracy:\", accuracy_score(y_test_h, y_pred))\n",
    "print(\"Classification Report:n\", classification_report(y_test_h, y_pred))"
   ]
  },
  {
   "cell_type": "markdown",
   "metadata": {},
   "source": [
    "#### Двуграммы"
   ]
  },
  {
   "cell_type": "code",
   "execution_count": 96,
   "metadata": {},
   "outputs": [],
   "source": [
    "# Векторизация текста по N-граммам\n",
    "vectorizer = CountVectorizer(ngram_range=(2, 2))\n",
    "X_train_vect = vectorizer.fit_transform(X_train)\n",
    "X_test_vect = vectorizer.transform(X_test)\n",
    "\n",
    "# Шаг 3: Создание и обучение модели\n",
    "model = MultinomialNB()\n",
    "model.fit(X_train_vect, y_train_h)\n",
    "\n",
    "# Шаг 4: Оценка модели\n",
    "y_pred = model.predict(X_test_vect)"
   ]
  },
  {
   "cell_type": "code",
   "execution_count": 97,
   "metadata": {
    "scrolled": true
   },
   "outputs": [
    {
     "name": "stdout",
     "output_type": "stream",
     "text": [
      "Accuracy: 0.27512029436739316\n",
      "Classification Report:n               precision    recall  f1-score   support\n",
      "\n",
      "           0       0.23      0.98      0.38      1515\n",
      "           1       0.71      0.06      0.11        82\n",
      "           2       0.00      0.00      0.00        20\n",
      "           3       1.00      0.04      0.08        93\n",
      "           4       0.75      0.10      0.18       150\n",
      "           5       0.62      0.04      0.08       116\n",
      "           6       0.38      0.04      0.08       137\n",
      "           7       0.41      0.03      0.06       236\n",
      "           8       0.56      0.07      0.12       129\n",
      "           9       0.59      0.11      0.18       219\n",
      "          10       0.71      0.04      0.08       113\n",
      "          11       0.80      0.04      0.08        95\n",
      "          12       0.73      0.16      0.26       173\n",
      "          13       0.56      0.05      0.09       106\n",
      "          14       0.50      0.01      0.03        68\n",
      "          15       0.50      0.04      0.07        50\n",
      "          16       0.50      0.07      0.12        46\n",
      "          17       0.33      0.03      0.05        78\n",
      "          18       0.67      0.02      0.04       198\n",
      "          19       0.00      0.00      0.00        37\n",
      "          20       0.57      0.19      0.28       158\n",
      "          21       0.57      0.06      0.10        71\n",
      "          22       0.83      0.07      0.14        68\n",
      "          23       0.33      0.02      0.05        82\n",
      "          24       1.00      0.03      0.05        71\n",
      "          25       0.67      0.31      0.43       316\n",
      "          26       0.33      0.01      0.03        76\n",
      "          27       0.00      0.00      0.00        51\n",
      "          28       1.00      0.06      0.12        47\n",
      "          29       0.62      0.19      0.29       135\n",
      "          30       0.50      0.03      0.05        70\n",
      "          31       0.78      0.56      0.65        80\n",
      "          32       0.67      0.07      0.12        29\n",
      "          33       0.00      0.00      0.00        41\n",
      "          34       0.50      0.02      0.04        91\n",
      "          35       0.70      0.26      0.37       149\n",
      "          36       1.00      0.03      0.05       146\n",
      "          37       0.88      0.08      0.15        83\n",
      "          38       0.91      0.11      0.20        91\n",
      "          39       0.67      0.02      0.05        85\n",
      "          40       1.00      0.03      0.05        39\n",
      "          41       0.00      0.00      0.00        39\n",
      "          42       0.00      0.00      0.00        34\n",
      "          43       1.00      0.02      0.04        50\n",
      "          44       0.00      0.00      0.00        49\n",
      "          45       0.00      0.00      0.00        37\n",
      "          46       0.00      0.00      0.00        56\n",
      "          47       1.00      0.02      0.04        53\n",
      "          48       0.00      0.00      0.00        65\n",
      "          49       0.00      0.00      0.00         7\n",
      "          50       1.00      0.04      0.08        50\n",
      "          51       1.00      0.08      0.15        12\n",
      "          52       0.91      0.16      0.27        62\n",
      "          53       0.00      0.00      0.00        36\n",
      "          54       0.39      0.05      0.09       727\n",
      "          55       0.60      0.02      0.04       149\n",
      "\n",
      "    accuracy                           0.28      7066\n",
      "   macro avg       0.54      0.08      0.11      7066\n",
      "weighted avg       0.50      0.28      0.18      7066\n",
      "\n"
     ]
    },
    {
     "name": "stderr",
     "output_type": "stream",
     "text": [
      "/Users/vitaly/opt/anaconda3/lib/python3.8/site-packages/sklearn/metrics/_classification.py:1221: UndefinedMetricWarning: Precision and F-score are ill-defined and being set to 0.0 in labels with no predicted samples. Use `zero_division` parameter to control this behavior.\n",
      "  _warn_prf(average, modifier, msg_start, len(result))\n"
     ]
    }
   ],
   "source": [
    "# Печать результата\n",
    "print(\"Accuracy:\", accuracy_score(y_test_h, y_pred))\n",
    "print(\"Classification Report:n\", classification_report(y_test_h, y_pred))"
   ]
  },
  {
   "cell_type": "markdown",
   "metadata": {},
   "source": [
    "#### Триграммы"
   ]
  },
  {
   "cell_type": "code",
   "execution_count": 35,
   "metadata": {},
   "outputs": [],
   "source": [
    "# Векторизация текста по N-граммам\n",
    "vectorizer = CountVectorizer(ngram_range=(3, 3))\n",
    "X_train_vect = vectorizer.fit_transform(X_train)\n",
    "X_test_vect = vectorizer.transform(X_test)\n",
    "\n",
    "# Шаг 3: Создание и обучение модели\n",
    "model = MultinomialNB()\n",
    "model.fit(X_train_vect, y_train_h)\n",
    "\n",
    "# Шаг 4: Оценка модели\n",
    "y_pred = model.predict(X_test_vect)"
   ]
  },
  {
   "cell_type": "code",
   "execution_count": 36,
   "metadata": {
    "scrolled": true
   },
   "outputs": [
    {
     "name": "stdout",
     "output_type": "stream",
     "text": [
      "Accuracy: 0.30667987545994907\n",
      "Classification Report:n               precision    recall  f1-score   support\n",
      "\n",
      "           0       0.25      0.84      0.38      1498\n",
      "           1       0.33      0.15      0.21        85\n",
      "           2       0.00      0.00      0.00        25\n",
      "           3       0.57      0.14      0.23        91\n",
      "           4       0.54      0.14      0.22       162\n",
      "           5       0.54      0.17      0.26       113\n",
      "           6       0.35      0.11      0.17       151\n",
      "           7       0.29      0.10      0.15       234\n",
      "           8       0.62      0.23      0.34       137\n",
      "           9       0.52      0.26      0.34       242\n",
      "          10       0.61      0.11      0.19        97\n",
      "          11       0.68      0.24      0.36        79\n",
      "          12       0.47      0.43      0.45       146\n",
      "          13       0.50      0.08      0.14        99\n",
      "          14       0.38      0.04      0.08        71\n",
      "          15       0.71      0.22      0.34        45\n",
      "          16       0.57      0.07      0.12        60\n",
      "          17       0.36      0.05      0.09        98\n",
      "          18       0.26      0.06      0.10       217\n",
      "          19       1.00      0.03      0.05        40\n",
      "          20       0.51      0.27      0.35       169\n",
      "          21       0.50      0.29      0.37        66\n",
      "          22       0.62      0.07      0.13        71\n",
      "          23       0.60      0.12      0.19        78\n",
      "          24       1.00      0.04      0.08        71\n",
      "          25       0.47      0.39      0.43       330\n",
      "          26       0.43      0.12      0.19        80\n",
      "          27       0.33      0.04      0.08        46\n",
      "          28       0.40      0.04      0.07        53\n",
      "          29       0.40      0.28      0.33       149\n",
      "          30       0.55      0.07      0.13        84\n",
      "          31       0.77      0.45      0.57       107\n",
      "          32       0.50      0.04      0.08        47\n",
      "          33       0.33      0.03      0.06        33\n",
      "          34       0.33      0.05      0.08        85\n",
      "          35       0.50      0.23      0.32       151\n",
      "          36       0.44      0.08      0.13       152\n",
      "          37       0.69      0.13      0.22        85\n",
      "          38       0.40      0.19      0.26        88\n",
      "          39       0.73      0.21      0.33        76\n",
      "          40       0.50      0.10      0.17        30\n",
      "          41       1.00      0.03      0.06        31\n",
      "          42       0.50      0.03      0.06        33\n",
      "          43       0.45      0.10      0.17        49\n",
      "          44       0.00      0.00      0.00        64\n",
      "          45       0.25      0.02      0.04        43\n",
      "          46       0.50      0.11      0.18        46\n",
      "          47       0.50      0.05      0.09        40\n",
      "          48       0.60      0.05      0.10        58\n",
      "          49       0.00      0.00      0.00         6\n",
      "          50       0.43      0.08      0.14        37\n",
      "          51       0.00      0.00      0.00        14\n",
      "          52       0.88      0.23      0.37        60\n",
      "          53       0.33      0.03      0.06        32\n",
      "          54       0.30      0.17      0.22       664\n",
      "          55       0.42      0.03      0.06       148\n",
      "\n",
      "    accuracy                           0.31      7066\n",
      "   macro avg       0.48      0.14      0.18      7066\n",
      "weighted avg       0.42      0.31      0.26      7066\n",
      "\n"
     ]
    },
    {
     "name": "stderr",
     "output_type": "stream",
     "text": [
      "/Users/vitaly/opt/anaconda3/lib/python3.8/site-packages/sklearn/metrics/_classification.py:1221: UndefinedMetricWarning: Precision and F-score are ill-defined and being set to 0.0 in labels with no predicted samples. Use `zero_division` parameter to control this behavior.\n",
      "  _warn_prf(average, modifier, msg_start, len(result))\n"
     ]
    }
   ],
   "source": [
    "# Печать результата\n",
    "print(\"Accuracy:\", accuracy_score(y_test_h, y_pred))\n",
    "print(\"Classification Report:n\", classification_report(y_test_h, y_pred))"
   ]
  },
  {
   "cell_type": "markdown",
   "metadata": {},
   "source": [
    "#### 1-2 граммы"
   ]
  },
  {
   "cell_type": "code",
   "execution_count": 33,
   "metadata": {},
   "outputs": [],
   "source": [
    "# Векторизация текста по N-граммам\n",
    "vectorizer = CountVectorizer(ngram_range=(1, 2))\n",
    "X_train_vect = vectorizer.fit_transform(X_train)\n",
    "X_test_vect = vectorizer.transform(X_test)\n",
    "\n",
    "# Шаг 3: Создание и обучение модели\n",
    "model = MultinomialNB()\n",
    "model.fit(X_train_vect, y_train_h)\n",
    "\n",
    "# Шаг 4: Оценка модели\n",
    "y_pred = model.predict(X_test_vect)"
   ]
  },
  {
   "cell_type": "code",
   "execution_count": 34,
   "metadata": {
    "scrolled": true
   },
   "outputs": [
    {
     "name": "stdout",
     "output_type": "stream",
     "text": [
      "Accuracy: 0.2230399094254175\n",
      "Classification Report:n               precision    recall  f1-score   support\n",
      "\n",
      "           0       0.21      1.00      0.35      1498\n",
      "           1       1.00      0.01      0.02        85\n",
      "           2       0.00      0.00      0.00        25\n",
      "           3       0.00      0.00      0.00        91\n",
      "           4       1.00      0.01      0.02       162\n",
      "           5       1.00      0.02      0.03       113\n",
      "           6       0.80      0.03      0.05       151\n",
      "           7       1.00      0.00      0.01       234\n",
      "           8       1.00      0.02      0.04       137\n",
      "           9       0.78      0.03      0.06       242\n",
      "          10       0.00      0.00      0.00        97\n",
      "          11       0.00      0.00      0.00        79\n",
      "          12       0.75      0.04      0.08       146\n",
      "          13       1.00      0.01      0.02        99\n",
      "          14       0.00      0.00      0.00        71\n",
      "          15       0.00      0.00      0.00        45\n",
      "          16       0.00      0.00      0.00        60\n",
      "          17       0.00      0.00      0.00        98\n",
      "          18       0.00      0.00      0.00       217\n",
      "          19       0.00      0.00      0.00        40\n",
      "          20       0.75      0.02      0.03       169\n",
      "          21       0.00      0.00      0.00        66\n",
      "          22       0.00      0.00      0.00        71\n",
      "          23       1.00      0.01      0.03        78\n",
      "          24       0.00      0.00      0.00        71\n",
      "          25       0.73      0.05      0.09       330\n",
      "          26       0.00      0.00      0.00        80\n",
      "          27       0.00      0.00      0.00        46\n",
      "          28       1.00      0.02      0.04        53\n",
      "          29       0.33      0.01      0.01       149\n",
      "          30       0.00      0.00      0.00        84\n",
      "          31       1.00      0.06      0.11       107\n",
      "          32       0.00      0.00      0.00        47\n",
      "          33       0.00      0.00      0.00        33\n",
      "          34       0.00      0.00      0.00        85\n",
      "          35       0.81      0.09      0.16       151\n",
      "          36       0.00      0.00      0.00       152\n",
      "          37       0.00      0.00      0.00        85\n",
      "          38       0.00      0.00      0.00        88\n",
      "          39       0.00      0.00      0.00        76\n",
      "          40       0.00      0.00      0.00        30\n",
      "          41       0.00      0.00      0.00        31\n",
      "          42       0.00      0.00      0.00        33\n",
      "          43       0.00      0.00      0.00        49\n",
      "          44       0.00      0.00      0.00        64\n",
      "          45       0.00      0.00      0.00        43\n",
      "          46       0.00      0.00      0.00        46\n",
      "          47       0.00      0.00      0.00        40\n",
      "          48       0.00      0.00      0.00        58\n",
      "          49       0.00      0.00      0.00         6\n",
      "          50       0.00      0.00      0.00        37\n",
      "          51       0.00      0.00      0.00        14\n",
      "          52       0.00      0.00      0.00        60\n",
      "          53       0.00      0.00      0.00        32\n",
      "          54       0.91      0.02      0.03       664\n",
      "          55       0.00      0.00      0.00       148\n",
      "\n",
      "    accuracy                           0.22      7066\n",
      "   macro avg       0.27      0.03      0.02      7066\n",
      "weighted avg       0.42      0.22      0.10      7066\n",
      "\n"
     ]
    },
    {
     "name": "stderr",
     "output_type": "stream",
     "text": [
      "/Users/vitaly/opt/anaconda3/lib/python3.8/site-packages/sklearn/metrics/_classification.py:1221: UndefinedMetricWarning: Precision and F-score are ill-defined and being set to 0.0 in labels with no predicted samples. Use `zero_division` parameter to control this behavior.\n",
      "  _warn_prf(average, modifier, msg_start, len(result))\n"
     ]
    }
   ],
   "source": [
    "# Печать результата\n",
    "print(\"Accuracy:\", accuracy_score(y_test_h, y_pred))\n",
    "print(\"Classification Report:n\", classification_report(y_test_h, y_pred))"
   ]
  },
  {
   "cell_type": "markdown",
   "metadata": {},
   "source": [
    "#### 1-3 граммы"
   ]
  },
  {
   "cell_type": "code",
   "execution_count": 37,
   "metadata": {},
   "outputs": [],
   "source": [
    "# Векторизация текста по N-граммам\n",
    "vectorizer = CountVectorizer(ngram_range=(1, 3))\n",
    "X_train_vect = vectorizer.fit_transform(X_train)\n",
    "X_test_vect = vectorizer.transform(X_test)\n",
    "\n",
    "# Шаг 3: Создание и обучение модели\n",
    "model = MultinomialNB()\n",
    "model.fit(X_train_vect, y_train_h)\n",
    "\n",
    "# Шаг 4: Оценка модели\n",
    "y_pred = model.predict(X_test_vect)"
   ]
  },
  {
   "cell_type": "code",
   "execution_count": 38,
   "metadata": {
    "scrolled": true
   },
   "outputs": [
    {
     "name": "stdout",
     "output_type": "stream",
     "text": [
      "Accuracy: 0.2265779790546278\n",
      "Classification Report:n               precision    recall  f1-score   support\n",
      "\n",
      "           0       0.22      1.00      0.35      1498\n",
      "           1       1.00      0.01      0.02        85\n",
      "           2       0.00      0.00      0.00        25\n",
      "           3       1.00      0.01      0.02        91\n",
      "           4       1.00      0.02      0.04       162\n",
      "           5       1.00      0.03      0.05       113\n",
      "           6       0.86      0.04      0.08       151\n",
      "           7       1.00      0.01      0.03       234\n",
      "           8       1.00      0.02      0.04       137\n",
      "           9       0.85      0.05      0.09       242\n",
      "          10       0.00      0.00      0.00        97\n",
      "          11       1.00      0.01      0.02        79\n",
      "          12       0.80      0.03      0.05       146\n",
      "          13       1.00      0.01      0.02        99\n",
      "          14       0.00      0.00      0.00        71\n",
      "          15       1.00      0.02      0.04        45\n",
      "          16       0.00      0.00      0.00        60\n",
      "          17       0.00      0.00      0.00        98\n",
      "          18       1.00      0.01      0.03       217\n",
      "          19       0.00      0.00      0.00        40\n",
      "          20       0.80      0.02      0.05       169\n",
      "          21       0.00      0.00      0.00        66\n",
      "          22       1.00      0.01      0.03        71\n",
      "          23       1.00      0.03      0.05        78\n",
      "          24       0.00      0.00      0.00        71\n",
      "          25       0.67      0.04      0.08       330\n",
      "          26       0.00      0.00      0.00        80\n",
      "          27       1.00      0.02      0.04        46\n",
      "          28       1.00      0.02      0.04        53\n",
      "          29       0.50      0.01      0.01       149\n",
      "          30       0.00      0.00      0.00        84\n",
      "          31       1.00      0.05      0.09       107\n",
      "          32       1.00      0.04      0.08        47\n",
      "          33       0.00      0.00      0.00        33\n",
      "          34       0.00      0.00      0.00        85\n",
      "          35       0.77      0.07      0.12       151\n",
      "          36       1.00      0.01      0.01       152\n",
      "          37       0.00      0.00      0.00        85\n",
      "          38       0.00      0.00      0.00        88\n",
      "          39       0.00      0.00      0.00        76\n",
      "          40       0.00      0.00      0.00        30\n",
      "          41       0.00      0.00      0.00        31\n",
      "          42       0.00      0.00      0.00        33\n",
      "          43       1.00      0.02      0.04        49\n",
      "          44       0.00      0.00      0.00        64\n",
      "          45       0.00      0.00      0.00        43\n",
      "          46       0.00      0.00      0.00        46\n",
      "          47       0.00      0.00      0.00        40\n",
      "          48       0.00      0.00      0.00        58\n",
      "          49       0.00      0.00      0.00         6\n",
      "          50       0.00      0.00      0.00        37\n",
      "          51       0.00      0.00      0.00        14\n",
      "          52       1.00      0.02      0.03        60\n",
      "          53       0.00      0.00      0.00        32\n",
      "          54       0.95      0.03      0.06       664\n",
      "          55       0.00      0.00      0.00       148\n",
      "\n",
      "    accuracy                           0.23      7066\n",
      "   macro avg       0.45      0.03      0.03      7066\n",
      "weighted avg       0.55      0.23      0.10      7066\n",
      "\n"
     ]
    },
    {
     "name": "stderr",
     "output_type": "stream",
     "text": [
      "/Users/vitaly/opt/anaconda3/lib/python3.8/site-packages/sklearn/metrics/_classification.py:1221: UndefinedMetricWarning: Precision and F-score are ill-defined and being set to 0.0 in labels with no predicted samples. Use `zero_division` parameter to control this behavior.\n",
      "  _warn_prf(average, modifier, msg_start, len(result))\n"
     ]
    }
   ],
   "source": [
    "# Печать результата\n",
    "print(\"Accuracy:\", accuracy_score(y_test_h, y_pred))\n",
    "print(\"Classification Report:n\", classification_report(y_test_h, y_pred))"
   ]
  },
  {
   "cell_type": "markdown",
   "metadata": {},
   "source": [
    "**Вывод**\n",
    "\n",
    "Лучше всего по качеству предсказание по 1-3 граммам, но оптимально по качеству и скорости использовать двуграмму"
   ]
  }
 ],
 "metadata": {
  "kernelspec": {
   "display_name": "Python 3",
   "language": "python",
   "name": "python3"
  },
  "language_info": {
   "codemirror_mode": {
    "name": "ipython",
    "version": 3
   },
   "file_extension": ".py",
   "mimetype": "text/x-python",
   "name": "python",
   "nbconvert_exporter": "python",
   "pygments_lexer": "ipython3",
   "version": "3.8.5"
  },
  "toc": {
   "base_numbering": 1,
   "nav_menu": {},
   "number_sections": true,
   "sideBar": true,
   "skip_h1_title": false,
   "title_cell": "Table of Contents",
   "title_sidebar": "Contents",
   "toc_cell": false,
   "toc_position": {},
   "toc_section_display": true,
   "toc_window_display": false
  }
 },
 "nbformat": 4,
 "nbformat_minor": 4
}

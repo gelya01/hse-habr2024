{
 "cells": [
  {
   "cell_type": "code",
   "execution_count": 1,
   "metadata": {},
   "outputs": [],
   "source": [
    "# Импорты\n",
    "import pandas as pd\n",
    "import gdown\n",
    "import joblib\n",
    "import numpy as np\n",
    "import random\n",
    "from sklearn.pipeline import Pipeline\n",
    "from sklearn.feature_extraction.text import TfidfVectorizer\n",
    "from sklearn.multiclass import OneVsRestClassifier\n",
    "from sklearn.svm import LinearSVC\n",
    "from sklearn.model_selection import train_test_split\n",
    "from sklearn.linear_model import LogisticRegression\n",
    "from sklearn.metrics import precision_score, recall_score, f1_score, hamming_loss\n",
    "from ml_utils import calculate_metrics\n",
    "pd.options.mode.chained_assignment = None\n",
    "random.seed(42)\n",
    "np.random.seed(42)"
   ]
  },
  {
   "cell_type": "code",
   "execution_count": null,
   "metadata": {},
   "outputs": [],
   "source": [
    "# Загрузка данных для обучения пайплайна\n",
    "\n",
    "# y_hubs\n",
    "# h_id = \"1hMUvpXsJGHVlrUB-dRNkkGxzK5uZsE0i\"\n",
    "# gdown.download(f\"https://drive.google.com/uc?id={h_id}\", quiet=False)\n",
    "\n",
    "# # y_rating\n",
    "# r_id = \"1kRKU24Ah8JC1RDokiyz22-6EUNYFPqB-\"\n",
    "# gdown.download(f\"https://drive.google.com/uc?id={r_id}\", quiet=False)\n",
    "\n",
    "# # Матрица признаков X\n",
    "# X_id = \"1nyfcMkhKS0yVzGgZBJhQNiu572bJlN1j\"\n",
    "# gdown.download(f\"https://drive.google.com/uc?id={X_id}\", quiet=False)"
   ]
  },
  {
   "cell_type": "code",
   "execution_count": 2,
   "metadata": {},
   "outputs": [],
   "source": [
    "# Данные\n",
    "X = pd.read_parquet('X.parquet')['text_combined']\n",
    "y_rating = pd.read_csv('y_rating.csv')['rating_level']\n",
    "y_hubs = pd.read_csv(\"y_hubs.csv\", header=None, dtype=int).values\n",
    "\n",
    "# Лучшие параметры для пайплайнов\n",
    "best_params_h = joblib.load('best_params/best_params_h.pkl')\n",
    "best_params_r = joblib.load('best_params/best_params_r.pkl')"
   ]
  },
  {
   "cell_type": "code",
   "execution_count": 3,
   "metadata": {},
   "outputs": [],
   "source": [
    "# Пайплайн с лучшими параметрами для предсказания хабов (тем) статей\n",
    "pipeline_h = Pipeline([\n",
    "    ('tfidf', TfidfVectorizer()),\n",
    "    ('clf', OneVsRestClassifier(LinearSVC(max_iter=1000), n_jobs=6))])\n",
    "\n",
    "# Настройка пайплайна с лучшими параметрами\n",
    "pipeline_h.set_params(**best_params_h)\n",
    "\n",
    "# Разделение на обучающую и тестовую выборки для предсказания хабов (тем) статей\n",
    "X_train, X_test, y_train_h, y_test_h = train_test_split(X, y_hubs, test_size=0.25)\n",
    "\n",
    "# Обучение и предсказание по лучшему пайплайну для хабов\n",
    "pipeline_h.fit(X_train, y_train_h)\n",
    "y_pred_h = pipeline_h.predict(X_test)"
   ]
  },
  {
   "cell_type": "code",
   "execution_count": 4,
   "metadata": {},
   "outputs": [
    {
     "name": "stdout",
     "output_type": "stream",
     "text": [
      "micro - {'Precision': 0.3818, 'Recall': 0.7199, 'F1-Score': 0.499, 'Hamming Loss': 0.0167}\n",
      "macro - {'Precision': 0.374, 'Recall': 0.703, 'F1-Score': 0.4743, 'Hamming Loss': 0.0167}\n",
      "weighted - {'Precision': 0.4382, 'Recall': 0.7199, 'F1-Score': 0.5345, 'Hamming Loss': 0.0167}\n"
     ]
    }
   ],
   "source": [
    "# Расчёт метрик\n",
    "for i in ['micro', 'macro', 'weighted']:\n",
    "    lr_metrics = calculate_metrics(y_pred_h, y_test_h, i)\n",
    "    print(i,'-', lr_metrics)"
   ]
  },
  {
   "cell_type": "markdown",
   "metadata": {},
   "source": [
    "### Рейтинг"
   ]
  },
  {
   "cell_type": "code",
   "execution_count": 5,
   "metadata": {},
   "outputs": [],
   "source": [
    "# Пайплайн с лучшими параметрами для предсказания рейтинга статей\n",
    "pipeline_r = Pipeline([\n",
    "    ('tfidf', TfidfVectorizer()),\n",
    "    ('clf', OneVsRestClassifier(LogisticRegression(max_iter=1000, solver='sag'), n_jobs=6))])\n",
    "\n",
    "# Настройка пайплайна с лучшими параметрами\n",
    "pipeline_r.set_params(**best_params_r)\n",
    "\n",
    "# Разделение на обучающую и тестовую выборки для предсказания рейтинга статьи\n",
    "X_train, X_test, y_train_r, y_test_r = train_test_split(X, y_rating, test_size=0.25)\n",
    "\n",
    "# Обучение и предсказание по лучшему пайплайну для рейтинга\n",
    "pipeline_r.fit(X_train, y_train_r)\n",
    "y_pred_r = pipeline_r.predict(X_test)"
   ]
  },
  {
   "cell_type": "code",
   "execution_count": 6,
   "metadata": {},
   "outputs": [
    {
     "name": "stdout",
     "output_type": "stream",
     "text": [
      "micro - {'Precision': 0.4958, 'Recall': 0.4958, 'F1-Score': 0.4958, 'Hamming Loss': 0.5042}\n",
      "macro - {'Precision': 0.2893, 'Recall': 0.4746, 'F1-Score': 0.2886, 'Hamming Loss': 0.5042}\n",
      "weighted - {'Precision': 0.5601, 'Recall': 0.4958, 'F1-Score': 0.5174, 'Hamming Loss': 0.5042}\n"
     ]
    }
   ],
   "source": [
    "# Расчёт метрик\n",
    "for i in ['micro', 'macro', 'weighted']:\n",
    "    lr_metrics = calculate_metrics(y_pred_r, y_test_r, i)\n",
    "    print(i,'-', lr_metrics)"
   ]
  }
 ],
 "metadata": {
  "kernelspec": {
   "display_name": "data_sc",
   "language": "python",
   "name": "python3"
  },
  "language_info": {
   "codemirror_mode": {
    "name": "ipython",
    "version": 3
   },
   "file_extension": ".py",
   "mimetype": "text/x-python",
   "name": "python",
   "nbconvert_exporter": "python",
   "pygments_lexer": "ipython3",
   "version": "3.10.15"
  }
 },
 "nbformat": 4,
 "nbformat_minor": 2
}

{
 "cells": [
  {
   "cell_type": "code",
   "execution_count": 1,
   "metadata": {},
   "outputs": [],
   "source": [
    "import pandas as pd\n",
    "\n",
    "\n",
    "df = pd.read_parquet('habr_articles_parsed_final.parquet', engine='pyarrow')"
   ]
  },
  {
   "cell_type": "markdown",
   "metadata": {},
   "source": [
    "Размер изначального датасета:"
   ]
  },
  {
   "cell_type": "code",
   "execution_count": 2,
   "metadata": {},
   "outputs": [
    {
     "data": {
      "text/plain": [
       "(285499, 15)"
      ]
     },
     "execution_count": 2,
     "metadata": {},
     "output_type": "execute_result"
    }
   ],
   "source": [
    "df.shape"
   ]
  },
  {
   "cell_type": "markdown",
   "metadata": {},
   "source": [
    "Посмотрим на сам датасет в первом приближении:"
   ]
  },
  {
   "cell_type": "code",
   "execution_count": 3,
   "metadata": {},
   "outputs": [
    {
     "data": {
      "text/html": [
       "<div>\n",
       "<style scoped>\n",
       "    .dataframe tbody tr th:only-of-type {\n",
       "        vertical-align: middle;\n",
       "    }\n",
       "\n",
       "    .dataframe tbody tr th {\n",
       "        vertical-align: top;\n",
       "    }\n",
       "\n",
       "    .dataframe thead th {\n",
       "        text-align: right;\n",
       "    }\n",
       "</style>\n",
       "<table border=\"1\" class=\"dataframe\">\n",
       "  <thead>\n",
       "    <tr style=\"text-align: right;\">\n",
       "      <th></th>\n",
       "      <th>Title</th>\n",
       "      <th>Author</th>\n",
       "      <th>Publication_date</th>\n",
       "      <th>Hubs</th>\n",
       "      <th>Tags</th>\n",
       "      <th>Content</th>\n",
       "      <th>Comments</th>\n",
       "      <th>Views</th>\n",
       "      <th>URL</th>\n",
       "      <th>Reading_time</th>\n",
       "      <th>Images_links</th>\n",
       "      <th>Individ/Company</th>\n",
       "      <th>Rating</th>\n",
       "      <th>Positive/Negative</th>\n",
       "      <th>Bookmarks_cnt</th>\n",
       "    </tr>\n",
       "  </thead>\n",
       "  <tbody>\n",
       "    <tr>\n",
       "      <th>0</th>\n",
       "      <td>Лечение приступов лени</td>\n",
       "      <td>complex</td>\n",
       "      <td>2009-08-03 14:34:35+00:00</td>\n",
       "      <td>GTD</td>\n",
       "      <td>лень, учись работать, самомотивация, мотивация</td>\n",
       "      <td>Пора лишать девственности свой бложик.\\nТак ка...</td>\n",
       "      <td>67</td>\n",
       "      <td>6800</td>\n",
       "      <td>https://habr.com/ru/articles/66091/</td>\n",
       "      <td>2.0</td>\n",
       "      <td></td>\n",
       "      <td>individual</td>\n",
       "      <td>4</td>\n",
       "      <td>positive</td>\n",
       "      <td>25.0</td>\n",
       "    </tr>\n",
       "    <tr>\n",
       "      <th>1</th>\n",
       "      <td>Как я работал по два часа в день</td>\n",
       "      <td>Konovalov</td>\n",
       "      <td>2009-07-30 13:50:03+00:00</td>\n",
       "      <td>GTD</td>\n",
       "      <td>тайм-менеджмент, timemanagement, работа, эффек...</td>\n",
       "      <td>Когда я только перешёл от офисной работы к дом...</td>\n",
       "      <td>99</td>\n",
       "      <td>21000</td>\n",
       "      <td>https://habr.com/ru/articles/65783/</td>\n",
       "      <td>3.0</td>\n",
       "      <td></td>\n",
       "      <td>individual</td>\n",
       "      <td>193</td>\n",
       "      <td>positive</td>\n",
       "      <td>114.0</td>\n",
       "    </tr>\n",
       "    <tr>\n",
       "      <th>2</th>\n",
       "      <td>Итоги первой недели</td>\n",
       "      <td>Irokez</td>\n",
       "      <td>2009-05-10 13:43:21+00:00</td>\n",
       "      <td>GTD</td>\n",
       "      <td>тайм-менеджмент, пинарик, ворктрек</td>\n",
       "      <td>Итак, за прошедшую неделю хабраюзеры попробова...</td>\n",
       "      <td>29</td>\n",
       "      <td>1000</td>\n",
       "      <td>https://habr.com/ru/articles/59272/</td>\n",
       "      <td>1.0</td>\n",
       "      <td>https://habrastorage.org/r/w1560/getpro/megamo...</td>\n",
       "      <td>individual</td>\n",
       "      <td>15</td>\n",
       "      <td>positive</td>\n",
       "      <td>5.0</td>\n",
       "    </tr>\n",
       "    <tr>\n",
       "      <th>3</th>\n",
       "      <td>Правильно поставленная задача время бережет</td>\n",
       "      <td>object</td>\n",
       "      <td>2009-05-05 00:05:11+00:00</td>\n",
       "      <td>GTD</td>\n",
       "      <td>постановка задачи, планирование</td>\n",
       "      <td>Хочу поделиться своими мыслями по оптимизации ...</td>\n",
       "      <td>95</td>\n",
       "      <td>18000</td>\n",
       "      <td>https://habr.com/ru/articles/58889/</td>\n",
       "      <td>3.0</td>\n",
       "      <td></td>\n",
       "      <td>individual</td>\n",
       "      <td>64</td>\n",
       "      <td>positive</td>\n",
       "      <td>75.0</td>\n",
       "    </tr>\n",
       "    <tr>\n",
       "      <th>4</th>\n",
       "      <td>ChatterBlocker или Вон из моей головы!</td>\n",
       "      <td>waitekk</td>\n",
       "      <td>2009-05-31 20:54:23+00:00</td>\n",
       "      <td>GTD</td>\n",
       "      <td>chatterblocker, аудио</td>\n",
       "      <td>Как-то привык я к тому, что предметы вокруг ме...</td>\n",
       "      <td>56</td>\n",
       "      <td>5700</td>\n",
       "      <td>https://habr.com/ru/articles/60989/</td>\n",
       "      <td>1.0</td>\n",
       "      <td>http://www.picamatic.com/show/2009/06/01/01/01...</td>\n",
       "      <td>individual</td>\n",
       "      <td>28</td>\n",
       "      <td>positive</td>\n",
       "      <td>33.0</td>\n",
       "    </tr>\n",
       "  </tbody>\n",
       "</table>\n",
       "</div>"
      ],
      "text/plain": [
       "                                         Title     Author  \\\n",
       "0                       Лечение приступов лени    complex   \n",
       "1             Как я работал по два часа в день  Konovalov   \n",
       "2                          Итоги первой недели     Irokez   \n",
       "3  Правильно поставленная задача время бережет     object   \n",
       "4       ChatterBlocker или Вон из моей головы!    waitekk   \n",
       "\n",
       "           Publication_date Hubs  \\\n",
       "0 2009-08-03 14:34:35+00:00  GTD   \n",
       "1 2009-07-30 13:50:03+00:00  GTD   \n",
       "2 2009-05-10 13:43:21+00:00  GTD   \n",
       "3 2009-05-05 00:05:11+00:00  GTD   \n",
       "4 2009-05-31 20:54:23+00:00  GTD   \n",
       "\n",
       "                                                Tags  \\\n",
       "0     лень, учись работать, самомотивация, мотивация   \n",
       "1  тайм-менеджмент, timemanagement, работа, эффек...   \n",
       "2                 тайм-менеджмент, пинарик, ворктрек   \n",
       "3                    постановка задачи, планирование   \n",
       "4                              chatterblocker, аудио   \n",
       "\n",
       "                                             Content  Comments  Views  \\\n",
       "0  Пора лишать девственности свой бложик.\\nТак ка...        67   6800   \n",
       "1  Когда я только перешёл от офисной работы к дом...        99  21000   \n",
       "2  Итак, за прошедшую неделю хабраюзеры попробова...        29   1000   \n",
       "3  Хочу поделиться своими мыслями по оптимизации ...        95  18000   \n",
       "4  Как-то привык я к тому, что предметы вокруг ме...        56   5700   \n",
       "\n",
       "                                   URL  Reading_time  \\\n",
       "0  https://habr.com/ru/articles/66091/           2.0   \n",
       "1  https://habr.com/ru/articles/65783/           3.0   \n",
       "2  https://habr.com/ru/articles/59272/           1.0   \n",
       "3  https://habr.com/ru/articles/58889/           3.0   \n",
       "4  https://habr.com/ru/articles/60989/           1.0   \n",
       "\n",
       "                                        Images_links Individ/Company  Rating  \\\n",
       "0                                                         individual       4   \n",
       "1                                                         individual     193   \n",
       "2  https://habrastorage.org/r/w1560/getpro/megamo...      individual      15   \n",
       "3                                                         individual      64   \n",
       "4  http://www.picamatic.com/show/2009/06/01/01/01...      individual      28   \n",
       "\n",
       "  Positive/Negative  Bookmarks_cnt  \n",
       "0          positive           25.0  \n",
       "1          positive          114.0  \n",
       "2          positive            5.0  \n",
       "3          positive           75.0  \n",
       "4          positive           33.0  "
      ]
     },
     "execution_count": 3,
     "metadata": {},
     "output_type": "execute_result"
    }
   ],
   "source": [
    "df.head()"
   ]
  },
  {
   "cell_type": "code",
   "execution_count": 4,
   "metadata": {},
   "outputs": [
    {
     "data": {
      "text/html": [
       "<div>\n",
       "<style scoped>\n",
       "    .dataframe tbody tr th:only-of-type {\n",
       "        vertical-align: middle;\n",
       "    }\n",
       "\n",
       "    .dataframe tbody tr th {\n",
       "        vertical-align: top;\n",
       "    }\n",
       "\n",
       "    .dataframe thead th {\n",
       "        text-align: right;\n",
       "    }\n",
       "</style>\n",
       "<table border=\"1\" class=\"dataframe\">\n",
       "  <thead>\n",
       "    <tr style=\"text-align: right;\">\n",
       "      <th></th>\n",
       "      <th>Comments</th>\n",
       "      <th>Views</th>\n",
       "      <th>Reading_time</th>\n",
       "      <th>Rating</th>\n",
       "      <th>Bookmarks_cnt</th>\n",
       "    </tr>\n",
       "  </thead>\n",
       "  <tbody>\n",
       "    <tr>\n",
       "      <th>count</th>\n",
       "      <td>285499.000000</td>\n",
       "      <td>285499.000000</td>\n",
       "      <td>284898.000000</td>\n",
       "      <td>285499.000000</td>\n",
       "      <td>285498.000000</td>\n",
       "    </tr>\n",
       "    <tr>\n",
       "      <th>mean</th>\n",
       "      <td>34.079279</td>\n",
       "      <td>20203.027156</td>\n",
       "      <td>5.480151</td>\n",
       "      <td>25.290061</td>\n",
       "      <td>58.557584</td>\n",
       "    </tr>\n",
       "    <tr>\n",
       "      <th>std</th>\n",
       "      <td>68.819365</td>\n",
       "      <td>42695.157992</td>\n",
       "      <td>5.431038</td>\n",
       "      <td>59.304253</td>\n",
       "      <td>118.763570</td>\n",
       "    </tr>\n",
       "    <tr>\n",
       "      <th>min</th>\n",
       "      <td>0.000000</td>\n",
       "      <td>-1.000000</td>\n",
       "      <td>1.000000</td>\n",
       "      <td>0.000000</td>\n",
       "      <td>0.000000</td>\n",
       "    </tr>\n",
       "    <tr>\n",
       "      <th>25%</th>\n",
       "      <td>4.000000</td>\n",
       "      <td>2600.000000</td>\n",
       "      <td>2.000000</td>\n",
       "      <td>6.000000</td>\n",
       "      <td>9.000000</td>\n",
       "    </tr>\n",
       "    <tr>\n",
       "      <th>50%</th>\n",
       "      <td>13.000000</td>\n",
       "      <td>8000.000000</td>\n",
       "      <td>4.000000</td>\n",
       "      <td>14.000000</td>\n",
       "      <td>26.000000</td>\n",
       "    </tr>\n",
       "    <tr>\n",
       "      <th>75%</th>\n",
       "      <td>36.000000</td>\n",
       "      <td>20000.000000</td>\n",
       "      <td>7.000000</td>\n",
       "      <td>29.000000</td>\n",
       "      <td>63.000000</td>\n",
       "    </tr>\n",
       "    <tr>\n",
       "      <th>max</th>\n",
       "      <td>2916.000000</td>\n",
       "      <td>998000.000000</td>\n",
       "      <td>127.000000</td>\n",
       "      <td>2879.000000</td>\n",
       "      <td>9278.000000</td>\n",
       "    </tr>\n",
       "  </tbody>\n",
       "</table>\n",
       "</div>"
      ],
      "text/plain": [
       "            Comments          Views   Reading_time         Rating  \\\n",
       "count  285499.000000  285499.000000  284898.000000  285499.000000   \n",
       "mean       34.079279   20203.027156       5.480151      25.290061   \n",
       "std        68.819365   42695.157992       5.431038      59.304253   \n",
       "min         0.000000      -1.000000       1.000000       0.000000   \n",
       "25%         4.000000    2600.000000       2.000000       6.000000   \n",
       "50%        13.000000    8000.000000       4.000000      14.000000   \n",
       "75%        36.000000   20000.000000       7.000000      29.000000   \n",
       "max      2916.000000  998000.000000     127.000000    2879.000000   \n",
       "\n",
       "       Bookmarks_cnt  \n",
       "count  285498.000000  \n",
       "mean       58.557584  \n",
       "std       118.763570  \n",
       "min         0.000000  \n",
       "25%         9.000000  \n",
       "50%        26.000000  \n",
       "75%        63.000000  \n",
       "max      9278.000000  "
      ]
     },
     "execution_count": 4,
     "metadata": {},
     "output_type": "execute_result"
    }
   ],
   "source": [
    "df.describe()"
   ]
  },
  {
   "cell_type": "code",
   "execution_count": 5,
   "metadata": {},
   "outputs": [
    {
     "data": {
      "text/html": [
       "<div>\n",
       "<style scoped>\n",
       "    .dataframe tbody tr th:only-of-type {\n",
       "        vertical-align: middle;\n",
       "    }\n",
       "\n",
       "    .dataframe tbody tr th {\n",
       "        vertical-align: top;\n",
       "    }\n",
       "\n",
       "    .dataframe thead th {\n",
       "        text-align: right;\n",
       "    }\n",
       "</style>\n",
       "<table border=\"1\" class=\"dataframe\">\n",
       "  <thead>\n",
       "    <tr style=\"text-align: right;\">\n",
       "      <th></th>\n",
       "      <th>Title</th>\n",
       "      <th>Author</th>\n",
       "      <th>Hubs</th>\n",
       "      <th>Tags</th>\n",
       "      <th>Content</th>\n",
       "      <th>URL</th>\n",
       "      <th>Images_links</th>\n",
       "      <th>Individ/Company</th>\n",
       "      <th>Positive/Negative</th>\n",
       "    </tr>\n",
       "  </thead>\n",
       "  <tbody>\n",
       "    <tr>\n",
       "      <th>count</th>\n",
       "      <td>285498</td>\n",
       "      <td>285384</td>\n",
       "      <td>285499</td>\n",
       "      <td>285499</td>\n",
       "      <td>285498</td>\n",
       "      <td>285499</td>\n",
       "      <td>285499</td>\n",
       "      <td>285499</td>\n",
       "      <td>285499</td>\n",
       "    </tr>\n",
       "    <tr>\n",
       "      <th>unique</th>\n",
       "      <td>284094</td>\n",
       "      <td>53047</td>\n",
       "      <td>91881</td>\n",
       "      <td>266381</td>\n",
       "      <td>284545</td>\n",
       "      <td>285499</td>\n",
       "      <td>217675</td>\n",
       "      <td>2</td>\n",
       "      <td>2</td>\n",
       "    </tr>\n",
       "    <tr>\n",
       "      <th>top</th>\n",
       "      <td>ТОП-3 ИБ-событий недели по версии Jet CSIRT</td>\n",
       "      <td>alizar</td>\n",
       "      <td>Чулан</td>\n",
       "      <td>книги</td>\n",
       "      <td></td>\n",
       "      <td>https://habr.com/ru/articles/66091/</td>\n",
       "      <td></td>\n",
       "      <td>individual</td>\n",
       "      <td>positive</td>\n",
       "    </tr>\n",
       "    <tr>\n",
       "      <th>freq</th>\n",
       "      <td>92</td>\n",
       "      <td>7704</td>\n",
       "      <td>26963</td>\n",
       "      <td>262</td>\n",
       "      <td>575</td>\n",
       "      <td>1</td>\n",
       "      <td>65694</td>\n",
       "      <td>198217</td>\n",
       "      <td>267931</td>\n",
       "    </tr>\n",
       "  </tbody>\n",
       "</table>\n",
       "</div>"
      ],
      "text/plain": [
       "                                              Title  Author    Hubs    Tags  \\\n",
       "count                                        285498  285384  285499  285499   \n",
       "unique                                       284094   53047   91881  266381   \n",
       "top     ТОП-3 ИБ-событий недели по версии Jet CSIRT  alizar   Чулан   книги   \n",
       "freq                                             92    7704   26963     262   \n",
       "\n",
       "       Content                                  URL Images_links  \\\n",
       "count   285498                               285499       285499   \n",
       "unique  284545                               285499       217675   \n",
       "top             https://habr.com/ru/articles/66091/                \n",
       "freq       575                                    1        65694   \n",
       "\n",
       "       Individ/Company Positive/Negative  \n",
       "count           285499            285499  \n",
       "unique               2                 2  \n",
       "top         individual          positive  \n",
       "freq            198217            267931  "
      ]
     },
     "execution_count": 5,
     "metadata": {},
     "output_type": "execute_result"
    }
   ],
   "source": [
    "df.describe(include = object)"
   ]
  },
  {
   "cell_type": "markdown",
   "metadata": {},
   "source": [
    "Колонки: TODO: добавить описание\n",
    "\n",
    "Title - Заголовок Статьи\n",
    "Author - Автор\n",
    "Publication_date - Дата публикации\n",
    "Hubs - Хабы\n",
    "Tags - Тэги, присвоенные статье\n",
    "Content Comments - \n",
    "Views \n",
    "URL \n",
    "Reading_time \n",
    "Images_links \n",
    "Individ/Company \n",
    "Rating \n",
    "Positive/Negative - вот это непонятно (на основе чего positive_negative делалось)?\n",
    "Bookmarks_cnt - вот это тоже"
   ]
  },
  {
   "cell_type": "markdown",
   "metadata": {},
   "source": [
    "Посмотрим на пропуски в датасете:"
   ]
  },
  {
   "cell_type": "code",
   "execution_count": 6,
   "metadata": {},
   "outputs": [
    {
     "data": {
      "text/plain": [
       "Title                  1\n",
       "Author               115\n",
       "Publication_date       1\n",
       "Hubs                   0\n",
       "Tags                   0\n",
       "Content                1\n",
       "Comments               0\n",
       "Views                  0\n",
       "URL                    0\n",
       "Reading_time         601\n",
       "Images_links           0\n",
       "Individ/Company        0\n",
       "Rating                 0\n",
       "Positive/Negative      0\n",
       "Bookmarks_cnt          1\n",
       "dtype: int64"
      ]
     },
     "execution_count": 6,
     "metadata": {},
     "output_type": "execute_result"
    }
   ],
   "source": [
    "df.isna().sum()"
   ]
  },
  {
   "cell_type": "markdown",
   "metadata": {},
   "source": [
    "Мы не будем анализировать статьи, в которых нет текста, так что этот один пропуск сразу убираем."
   ]
  },
  {
   "cell_type": "code",
   "execution_count": 7,
   "metadata": {},
   "outputs": [],
   "source": [
    "df = df[~df[\"Content\"].isna()].reset_index(drop=True)"
   ]
  },
  {
   "cell_type": "markdown",
   "metadata": {},
   "source": [
    "# Анализ длины текстов"
   ]
  },
  {
   "cell_type": "code",
   "execution_count": null,
   "metadata": {},
   "outputs": [],
   "source": [
    "import matplotlib.pyplot as plt\n",
    "import seaborn as sns\n",
    "import pandas as pd\n",
    "import re"
   ]
  },
  {
   "cell_type": "code",
   "execution_count": 9,
   "metadata": {},
   "outputs": [],
   "source": [
    "df['content_length_chars'] = df['Content'].apply(lambda x: len(x))\n",
    "df['content_length_words'] = df['Content'].apply(lambda x: len(x.split()))"
   ]
  },
  {
   "cell_type": "markdown",
   "metadata": {},
   "source": [
    "Можем теперь посмотреть на распределение длин текстов в символах и в словах:"
   ]
  },
  {
   "cell_type": "code",
   "execution_count": 10,
   "metadata": {},
   "outputs": [
    {
     "data": {
      "text/html": [
       "<div>\n",
       "<style scoped>\n",
       "    .dataframe tbody tr th:only-of-type {\n",
       "        vertical-align: middle;\n",
       "    }\n",
       "\n",
       "    .dataframe tbody tr th {\n",
       "        vertical-align: top;\n",
       "    }\n",
       "\n",
       "    .dataframe thead th {\n",
       "        text-align: right;\n",
       "    }\n",
       "</style>\n",
       "<table border=\"1\" class=\"dataframe\">\n",
       "  <thead>\n",
       "    <tr style=\"text-align: right;\">\n",
       "      <th></th>\n",
       "      <th>content_length_chars</th>\n",
       "      <th>content_length_words</th>\n",
       "    </tr>\n",
       "  </thead>\n",
       "  <tbody>\n",
       "    <tr>\n",
       "      <th>count</th>\n",
       "      <td>285498.000000</td>\n",
       "      <td>285498.000000</td>\n",
       "    </tr>\n",
       "    <tr>\n",
       "      <th>mean</th>\n",
       "      <td>8628.508333</td>\n",
       "      <td>1170.730292</td>\n",
       "    </tr>\n",
       "    <tr>\n",
       "      <th>std</th>\n",
       "      <td>9771.465872</td>\n",
       "      <td>1295.293040</td>\n",
       "    </tr>\n",
       "    <tr>\n",
       "      <th>min</th>\n",
       "      <td>0.000000</td>\n",
       "      <td>0.000000</td>\n",
       "    </tr>\n",
       "    <tr>\n",
       "      <th>25%</th>\n",
       "      <td>2424.000000</td>\n",
       "      <td>338.000000</td>\n",
       "    </tr>\n",
       "    <tr>\n",
       "      <th>50%</th>\n",
       "      <td>6245.000000</td>\n",
       "      <td>857.000000</td>\n",
       "    </tr>\n",
       "    <tr>\n",
       "      <th>75%</th>\n",
       "      <td>11600.000000</td>\n",
       "      <td>1578.000000</td>\n",
       "    </tr>\n",
       "    <tr>\n",
       "      <th>max</th>\n",
       "      <td>773262.000000</td>\n",
       "      <td>115648.000000</td>\n",
       "    </tr>\n",
       "  </tbody>\n",
       "</table>\n",
       "</div>"
      ],
      "text/plain": [
       "       content_length_chars  content_length_words\n",
       "count         285498.000000         285498.000000\n",
       "mean            8628.508333           1170.730292\n",
       "std             9771.465872           1295.293040\n",
       "min                0.000000              0.000000\n",
       "25%             2424.000000            338.000000\n",
       "50%             6245.000000            857.000000\n",
       "75%            11600.000000           1578.000000\n",
       "max           773262.000000         115648.000000"
      ]
     },
     "execution_count": 10,
     "metadata": {},
     "output_type": "execute_result"
    }
   ],
   "source": [
    "df[['content_length_chars', 'content_length_words']].describe()"
   ]
  },
  {
   "cell_type": "code",
   "execution_count": null,
   "metadata": {},
   "outputs": [],
   "source": [
    "sns.histplot(df['content_length_words'], bins=30)\n",
    "plt.title('Распределение длины текстов в словах')\n",
    "plt.xlabel('Количество слов')\n",
    "plt.ylabel('Частота')\n",
    "plt.yscale(\"log\")\n",
    "plt.show()"
   ]
  },
  {
   "cell_type": "code",
   "execution_count": null,
   "metadata": {},
   "outputs": [
    {
     "data": {
      "image/png": "[encoded data removed]",
      "text/plain": [
       "<Figure size 640x480 with 1 Axes>"
      ]
     },
     "metadata": {},
     "output_type": "display_data"
    }
   ],
   "source": [
    "sns.histplot(df['content_length_chars'], bins=30)\n",
    "plt.title('Распределение длины текстов в символах')\n",
    "plt.xlabel('Количество слов')\n",
    "plt.ylabel('Частота')\n",
    "plt.yscale(\"log\")\n",
    "plt.show()"
   ]
  },
  {
   "cell_type": "code",
   "execution_count": null,
   "metadata": {},
   "outputs": [],
   "source": [
    "def clean_text(text):\n",
    "    # Замена переносов строк на пробелы \n",
    "    text = text.replace('\\n', ' ')\n",
    "    # Удаление HTML-тегов\n",
    "    text = re.sub(r'<.*?>', '', text)\n",
    "    # Удаление специальных символов, пунктуации\n",
    "    text = re.sub(r'[^\\w\\s]', '', text)\n",
    "    # Приведение к нижнему регистру\n",
    "    text = text.lower()\n",
    "    # Удаление цифр\n",
    "    text = re.sub(r'\\d+', '', text)\n",
    "    return text\n",
    "\n",
    "\n",
    "df[\"clean_text\"] = df[\"Content\"].apply(clean_text)\n"
   ]
  },
  {
   "cell_type": "markdown",
   "metadata": {},
   "source": [
    "# Анализ даты публикации"
   ]
  },
  {
   "cell_type": "code",
   "execution_count": null,
   "metadata": {},
   "outputs": [
    {
     "data": {
      "image/png": "[encoded data removed]",
      "text/plain": [
       "<Figure size 640x480 with 1 Axes>"
      ]
     },
     "metadata": {},
     "output_type": "display_data"
    }
   ],
   "source": [
    "plt.hist(df['Publication_date'], bins=20)  \n",
    "plt.xlabel('Год')\n",
    "plt.ylabel('Количество статей')\n",
    "plt.title('Статьи по дате публикации')\n",
    "plt.show()"
   ]
  },
  {
   "cell_type": "markdown",
   "metadata": {},
   "source": [
    "Мы видим скорее восходящий тред на публикацию статей"
   ]
  },
  {
   "cell_type": "code",
   "execution_count": null,
   "metadata": {},
   "outputs": [
    {
     "data": {
      "image/png": "[encoded data removed]",
      "text/plain": [
       "<Figure size 640x480 with 1 Axes>"
      ]
     },
     "metadata": {},
     "output_type": "display_data"
    }
   ],
   "source": [
    "plt.hist(df['Publication_date'].dt.hour, bins=24)\n",
    "plt.title('Распределение статей по часу публикации')\n",
    "plt.ylabel('Количество опубликованных статей')\n",
    "plt.xlabel('Час')\n",
    "plt.show()"
   ]
  },
  {
   "cell_type": "markdown",
   "metadata": {},
   "source": [
    "Видим, что чаще всего статьи публикуют в середине дня"
   ]
  },
  {
   "cell_type": "markdown",
   "metadata": {},
   "source": [
    "# Анализ заголовков"
   ]
  },
  {
   "cell_type": "code",
   "execution_count": null,
   "metadata": {},
   "outputs": [],
   "source": [
    "df['title_length_chars'] = df['Title'].apply(lambda x: len(x))\n",
    "df['title_length_words'] = df['Title'].apply(lambda x: len(x.split()))"
   ]
  },
  {
   "cell_type": "code",
   "execution_count": null,
   "metadata": {},
   "outputs": [
    {
     "data": {
      "text/html": [
       "<div>\n",
       "<style scoped>\n",
       "    .dataframe tbody tr th:only-of-type {\n",
       "        vertical-align: middle;\n",
       "    }\n",
       "\n",
       "    .dataframe tbody tr th {\n",
       "        vertical-align: top;\n",
       "    }\n",
       "\n",
       "    .dataframe thead th {\n",
       "        text-align: right;\n",
       "    }\n",
       "</style>\n",
       "<table border=\"1\" class=\"dataframe\">\n",
       "  <thead>\n",
       "    <tr style=\"text-align: right;\">\n",
       "      <th></th>\n",
       "      <th>title_length_chars</th>\n",
       "      <th>title_length_words</th>\n",
       "    </tr>\n",
       "  </thead>\n",
       "  <tbody>\n",
       "    <tr>\n",
       "      <th>count</th>\n",
       "      <td>285498.000000</td>\n",
       "      <td>285498.000000</td>\n",
       "    </tr>\n",
       "    <tr>\n",
       "      <th>mean</th>\n",
       "      <td>52.283322</td>\n",
       "      <td>7.391544</td>\n",
       "    </tr>\n",
       "    <tr>\n",
       "      <th>std</th>\n",
       "      <td>23.282337</td>\n",
       "      <td>3.344426</td>\n",
       "    </tr>\n",
       "    <tr>\n",
       "      <th>min</th>\n",
       "      <td>0.000000</td>\n",
       "      <td>0.000000</td>\n",
       "    </tr>\n",
       "    <tr>\n",
       "      <th>25%</th>\n",
       "      <td>35.000000</td>\n",
       "      <td>5.000000</td>\n",
       "    </tr>\n",
       "    <tr>\n",
       "      <th>50%</th>\n",
       "      <td>49.000000</td>\n",
       "      <td>7.000000</td>\n",
       "    </tr>\n",
       "    <tr>\n",
       "      <th>75%</th>\n",
       "      <td>67.000000</td>\n",
       "      <td>9.000000</td>\n",
       "    </tr>\n",
       "    <tr>\n",
       "      <th>max</th>\n",
       "      <td>219.000000</td>\n",
       "      <td>39.000000</td>\n",
       "    </tr>\n",
       "  </tbody>\n",
       "</table>\n",
       "</div>"
      ],
      "text/plain": [
       "       title_length_chars  title_length_words\n",
       "count       285498.000000       285498.000000\n",
       "mean            52.283322            7.391544\n",
       "std             23.282337            3.344426\n",
       "min              0.000000            0.000000\n",
       "25%             35.000000            5.000000\n",
       "50%             49.000000            7.000000\n",
       "75%             67.000000            9.000000\n",
       "max            219.000000           39.000000"
      ]
     },
     "execution_count": 21,
     "metadata": {},
     "output_type": "execute_result"
    }
   ],
   "source": [
    "df[['title_length_chars', 'title_length_words']].describe()"
   ]
  },
  {
   "cell_type": "markdown",
   "metadata": {},
   "source": [
    "Видим статистике по длине заголовков в словах и в символах"
   ]
  },
  {
   "cell_type": "markdown",
   "metadata": {},
   "source": [
    "# Распределение классов и меток"
   ]
  },
  {
   "cell_type": "code",
   "execution_count": 14,
   "metadata": {},
   "outputs": [
    {
     "data": {
      "text/html": [
       "<div>\n",
       "<style scoped>\n",
       "    .dataframe tbody tr th:only-of-type {\n",
       "        vertical-align: middle;\n",
       "    }\n",
       "\n",
       "    .dataframe tbody tr th {\n",
       "        vertical-align: top;\n",
       "    }\n",
       "\n",
       "    .dataframe thead th {\n",
       "        text-align: right;\n",
       "    }\n",
       "</style>\n",
       "<table border=\"1\" class=\"dataframe\">\n",
       "  <thead>\n",
       "    <tr style=\"text-align: right;\">\n",
       "      <th></th>\n",
       "      <th>Title</th>\n",
       "      <th>Author</th>\n",
       "      <th>Publication_date</th>\n",
       "      <th>Hubs</th>\n",
       "      <th>Tags</th>\n",
       "      <th>Content</th>\n",
       "      <th>Comments</th>\n",
       "      <th>Views</th>\n",
       "      <th>URL</th>\n",
       "      <th>Reading_time</th>\n",
       "      <th>Images_links</th>\n",
       "      <th>Individ/Company</th>\n",
       "      <th>Rating</th>\n",
       "      <th>Positive/Negative</th>\n",
       "      <th>Bookmarks_cnt</th>\n",
       "      <th>content_length_chars</th>\n",
       "      <th>content_length_words</th>\n",
       "    </tr>\n",
       "  </thead>\n",
       "  <tbody>\n",
       "    <tr>\n",
       "      <th>0</th>\n",
       "      <td>Лечение приступов лени</td>\n",
       "      <td>complex</td>\n",
       "      <td>2009-08-03 14:34:35+00:00</td>\n",
       "      <td>GTD</td>\n",
       "      <td>лень, учись работать, самомотивация, мотивация</td>\n",
       "      <td>Пора лишать девственности свой бложик.\\nТак ка...</td>\n",
       "      <td>67</td>\n",
       "      <td>6800</td>\n",
       "      <td>https://habr.com/ru/articles/66091/</td>\n",
       "      <td>2.0</td>\n",
       "      <td></td>\n",
       "      <td>individual</td>\n",
       "      <td>4</td>\n",
       "      <td>positive</td>\n",
       "      <td>25.0</td>\n",
       "      <td>2108</td>\n",
       "      <td>327</td>\n",
       "    </tr>\n",
       "    <tr>\n",
       "      <th>1</th>\n",
       "      <td>Как я работал по два часа в день</td>\n",
       "      <td>Konovalov</td>\n",
       "      <td>2009-07-30 13:50:03+00:00</td>\n",
       "      <td>GTD</td>\n",
       "      <td>тайм-менеджмент, timemanagement, работа, эффек...</td>\n",
       "      <td>Когда я только перешёл от офисной работы к дом...</td>\n",
       "      <td>99</td>\n",
       "      <td>21000</td>\n",
       "      <td>https://habr.com/ru/articles/65783/</td>\n",
       "      <td>3.0</td>\n",
       "      <td></td>\n",
       "      <td>individual</td>\n",
       "      <td>193</td>\n",
       "      <td>positive</td>\n",
       "      <td>114.0</td>\n",
       "      <td>4059</td>\n",
       "      <td>635</td>\n",
       "    </tr>\n",
       "    <tr>\n",
       "      <th>2</th>\n",
       "      <td>Итоги первой недели</td>\n",
       "      <td>Irokez</td>\n",
       "      <td>2009-05-10 13:43:21+00:00</td>\n",
       "      <td>GTD</td>\n",
       "      <td>тайм-менеджмент, пинарик, ворктрек</td>\n",
       "      <td>Итак, за прошедшую неделю хабраюзеры попробова...</td>\n",
       "      <td>29</td>\n",
       "      <td>1000</td>\n",
       "      <td>https://habr.com/ru/articles/59272/</td>\n",
       "      <td>1.0</td>\n",
       "      <td>https://habrastorage.org/r/w1560/getpro/megamo...</td>\n",
       "      <td>individual</td>\n",
       "      <td>15</td>\n",
       "      <td>positive</td>\n",
       "      <td>5.0</td>\n",
       "      <td>1593</td>\n",
       "      <td>217</td>\n",
       "    </tr>\n",
       "    <tr>\n",
       "      <th>3</th>\n",
       "      <td>Правильно поставленная задача время бережет</td>\n",
       "      <td>object</td>\n",
       "      <td>2009-05-05 00:05:11+00:00</td>\n",
       "      <td>GTD</td>\n",
       "      <td>постановка задачи, планирование</td>\n",
       "      <td>Хочу поделиться своими мыслями по оптимизации ...</td>\n",
       "      <td>95</td>\n",
       "      <td>18000</td>\n",
       "      <td>https://habr.com/ru/articles/58889/</td>\n",
       "      <td>3.0</td>\n",
       "      <td></td>\n",
       "      <td>individual</td>\n",
       "      <td>64</td>\n",
       "      <td>positive</td>\n",
       "      <td>75.0</td>\n",
       "      <td>4803</td>\n",
       "      <td>715</td>\n",
       "    </tr>\n",
       "    <tr>\n",
       "      <th>4</th>\n",
       "      <td>ChatterBlocker или Вон из моей головы!</td>\n",
       "      <td>waitekk</td>\n",
       "      <td>2009-05-31 20:54:23+00:00</td>\n",
       "      <td>GTD</td>\n",
       "      <td>chatterblocker, аудио</td>\n",
       "      <td>Как-то привык я к тому, что предметы вокруг ме...</td>\n",
       "      <td>56</td>\n",
       "      <td>5700</td>\n",
       "      <td>https://habr.com/ru/articles/60989/</td>\n",
       "      <td>1.0</td>\n",
       "      <td>http://www.picamatic.com/show/2009/06/01/01/01...</td>\n",
       "      <td>individual</td>\n",
       "      <td>28</td>\n",
       "      <td>positive</td>\n",
       "      <td>33.0</td>\n",
       "      <td>1681</td>\n",
       "      <td>262</td>\n",
       "    </tr>\n",
       "  </tbody>\n",
       "</table>\n",
       "</div>"
      ],
      "text/plain": [
       "                                         Title     Author  \\\n",
       "0                       Лечение приступов лени    complex   \n",
       "1             Как я работал по два часа в день  Konovalov   \n",
       "2                          Итоги первой недели     Irokez   \n",
       "3  Правильно поставленная задача время бережет     object   \n",
       "4       ChatterBlocker или Вон из моей головы!    waitekk   \n",
       "\n",
       "           Publication_date Hubs  \\\n",
       "0 2009-08-03 14:34:35+00:00  GTD   \n",
       "1 2009-07-30 13:50:03+00:00  GTD   \n",
       "2 2009-05-10 13:43:21+00:00  GTD   \n",
       "3 2009-05-05 00:05:11+00:00  GTD   \n",
       "4 2009-05-31 20:54:23+00:00  GTD   \n",
       "\n",
       "                                                Tags  \\\n",
       "0     лень, учись работать, самомотивация, мотивация   \n",
       "1  тайм-менеджмент, timemanagement, работа, эффек...   \n",
       "2                 тайм-менеджмент, пинарик, ворктрек   \n",
       "3                    постановка задачи, планирование   \n",
       "4                              chatterblocker, аудио   \n",
       "\n",
       "                                             Content  Comments  Views  \\\n",
       "0  Пора лишать девственности свой бложик.\\nТак ка...        67   6800   \n",
       "1  Когда я только перешёл от офисной работы к дом...        99  21000   \n",
       "2  Итак, за прошедшую неделю хабраюзеры попробова...        29   1000   \n",
       "3  Хочу поделиться своими мыслями по оптимизации ...        95  18000   \n",
       "4  Как-то привык я к тому, что предметы вокруг ме...        56   5700   \n",
       "\n",
       "                                   URL  Reading_time  \\\n",
       "0  https://habr.com/ru/articles/66091/           2.0   \n",
       "1  https://habr.com/ru/articles/65783/           3.0   \n",
       "2  https://habr.com/ru/articles/59272/           1.0   \n",
       "3  https://habr.com/ru/articles/58889/           3.0   \n",
       "4  https://habr.com/ru/articles/60989/           1.0   \n",
       "\n",
       "                                        Images_links Individ/Company  Rating  \\\n",
       "0                                                         individual       4   \n",
       "1                                                         individual     193   \n",
       "2  https://habrastorage.org/r/w1560/getpro/megamo...      individual      15   \n",
       "3                                                         individual      64   \n",
       "4  http://www.picamatic.com/show/2009/06/01/01/01...      individual      28   \n",
       "\n",
       "  Positive/Negative  Bookmarks_cnt  content_length_chars  content_length_words  \n",
       "0          positive           25.0                  2108                   327  \n",
       "1          positive          114.0                  4059                   635  \n",
       "2          positive            5.0                  1593                   217  \n",
       "3          positive           75.0                  4803                   715  \n",
       "4          positive           33.0                  1681                   262  "
      ]
     },
     "execution_count": 14,
     "metadata": {},
     "output_type": "execute_result"
    }
   ],
   "source": [
    "df.head()"
   ]
  },
  {
   "cell_type": "code",
   "execution_count": 15,
   "metadata": {},
   "outputs": [],
   "source": [
    "tags_count = df['Tags'].str.split(', ').explode().value_counts()"
   ]
  },
  {
   "cell_type": "code",
   "execution_count": 16,
   "metadata": {},
   "outputs": [
    {
     "data": {
      "text/plain": [
       "Tags\n",
       "javascript           6065\n",
       "python               5863\n",
       "программирование     4826\n",
       "android              4621\n",
       "разработка           4358\n",
       "                     ... \n",
       "Radeon RX 5600 XT       1\n",
       "Ryzen 7 4800U           1\n",
       "Ryzen 7 4800H           1\n",
       "udp streaming           1\n",
       "некопипасть             1\n",
       "Name: count, Length: 238850, dtype: int64"
      ]
     },
     "execution_count": 16,
     "metadata": {},
     "output_type": "execute_result"
    }
   ],
   "source": [
    "tags_count"
   ]
  },
  {
   "cell_type": "code",
   "execution_count": 17,
   "metadata": {},
   "outputs": [
    {
     "data": {
      "text/plain": [
       "238850"
      ]
     },
     "execution_count": 17,
     "metadata": {},
     "output_type": "execute_result"
    }
   ],
   "source": [
    "len(tags_count.index)"
   ]
  },
  {
   "cell_type": "markdown",
   "metadata": {},
   "source": [
    "Всего у нас получилось 238850 уникальных тэга в статьях. Давайте обрежем сначала совсем непопулярные, чтобы легче было анализировать их и это не повлияло на остальные"
   ]
  },
  {
   "cell_type": "code",
   "execution_count": 18,
   "metadata": {},
   "outputs": [
    {
     "data": {
      "text/plain": [
       "Tags\n",
       "javascript          6065\n",
       "python              5863\n",
       "программирование    4826\n",
       "android             4621\n",
       "разработка          4358\n",
       "                    ... \n",
       "Corel                  6\n",
       "typeclasses            6\n",
       "Dolby Atmos            6\n",
       "нумерология            6\n",
       "эрозия                 6\n",
       "Name: count, Length: 28267, dtype: int64"
      ]
     },
     "execution_count": 18,
     "metadata": {},
     "output_type": "execute_result"
    }
   ],
   "source": [
    "tags_count = tags_count[tags_count > 5]\n",
    "tags_count"
   ]
  },
  {
   "cell_type": "markdown",
   "metadata": {},
   "source": [
    "Итак, сделав фильтр на то, чтобы тег встречался хотя бы в 6 статьях мы уже сократили количество почти в 10 раз"
   ]
  },
  {
   "cell_type": "markdown",
   "metadata": {},
   "source": [
    "Давайте лемматизируем теги и попробуем найти похожие, тем самым сократив число анализируемых тегов"
   ]
  },
  {
   "cell_type": "code",
   "execution_count": 19,
   "metadata": {},
   "outputs": [
    {
     "name": "stderr",
     "output_type": "stream",
     "text": [
      "/usr/local/lib/python3.10/site-packages/tqdm/auto.py:21: TqdmWarning: IProgress not found. Please update jupyter and ipywidgets. See https://ipywidgets.readthedocs.io/en/stable/user_install.html\n",
      "  from .autonotebook import tqdm as notebook_tqdm\n"
     ]
    }
   ],
   "source": [
    "import spacy\n",
    "import re\n",
    "import string\n",
    "\n",
    "ru_model = spacy.load('ru_core_news_sm', disable = ['parser','ner'])\n",
    "en_model = spacy.load('en_core_web_sm', disable = ['parser','ner'])\n",
    "\n",
    "ru_pattern = r'[а-яё]+'\n",
    "eng_pattern = r'[a-z]+'\n",
    "\n",
    "def lemmatize_tag(tag: str, ru_lemmatize_model, en_lemmatize_model):\n",
    "    tag = tag.lower()\n",
    "    if re.search(ru_pattern, tag):\n",
    "        return ru_lemmatize_model(tag)[0].lemma_\n",
    "    elif re.search(eng_pattern, tag):\n",
    "        return en_lemmatize_model(tag)[0].lemma_\n",
    "    elif tag.isdigit():\n",
    "        return tag\n",
    "    elif tag.replace(\".\", \"\").isdigit():\n",
    "        return tag\n",
    "    return \"\""
   ]
  },
  {
   "cell_type": "code",
   "execution_count": 20,
   "metadata": {},
   "outputs": [
    {
     "name": "stderr",
     "output_type": "stream",
     "text": [
      "100%|██████████| 28267/28267 [00:44<00:00, 628.38it/s]\n"
     ]
    }
   ],
   "source": [
    "from tqdm import tqdm\n",
    "\n",
    "canon_mapping = {}\n",
    "for tag in tqdm(tags_count.index):\n",
    "    tag = tag.strip()\n",
    "    lemmatized_tag = \" \".join([lemmatize_tag(tag_part, ru_model, en_model) for tag_part in tag.split()])\n",
    "    canon_mapping[tag] = lemmatized_tag"
   ]
  },
  {
   "cell_type": "code",
   "execution_count": 35,
   "metadata": {},
   "outputs": [],
   "source": [
    "canon_tags = df['Tags'].str.split(', ').explode().apply(lambda x: canon_mapping[x] if x in canon_mapping.keys() else x)"
   ]
  },
  {
   "cell_type": "code",
   "execution_count": 57,
   "metadata": {},
   "outputs": [
    {
     "data": {
      "text/plain": [
       "Tags\n",
       "javascript                   7133\n",
       "python                       6594\n",
       "android                      6053\n",
       "google                       5817\n",
       "linux                        5430\n",
       "                             ... \n",
       "голанг                          6\n",
       "север                           6\n",
       "сайт для человек                6\n",
       "суперклей                       6\n",
       "аутентификация без пароль       6\n",
       "Name: count, Length: 22275, dtype: int64"
      ]
     },
     "execution_count": 57,
     "metadata": {},
     "output_type": "execute_result"
    }
   ],
   "source": [
    "canon_tags_counts = canon_tags.value_counts()\n",
    "canon_tags_counts = canon_tags_counts[canon_tags_counts > 5]\n",
    "canon_tags_counts"
   ]
  },
  {
   "cell_type": "code",
   "execution_count": 44,
   "metadata": {},
   "outputs": [
    {
     "name": "stderr",
     "output_type": "stream",
     "text": [
      "248076675it [02:07, 1952691.75it/s]\n"
     ]
    }
   ],
   "source": [
    "from Levenshtein import ratio as levenshtein_distance\n",
    "import itertools\n",
    "\n",
    "\n",
    "\n",
    "def find_max_levenshtein_pairs(text_list):    \n",
    "    max_distance = 0.9\n",
    "    max_pairs = []\n",
    "\n",
    "    for text1, text2 in tqdm(itertools.combinations(text_list, 2)):\n",
    "        dist = levenshtein_distance(text1, text2)\n",
    "        if dist >= max_distance:\n",
    "            max_pairs.append((text1, text2))\n",
    "\n",
    "    return max_pairs\n",
    "\n",
    "max_pairs = find_max_levenshtein_pairs(canon_tags_counts.index)\n"
   ]
  },
  {
   "cell_type": "code",
   "execution_count": 45,
   "metadata": {},
   "outputs": [
    {
     "data": {
      "text/plain": [
       "(1274,\n",
       " [('javascript', 'java script'),\n",
       "  ('javascript', 'javascipt'),\n",
       "  ('javascript', 'javscript'),\n",
       "  ('javascript', 'javascrip'),\n",
       "  ('javascript', 'javacript'),\n",
       "  ('python', 'python3'),\n",
       "  ('python', 'cpython'),\n",
       "  ('python', 'ipython'),\n",
       "  ('python', 'pyhon'),\n",
       "  ('python', 'python2'),\n",
       "  ('android', 'androidx'),\n",
       "  ('android', 'andoid'),\n",
       "  ('google', 'google+'),\n",
       "  ('google', 'igoogle'),\n",
       "  ('программирование', 'програмирование'),\n",
       "  ('программирование', 'програмиирование'),\n",
       "  ('программирование', '1с программирование'),\n",
       "  ('apple', 'applet'),\n",
       "  ('информационный безопасность', 'инфомационная безопасность'),\n",
       "  ('информационный безопасность', 'аудит информационный безопасность'),\n",
       "  ('конференция', 'конференц'),\n",
       "  ('open source', 'opensource'),\n",
       "  ('open source', 'opensorce'),\n",
       "  ('машинный обучение', 'машинный обучениe'),\n",
       "  ('тестирование', 'a тестирование'),\n",
       "  ('тестирование', 'а тестирование'),\n",
       "  ('искусственный интеллект', 'искуственный интеллект'),\n",
       "  ('искусственный интеллект', 'исскуственный интеллект'),\n",
       "  ('искусственный интеллект', 'искусственный интеллект(ai'),\n",
       "  ('искусственный интеллект', 'искусственный интелект'),\n",
       "  ('безопасность', 'безопастность'),\n",
       "  ('devop', 'devoop'),\n",
       "  ('devop', 'devops'),\n",
       "  ('управление проект', 'управление продукт'),\n",
       "  ('iphone', 'phone'),\n",
       "  ('дайджест', 'дайжест'),\n",
       "  ('react', 'reacto'),\n",
       "  ('react', 'preact'),\n",
       "  ('маркетинг', 'e маркетинг'),\n",
       "  ('маркетинг', 'ремаркетинг'),\n",
       "  ('postgresql', 'posgresql'),\n",
       "  ('postgresql', 'postrgresql'),\n",
       "  ('postgresql', 'postresql'),\n",
       "  ('postgresql', 'postgresq'),\n",
       "  ('gamedev', 'game dev'),\n",
       "  ('видео', 'мвидео'),\n",
       "  ('хабрахабр', 'хабрхабр'),\n",
       "  ('machine learn', 'mashine learn'),\n",
       "  ('html5', 'html 5'),\n",
       "  ('ubuntu', 'kubuntu'),\n",
       "  ('ubuntu', 'lubuntu'),\n",
       "  ('ubuntu', 'xubuntu'),\n",
       "  ('node.js', 'nodejs'),\n",
       "  ('будущее', 'будующее'),\n",
       "  ('mysql', 'mysqli'),\n",
       "  ('умный дом', 'умныйдом'),\n",
       "  ('умный дом', 'умный дом z'),\n",
       "  ('jquery', 'query'),\n",
       "  ('робототехника', 'роботехника'),\n",
       "  ('angular', 'angular2'),\n",
       "  ('mail.ru', 'mailru'),\n",
       "  ('хакатон', 'хакатоны'),\n",
       "  ('блокчейн', 'блокчейны'),\n",
       "  ('android development', 'android app development'),\n",
       "  ('event', 'gevent'),\n",
       "  ('сервер', 'север'),\n",
       "  ('проектирование', 'проектирование по'),\n",
       "  ('проектирование', '3d проектирование'),\n",
       "  ('электроника', 'электрика'),\n",
       "  ('виртуализация', 'вирутализация'),\n",
       "  ('микросервисы', 'микросервис'),\n",
       "  ('процессор', 'сопроцессор'),\n",
       "  ('менеджмент', 'менеджемент'),\n",
       "  ('chatgpt', 'chatgpt4'),\n",
       "  ('chatgpt', 'chat gpt'),\n",
       "  ('митап', 'митапы'),\n",
       "  ('unity3d', 'unity 3d'),\n",
       "  ('веб 2.0', 'веб 2.0.'),\n",
       "  ('веб 2.0', 'веб2.0'),\n",
       "  ('raspberry pi', 'raspberrypi'),\n",
       "  ('raspberry pi', 'raspberry pi 3'),\n",
       "  ('raspberry pi', 'rasberry pi'),\n",
       "  ('raspberry pi', 'raspberri pi'),\n",
       "  ('raspberry pi', 'raspberry pi 4'),\n",
       "  ('системный администрирование', 'системный администрирование linux'),\n",
       "  ('cloud', '1cloud'),\n",
       "  ('cloud', 'icloud'),\n",
       "  ('опрос', 'вопрос'),\n",
       "  ('инфраструктура', 'инфрастуктура'),\n",
       "  ('инфраструктура', 'it инфраструктура'),\n",
       "  ('инфраструктура', 'инфраструктура it'),\n",
       "  ('инфраструктура', 'ит инфраструктура'),\n",
       "  ('window phone', 'window phone 7'),\n",
       "  ('window phone', 'window phone 8'),\n",
       "  ('google chrome', 'google home'),\n",
       "  ('chrome', 'chromeo'),\n",
       "  ('ruby on rail', 'rubyonrail'),\n",
       "  ('ruby on rail', 'ruby on rail 3'),\n",
       "  ('ruby on rail', 'ruby on rail 4'),\n",
       "  ('nodejs', 'node js')])"
      ]
     },
     "execution_count": 45,
     "metadata": {},
     "output_type": "execute_result"
    }
   ],
   "source": [
    "len(max_pairs), max_pairs[:100]"
   ]
  },
  {
   "cell_type": "markdown",
   "metadata": {},
   "source": [
    "На данный момент мы видим, что у нас много тегов, которые мы можем объединить с другими тегами по расстоянию Левенштейна. В последствии мы можем объединять пары выбирая максимально подходящего представителя группы"
   ]
  },
  {
   "cell_type": "markdown",
   "metadata": {},
   "source": [
    "---------------------"
   ]
  },
  {
   "cell_type": "code",
   "execution_count": null,
   "metadata": {},
   "outputs": [],
   "source": []
  }
 ],
 "metadata": {
  "kernelspec": {
   "display_name": "Python 3",
   "language": "python",
   "name": "python3"
  },
  "language_info": {
   "codemirror_mode": {
    "name": "ipython",
    "version": 3
   },
   "file_extension": ".py",
   "mimetype": "text/x-python",
   "name": "python",
   "nbconvert_exporter": "python",
   "pygments_lexer": "ipython3",
   "version": "3.10.15"
  },
  "orig_nbformat": 4
 },
 "nbformat": 4,
 "nbformat_minor": 2
}

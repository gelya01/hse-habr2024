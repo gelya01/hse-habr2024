{
  "cells": [
    {
      "cell_type": "markdown",
      "id": "2ccd2693",
      "metadata": {
        "id": "2ccd2693"
      },
      "source": [
        "# Применение моделей глубинного обучения"
      ]
    },
    {
      "cell_type": "markdown",
      "id": "7b417cb5",
      "metadata": {
        "id": "7b417cb5"
      },
      "source": [
        "## Импорты, загрузка данных"
      ]
    },
    {
      "cell_type": "code",
      "execution_count": 1,
      "id": "857f5e56",
      "metadata": {
        "id": "857f5e56"
      },
      "outputs": [
        {
          "name": "stderr",
          "output_type": "stream",
          "text": [
            "/home/ubuntu/project_hubs/.venv/lib/python3.10/site-packages/tqdm/auto.py:21: TqdmWarning: IProgress not found. Please update jupyter and ipywidgets. See https://ipywidgets.readthedocs.io/en/stable/user_install.html\n",
            "  from .autonotebook import tqdm as notebook_tqdm\n"
          ]
        }
      ],
      "source": [
        "# Импорты\n",
        "import pandas as pd\n",
        "from collections import Counter\n",
        "from sklearn.metrics import f1_score, precision_score, recall_score, hamming_loss\n",
        "import gdown\n",
        "import numpy as np\n",
        "import torch\n",
        "import torch.nn as nn\n",
        "from sklearn.decomposition import TruncatedSVD\n",
        "from sklearn.pipeline import Pipeline\n",
        "from torch.utils.data import TensorDataset, DataLoader\n",
        "from sklearn.feature_extraction.text import TfidfVectorizer\n",
        "from sklearn.preprocessing import StandardScaler\n",
        "from sklearn.model_selection import train_test_split\n",
        "from torch.utils.data import Dataset, DataLoader\n",
        "from transformers import BertTokenizer, BertModel, get_linear_schedule_with_warmup\n",
        "from torch.optim import AdamW\n",
        "\n",
        "import ml_utils as mu"
      ]
    },
    {
      "cell_type": "markdown",
      "id": "4c024178",
      "metadata": {
        "id": "4c024178"
      },
      "source": [
        "### Загрузка данных"
      ]
    },
    {
      "cell_type": "code",
      "execution_count": 2,
      "id": "eaaa323e",
      "metadata": {
        "colab": {
          "base_uri": "https://localhost:8080/",
          "height": 35
        },
        "id": "eaaa323e",
        "outputId": "c29aa58b-8762-4202-f36b-858ae354d16e"
      },
      "outputs": [
        {
          "data": {
            "text/plain": [
              "'df_final_50.parquet'"
            ]
          },
          "execution_count": 2,
          "metadata": {},
          "output_type": "execute_result"
        }
      ],
      "source": [
        "# Сэмпл датасета (10%) для подбора оптимальной модели\n",
        "sample_10_id = '17IVd8t37FZ-WULTMCnsUv8vbd6PuzeKx'\n",
        "gdown.download(f\"https://drive.google.com/uc?id={sample_10_id}\", quiet=True)\n",
        "\n",
        "# 50% датасета (которые поместились в 32гб оперативки)\n",
        "df_50_id = '12mIlvk7Fb7yfdvoml7dmE-8TuGLh4c-V'\n",
        "gdown.download(f\"https://drive.google.com/uc?id={df_50_id}\", quiet=True)\n",
        "\n",
        "# Если понадобится - полный датасет (400к статей)\n",
        "# df_100_id = '1YvQ2kxQqq1JJBfzTqygftj_RMOnV0ZTd'\n",
        "# gdown.download(f\"https://drive.google.com/uc?id={df_100_id}\", quiet=False)"
      ]
    },
    {
      "cell_type": "code",
      "execution_count": 2,
      "id": "ac9e64ba",
      "metadata": {
        "id": "ac9e64ba"
      },
      "outputs": [],
      "source": [
        "df = pd.read_parquet(\"df_final_50.parquet\")"
      ]
    },
    {
      "cell_type": "code",
      "execution_count": 3,
      "id": "a0091c5d",
      "metadata": {
        "colab": {
          "base_uri": "https://localhost:8080/",
          "height": 288
        },
        "id": "a0091c5d",
        "outputId": "7dbf78a0-4f36-48eb-c01b-9117fd7185f0"
      },
      "outputs": [
        {
          "data": {
            "text/html": [
              "<div>\n",
              "<style scoped>\n",
              "    .dataframe tbody tr th:only-of-type {\n",
              "        vertical-align: middle;\n",
              "    }\n",
              "\n",
              "    .dataframe tbody tr th {\n",
              "        vertical-align: top;\n",
              "    }\n",
              "\n",
              "    .dataframe thead th {\n",
              "        text-align: right;\n",
              "    }\n",
              "</style>\n",
              "<table border=\"1\" class=\"dataframe\">\n",
              "  <thead>\n",
              "    <tr style=\"text-align: right;\">\n",
              "      <th></th>\n",
              "      <th>author</th>\n",
              "      <th>publication_date</th>\n",
              "      <th>hubs</th>\n",
              "      <th>comments</th>\n",
              "      <th>views</th>\n",
              "      <th>url</th>\n",
              "      <th>reading_time</th>\n",
              "      <th>individ/company</th>\n",
              "      <th>bookmarks_cnt</th>\n",
              "      <th>text_length</th>\n",
              "      <th>rating_new</th>\n",
              "      <th>text_pos_tags</th>\n",
              "      <th>tags_tokens</th>\n",
              "      <th>title_tokens</th>\n",
              "      <th>text_tokens</th>\n",
              "    </tr>\n",
              "  </thead>\n",
              "  <tbody>\n",
              "    <tr>\n",
              "      <th>0</th>\n",
              "      <td>LivingDead</td>\n",
              "      <td>2011-09-13 14:45:04+00:00</td>\n",
              "      <td>Разработка игр</td>\n",
              "      <td>16</td>\n",
              "      <td>34000</td>\n",
              "      <td>https://habr.com/ru/articles/128368/</td>\n",
              "      <td>2.0</td>\n",
              "      <td>individual</td>\n",
              "      <td>78.0</td>\n",
              "      <td>2677</td>\n",
              "      <td>21.0</td>\n",
              "      <td>[PRON, ADJ, NOUN, NOUN, PRON, VERB, AUX, VERB,...</td>\n",
              "      <td>[minecraft, noise, perlin, d, landscape]</td>\n",
              "      <td>[генерация, ландшафт, minecraft]</td>\n",
              "      <td>[добрый, время, суток, поделиться, личный, опы...</td>\n",
              "    </tr>\n",
              "    <tr>\n",
              "      <th>1</th>\n",
              "      <td>AlfaTeam</td>\n",
              "      <td>2022-09-07 12:19:42+00:00</td>\n",
              "      <td>Блог компании Альфа-Банк, JavaScript, Программ...</td>\n",
              "      <td>13</td>\n",
              "      <td>19000</td>\n",
              "      <td>https://habr.com/ru/companies/alfa/articles/68...</td>\n",
              "      <td>8.0</td>\n",
              "      <td>company</td>\n",
              "      <td>44.0</td>\n",
              "      <td>12132</td>\n",
              "      <td>18.0</td>\n",
              "      <td>[PRON, VERB, ADP, ADJ, NOUN, PROPN, PRON, VERB...</td>\n",
              "      <td>[react, react, router, react, reactrouter, мар...</td>\n",
              "      <td>[переходить, reactrouter, v, подводный, камень...</td>\n",
              "      <td>[перейти, шестой, версия, reactrouter, помочь,...</td>\n",
              "    </tr>\n",
              "  </tbody>\n",
              "</table>\n",
              "</div>"
            ],
            "text/plain": [
              "       author          publication_date  \\\n",
              "0  LivingDead 2011-09-13 14:45:04+00:00   \n",
              "1    AlfaTeam 2022-09-07 12:19:42+00:00   \n",
              "\n",
              "                                                hubs  comments  views  \\\n",
              "0                                     Разработка игр        16  34000   \n",
              "1  Блог компании Альфа-Банк, JavaScript, Программ...        13  19000   \n",
              "\n",
              "                                                 url  reading_time  \\\n",
              "0               https://habr.com/ru/articles/128368/           2.0   \n",
              "1  https://habr.com/ru/companies/alfa/articles/68...           8.0   \n",
              "\n",
              "  individ/company  bookmarks_cnt  text_length  rating_new  \\\n",
              "0      individual           78.0         2677        21.0   \n",
              "1         company           44.0        12132        18.0   \n",
              "\n",
              "                                       text_pos_tags  \\\n",
              "0  [PRON, ADJ, NOUN, NOUN, PRON, VERB, AUX, VERB,...   \n",
              "1  [PRON, VERB, ADP, ADJ, NOUN, PROPN, PRON, VERB...   \n",
              "\n",
              "                                         tags_tokens  \\\n",
              "0           [minecraft, noise, perlin, d, landscape]   \n",
              "1  [react, react, router, react, reactrouter, мар...   \n",
              "\n",
              "                                        title_tokens  \\\n",
              "0                   [генерация, ландшафт, minecraft]   \n",
              "1  [переходить, reactrouter, v, подводный, камень...   \n",
              "\n",
              "                                         text_tokens  \n",
              "0  [добрый, время, суток, поделиться, личный, опы...  \n",
              "1  [перейти, шестой, версия, reactrouter, помочь,...  "
            ]
          },
          "execution_count": 3,
          "metadata": {},
          "output_type": "execute_result"
        }
      ],
      "source": [
        "df.head(2)"
      ]
    },
    {
      "cell_type": "code",
      "execution_count": 4,
      "id": "0c10a104",
      "metadata": {
        "id": "0c10a104"
      },
      "outputs": [],
      "source": [
        "# Выделение рейтинга статьи\n",
        "df['rating_level'] = mu.categorize_ratings(df)\n",
        "\n",
        "# Предобработка датасета: фильтрация, объединение текстовых токенов,\n",
        "# кодировка меток(хабов) и преобразование рейтингов\n",
        "(df_prepr, y_multi_reduced, selector,\n",
        "index_to_label, mlb,\n",
        "y_rating, inverse_rating_mapping, indices) = mu.df_preprocess(df)"
      ]
    },
    {
      "cell_type": "markdown",
      "id": "ac6de41e",
      "metadata": {
        "id": "ac6de41e"
      },
      "source": [
        "### Предобработка данных"
      ]
    },
    {
      "cell_type": "code",
      "execution_count": 5,
      "id": "_2PCyhDE9f9q",
      "metadata": {
        "id": "_2PCyhDE9f9q"
      },
      "outputs": [],
      "source": [
        "class MultiLabelTextDataset(Dataset):\n",
        "    def __init__(self, texts, labels, tokenizer, max_length=512):\n",
        "        self.texts = texts\n",
        "        self.labels = labels\n",
        "        self.tokenizer = tokenizer\n",
        "        self.max_length = max_length\n",
        "\n",
        "    def __len__(self):\n",
        "        return len(self.texts)\n",
        "\n",
        "    def __getitem__(self, idx):\n",
        "        text = self.texts[idx]\n",
        "        label = torch.tensor(self.labels[idx], dtype=torch.float)\n",
        "        encoding = self.tokenizer(\n",
        "            text,\n",
        "            add_special_tokens=True,\n",
        "            truncation=True,\n",
        "            padding='max_length',\n",
        "            max_length=self.max_length,\n",
        "            return_tensors='pt'\n",
        "        )\n",
        "        item = {key: val.squeeze(0) for key, val in encoding.items()}\n",
        "        item['labels'] = label\n",
        "        return item"
      ]
    },
    {
      "cell_type": "code",
      "execution_count": 6,
      "id": "acc4c11d",
      "metadata": {
        "id": "acc4c11d"
      },
      "outputs": [],
      "source": [
        "# Оставим только необходимые столбцы\n",
        "X = df_prepr[['text_combined']].copy()\n",
        "text_col = 'text_combined'\n",
        "\n",
        "# Выделям матрицы признаков признаков для хабов и рейтинга\n",
        "X_hubs = X.iloc[indices].copy()\n",
        "X_rating = X.copy()\n",
        "\n",
        "# Разделение на обучающую и тестовую выборки для предсказания хабов (тем) статей\n",
        "X_train_h, X_test_h, y_train_h, y_test_h = train_test_split(X_hubs, y_multi_reduced, test_size=0.25)\n",
        "\n",
        "# Разделение на обучающую и тестовую выборки для предсказания рейтинга статьи\n",
        "X_train_r, X_test_r, y_train_r, y_test_r = train_test_split(X_rating, y_rating, test_size=0.25)"
      ]
    },
    {
      "cell_type": "code",
      "execution_count": 7,
      "id": "5Kwjc_0d_i9h",
      "metadata": {
        "id": "5Kwjc_0d_i9h"
      },
      "outputs": [],
      "source": [
        "tokenizer = BertTokenizer.from_pretrained('bert-base-multilingual-cased')\n",
        "\n",
        "train_dataset_h = MultiLabelTextDataset(X_train_h[\"text_combined\"].to_list(), y_train_h, tokenizer)\n",
        "val_dataset_h = MultiLabelTextDataset(X_test_h[\"text_combined\"].to_list(), y_test_h, tokenizer)\n",
        "train_loader_h = DataLoader(train_dataset_h, batch_size=8, shuffle=True)\n",
        "val_loader_h = DataLoader(val_dataset_h, batch_size=8)"
      ]
    },
    {
      "cell_type": "markdown",
      "id": "f50a743f",
      "metadata": {
        "id": "f50a743f"
      },
      "source": [
        "### Архитектура нейросети, обучение"
      ]
    },
    {
      "cell_type": "code",
      "execution_count": 8,
      "id": "2OrQg0_a-Bgi",
      "metadata": {
        "id": "2OrQg0_a-Bgi"
      },
      "outputs": [],
      "source": [
        "class BertForMultiLabel(torch.nn.Module):\n",
        "    def __init__(self, model_name, num_labels):\n",
        "        super().__init__()\n",
        "        self.bert = BertModel.from_pretrained(model_name)\n",
        "        self.dropout = torch.nn.Dropout(0.3)\n",
        "        self.classifier = torch.nn.Linear(self.bert.config.hidden_size, num_labels)\n",
        "\n",
        "    def forward(self, input_ids, attention_mask, token_type_ids=None, labels=None):\n",
        "        outputs = self.bert(\n",
        "            input_ids=input_ids,\n",
        "            attention_mask=attention_mask,\n",
        "            token_type_ids=token_type_ids\n",
        "        )\n",
        "        pooled = outputs.pooler_output\n",
        "        dropped = self.dropout(pooled)\n",
        "        logits = self.classifier(dropped)\n",
        "        return logits\n",
        "\n",
        "device = torch.device(\"cuda\" if torch.cuda.is_available() else \"cpu\")"
      ]
    },
    {
      "cell_type": "code",
      "execution_count": 9,
      "id": "2d819386",
      "metadata": {
        "id": "2d819386"
      },
      "outputs": [],
      "source": [
        "# Функция для оценки модели на тестовой выборке\n",
        "# Возвращает loss, f1-score по эпохам\n",
        "from tqdm import tqdm\n",
        "def test(model, loader, criterion, model_type):\n",
        "    loss_log = []\n",
        "    all_preds = []\n",
        "    all_targets = []\n",
        "    model.eval()\n",
        "\n",
        "    for batch in tqdm(loader):\n",
        "        inputs = {k: v.to(device) for k, v in batch.items() if k != 'labels'}\n",
        "        target = batch['labels'].to(device)\n",
        "\n",
        "        # forward\n",
        "        with torch.no_grad():\n",
        "            y_pred = model(**inputs)\n",
        "        loss = criterion(y_pred, target)\n",
        "        loss_log.append(loss.item())\n",
        "\n",
        "        # predict\n",
        "        if isinstance(criterion, nn.BCEWithLogitsLoss):\n",
        "            pred_probs = torch.sigmoid(y_pred)\n",
        "            pred_classes = (pred_probs > 0.5).float().cpu().numpy()\n",
        "        elif isinstance(criterion, nn.CrossEntropyLoss):\n",
        "            pred_classes = y_pred.argmax(dim=-1).cpu().numpy()\n",
        "\n",
        "        target_np = target.cpu().numpy()\n",
        "        all_preds.append(pred_classes)\n",
        "        all_targets.append(target_np)\n",
        "\n",
        "\n",
        "\n",
        "    # Объединяем предсказания и метки\n",
        "    all_preds = np.concatenate(all_preds)\n",
        "    all_targets = np.concatenate(all_targets)\n",
        "\n",
        "    # Считаем метрики\n",
        "    f1 = f1_score(all_targets, all_preds, average='micro')\n",
        "    precision = precision_score(all_targets, all_preds, average='micro', zero_division=0)\n",
        "    recall = recall_score(all_targets, all_preds, average='micro', zero_division=0)\n",
        "    hamming = hamming_loss(all_targets, all_preds)\n",
        "\n",
        "    return np.mean(loss_log), f1, precision, recall, hamming\n",
        "\n",
        "# Функция обучения модели в течение 1 эпохи\n",
        "# Возвращает loss и f1-score по батчам\n",
        "def train_epoch(model, optimizer, train_loader, criterion, model_type):\n",
        "    loss_log = []\n",
        "    f1_log = []\n",
        "    model.train()\n",
        "\n",
        "    for batch in tqdm(train_loader):\n",
        "        # zero gradients\n",
        "        optimizer.zero_grad()\n",
        "\n",
        "        inputs = {k: v.to(device) for k, v in batch.items() if k != 'labels'}\n",
        "        target = batch['labels'].to(device)\n",
        "        y_pred = model(**inputs)\n",
        "\n",
        "        loss = criterion(y_pred, target)\n",
        "        loss.backward()\n",
        "        optimizer.step()\n",
        "\n",
        "        # Метрики\n",
        "        if isinstance(criterion, nn.BCEWithLogitsLoss):\n",
        "            pred_probs = torch.sigmoid(y_pred)\n",
        "            pred_classes = (pred_probs > 0.5).float().cpu().numpy()\n",
        "        elif isinstance(criterion, nn.CrossEntropyLoss):\n",
        "            pred_classes = y_pred.argmax(dim=-1).cpu().numpy()\n",
        "\n",
        "        target_np = target.cpu().numpy()\n",
        "        f1 = f1_score(target_np, pred_classes, average='micro')\n",
        "        loss_log.append(loss.item())\n",
        "        f1_log.append(f1)\n",
        "\n",
        "\n",
        "    return loss_log, f1_log"
      ]
    },
    {
      "cell_type": "code",
      "execution_count": 10,
      "id": "e61fc509",
      "metadata": {
        "id": "e61fc509"
      },
      "outputs": [],
      "source": [
        "# Общая функция для обучения/теста модели\n",
        "def train(model, optimizer, n_epochs, train_loader, test_loader,\n",
        "          train_epoch, test_func, task_type, criterion, model_type):\n",
        "    # логи по батчам\n",
        "    train_loss_all, train_f1_all = [], []\n",
        "    # логи по эпохам\n",
        "    test_loss_log, test_f1_log = [], []\n",
        "    test_prec_log, test_rec_log, test_ham_log = [], [], []\n",
        "\n",
        "    steps_per_epoch = len(train_loader)\n",
        "\n",
        "    for epoch in range(n_epochs):\n",
        "        # train_epoch теперь возвращает списки по батчам\n",
        "        batch_losses, batch_f1s = train_epoch(model, optimizer, train_loader, criterion, model_type)\n",
        "        train_loss_all.extend(batch_losses)\n",
        "        train_f1_all.extend(batch_f1s)\n",
        "\n",
        "        # валидируем раз в эпоху\n",
        "        test_loss, test_f1, test_prec, test_rec, test_ham = test_func(model, test_loader, criterion, model_type)\n",
        "        test_loss_log.append(test_loss)\n",
        "        test_f1_log.append(test_f1)\n",
        "        test_prec_log.append(test_prec)\n",
        "        test_rec_log.append(test_rec)\n",
        "        test_ham_log.append(test_ham)\n",
        "\n",
        "        # выводим раз в 5 эпох\n",
        "        print(f\"Epoch {epoch}\")\n",
        "        print(f\" train loss: {np.mean(batch_losses):.4f}, train f1: {np.mean(batch_f1s):.4f}\")\n",
        "\n",
        "        if task_type == 'hubs':\n",
        "            print(f\" test loss: {np.mean(test_loss):.4f}, test f1: {test_f1:.4f}, test precision: {test_prec:.4f}, test recall: {test_rec:.4f}, test hamming: {test_ham:.4f}\\n\")\n",
        "        elif task_type == 'rating':\n",
        "            print(f\" test loss: {test_loss:.4f}, test f1: {test_f1:.4f}, test hamming: {test_ham:.4f}\\n\")\n",
        "\n",
        "    return (train_loss_all, train_f1_all,\n",
        "            test_loss_log, test_f1_log,\n",
        "            test_prec_log, test_rec_log, test_ham_log,\n",
        "            steps_per_epoch)"
      ]
    },
    {
      "cell_type": "code",
      "execution_count": 19,
      "id": "51120fd0",
      "metadata": {
        "colab": {
          "base_uri": "https://localhost:8080/"
        },
        "id": "51120fd0",
        "outputId": "20d8d0a3-2d24-46f7-a5ce-1512555f6305"
      },
      "outputs": [
        {
          "name": "stderr",
          "output_type": "stream",
          "text": [
            "100%|██████████| 10702/10702 [1:10:28<00:00,  2.53it/s]\n",
            "100%|██████████| 3568/3568 [14:47<00:00,  4.02it/s]\n"
          ]
        },
        {
          "name": "stdout",
          "output_type": "stream",
          "text": [
            "Epoch 0\n",
            " train loss: 0.0830, train f1: 0.2917\n",
            " test loss: 0.0623, test f1: 0.5116, test precision: 0.7160, test recall: 0.3980, test hamming: 0.0203\n",
            "\n"
          ]
        },
        {
          "name": "stderr",
          "output_type": "stream",
          "text": [
            "100%|██████████| 10702/10702 [1:10:39<00:00,  2.52it/s]\n",
            "100%|██████████| 3568/3568 [15:12<00:00,  3.91it/s]\n"
          ]
        },
        {
          "name": "stdout",
          "output_type": "stream",
          "text": [
            "Epoch 1\n",
            " train loss: 0.0583, train f1: 0.5317\n",
            " test loss: 0.0567, test f1: 0.5662, test precision: 0.7155, test recall: 0.4684, test hamming: 0.0192\n",
            "\n"
          ]
        },
        {
          "name": "stderr",
          "output_type": "stream",
          "text": [
            "100%|██████████| 10702/10702 [1:10:24<00:00,  2.53it/s]\n",
            "100%|██████████| 3568/3568 [14:54<00:00,  3.99it/s]\n"
          ]
        },
        {
          "name": "stdout",
          "output_type": "stream",
          "text": [
            "Epoch 2\n",
            " train loss: 0.0514, train f1: 0.5998\n",
            " test loss: 0.0543, test f1: 0.5858, test precision: 0.7278, test recall: 0.4902, test hamming: 0.0185\n",
            "\n"
          ]
        },
        {
          "name": "stderr",
          "output_type": "stream",
          "text": [
            "100%|██████████| 10702/10702 [1:09:33<00:00,  2.56it/s]\n",
            "100%|██████████| 3568/3568 [14:41<00:00,  4.05it/s]\n"
          ]
        },
        {
          "name": "stdout",
          "output_type": "stream",
          "text": [
            "Epoch 3\n",
            " train loss: 0.0456, train f1: 0.6547\n",
            " test loss: 0.0541, test f1: 0.6114, test precision: 0.6988, test recall: 0.5435, test hamming: 0.0184\n",
            "\n"
          ]
        },
        {
          "name": "stderr",
          "output_type": "stream",
          "text": [
            "100%|██████████| 10702/10702 [1:10:13<00:00,  2.54it/s]\n",
            "100%|██████████| 3568/3568 [15:24<00:00,  3.86it/s]\n"
          ]
        },
        {
          "name": "stdout",
          "output_type": "stream",
          "text": [
            "Epoch 4\n",
            " train loss: 0.0405, train f1: 0.7013\n",
            " test loss: 0.0547, test f1: 0.6190, test precision: 0.6875, test recall: 0.5628, test hamming: 0.0185\n",
            "\n"
          ]
        }
      ],
      "source": [
        "# Обучаем модель хабов\n",
        "\n",
        "# Задаём все переменные для предсказания хабов\n",
        "num_labels = len(y_train_h[0])\n",
        "model_h = BertForMultiLabel('bert-base-multilingual-cased', num_labels).to(device)\n",
        "optimizer_h = AdamW(model_h.parameters(), lr=2e-5)\n",
        "\n",
        "(train_loss_log, train_f1_log, test_loss_log, test_f1_log,\n",
        " test_prec_log, test_rec_log, test_ham_log, steps_per_epoch) = train(\n",
        "    model_h, optimizer_h, 5, train_loader_h,\n",
        "    val_loader_h, train_epoch, test,\n",
        "    task_type='hubs', criterion=nn.BCEWithLogitsLoss(), model_type='fc')"
      ]
    },
    {
      "cell_type": "code",
      "execution_count": 20,
      "id": "e6b5b3ca",
      "metadata": {
        "id": "e6b5b3ca"
      },
      "outputs": [
        {
          "data": {
            "image/png": "[encoded data removed]",
            "text/plain": [
              "<Figure size 1200x600 with 2 Axes>"
            ]
          },
          "metadata": {},
          "output_type": "display_data"
        }
      ],
      "source": [
        "# Визуализируем для хабов\n",
        "mu.plot_history(train_loss_log, train_f1_log, test_loss_log, test_f1_log,\n",
        "             steps_per_epoch=steps_per_epoch,  figsize=(12,6))"
      ]
    },
    {
      "cell_type": "markdown",
      "id": "5b63a8b0",
      "metadata": {
        "id": "5b63a8b0"
      },
      "source": [
        "`Выводы для модели хабов`\n",
        "* На графике потерь видно, что на тренировочной и тестовой выборках loss снижается первые 3 эпохи и стабилизируется на уровне 0.05-0.06 (довольно низкий loss), то есть модель успешно сходится и не переобучается (что видно также по близким метрикам train f1 - 0.5998 и test f1 - 0.5858). После 3 эпохи можем наблюдать переобучение модели - валидационный лосс не меняется, precision увеличивается, но recall и f1-score растет.\n",
        "* Итоговые значения на тестовой выборке f1-score (micro) 0.619, что говорит о хорошем качестве предсказаний, precision и recall сближаются 0.6875 и 0.5628 соответственно - перекос стал меньше в отличии от экспериментов с ML моделями, hamming loss довольно низкий (0.018), то есть доля ошибочно предсказанных меток мала"
      ]
    },
    {
      "cell_type": "markdown",
      "id": "VDbpVlqeNDB_",
      "metadata": {
        "id": "VDbpVlqeNDB_"
      },
      "source": [
        "# Предсказание рейтинга"
      ]
    },
    {
      "cell_type": "code",
      "execution_count": 11,
      "id": "uAvUpGMTrj2s",
      "metadata": {
        "id": "uAvUpGMTrj2s"
      },
      "outputs": [],
      "source": [
        "class RatingTextDataset(Dataset):\n",
        "    def __init__(self, texts, labels, tokenizer, max_length=512):\n",
        "        self.texts = texts\n",
        "        self.labels = labels\n",
        "        self.tokenizer = tokenizer\n",
        "        self.max_length = max_length\n",
        "\n",
        "    def __len__(self):\n",
        "        return len(self.texts)\n",
        "\n",
        "    def __getitem__(self, idx):\n",
        "        text = self.texts[idx]\n",
        "        label = self.labels[idx]\n",
        "        encoding = self.tokenizer(\n",
        "            text,\n",
        "            add_special_tokens=True,\n",
        "            truncation=True,\n",
        "            padding='max_length',\n",
        "            max_length=self.max_length,\n",
        "            return_tensors='pt'\n",
        "        )\n",
        "        item = {key: val.squeeze(0) for key, val in encoding.items()}\n",
        "        item['labels'] = label\n",
        "        return item"
      ]
    },
    {
      "cell_type": "code",
      "execution_count": 12,
      "id": "71uW5crCNGHe",
      "metadata": {
        "id": "71uW5crCNGHe"
      },
      "outputs": [],
      "source": [
        "tokenizer = BertTokenizer.from_pretrained('bert-base-multilingual-cased')\n",
        "\n",
        "train_dataset_r = RatingTextDataset(X_train_r[\"text_combined\"].to_list(), y_train_r.to_list(), tokenizer)\n",
        "val_dataset_r = RatingTextDataset(X_test_r[\"text_combined\"].to_list(), y_test_r.to_list(), tokenizer)\n",
        "train_loader_r = DataLoader(train_dataset_r, batch_size=8, shuffle=True)\n",
        "val_loader_r = DataLoader(val_dataset_r, batch_size=8)"
      ]
    },
    {
      "cell_type": "code",
      "execution_count": 13,
      "id": "787db44d",
      "metadata": {
        "id": "787db44d"
      },
      "outputs": [
        {
          "name": "stderr",
          "output_type": "stream",
          "text": [
            "100%|██████████| 13115/13115 [1:24:32<00:00,  2.59it/s]\n",
            "100%|██████████| 4372/4372 [17:36<00:00,  4.14it/s]\n"
          ]
        },
        {
          "name": "stdout",
          "output_type": "stream",
          "text": [
            "Epoch 0\n",
            " train loss: 1.1960, train f1: 0.4371\n",
            " test loss: 1.1654, test f1: 0.4524, test hamming: 0.5476\n",
            "\n"
          ]
        },
        {
          "name": "stderr",
          "output_type": "stream",
          "text": [
            "100%|██████████| 13115/13115 [1:24:56<00:00,  2.57it/s]\n",
            "100%|██████████| 4372/4372 [18:13<00:00,  4.00it/s]\n"
          ]
        },
        {
          "name": "stdout",
          "output_type": "stream",
          "text": [
            "Epoch 1\n",
            " train loss: 1.2126, train f1: 0.4376\n",
            " test loss: 1.3613, test f1: 0.2954, test hamming: 0.7046\n",
            "\n"
          ]
        },
        {
          "name": "stderr",
          "output_type": "stream",
          "text": [
            "100%|██████████| 13115/13115 [1:27:37<00:00,  2.49it/s]\n",
            "100%|██████████| 4372/4372 [18:06<00:00,  4.02it/s]\n"
          ]
        },
        {
          "name": "stdout",
          "output_type": "stream",
          "text": [
            "Epoch 2\n",
            " train loss: 1.2216, train f1: 0.4367\n",
            " test loss: 1.3157, test f1: 0.2954, test hamming: 0.7046\n",
            "\n"
          ]
        },
        {
          "name": "stderr",
          "output_type": "stream",
          "text": [
            "100%|██████████| 13115/13115 [1:27:05<00:00,  2.51it/s]\n",
            "100%|██████████| 4372/4372 [18:36<00:00,  3.92it/s]\n"
          ]
        },
        {
          "name": "stdout",
          "output_type": "stream",
          "text": [
            "Epoch 3\n",
            " train loss: 1.2235, train f1: 0.4352\n",
            " test loss: 1.2294, test f1: 0.4351, test hamming: 0.5649\n",
            "\n"
          ]
        },
        {
          "name": "stderr",
          "output_type": "stream",
          "text": [
            "100%|██████████| 13115/13115 [1:25:46<00:00,  2.55it/s]\n",
            "100%|██████████| 4372/4372 [18:13<00:00,  4.00it/s]\n"
          ]
        },
        {
          "name": "stdout",
          "output_type": "stream",
          "text": [
            "Epoch 4\n",
            " train loss: 1.2267, train f1: 0.4354\n",
            " test loss: 1.2263, test f1: 0.4351, test hamming: 0.5649\n",
            "\n"
          ]
        }
      ],
      "source": [
        "n_classes_r = len(set(y_train_r))\n",
        "model_r = BertForMultiLabel('bert-base-multilingual-cased', n_classes_r).to(device)\n",
        "optimizer_r = AdamW(model_r.parameters(), lr=2e-5)\n",
        "\n",
        "# Обучаем модель для рейтинга\n",
        "(train_loss_log, train_f1_log, test_loss_log,\n",
        "test_f1_log, test_prec_log, test_rec_log,\n",
        "test_ham_log, steps_per_epoch) = train(\n",
        "    model_r, optimizer_r, 5, train_loader_r,\n",
        "    val_loader_r, train_epoch, test,\n",
        "    task_type='rating', criterion=nn.CrossEntropyLoss(), model_type='fc')"
      ]
    },
    {
      "cell_type": "code",
      "execution_count": 14,
      "id": "441cb40e",
      "metadata": {
        "id": "441cb40e"
      },
      "outputs": [
        {
          "data": {
            "image/png": "[encoded data removed]",
            "text/plain": [
              "<Figure size 1200x600 with 2 Axes>"
            ]
          },
          "metadata": {},
          "output_type": "display_data"
        }
      ],
      "source": [
        "# Визуализируем для рейтинга\n",
        "mu.plot_history(train_loss_log, train_f1_log, test_loss_log, test_f1_log,\n",
        "             steps_per_epoch=steps_per_epoch,  figsize=(12,6))"
      ]
    },
    {
      "cell_type": "markdown",
      "id": "9786f6b8",
      "metadata": {
        "id": "9786f6b8"
      },
      "source": [
        "`Выводы для модели рейтинга`\n",
        "* После первой эпохи метрики модели стали падать, скорее всего архитектура не подходит для поставленной задачи.\n",
        "* F1-score находится на уровне 43%, что говорит о плохом качестве получнных предсказаний, при этом hamming loss довольно высокий - 0.56, больше половины предсказанных меток ошибочны"
      ]
    }
  ],
  "metadata": {
    "accelerator": "GPU",
    "colab": {
      "gpuType": "T4",
      "provenance": []
    },
    "kernelspec": {
      "display_name": "Python 3",
      "name": "python3"
    },
    "language_info": {
      "codemirror_mode": {
        "name": "ipython",
        "version": 3
      },
      "file_extension": ".py",
      "mimetype": "text/x-python",
      "name": "python",
      "nbconvert_exporter": "python",
      "pygments_lexer": "ipython3",
      "version": "3.10.12"
    }
  },
  "nbformat": 4,
  "nbformat_minor": 5
}

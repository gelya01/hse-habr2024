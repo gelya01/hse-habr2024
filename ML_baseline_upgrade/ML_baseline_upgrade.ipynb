{
 "cells": [
  {
   "cell_type": "markdown",
   "metadata": {},
   "source": [
    "# Улучшение бейзлайна"
   ]
  },
  {
   "cell_type": "markdown",
   "metadata": {},
   "source": [
    "## Импорты, просмотр данных"
   ]
  },
  {
   "cell_type": "code",
   "execution_count": 1,
   "metadata": {},
   "outputs": [],
   "source": [
    "# Импорты\n",
    "import pandas as pd\n",
    "import gdown\n",
    "import joblib\n",
    "import numpy as np\n",
    "import random\n",
    "import ml_utils as mu\n",
    "from sklearn.pipeline import Pipeline\n",
    "from sklearn.feature_extraction.text import TfidfVectorizer\n",
    "from sklearn.compose import ColumnTransformer\n",
    "from sklearn.svm import LinearSVC\n",
    "from sklearn.preprocessing import StandardScaler\n",
    "from sklearn.multiclass import OneVsRestClassifier\n",
    "from sklearn.decomposition import TruncatedSVD\n",
    "from sklearn.ensemble import RandomForestClassifier\n",
    "from sklearn.model_selection import train_test_split\n",
    "from sklearn.linear_model import LogisticRegression\n",
    "from catboost import CatBoostClassifier\n",
    "\n",
    "random.seed(42)\n",
    "np.random.seed(42)\n",
    "pd.options.mode.chained_assignment = None\n",
    "pd.set_option('display.max_colwidth', 80)\n",
    "\n",
    "import warnings\n",
    "warnings.simplefilter(action='ignore', category=FutureWarning)"
   ]
  },
  {
   "cell_type": "markdown",
   "metadata": {},
   "source": [
    "`Так же, как и в ноутбуке построения бейзлайна возьмём 10% данных для подбора оптимальной модели и затем обучим итоговые модели на всех данных (подбор моделей на всех данных сразу слишком длительный процесс)`"
   ]
  },
  {
   "cell_type": "markdown",
   "metadata": {},
   "source": [
    "### Загрузка данных"
   ]
  },
  {
   "cell_type": "code",
   "execution_count": null,
   "metadata": {},
   "outputs": [],
   "source": [
    "# Сэмпл датасета (10%) для подбора оптимальной модели\n",
    "sample_10_id = '17IVd8t37FZ-WULTMCnsUv8vbd6PuzeKx'\n",
    "gdown.download(f\"https://drive.google.com/uc?id={sample_10_id}\", quiet=True)\n",
    "\n",
    "# 50% датасета (которые поместились в 32гб оперативки)\n",
    "df_50_id = '12mIlvk7Fb7yfdvoml7dmE-8TuGLh4c-V'\n",
    "gdown.download(f\"https://drive.google.com/uc?id={df_50_id}\", quiet=True)\n",
    "\n",
    "# Если понадобится - полный датасет (400к статей)\n",
    "# df_100_id = '1YvQ2kxQqq1JJBfzTqygftj_RMOnV0ZTd'\n",
    "# gdown.download(f\"https://drive.google.com/uc?id={df_100_id}\", quiet=False)"
   ]
  },
  {
   "cell_type": "markdown",
   "metadata": {},
   "source": [
    "### Предобработка данных"
   ]
  },
  {
   "cell_type": "code",
   "execution_count": 2,
   "metadata": {},
   "outputs": [],
   "source": [
    "# Сэмпл данных - 10% от датасета\n",
    "df = pd.read_parquet(\"sample_10.parquet\")"
   ]
  },
  {
   "cell_type": "code",
   "execution_count": 3,
   "metadata": {},
   "outputs": [
    {
     "data": {
      "text/html": [
       "<div>\n",
       "<style scoped>\n",
       "    .dataframe tbody tr th:only-of-type {\n",
       "        vertical-align: middle;\n",
       "    }\n",
       "\n",
       "    .dataframe tbody tr th {\n",
       "        vertical-align: top;\n",
       "    }\n",
       "\n",
       "    .dataframe thead th {\n",
       "        text-align: right;\n",
       "    }\n",
       "</style>\n",
       "<table border=\"1\" class=\"dataframe\">\n",
       "  <thead>\n",
       "    <tr style=\"text-align: right;\">\n",
       "      <th></th>\n",
       "      <th>author</th>\n",
       "      <th>publication_date</th>\n",
       "      <th>hubs</th>\n",
       "      <th>comments</th>\n",
       "      <th>views</th>\n",
       "      <th>url</th>\n",
       "      <th>reading_time</th>\n",
       "      <th>individ/company</th>\n",
       "      <th>bookmarks_cnt</th>\n",
       "      <th>text_length</th>\n",
       "      <th>rating_new</th>\n",
       "      <th>text_pos_tags</th>\n",
       "      <th>tags_tokens</th>\n",
       "      <th>title_tokens</th>\n",
       "      <th>text_tokens</th>\n",
       "    </tr>\n",
       "  </thead>\n",
       "  <tbody>\n",
       "    <tr>\n",
       "      <th>0</th>\n",
       "      <td>vilianov</td>\n",
       "      <td>2015-06-05 08:47:01+00:00</td>\n",
       "      <td>Блог компании AMD, Компьютерное железо, Ноутбуки</td>\n",
       "      <td>31</td>\n",
       "      <td>11000</td>\n",
       "      <td>https://habr.com/ru/companies/amd/articles/380253/</td>\n",
       "      <td>4.0</td>\n",
       "      <td>company</td>\n",
       "      <td>5.0</td>\n",
       "      <td>6000</td>\n",
       "      <td>20.0</td>\n",
       "      <td>[ADV, ADV, ADP, NOUN, VERB, NUM, ADP, ADJ, PROPN, NOUN, CCONJ, ADP, ADJ, NOU...</td>\n",
       "      <td>[amd, amd, cpu, gpu, apu, carrizo]</td>\n",
       "      <td>[amd, computex, apu, шестой, поколение, готовый, взбодрить, портативный, ноу...</td>\n",
       "      <td>[прямо, тайвань, проходить, главный, itвыставок, планета, компьютерный, инду...</td>\n",
       "    </tr>\n",
       "    <tr>\n",
       "      <th>1</th>\n",
       "      <td>SLY_G</td>\n",
       "      <td>2024-03-02 07:57:14+00:00</td>\n",
       "      <td>Занимательные задачки, Математика, Научно-популярное</td>\n",
       "      <td>86</td>\n",
       "      <td>38000</td>\n",
       "      <td>https://habr.com/ru/articles/797537/</td>\n",
       "      <td>6.0</td>\n",
       "      <td>individual</td>\n",
       "      <td>54.0</td>\n",
       "      <td>9489</td>\n",
       "      <td>40.0</td>\n",
       "      <td>[ADJ, NOUN, VERB, NOUN, ADP, NOUN, SPACE, ADV, VERB, DET, NOUN, ADP, PROPN, ...</td>\n",
       "      <td>[комбинаторика]</td>\n",
       "      <td>[получать, деньга, подбрасывание, монета, стоимость, миллион, доллар]</td>\n",
       "      <td>[безотказный, способ, вовлечь, человек, дискуссия, регулярно, публиковать, ш...</td>\n",
       "    </tr>\n",
       "  </tbody>\n",
       "</table>\n",
       "</div>"
      ],
      "text/plain": [
       "     author          publication_date  \\\n",
       "0  vilianov 2015-06-05 08:47:01+00:00   \n",
       "1     SLY_G 2024-03-02 07:57:14+00:00   \n",
       "\n",
       "                                                   hubs  comments  views  \\\n",
       "0      Блог компании AMD, Компьютерное железо, Ноутбуки        31  11000   \n",
       "1  Занимательные задачки, Математика, Научно-популярное        86  38000   \n",
       "\n",
       "                                                  url  reading_time  \\\n",
       "0  https://habr.com/ru/companies/amd/articles/380253/           4.0   \n",
       "1                https://habr.com/ru/articles/797537/           6.0   \n",
       "\n",
       "  individ/company  bookmarks_cnt  text_length  rating_new  \\\n",
       "0         company            5.0         6000        20.0   \n",
       "1      individual           54.0         9489        40.0   \n",
       "\n",
       "                                                                     text_pos_tags  \\\n",
       "0  [ADV, ADV, ADP, NOUN, VERB, NUM, ADP, ADJ, PROPN, NOUN, CCONJ, ADP, ADJ, NOU...   \n",
       "1  [ADJ, NOUN, VERB, NOUN, ADP, NOUN, SPACE, ADV, VERB, DET, NOUN, ADP, PROPN, ...   \n",
       "\n",
       "                          tags_tokens  \\\n",
       "0  [amd, amd, cpu, gpu, apu, carrizo]   \n",
       "1                     [комбинаторика]   \n",
       "\n",
       "                                                                      title_tokens  \\\n",
       "0  [amd, computex, apu, шестой, поколение, готовый, взбодрить, портативный, ноу...   \n",
       "1            [получать, деньга, подбрасывание, монета, стоимость, миллион, доллар]   \n",
       "\n",
       "                                                                       text_tokens  \n",
       "0  [прямо, тайвань, проходить, главный, itвыставок, планета, компьютерный, инду...  \n",
       "1  [безотказный, способ, вовлечь, человек, дискуссия, регулярно, публиковать, ш...  "
      ]
     },
     "execution_count": 3,
     "metadata": {},
     "output_type": "execute_result"
    }
   ],
   "source": [
    "df.head(2)"
   ]
  },
  {
   "cell_type": "code",
   "execution_count": 4,
   "metadata": {},
   "outputs": [],
   "source": [
    "# Выделение рейтинга статьи\n",
    "df['rating_level'] = mu.categorize_ratings(df)\n",
    "\n",
    "# Предобработка датасета: фильтрация, объединение текстовых токенов,\n",
    "# кодировка меток(хабов) и преобразование рейтингов\n",
    "(df_prepr, y_multi_reduced, selector, \n",
    "index_to_label, mlb, \n",
    "y_rating, inverse_rating_mapping, indices) = mu.df_preprocess(df)"
   ]
  },
  {
   "cell_type": "markdown",
   "metadata": {},
   "source": [
    "## Работа с признаками"
   ]
  },
  {
   "cell_type": "code",
   "execution_count": null,
   "metadata": {},
   "outputs": [],
   "source": [
    "# Оставим только необходимые столбцы\n",
    "X = df_prepr.drop(columns=['author', 'publication_date', 'url', 'text_pos_tags', 'hubs', 'rating_level', 'rating_new', 'hubs_encoded']).copy()\n",
    "\n",
    "# Кодировка individ/company\n",
    "X['individ/company'] = X['individ/company'].map({'individual': 0, 'company': 1})\n",
    "X = X.rename(columns={'individ/company':'is_company'})\n",
    "\n",
    "# Выделям матрицы признаков признаков для хабов и рейтинга\n",
    "X_hubs = X.iloc[indices].copy()\n",
    "X_rating = X.copy()\n",
    "\n",
    "# Выделяем нужные столбцы\n",
    "text_col = 'text_combined'\n",
    "num_cols= ['comments', 'views', 'reading_time', 'bookmarks_cnt', 'text_length']\n",
    "\n",
    "# Пайплайны (числовой, текстовый) для предсказания хабов (тем) статей\n",
    "text_pipeline = Pipeline([\n",
    "    ('tfidf', TfidfVectorizer(max_features=10000, ngram_range=(1, 2)))])\n",
    "numeric_pipeline = Pipeline([('scaler', StandardScaler())])\n",
    "\n",
    "# Объединяем преобразования с помощью ColumnTransformer\n",
    "preprocessor = ColumnTransformer([\n",
    "    ('text', text_pipeline, text_col),\n",
    "    ('num', numeric_pipeline, num_cols)])\n",
    "\n",
    "# Разделение на обучающую и тестовую выборки для предсказания хабов (тем) статей\n",
    "X_train_h, X_test_h, y_train_h, y_test_h = train_test_split(X_hubs, y_multi_reduced, test_size=0.25)\n",
    "\n",
    "# Разделение на обучающую и тестовую выборки для предсказания рейтинга статьи\n",
    "X_train_r, X_test_r, y_train_r, y_test_r = train_test_split(X_rating, y_rating, test_size=0.25)"
   ]
  },
  {
   "cell_type": "code",
   "execution_count": 6,
   "metadata": {},
   "outputs": [
    {
     "data": {
      "text/html": [
       "<div>\n",
       "<style scoped>\n",
       "    .dataframe tbody tr th:only-of-type {\n",
       "        vertical-align: middle;\n",
       "    }\n",
       "\n",
       "    .dataframe tbody tr th {\n",
       "        vertical-align: top;\n",
       "    }\n",
       "\n",
       "    .dataframe thead th {\n",
       "        text-align: right;\n",
       "    }\n",
       "</style>\n",
       "<table border=\"1\" class=\"dataframe\">\n",
       "  <thead>\n",
       "    <tr style=\"text-align: right;\">\n",
       "      <th></th>\n",
       "      <th>comments</th>\n",
       "      <th>views</th>\n",
       "      <th>reading_time</th>\n",
       "      <th>is_company</th>\n",
       "      <th>bookmarks_cnt</th>\n",
       "      <th>text_length</th>\n",
       "      <th>text_combined</th>\n",
       "    </tr>\n",
       "  </thead>\n",
       "  <tbody>\n",
       "    <tr>\n",
       "      <th>0</th>\n",
       "      <td>31</td>\n",
       "      <td>11000</td>\n",
       "      <td>4.0</td>\n",
       "      <td>1</td>\n",
       "      <td>5.0</td>\n",
       "      <td>6000</td>\n",
       "      <td>amd amd cpu gpu apu carrizo amd computex apu шестой поколение готовый взбодр...</td>\n",
       "    </tr>\n",
       "    <tr>\n",
       "      <th>1</th>\n",
       "      <td>86</td>\n",
       "      <td>38000</td>\n",
       "      <td>6.0</td>\n",
       "      <td>0</td>\n",
       "      <td>54.0</td>\n",
       "      <td>9489</td>\n",
       "      <td>комбинаторика получать деньга подбрасывание монета стоимость миллион доллар ...</td>\n",
       "    </tr>\n",
       "    <tr>\n",
       "      <th>2</th>\n",
       "      <td>26</td>\n",
       "      <td>4400</td>\n",
       "      <td>10.0</td>\n",
       "      <td>0</td>\n",
       "      <td>44.0</td>\n",
       "      <td>15239</td>\n",
       "      <td>docker ide c qtcreator virtualization containers рабочий c ide docker contai...</td>\n",
       "    </tr>\n",
       "    <tr>\n",
       "      <th>3</th>\n",
       "      <td>0</td>\n",
       "      <td>7100</td>\n",
       "      <td>4.0</td>\n",
       "      <td>0</td>\n",
       "      <td>82.0</td>\n",
       "      <td>5066</td>\n",
       "      <td>шейдеры постобработка shaders спецэффект unityd зрение хищник эффект термаль...</td>\n",
       "    </tr>\n",
       "    <tr>\n",
       "      <th>4</th>\n",
       "      <td>15</td>\n",
       "      <td>24000</td>\n",
       "      <td>16.0</td>\n",
       "      <td>1</td>\n",
       "      <td>124.0</td>\n",
       "      <td>26101</td>\n",
       "      <td>антипаттерны микросервисы архитектура архитектурный антипаттерны микросервис...</td>\n",
       "    </tr>\n",
       "  </tbody>\n",
       "</table>\n",
       "</div>"
      ],
      "text/plain": [
       "   comments  views  reading_time  is_company  bookmarks_cnt  text_length  \\\n",
       "0        31  11000           4.0           1            5.0         6000   \n",
       "1        86  38000           6.0           0           54.0         9489   \n",
       "2        26   4400          10.0           0           44.0        15239   \n",
       "3         0   7100           4.0           0           82.0         5066   \n",
       "4        15  24000          16.0           1          124.0        26101   \n",
       "\n",
       "                                                                     text_combined  \n",
       "0  amd amd cpu gpu apu carrizo amd computex apu шестой поколение готовый взбодр...  \n",
       "1  комбинаторика получать деньга подбрасывание монета стоимость миллион доллар ...  \n",
       "2  docker ide c qtcreator virtualization containers рабочий c ide docker contai...  \n",
       "3  шейдеры постобработка shaders спецэффект unityd зрение хищник эффект термаль...  \n",
       "4  антипаттерны микросервисы архитектура архитектурный антипаттерны микросервис...  "
      ]
     },
     "execution_count": 6,
     "metadata": {},
     "output_type": "execute_result"
    }
   ],
   "source": [
    "X_hubs.head()"
   ]
  },
  {
   "cell_type": "markdown",
   "metadata": {},
   "source": [
    "### Лучшая модель бейзлайна для хабов"
   ]
  },
  {
   "cell_type": "code",
   "execution_count": null,
   "metadata": {},
   "outputs": [],
   "source": [
    "# Пайплайн для предсказания хабов (параметры выбраны как лучшие, полученные при построении бейзлайна)\n",
    "pipeline_h = Pipeline([\n",
    "    ('preprocessor', preprocessor),\n",
    "    ('clf', OneVsRestClassifier(LinearSVC(max_iter=1000, C=0.1, random_state=42), n_jobs=-1))])\n",
    "\n",
    "# Обучение и предсказание по лучшему пайплайну для хабов\n",
    "pipeline_h.fit(X_train_h, y_train_h)\n",
    "y_pred_h = pipeline_h.predict(X_test_h)"
   ]
  },
  {
   "cell_type": "code",
   "execution_count": 8,
   "metadata": {},
   "outputs": [
    {
     "name": "stdout",
     "output_type": "stream",
     "text": [
      "micro - {'Precision': 0.811, 'Recall': 0.2921, 'F1-Score': 0.4296, 'Hamming Loss': 0.0202}\n",
      "macro - {'Precision': 0.7264, 'Recall': 0.2365, 'F1-Score': 0.3315, 'Hamming Loss': 0.0202}\n",
      "weighted - {'Precision': 0.7561, 'Recall': 0.2921, 'F1-Score': 0.3923, 'Hamming Loss': 0.0202}\n"
     ]
    }
   ],
   "source": [
    "# Расчёт метрик для предсказания хабов\n",
    "for i in ['micro', 'macro', 'weighted']:\n",
    "    lr_metrics = mu.calculate_metrics(y_test_h, y_pred_h, i)\n",
    "    print(i,'-', lr_metrics)"
   ]
  },
  {
   "cell_type": "markdown",
   "metadata": {},
   "source": [
    "`Baseline Recap (Hubs)`\n",
    "* При использовании только текста статьи как основного признака у модели был высокий Recall (~66%), большая часть релевантных статей были выявлены\n",
    "* При этом наблюдался низкий Precision (~31-36%)\n",
    "* Значение F1-score был средним (39-46%), низкая точность вносила свой негативный вклад\n",
    "\n",
    "`Выводы по метрикам при использовании всех признаков`\n",
    "* Модель имеет высокий Precision (~73-81%), предсказанные темы статей в большинстве случаев верны\n",
    "* Наблюдается низкий Recall (~23-29%), модель пропускает много статей, которые должны были быть отнесены к определенной теме\n",
    "* Снижение Recall отрицательно сказывается на F1-Score (~33–43%), итоговый баланс между Precision и Recall оказывается хуже для взвешенных и макро-метрик, и примерно на том же уровне, чем при использовании только текста\n",
    "\n",
    "`Общие выводы`\n",
    "* При использовании только текста достигается лучшая полнота (Recall), однако это происходит за счёт увеличения числа ложных срабатываний (низкий Precision)\n",
    "* Добавление дополнительных признаков делает модель более «консервативной» — она предсказывает тему только в тех случаях, когда уверена (высокий Precision), но при этом пропускает многие релевантные статьи (низкий Recall)\n",
    "* Незначительное отличие в Hamming Loss (0.0202 против 0.0186) указывает на схожую общую ошибочность по отдельным меткам, однако распределение ошибок (ложные срабатывания и пропущенные примеры) существенно различается"
   ]
  },
  {
   "cell_type": "markdown",
   "metadata": {},
   "source": [
    "### Лучшая модель бейзлайна для рейтинга"
   ]
  },
  {
   "cell_type": "code",
   "execution_count": null,
   "metadata": {},
   "outputs": [],
   "source": [
    "# Пайплайн для предсказания рейтинга (параметры выбраны как лучшие, полученные при построении бейзлайна)\n",
    "pipeline_r = Pipeline([\n",
    "    ('preprocessor', preprocessor),\n",
    "    ('clf', LogisticRegression(max_iter=5000, C=1, solver='sag', random_state=42))])\n",
    "\n",
    "# Обучение и предсказание по лучшему пайплайну для рейтинга\n",
    "pipeline_r.fit(X_train_r, y_train_r)\n",
    "y_pred_r = pipeline_r.predict(X_test_r)"
   ]
  },
  {
   "cell_type": "code",
   "execution_count": 10,
   "metadata": {},
   "outputs": [
    {
     "name": "stdout",
     "output_type": "stream",
     "text": [
      "micro - {'Precision': 0.633, 'Recall': 0.633, 'F1-Score': 0.633, 'Hamming Loss': 0.367}\n",
      "macro - {'Precision': 0.6619, 'Recall': 0.3948, 'F1-Score': 0.3989, 'Hamming Loss': 0.367}\n",
      "weighted - {'Precision': 0.6404, 'Recall': 0.633, 'F1-Score': 0.6188, 'Hamming Loss': 0.367}\n"
     ]
    }
   ],
   "source": [
    "# Расчёт метрик для предсказания рейтинга\n",
    "for i in ['micro', 'macro', 'weighted']:\n",
    "    lr_metrics = mu.calculate_metrics(y_test_r, y_pred_r, i)\n",
    "    print(i,'-', lr_metrics)"
   ]
  },
  {
   "cell_type": "markdown",
   "metadata": {},
   "source": [
    "`Baseline Recap (Rating)`\n",
    "* Микро-метрики равны 0.47, что показывает среднее качество модели\n",
    "* Макро-метрики были довольно низкими (Precision - 0.26, Recall - 0.28, F1 - 0.26), учитывая что в наших данных сильный дизбаланс классов, модель не могла качественно предсказывать редкие классы\n",
    "* Hamming Loss был довольно высоким (0.53), что говорит о невысокой точности модели\n",
    "\n",
    "`Выводы по метрикам при использовании всех признаков`\n",
    "* Микро-метрики выросли до 0.63, что указывает на хороший буст в сравнении с моделью бейзлайна, построенном только на текстовых признаках\n",
    "* Макро-метрики также выросли (Precision - 0.66, Recall - 0.395 и F1 - 0.399), рост этих метрик указывает на более равномерное качество предсказаний по всем классам\n",
    "* Hamming Loss уменьшился с 0.53 до 0.37, что говорит о том, что модель делает меньше ошибок при классификации\n",
    "\n",
    "`Общие выводы`\n",
    "* Добавление дополнительных признаков существенно повышает как общую (микро), так и классовую (макро и взвешенные) эффективность модели для предикта рейтинга статей"
   ]
  },
  {
   "cell_type": "markdown",
   "metadata": {},
   "source": [
    "## Обучение бустингов и случайного леса"
   ]
  },
  {
   "cell_type": "markdown",
   "metadata": {},
   "source": [
    "### Хабы"
   ]
  },
  {
   "cell_type": "code",
   "execution_count": null,
   "metadata": {},
   "outputs": [],
   "source": [
    "# Добавим снижение размерности данных в текстовый пайплайн, чтобы избежать проклятия размерности в нелинейных моделях\n",
    "text_pipeline_svd = Pipeline([\n",
    "    ('tfidf', TfidfVectorizer(max_features=10000, ngram_range=(1, 2))),\n",
    "    ('svd', TruncatedSVD(n_components=50, random_state=42))])\n",
    "numeric_pipeline = Pipeline([('scaler', StandardScaler())])\n",
    "\n",
    "# Объединяем преобразования с помощью ColumnTransformer\n",
    "preprocessor_svd = ColumnTransformer([\n",
    "    ('text', text_pipeline_svd, text_col),\n",
    "    ('num', numeric_pipeline, num_cols)])"
   ]
  },
  {
   "cell_type": "code",
   "execution_count": null,
   "metadata": {},
   "outputs": [],
   "source": [
    "# Пайплайн с CatBoostClassifier\n",
    "pipeline_cat_h = Pipeline([\n",
    "    ('preprocessor', preprocessor_svd),\n",
    "    ('clf', OneVsRestClassifier(CatBoostClassifier(random_state=42, thread_count=-1, silent=True)))])\n",
    "\n",
    "# Обучение модели и предсказание хабов\n",
    "pipeline_cat_h.fit(X_train_h, y_train_h)\n",
    "y_pred_h_cat = pipeline_cat_h.predict(X_test_h)"
   ]
  },
  {
   "cell_type": "code",
   "execution_count": null,
   "metadata": {},
   "outputs": [
    {
     "name": "stdout",
     "output_type": "stream",
     "text": [
      "micro - {'Precision': 0.8194, 'Recall': 0.4836, 'F1-Score': 0.6082, 'Hamming Loss': 0.0162}\n",
      "macro - {'Precision': 0.8241, 'Recall': 0.4462, 'F1-Score': 0.5613, 'Hamming Loss': 0.0162}\n",
      "weighted - {'Precision': 0.8199, 'Recall': 0.4836, 'F1-Score': 0.5909, 'Hamming Loss': 0.0162}\n"
     ]
    }
   ],
   "source": [
    "# Сохранение модели для предсказания хабов\n",
    "joblib.dump(pipeline_cat_h, 'pipeline_cat_h.pkl')\n",
    "\n",
    "# Расчёт метрик для предсказания хабов\n",
    "for i in ['micro', 'macro', 'weighted']:\n",
    "    lr_metrics = mu.calculate_metrics(y_test_h, y_pred_h_cat, i)\n",
    "    print(i,'-', lr_metrics)"
   ]
  },
  {
   "cell_type": "code",
   "execution_count": 14,
   "metadata": {},
   "outputs": [],
   "source": [
    "# Пайплайн со случайным лесом\n",
    "pipeline_rf_h = Pipeline([\n",
    "    ('preprocessor', preprocessor_svd),\n",
    "    ('clf', OneVsRestClassifier(RandomForestClassifier(n_jobs=-1, random_state=42)))])\n",
    "\n",
    "# Обучение модели и предсказание хабов\n",
    "pipeline_rf_h.fit(X_train_h, y_train_h)\n",
    "y_pred_rf_h = pipeline_rf_h.predict(X_test_h)"
   ]
  },
  {
   "cell_type": "code",
   "execution_count": 16,
   "metadata": {},
   "outputs": [
    {
     "name": "stdout",
     "output_type": "stream",
     "text": [
      "micro - {'Precision': 0.8831, 'Recall': 0.4134, 'F1-Score': 0.5632, 'Hamming Loss': 0.0167}\n",
      "macro - {'Precision': 0.901, 'Recall': 0.3702, 'F1-Score': 0.5106, 'Hamming Loss': 0.0167}\n",
      "weighted - {'Precision': 0.893, 'Recall': 0.4134, 'F1-Score': 0.5485, 'Hamming Loss': 0.0167}\n"
     ]
    }
   ],
   "source": [
    "# Расчёт метрик для предсказания хабов\n",
    "for i in ['micro', 'macro', 'weighted']:\n",
    "    lr_metrics = mu.calculate_metrics(y_test_h, y_pred_rf_h, i)\n",
    "    print(i,'-', lr_metrics)"
   ]
  },
  {
   "cell_type": "code",
   "execution_count": null,
   "metadata": {},
   "outputs": [],
   "source": [
    "# Пайплайн с CatBoostClassifier и переданным текстовым столбцом в качестве text_feature\n",
    "pipeline_cat_text_h = Pipeline([\n",
    "    ('clf', OneVsRestClassifier(CatBoostClassifier(random_state=42, task_type='GPU', \n",
    "                                                   text_features=['text_combined'], silent=True)))])\n",
    "\n",
    "# Обучение модели и предсказание хабов\n",
    "pipeline_cat_text_h.fit(X_train_h, y_train_h)\n",
    "y_pred_h_cat_text = pipeline_cat_text_h.predict(X_test_h)"
   ]
  },
  {
   "cell_type": "code",
   "execution_count": null,
   "metadata": {},
   "outputs": [
    {
     "name": "stdout",
     "output_type": "stream",
     "text": [
      "micro - {'Precision': 0.782, 'Recall': 0.5319, 'F1-Score': 0.6332, 'Hamming Loss': 0.0161}\n",
      "macro - {'Precision': 0.7828, 'Recall': 0.5052, 'F1-Score': 0.5978, 'Hamming Loss': 0.0161}\n",
      "weighted - {'Precision': 0.7784, 'Recall': 0.5319, 'F1-Score': 0.6145, 'Hamming Loss': 0.0161}\n"
     ]
    }
   ],
   "source": [
    "# Сохранение модели для предсказания хабов (тем) статей\n",
    "joblib.dump(pipeline_cat_text_h, 'pipeline_cat_text_h.pkl')\n",
    "\n",
    "# Расчёт метрик для предсказания хабов\n",
    "for i in ['micro', 'macro', 'weighted']:\n",
    "    lr_metrics = mu.calculate_metrics(y_test_h, y_pred_h_cat_text, i)\n",
    "    print(i,'-', lr_metrics)"
   ]
  },
  {
   "cell_type": "markdown",
   "metadata": {},
   "source": [
    "`Выводы по нелинейным моделям для предсказания хабов`\n",
    "* По сравнению с LinearSVC нелинейные модели показали буст в качестве, можем наблюдать улучшение всех основых метрик (по всем усреднениям)\n",
    "* Catboost (TFIDF) показывает значительно большую полноту по сравнению с LinearSVC (0.48 и 0.29), при этом точность немного выросла (0.82 и 0.81), также значительно вырос и F1-score (с 0.43 до 0.61), таким образом получилось достичь достойного баланса между точностью и полнотой предсказаний тем статей\n",
    "* Случайный лес демонстрирует самую высокую точность из всех моделей (0.89), но полнота меньше, чем у других нелинейных моделей (0.41 против 0.48/0.53), как и значение F1-score (0.56 против 0.61/0.63)\n",
    "* Catboost (text_features) из всех моделей показывает лучшие значения полноты (0.53) и самый высокий F1-score (0.63), при это обучение модели заняло примерно в 5 раз больше времени, чем Catboost (TFIDF) и это только на 10% данных, на полном датасете разница во времени обучения может быть ещё более значимой\n",
    "* Самой оптимальной моделью из всех для предикта хабов является CatBoost (TFIDF), она обеспечивает достойные метрики и её обучение не занимает слишком длительное время (по сравнению с Catboost (text_features))"
   ]
  },
  {
   "cell_type": "markdown",
   "metadata": {},
   "source": [
    "### Рейтинг"
   ]
  },
  {
   "cell_type": "code",
   "execution_count": 20,
   "metadata": {},
   "outputs": [],
   "source": [
    "# Пайплайн со случайным лесом\n",
    "pipeline_rf_r = Pipeline([\n",
    "    ('preprocessor', preprocessor_svd),\n",
    "    ('clf', RandomForestClassifier(n_jobs=-1, random_state=42))])\n",
    "\n",
    "# Обучение модели и предсказание рейтинга\n",
    "pipeline_rf_r.fit(X_train_r, y_train_r)\n",
    "y_pred_rf_r = pipeline_rf_r.predict(X_test_r)"
   ]
  },
  {
   "cell_type": "code",
   "execution_count": 21,
   "metadata": {},
   "outputs": [
    {
     "name": "stdout",
     "output_type": "stream",
     "text": [
      "micro - {'Precision': 0.702, 'Recall': 0.702, 'F1-Score': 0.702, 'Hamming Loss': 0.298}\n",
      "macro - {'Precision': 0.8314, 'Recall': 0.5293, 'F1-Score': 0.5903, 'Hamming Loss': 0.298}\n",
      "weighted - {'Precision': 0.7194, 'Recall': 0.702, 'F1-Score': 0.6963, 'Hamming Loss': 0.298}\n"
     ]
    }
   ],
   "source": [
    "# Расчёт метрик для предсказания рейтинга\n",
    "for i in ['micro', 'macro', 'weighted']:\n",
    "    lr_metrics = mu.calculate_metrics(y_test_r, y_pred_rf_r, i)\n",
    "    print(i,'-', lr_metrics)"
   ]
  },
  {
   "cell_type": "code",
   "execution_count": 23,
   "metadata": {},
   "outputs": [],
   "source": [
    "# Пайплайн с CatBoostClassifier\n",
    "pipeline_cat_r = Pipeline([\n",
    "    ('preprocessor', preprocessor_svd),\n",
    "    ('clf', CatBoostClassifier(random_state=42, task_type=\"GPU\", silent=True))])\n",
    "\n",
    "# Обучение модели и предсказание рейтинга\n",
    "pipeline_cat_r.fit(X_train_r, y_train_r)\n",
    "y_pred_cat_r = pipeline_cat_r.predict(X_test_r)"
   ]
  },
  {
   "cell_type": "code",
   "execution_count": 24,
   "metadata": {},
   "outputs": [
    {
     "name": "stdout",
     "output_type": "stream",
     "text": [
      "micro - {'Precision': 0.6928, 'Recall': 0.6928, 'F1-Score': 0.6928, 'Hamming Loss': 0.3072}\n",
      "macro - {'Precision': 0.7516, 'Recall': 0.517, 'F1-Score': 0.5663, 'Hamming Loss': 0.3072}\n",
      "weighted - {'Precision': 0.6997, 'Recall': 0.6928, 'F1-Score': 0.6868, 'Hamming Loss': 0.3072}\n"
     ]
    }
   ],
   "source": [
    "# Расчёт метрик для предсказания рейтинга\n",
    "for i in ['micro', 'macro', 'weighted']:\n",
    "    lr_metrics = mu.calculate_metrics(y_test_r, y_pred_cat_r, i)\n",
    "    print(i,'-', lr_metrics)"
   ]
  },
  {
   "cell_type": "code",
   "execution_count": null,
   "metadata": {},
   "outputs": [],
   "source": [
    "# Пайплайн с CatBoostClassifier и переданным текстовым столбцом в качестве text_feature\n",
    "pipeline_cat_text_r = Pipeline([\n",
    "    ('clf', CatBoostClassifier(random_state=42, task_type='GPU', \n",
    "                               text_features=['text_combined'], silent=True))])\n",
    "\n",
    "# Обучение модели и предсказание хабов\n",
    "pipeline_cat_text_r.fit(X_train_r, y_train_r)\n",
    "y_pred_cat_text_r = pipeline_cat_text_r.predict(X_test_r)"
   ]
  },
  {
   "cell_type": "code",
   "execution_count": 26,
   "metadata": {},
   "outputs": [
    {
     "name": "stdout",
     "output_type": "stream",
     "text": [
      "micro - {'Precision': 0.6964, 'Recall': 0.6964, 'F1-Score': 0.6964, 'Hamming Loss': 0.3036}\n",
      "macro - {'Precision': 0.7622, 'Recall': 0.5028, 'F1-Score': 0.5441, 'Hamming Loss': 0.3036}\n",
      "weighted - {'Precision': 0.705, 'Recall': 0.6964, 'F1-Score': 0.6885, 'Hamming Loss': 0.3036}\n"
     ]
    }
   ],
   "source": [
    "# Расчёт метрик для предсказания хабов\n",
    "for i in ['micro', 'macro', 'weighted']:\n",
    "    lr_metrics = mu.calculate_metrics(y_test_r, y_pred_cat_text_r, i)\n",
    "    print(i,'-', lr_metrics)"
   ]
  },
  {
   "cell_type": "markdown",
   "metadata": {},
   "source": [
    "`Выводы для нелинейных моделей для предсказания рейтинга`\n",
    "* Все нелинейные модели показали улучшение метрик (для всех усреднений), если смотреть по нашим целевым микро-метрикам, то улучшение по F1-score с 0.63 для Логистической регрессии до 0.7 для случайного леса и 0.69 для CatBoost\n",
    "* Случайный лес демонстрирует наилучший общий результат - он показывает более высокие метрики (для всех усреднений) и обладает самым низким Hamming Loss (0.3)\n",
    "* Метрики CatBoost немного хуже, чем у случайного леса, но всё равно значительно обходят логистическую регрессию\n",
    "* Обучение для CatBoost (text_features) в 2 раза быстрее, чем случайный лес и Catboost (TFIDF), при этом метрики на уровне Catboost (TFIDF)"
   ]
  },
  {
   "cell_type": "markdown",
   "metadata": {},
   "source": [
    "## Кривые обучения"
   ]
  },
  {
   "cell_type": "markdown",
   "metadata": {},
   "source": [
    "### Хабы"
   ]
  },
  {
   "cell_type": "markdown",
   "metadata": {},
   "source": [
    "`Для хабов кривые обучения за час не построились, на сэмпле данных (25%) тоже, тогда просто посмотрим метрики на трейне и тесте`"
   ]
  },
  {
   "cell_type": "code",
   "execution_count": null,
   "metadata": {},
   "outputs": [],
   "source": [
    "pipeline_cat_h = joblib.load('pipeline_cat_h.pkl')\n",
    "y_pred_h_cat_test = pipeline_cat_h.predict(X_test_h)\n",
    "y_pred_h_cat_train = pipeline_cat_h.predict(X_train_h)"
   ]
  },
  {
   "cell_type": "code",
   "execution_count": null,
   "metadata": {},
   "outputs": [
    {
     "name": "stdout",
     "output_type": "stream",
     "text": [
      "micro - {'Precision': 0.8194, 'Recall': 0.4836, 'F1-Score': 0.6082, 'Hamming Loss': 0.0162}\n",
      "macro - {'Precision': 0.8241, 'Recall': 0.4462, 'F1-Score': 0.5613, 'Hamming Loss': 0.0162}\n",
      "weighted - {'Precision': 0.8199, 'Recall': 0.4836, 'F1-Score': 0.5909, 'Hamming Loss': 0.0162}\n"
     ]
    }
   ],
   "source": [
    "# test\n",
    "for i in ['micro', 'macro', 'weighted']:\n",
    "    lr_metrics = mu.calculate_metrics(y_test_h, y_pred_h_cat_test, i)\n",
    "    print(i,'-', lr_metrics)"
   ]
  },
  {
   "cell_type": "code",
   "execution_count": 10,
   "metadata": {},
   "outputs": [
    {
     "name": "stdout",
     "output_type": "stream",
     "text": [
      "micro - {'Precision': 0.9968, 'Recall': 0.9131, 'F1-Score': 0.9531, 'Hamming Loss': 0.0024}\n",
      "macro - {'Precision': 0.9989, 'Recall': 0.9298, 'F1-Score': 0.9617, 'Hamming Loss': 0.0024}\n",
      "weighted - {'Precision': 0.9968, 'Recall': 0.9131, 'F1-Score': 0.9511, 'Hamming Loss': 0.0024}\n"
     ]
    }
   ],
   "source": [
    "# train\n",
    "for i in ['micro', 'macro', 'weighted']:\n",
    "    lr_metrics = mu.calculate_metrics(y_train_h, y_pred_h_cat_train, i)\n",
    "    print(i,'-', lr_metrics)"
   ]
  },
  {
   "cell_type": "markdown",
   "metadata": {},
   "source": [
    "`Выводы`\n",
    "* Для модели Catboost (TFIDF) наблюдается переобучение, разница между метриками на обучающей и тестовой выборках существенная: Precision (0.99 и 0.82), Recall (0.91 и 0.48), F1-score (0.95 и 0.61), Hamming Loss (0.002 и 0.0162)"
   ]
  },
  {
   "cell_type": "markdown",
   "metadata": {},
   "source": [
    "### Рейтинг"
   ]
  },
  {
   "cell_type": "code",
   "execution_count": null,
   "metadata": {},
   "outputs": [
    {
     "data": {
      "image/png": "[encoded data removed]",
      "text/plain": [
       "<Figure size 800x600 with 1 Axes>"
      ]
     },
     "metadata": {},
     "output_type": "display_data"
    }
   ],
   "source": [
    "# Построим кривые обучения для лучшей модели рейтингов\n",
    "mu.plot_learning_curve(estimator=pipeline_rf_r, X=X_train_r, y=y_train_r, cv=3, scoring=\"f1_micro\")"
   ]
  },
  {
   "cell_type": "markdown",
   "metadata": {},
   "source": [
    "`Вывод по кривой обучения`\n",
    "* Модель получилась сильно переобученной, training score практически на уровне 1.0 для любого значения выборки, при это cross-val score находится сильно ниже (0.60-0.65)\n",
    "* С увеличением объёма обучающих данных cross-val score постепенно повышается"
   ]
  },
  {
   "cell_type": "markdown",
   "metadata": {},
   "source": [
    "## Обучение моделей на полном наборе данных"
   ]
  },
  {
   "cell_type": "markdown",
   "metadata": {},
   "source": [
    "### Предобработка данных"
   ]
  },
  {
   "cell_type": "markdown",
   "metadata": {},
   "source": [
    "`Изначально планировалось обучение на полном наборе данных, но они не влезли в 32 гб оперативки) Возьмём половину датасета (211к статей)`"
   ]
  },
  {
   "cell_type": "code",
   "execution_count": null,
   "metadata": {},
   "outputs": [],
   "source": [
    "df = pd.read_parquet(\"df_final_50.parquet\", engine=\"fastparquet\")\n",
    "# Выделение рейтинга статьи\n",
    "df['rating_level'] = mu.categorize_ratings(df)"
   ]
  },
  {
   "cell_type": "code",
   "execution_count": null,
   "metadata": {},
   "outputs": [],
   "source": [
    "# Предобработка датасета\n",
    "(df_prepr, y_multi_reduced, selector, \n",
    "index_to_label, mlb, \n",
    "y_rating, inverse_rating_mapping, indices) = mu.df_preprocess(df)\n",
    "\n",
    "# Ужимаем df для экономии оперативки\n",
    "df = df.iloc[0].copy()\n",
    "\n",
    "# Оставим только необходимые столбцы\n",
    "X = df_prepr.drop(columns=['author', 'publication_date', 'url', 'text_pos_tags', 'hubs', 'rating_level', 'rating_new', 'hubs_encoded']).copy()\n",
    "\n",
    "# Кодировка individ/company\n",
    "X['individ/company'] = X['individ/company'].map({'individual': 0, 'company': 1})\n",
    "X = X.rename(columns={'individ/company':'is_company'})\n",
    "X = pd.get_dummies(X, columns=['is_company'], drop_first=True)\n",
    "\n",
    "# Выделям матрицы признаков признаков для хабов и рейтинга\n",
    "X_hubs = X.iloc[indices].copy()\n",
    "X_rating = X.copy()"
   ]
  },
  {
   "cell_type": "code",
   "execution_count": 4,
   "metadata": {},
   "outputs": [],
   "source": [
    "# Выделяем нужные столбцы\n",
    "text_col = 'text_combined'\n",
    "num_cols= ['comments', 'views', 'reading_time', 'bookmarks_cnt', 'text_length']\n",
    "\n",
    "# Добавим снижение размерности данных в текстовый пайплайн, чтобы избежать проклятия размерности в нелинейных моделях\n",
    "text_pipeline_svd = Pipeline([\n",
    "    ('tfidf', TfidfVectorizer(max_features=10000, ngram_range=(1, 2))),\n",
    "    ('svd', TruncatedSVD(n_components=50, random_state=42))])\n",
    "numeric_pipeline = Pipeline([('scaler', StandardScaler())])\n",
    "\n",
    "# Объединяем преобразования с помощью ColumnTransformer\n",
    "preprocessor_svd = ColumnTransformer([\n",
    "    ('text', text_pipeline_svd, text_col),\n",
    "    ('num', numeric_pipeline, num_cols)])\n",
    "\n",
    "# Разделение на обучающую и тестовую выборки для предсказания хабов (тем) статей\n",
    "X_train_h, X_test_h, y_train_h, y_test_h = train_test_split(X_hubs, y_multi_reduced, test_size=0.25)\n",
    "\n",
    "# Разделение на обучающую и тестовую выборки для предсказания рейтинга статьи\n",
    "X_train_r, X_test_r, y_train_r, y_test_r = train_test_split(X_rating, y_rating, test_size=0.25)"
   ]
  },
  {
   "cell_type": "markdown",
   "metadata": {},
   "source": [
    "### Хабы"
   ]
  },
  {
   "cell_type": "code",
   "execution_count": null,
   "metadata": {},
   "outputs": [],
   "source": [
    "# Обучение и предикт\n",
    "pipeline_cat_h = Pipeline([\n",
    "    ('preprocessor', preprocessor_svd),\n",
    "    ('clf', OneVsRestClassifier(CatBoostClassifier(random_state=42, thread_count=-1, silent=True)))])\n",
    "\n",
    "pipeline_cat_h.fit(X_train_h, y_train_h)\n",
    "y_pred_h = pipeline_cat_h.predict(X_test_h)"
   ]
  },
  {
   "cell_type": "code",
   "execution_count": null,
   "metadata": {},
   "outputs": [
    {
     "name": "stdout",
     "output_type": "stream",
     "text": [
      "micro - {'Precision': 0.7591, 'Recall': 0.4352, 'F1-Score': 0.5532, 'Hamming Loss': 0.0187}\n",
      "macro - {'Precision': 0.7407, 'Recall': 0.3892, 'F1-Score': 0.4884, 'Hamming Loss': 0.0187}\n",
      "weighted - {'Precision': 0.7437, 'Recall': 0.4352, 'F1-Score': 0.5279, 'Hamming Loss': 0.0187}\n"
     ]
    }
   ],
   "source": [
    "# Сохранение модели для предсказания хабов\n",
    "joblib.dump(pipeline_cat_h, 'pipeline_h_50.pkl')\n",
    "\n",
    "# Метрики\n",
    "for i in ['micro', 'macro', 'weighted']:\n",
    "    lr_metrics = mu.calculate_metrics(y_test_h, y_pred_h, i)\n",
    "    print(i,'-', lr_metrics)"
   ]
  },
  {
   "cell_type": "markdown",
   "metadata": {},
   "source": [
    "`Итоговые выводы`\n",
    "* По сравнению с линейной моделью (SVC), обученной только на текстовых признаках, мы получили общее улучшение всех метрик (для всех усреднений) при использовании модели CatBoostClassifier, обученной на всех признаках статей\n",
    "* При этом сменились акценты - по микро-метрикам (нашим основным) SVC имел высокий Recall (0.72) и низкий Precision (0.38), а CatBoost имеет высокий Precision (0.76) и средний Recall (0.44)\n",
    "* Hamming Loss остался на том же уровне (SVC - 0.167, CatBoost - 0.187)\n",
    "* Если смотреть по F1-Score, то улучшение на уровне 5% по микро-метрикам\n",
    "* Итого - применение CatBoostClassifier для задачи предсказания тем статей является более предпочтительным благодаря лучшим метрикам качества предсказаний"
   ]
  },
  {
   "cell_type": "markdown",
   "metadata": {},
   "source": [
    "### Рейтинг"
   ]
  },
  {
   "cell_type": "code",
   "execution_count": 11,
   "metadata": {},
   "outputs": [],
   "source": [
    "# Обучение и предикт\n",
    "pipeline_rf_r = Pipeline([\n",
    "    ('preprocessor', preprocessor_svd),\n",
    "    ('clf', RandomForestClassifier(n_jobs=-1, random_state=42))])\n",
    "\n",
    "pipeline_rf_r.fit(X_train_r, y_train_r)\n",
    "y_pred_r = pipeline_rf_r.predict(X_test_r)"
   ]
  },
  {
   "cell_type": "code",
   "execution_count": null,
   "metadata": {},
   "outputs": [
    {
     "name": "stdout",
     "output_type": "stream",
     "text": [
      "micro - {'Precision': 0.6526, 'Recall': 0.6526, 'F1-Score': 0.6526, 'Hamming Loss': 0.3474}\n",
      "macro - {'Precision': 0.7436, 'Recall': 0.4327, 'F1-Score': 0.4596, 'Hamming Loss': 0.3474}\n",
      "weighted - {'Precision': 0.6659, 'Recall': 0.6526, 'F1-Score': 0.6415, 'Hamming Loss': 0.3474}\n"
     ]
    }
   ],
   "source": [
    "# Сохранение модели для предсказания рейтинга\n",
    "joblib.dump(pipeline_rf_r, 'pipeline_r_50.pkl')\n",
    "\n",
    "# Метрики\n",
    "for i in ['micro', 'macro', 'weighted']:\n",
    "    lr_metrics = mu.calculate_metrics(y_test_r, y_pred_r, i)\n",
    "    print(i,'-', lr_metrics)"
   ]
  },
  {
   "cell_type": "markdown",
   "metadata": {},
   "source": [
    "`Итоговые выводы`\n",
    "* Если сравнивать с линейной моделью Logistic Regression, обученной только на текстовых признаках, то применение RandomForest даёт существенный буст по всем метрикам (и всем усреднениям)\n",
    "* По микро-метрикам улучшение на уровне 15% (с 0.5 до 0.65), при этом Hamming Loss так же значительно снизился (с 0.5 до 0.35), что говорит о меньшем количестве ошибок модели при предсказании\n",
    "* Наиболее сильно вырос макро-Precision (с 0.29 до 0.74), благодаря чему F1-score также вырос (с 0.29 до 0.46), то есть нелинейная модель лучше даёт предсказание для редких классов\n",
    "* Итого - для задачи предсказания рейтинга статей RandomForestClassifier выглядит предпочтительнее благодаря значительному росту метрик качества предсказаний"
   ]
  }
 ],
 "metadata": {
  "kernelspec": {
   "display_name": "data_sc",
   "language": "python",
   "name": "python3"
  },
  "language_info": {
   "codemirror_mode": {
    "name": "ipython",
    "version": 3
   },
   "file_extension": ".py",
   "mimetype": "text/x-python",
   "name": "python",
   "nbconvert_exporter": "python",
   "pygments_lexer": "ipython3",
   "version": "3.10.15"
  }
 },
 "nbformat": 4,
 "nbformat_minor": 2
}

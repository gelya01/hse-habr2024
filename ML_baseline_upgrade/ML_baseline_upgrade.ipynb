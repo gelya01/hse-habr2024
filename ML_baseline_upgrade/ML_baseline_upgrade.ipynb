{
 "cells": [
  {
   "cell_type": "markdown",
   "metadata": {},
   "source": [
    "# Улучшение бейзлайна"
   ]
  },
  {
   "cell_type": "markdown",
   "metadata": {},
   "source": [
    "## Импорты, просмотр данных"
   ]
  },
  {
   "cell_type": "code",
   "execution_count": 2,
   "metadata": {},
   "outputs": [],
   "source": [
    "# Импорты\n",
    "import pandas as pd\n",
    "import pickle\n",
    "import joblib\n",
    "import numpy as np\n",
    "import random\n",
    "import ml_utils as mu\n",
    "from sklearn.pipeline import Pipeline\n",
    "from sklearn.feature_extraction.text import TfidfVectorizer\n",
    "from sklearn.compose import ColumnTransformer\n",
    "from sklearn.svm import LinearSVC\n",
    "from sklearn.preprocessing import StandardScaler\n",
    "from sklearn.multiclass import OneVsRestClassifier\n",
    "from xgboost import XGBClassifier\n",
    "from lightgbm import LGBMClassifier\n",
    "from sklearn.ensemble import RandomForestClassifier\n",
    "from sklearn.model_selection import train_test_split, cross_val_score\n",
    "from sklearn.linear_model import LogisticRegression\n",
    "import optuna\n",
    "\n",
    "#optuna.logging.set_verbosity(optuna.logging.WARNING)\n",
    "random.seed(42)\n",
    "np.random.seed(42)\n",
    "pd.options.mode.chained_assignment = None\n",
    "pd.set_option('display.max_colwidth', 80)\n",
    "\n",
    "import warnings\n",
    "warnings.simplefilter(action='ignore', category=FutureWarning)"
   ]
  },
  {
   "cell_type": "markdown",
   "metadata": {},
   "source": [
    "`Так же, как и в ноутбуке построения бейзлайна возьмём 10% данных для подбора оптимальной модели, затем для неё подберём оптимальные гиперпараметры и уже обучим итоговые модели на всех данных (обучение моделей для подбора оптимальных гиперпараметров на всех данных слишком длительный процесс)`"
   ]
  },
  {
   "cell_type": "markdown",
   "metadata": {},
   "source": [
    "### Предобработка данных"
   ]
  },
  {
   "cell_type": "code",
   "execution_count": null,
   "metadata": {},
   "outputs": [],
   "source": [
    "# Сэмпл данных - 10% от всего объёма\n",
    "df = pd.read_parquet(\"sample_10.parquet\")"
   ]
  },
  {
   "cell_type": "code",
   "execution_count": null,
   "metadata": {},
   "outputs": [
    {
     "data": {
      "text/html": [
       "<div>\n",
       "<style scoped>\n",
       "    .dataframe tbody tr th:only-of-type {\n",
       "        vertical-align: middle;\n",
       "    }\n",
       "\n",
       "    .dataframe tbody tr th {\n",
       "        vertical-align: top;\n",
       "    }\n",
       "\n",
       "    .dataframe thead th {\n",
       "        text-align: right;\n",
       "    }\n",
       "</style>\n",
       "<table border=\"1\" class=\"dataframe\">\n",
       "  <thead>\n",
       "    <tr style=\"text-align: right;\">\n",
       "      <th></th>\n",
       "      <th>author</th>\n",
       "      <th>publication_date</th>\n",
       "      <th>hubs</th>\n",
       "      <th>comments</th>\n",
       "      <th>views</th>\n",
       "      <th>url</th>\n",
       "      <th>reading_time</th>\n",
       "      <th>individ/company</th>\n",
       "      <th>bookmarks_cnt</th>\n",
       "      <th>text_length</th>\n",
       "      <th>tags_tokens</th>\n",
       "      <th>title_tokens</th>\n",
       "      <th>rating_new</th>\n",
       "      <th>text_tokens</th>\n",
       "      <th>text_pos_tags</th>\n",
       "      <th>rating_level</th>\n",
       "    </tr>\n",
       "  </thead>\n",
       "  <tbody>\n",
       "    <tr>\n",
       "      <th>244527</th>\n",
       "      <td>piva</td>\n",
       "      <td>2015-03-19 23:26:31+00:00</td>\n",
       "      <td>Карьера в IT-индустрии</td>\n",
       "      <td>1</td>\n",
       "      <td>9300</td>\n",
       "      <td>https://habr.com/ru/articles/296674/</td>\n",
       "      <td>7.0</td>\n",
       "      <td>individual</td>\n",
       "      <td>9.0</td>\n",
       "      <td>11598</td>\n",
       "      <td>['рейтинг' 'университет' 'учебный' 'процесс' 'it' 'обучение' 'рубеж']</td>\n",
       "      <td>['рейтинг' 'университет' 'мир' 'фокус' 'it']</td>\n",
       "      <td>4.0</td>\n",
       "      <td>['декабрь' 'год' 'опубликовать' ... 'деньга' 'счёт' 'высоко']</td>\n",
       "      <td>[SPACE, NOUN, SPACE, NOUN, AUX, VERB, NOUN, NOUN, ADJ, NOUN, ADP, ADJ, ADJ, ...</td>\n",
       "      <td>neutral</td>\n",
       "    </tr>\n",
       "    <tr>\n",
       "      <th>124523</th>\n",
       "      <td>diafour</td>\n",
       "      <td>2017-08-23 08:26:06+00:00</td>\n",
       "      <td>Блог компании Флант, Анализ и проектирование систем, Системы сборки</td>\n",
       "      <td>10</td>\n",
       "      <td>11000</td>\n",
       "      <td>https://habr.com/ru/companies/flant/articles/336212/</td>\n",
       "      <td>7.0</td>\n",
       "      <td>company</td>\n",
       "      <td>33.0</td>\n",
       "      <td>12167</td>\n",
       "      <td>['dapp' 'docker' 'devops' 'continuous' 'integration' 'continuous'\n",
       " 'delivery...</td>\n",
       "      <td>['практика' 'dapp' 'часть' 'сборка' 'простой' 'приложение']</td>\n",
       "      <td>21.0</td>\n",
       "      <td>['статья' 'ознакомительный' 'руководство' ... 'dapp' 'gitlab' 'ci']</td>\n",
       "      <td>[DET, NOUN, SPACE, ADJ, NOUN, ADP, NOUN, PROPN, NOUN, ADP, NOUN, DET, X, X, ...</td>\n",
       "      <td>positive</td>\n",
       "    </tr>\n",
       "    <tr>\n",
       "      <th>59271</th>\n",
       "      <td>flancer</td>\n",
       "      <td>2019-12-03 21:30:41+00:00</td>\n",
       "      <td>Magento, VueJS, Разработка под e-commerce</td>\n",
       "      <td>0</td>\n",
       "      <td>3600</td>\n",
       "      <td>https://habr.com/ru/articles/478544/</td>\n",
       "      <td>4.0</td>\n",
       "      <td>individual</td>\n",
       "      <td>22.0</td>\n",
       "      <td>4838</td>\n",
       "      <td>['vuejs' 'vue' 'storefront' 'magento' 'api' 'интеграция' 'кликает'\n",
       " 'реферал...</td>\n",
       "      <td>['vue' 'storefront' 'импорт' 'каталог' 'magento']</td>\n",
       "      <td>3.0</td>\n",
       "      <td>['наконецто' 'получиться' 'увидеть' 'magento' 'категория' 'продукт'\n",
       " 'прилож...</td>\n",
       "      <td>[NOUN, VERB, VERB, NOUN, ADP, PROPN, NOUN, CCONJ, NOUN, ADP, NOUN, X, X, X, ...</td>\n",
       "      <td>neutral</td>\n",
       "    </tr>\n",
       "    <tr>\n",
       "      <th>276154</th>\n",
       "      <td>valergrad</td>\n",
       "      <td>2009-11-25 10:24:04+00:00</td>\n",
       "      <td>Чулан</td>\n",
       "      <td>27</td>\n",
       "      <td>2100</td>\n",
       "      <td>https://habr.com/ru/articles/76344/</td>\n",
       "      <td>1.0</td>\n",
       "      <td>individual</td>\n",
       "      <td>9.0</td>\n",
       "      <td>487</td>\n",
       "      <td>['притчи' 'мотивация' 'саморазвитие']</td>\n",
       "      <td>['притча' 'желание']</td>\n",
       "      <td>37.0</td>\n",
       "      <td>['учитель' 'прийти' 'человек' 'попросить' 'научить' 'добиваться' 'жизнь'\n",
       " 'у...</td>\n",
       "      <td>[ADV, ADP, NOUN, VERB, NOUN, CCONJ, VERB, VERB, PRON, VERB, ADP, NOUN, NOUN,...</td>\n",
       "      <td>very positive</td>\n",
       "    </tr>\n",
       "    <tr>\n",
       "      <th>92772</th>\n",
       "      <td>Ezhyg</td>\n",
       "      <td>2017-03-08 08:49:19+00:00</td>\n",
       "      <td>3D-принтеры, DIY или Сделай сам</td>\n",
       "      <td>85</td>\n",
       "      <td>36000</td>\n",
       "      <td>https://habr.com/ru/articles/402153/</td>\n",
       "      <td>7.0</td>\n",
       "      <td>individual</td>\n",
       "      <td>33.0</td>\n",
       "      <td>10844</td>\n",
       "      <td>['дешёвый' 'жильё' 'dпечать']</td>\n",
       "      <td>['разбирать' 'напечатанный' 'дом']</td>\n",
       "      <td>39.0</td>\n",
       "      <td>['комментарий' 'статья' 'россия' 'напечатать' 'первый' 'жилой' 'дом'\n",
       " 'бетон...</td>\n",
       "      <td>[NOUN, ADP, NOUN, ADP, PROPN, VERB, ADJ, ADJ, NOUN, ADP, NOUN, ADP, SPACE, N...</td>\n",
       "      <td>very positive</td>\n",
       "    </tr>\n",
       "  </tbody>\n",
       "</table>\n",
       "</div>"
      ],
      "text/plain": [
       "           author          publication_date  \\\n",
       "244527       piva 2015-03-19 23:26:31+00:00   \n",
       "124523    diafour 2017-08-23 08:26:06+00:00   \n",
       "59271     flancer 2019-12-03 21:30:41+00:00   \n",
       "276154  valergrad 2009-11-25 10:24:04+00:00   \n",
       "92772       Ezhyg 2017-03-08 08:49:19+00:00   \n",
       "\n",
       "                                                                       hubs  \\\n",
       "244527                                               Карьера в IT-индустрии   \n",
       "124523  Блог компании Флант, Анализ и проектирование систем, Системы сборки   \n",
       "59271                             Magento, VueJS, Разработка под e-commerce   \n",
       "276154                                                                Чулан   \n",
       "92772                                       3D-принтеры, DIY или Сделай сам   \n",
       "\n",
       "        comments  views                                                   url  \\\n",
       "244527         1   9300                  https://habr.com/ru/articles/296674/   \n",
       "124523        10  11000  https://habr.com/ru/companies/flant/articles/336212/   \n",
       "59271          0   3600                  https://habr.com/ru/articles/478544/   \n",
       "276154        27   2100                   https://habr.com/ru/articles/76344/   \n",
       "92772         85  36000                  https://habr.com/ru/articles/402153/   \n",
       "\n",
       "        reading_time individ/company  bookmarks_cnt  text_length  \\\n",
       "244527           7.0      individual            9.0        11598   \n",
       "124523           7.0         company           33.0        12167   \n",
       "59271            4.0      individual           22.0         4838   \n",
       "276154           1.0      individual            9.0          487   \n",
       "92772            7.0      individual           33.0        10844   \n",
       "\n",
       "                                                                            tags_tokens  \\\n",
       "244527            ['рейтинг' 'университет' 'учебный' 'процесс' 'it' 'обучение' 'рубеж']   \n",
       "124523  ['dapp' 'docker' 'devops' 'continuous' 'integration' 'continuous'\n",
       " 'delivery...   \n",
       "59271   ['vuejs' 'vue' 'storefront' 'magento' 'api' 'интеграция' 'кликает'\n",
       " 'реферал...   \n",
       "276154                                            ['притчи' 'мотивация' 'саморазвитие']   \n",
       "92772                                                     ['дешёвый' 'жильё' 'dпечать']   \n",
       "\n",
       "                                                       title_tokens  \\\n",
       "244527                 ['рейтинг' 'университет' 'мир' 'фокус' 'it']   \n",
       "124523  ['практика' 'dapp' 'часть' 'сборка' 'простой' 'приложение']   \n",
       "59271             ['vue' 'storefront' 'импорт' 'каталог' 'magento']   \n",
       "276154                                         ['притча' 'желание']   \n",
       "92772                            ['разбирать' 'напечатанный' 'дом']   \n",
       "\n",
       "        rating_new  \\\n",
       "244527         4.0   \n",
       "124523        21.0   \n",
       "59271          3.0   \n",
       "276154        37.0   \n",
       "92772         39.0   \n",
       "\n",
       "                                                                            text_tokens  \\\n",
       "244527                    ['декабрь' 'год' 'опубликовать' ... 'деньга' 'счёт' 'высоко']   \n",
       "124523              ['статья' 'ознакомительный' 'руководство' ... 'dapp' 'gitlab' 'ci']   \n",
       "59271   ['наконецто' 'получиться' 'увидеть' 'magento' 'категория' 'продукт'\n",
       " 'прилож...   \n",
       "276154  ['учитель' 'прийти' 'человек' 'попросить' 'научить' 'добиваться' 'жизнь'\n",
       " 'у...   \n",
       "92772   ['комментарий' 'статья' 'россия' 'напечатать' 'первый' 'жилой' 'дом'\n",
       " 'бетон...   \n",
       "\n",
       "                                                                          text_pos_tags  \\\n",
       "244527  [SPACE, NOUN, SPACE, NOUN, AUX, VERB, NOUN, NOUN, ADJ, NOUN, ADP, ADJ, ADJ, ...   \n",
       "124523  [DET, NOUN, SPACE, ADJ, NOUN, ADP, NOUN, PROPN, NOUN, ADP, NOUN, DET, X, X, ...   \n",
       "59271   [NOUN, VERB, VERB, NOUN, ADP, PROPN, NOUN, CCONJ, NOUN, ADP, NOUN, X, X, X, ...   \n",
       "276154  [ADV, ADP, NOUN, VERB, NOUN, CCONJ, VERB, VERB, PRON, VERB, ADP, NOUN, NOUN,...   \n",
       "92772   [NOUN, ADP, NOUN, ADP, PROPN, VERB, ADJ, ADJ, NOUN, ADP, NOUN, ADP, SPACE, N...   \n",
       "\n",
       "         rating_level  \n",
       "244527        neutral  \n",
       "124523       positive  \n",
       "59271         neutral  \n",
       "276154  very positive  \n",
       "92772   very positive  "
      ]
     },
     "execution_count": 3,
     "metadata": {},
     "output_type": "execute_result"
    }
   ],
   "source": [
    "df.head(2)"
   ]
  },
  {
   "cell_type": "code",
   "execution_count": 4,
   "metadata": {},
   "outputs": [],
   "source": [
    "# Выделение рейтинга статьи\n",
    "df['rating_level'] = mu.categorize_ratings(df)\n",
    "\n",
    "# Предобработка датасета: фильтрация, объединение текстовых токенов,\n",
    "# кодировка меток(хабов) и преобразование рейтингов\n",
    "(df_prepr, y_multi_reduced, selector, \n",
    "index_to_label, mlb, \n",
    "y_rating, inverse_rating_mapping) = mu.df_preprocess(df)"
   ]
  },
  {
   "cell_type": "markdown",
   "metadata": {},
   "source": [
    "### Работа с признаками"
   ]
  },
  {
   "cell_type": "code",
   "execution_count": 5,
   "metadata": {},
   "outputs": [],
   "source": [
    "# Оставим только необходимые столбцы\n",
    "X = df_prepr.drop(columns=['author', 'publication_date', 'url', 'text_pos_tags', 'hubs', 'rating_level', 'rating_new', 'hubs_encoded']).copy()\n",
    "\n",
    "# Кодировка individ/company\n",
    "X['individ/company'] = X['individ/company'].map({'individual':0, 'company':1})\n",
    "X = X.rename(columns={'individ/company':'is_company'})\n",
    "\n",
    "# Выделяем нужные столбцы\n",
    "text_col = 'text_combined'\n",
    "num_cols= ['comments', 'views', 'reading_time', 'is_company', 'bookmarks_cnt', 'text_length']\n",
    "\n",
    "# Пайплайны (числовой, текстовый) для предсказания хабов (тем) статей\n",
    "text_pipeline = Pipeline([('tfidf', TfidfVectorizer(max_features=10000, ngram_range=(1, 2)))])\n",
    "numeric_pipeline = Pipeline([('scaler', StandardScaler())])\n",
    "\n",
    "# Объединяем преобразования с помощью ColumnTransformer\n",
    "preprocessor = ColumnTransformer([\n",
    "    ('text', text_pipeline, text_col),\n",
    "    ('num', numeric_pipeline, num_cols)])"
   ]
  },
  {
   "cell_type": "markdown",
   "metadata": {},
   "source": [
    "### Лучшая модель бейзлайна для хабов"
   ]
  },
  {
   "cell_type": "code",
   "execution_count": 6,
   "metadata": {},
   "outputs": [],
   "source": [
    "# Пайплайн для предсказания хабов (параметры выбраны как лучшие, полученные при построении бейзлайна)\n",
    "pipeline_h = Pipeline([\n",
    "    ('preprocessor', preprocessor),\n",
    "    ('clf', OneVsRestClassifier(LinearSVC(max_iter=1000, C=0.1, random_state=42), n_jobs=7))])\n",
    "\n",
    "# Разделение на обучающую и тестовую выборки для предсказания хабов (тем) статей\n",
    "X_train, X_test, y_train_h, y_test_h = train_test_split(X, y_multi_reduced, test_size=0.25)\n",
    "\n",
    "# Обучение и предсказание по лучшему пайплайну для хабов\n",
    "pipeline_h.fit(X_train, y_train_h)\n",
    "y_pred_h = pipeline_h.predict(X_test)"
   ]
  },
  {
   "cell_type": "code",
   "execution_count": 7,
   "metadata": {},
   "outputs": [
    {
     "name": "stdout",
     "output_type": "stream",
     "text": [
      "micro - {'Precision': 0.7849, 'Recall': 0.2035, 'F1-Score': 0.3232, 'Hamming Loss': 0.018}\n",
      "macro - {'Precision': 0.7071, 'Recall': 0.1719, 'F1-Score': 0.248, 'Hamming Loss': 0.018}\n",
      "weighted - {'Precision': 0.7285, 'Recall': 0.2035, 'F1-Score': 0.2901, 'Hamming Loss': 0.018}\n"
     ]
    }
   ],
   "source": [
    "# Расчёт метрик для предсказания хабов\n",
    "for i in ['micro', 'macro', 'weighted']:\n",
    "    lr_metrics = mu.calculate_metrics(y_test_h, y_pred_h, i)\n",
    "    print(i,'-', lr_metrics)"
   ]
  },
  {
   "cell_type": "markdown",
   "metadata": {},
   "source": [
    "`Baseline Recap (Hubs)`\n",
    "* При использовании только текста статьи как основного признака у модели был высокий Recall (~66%), большая часть релевантных статей были выявлены\n",
    "* При этом наблюдался низкий Precision (~31-36%)\n",
    "* Значение F1-score был средним (39-46%), низкая точность вносила свой негативный вклад\n",
    "\n",
    "`Выводы по метрикам при использовании всех признаков`\n",
    "* Модель имеет высокий Precision (~70-78%), предсказанные темы статей в большинстве случаев верны\n",
    "* Наблюдается низкий Recall (~17-20%), модель пропускает много статей, которые должны были быть отнесены к определенной теме\n",
    "* Снижение Recall отрицательно сказывается на F1-Score (~25–32%), итоговый баланс между Precision и Recall оказывается хуже, чем при использовании только текста\n",
    "\n",
    "`Общие выводы`\n",
    "* При использовании только текста достигается лучшая полнота (Recall), однако это происходит за счёт увеличения числа ложных срабатываний (низкий Precision)\n",
    "* Добавление дополнительных признаков делает модель более «консервативной» — она предсказывает тему только в тех случаях, когда уверена в правильности (высокий Precision), но при этом пропускает многие релевантные статьи (низкий Recall)\n",
    "* Незначительное отличие в Hamming Loss (0.018 против 0.0186) указывает на схожую общую ошибочность по отдельным меткам, однако распределение ошибок (ложные срабатывания и пропущенные примеры) существенно различается\n",
    "* В следующих пунктах попробуем повысить F1-score за счёт увеличения Recall, при это сохранив высокий Precision"
   ]
  },
  {
   "cell_type": "markdown",
   "metadata": {},
   "source": [
    "### Лучшая модель бейзлайна для рейтинга"
   ]
  },
  {
   "cell_type": "code",
   "execution_count": null,
   "metadata": {},
   "outputs": [],
   "source": [
    "# Пайплайн для предсказания рейтинга (параметры выбраны как лучшие, полученные при построении бейзлайна)\n",
    "pipeline_r = Pipeline([\n",
    "    ('preprocessor', preprocessor),\n",
    "    ('clf', LogisticRegression(max_iter=5000, C=1, solver='sag', random_state=42))])\n",
    "\n",
    "# Разделение на обучающую и тестовую выборки для предсказания рейтинга статьи\n",
    "X_train, X_test, y_train_r, y_test_r = train_test_split(X, y_rating, test_size=0.25)\n",
    "\n",
    "# Обучение и предсказание по лучшему пайплайну для рейтинга\n",
    "pipeline_r.fit(X_train, y_train_r)\n",
    "y_pred_r = pipeline_r.predict(X_test)"
   ]
  },
  {
   "cell_type": "code",
   "execution_count": 9,
   "metadata": {},
   "outputs": [
    {
     "name": "stdout",
     "output_type": "stream",
     "text": [
      "micro - {'Precision': 0.6058, 'Recall': 0.6058, 'F1-Score': 0.6058, 'Hamming Loss': 0.3942}\n",
      "macro - {'Precision': 0.4107, 'Recall': 0.3714, 'F1-Score': 0.3736, 'Hamming Loss': 0.3942}\n",
      "weighted - {'Precision': 0.5984, 'Recall': 0.6058, 'F1-Score': 0.5941, 'Hamming Loss': 0.3942}\n"
     ]
    }
   ],
   "source": [
    "# Расчёт метрик для предсказания рейтинга\n",
    "for i in ['micro', 'macro', 'weighted']:\n",
    "    lr_metrics = mu.calculate_metrics(y_test_r, y_pred_r, i)\n",
    "    print(i,'-', lr_metrics)"
   ]
  },
  {
   "cell_type": "markdown",
   "metadata": {},
   "source": [
    "`Baseline Recap (Rating)`\n",
    "* Микро-метрики равны 0.47, что показывает среднее качество модели\n",
    "* Макро-метрики были довольно низкими (Precision - 0.26, Recall - 0.28, F1 - 0.26), учитывая что в наших данных сильный дизбаланс классов, модель не могла качественно предсказывать редкие классы\n",
    "* Hamming Loss был довольно высоким (0.53), что говорит о невысокой точности модели\n",
    "\n",
    "`Выводы по метрикам при использовании всех признаков`\n",
    "* Микро-метрики выросли до 0.61, что указывает на хороший буст в сравнении с моделью бейзлайна\n",
    "* Макро-метрики также выросли (Precision - 0.41, Recall - 0.37 и F1 - 0.37), рост этих метрик указывает на более равномерное качество предсказаний по всем классам\n",
    "* Hamming Loss уменьшился с 0.53 до 0.39, что говорит о том, что модель делает меньше ошибок при классификации\n",
    "\n",
    "`Общие выводы`\n",
    "* Добавление дополнительных признаков существенно повышает как общую (микро), так и классовую (макро и взвешенные) эффективность модели\n",
    "* Несмотря на улучшения, более низкие макро-метрики могут указывать на проблемы с предсказанием для менее представленных классов"
   ]
  },
  {
   "cell_type": "markdown",
   "metadata": {},
   "source": [
    "### Обучение бустингов и случайного леса"
   ]
  },
  {
   "cell_type": "code",
   "execution_count": 25,
   "metadata": {},
   "outputs": [],
   "source": [
    "# Пайплайн со случайным лесом в качестве модели\n",
    "pipeline_rf = Pipeline([\n",
    "    ('preprocessor', preprocessor),\n",
    "    ('clf', OneVsRestClassifier(RandomForestClassifier(n_jobs=-2, random_state=42)))])\n",
    "\n",
    "# Обучение модели и предсказание хабов\n",
    "pipeline_rf.fit(X_train, y_train_h)\n",
    "y_pred_rf_h = pipeline_rf.predict(X_test)"
   ]
  },
  {
   "cell_type": "code",
   "execution_count": 26,
   "metadata": {},
   "outputs": [
    {
     "name": "stdout",
     "output_type": "stream",
     "text": [
      "micro - {'Precision': 0.0352, 'Recall': 0.0009, 'F1-Score': 0.0017, 'Hamming Loss': 0.0221}\n",
      "macro - {'Precision': 0.0177, 'Recall': 0.0005, 'F1-Score': 0.001, 'Hamming Loss': 0.0221}\n",
      "weighted - {'Precision': 0.0278, 'Recall': 0.0009, 'F1-Score': 0.0017, 'Hamming Loss': 0.0221}\n"
     ]
    }
   ],
   "source": [
    "# Расчёт метрик для предсказания хабов\n",
    "for i in ['micro', 'macro', 'weighted']:\n",
    "    lr_metrics = mu.calculate_metrics(y_test_h, y_pred_rf_h, i)\n",
    "    print(i,'-', lr_metrics)"
   ]
  },
  {
   "cell_type": "markdown",
   "metadata": {},
   "source": [
    "`Случайный лес совсем не справился с задачей предсказания тем статей (скорее всего сказывается слишком большое количество признаков), попробуем эту модель для рейтингов`"
   ]
  },
  {
   "cell_type": "code",
   "execution_count": 27,
   "metadata": {},
   "outputs": [],
   "source": [
    "# Пайплайн со случайным лесом в качестве модели\n",
    "pipeline_rf_r = Pipeline([\n",
    "    ('preprocessor', preprocessor),\n",
    "    ('clf', RandomForestClassifier(n_jobs=-2, random_state=42))])\n",
    "\n",
    "# Обучение модели и предсказание рейтинга\n",
    "pipeline_rf_r.fit(X_train, y_train_r)\n",
    "y_pred_rf_r = pipeline_rf_r.predict(X_test)"
   ]
  },
  {
   "cell_type": "code",
   "execution_count": 28,
   "metadata": {},
   "outputs": [
    {
     "name": "stdout",
     "output_type": "stream",
     "text": [
      "micro - {'Precision': 0.5754, 'Recall': 0.5754, 'F1-Score': 0.5754, 'Hamming Loss': 0.4246}\n",
      "macro - {'Precision': 0.7693, 'Recall': 0.341, 'F1-Score': 0.3497, 'Hamming Loss': 0.4246}\n",
      "weighted - {'Precision': 0.6174, 'Recall': 0.5754, 'F1-Score': 0.5513, 'Hamming Loss': 0.4246}\n"
     ]
    }
   ],
   "source": [
    "# Расчёт метрик для предсказания рейтинга\n",
    "for i in ['micro', 'macro', 'weighted']:\n",
    "    lr_metrics = mu.calculate_metrics(y_test_r, y_pred_rf_r, i)\n",
    "    print(i,'-', lr_metrics)"
   ]
  },
  {
   "cell_type": "markdown",
   "metadata": {},
   "source": [
    "`Вывод по случайному лесу для рейтинга`\n",
    "* Логистическая регрессия демонстрирует более сбалансированное распределение ошибок между классами, что отражается в более высоких микро-метриках и более низком Hamming Loss. Случайный лес, напротив, имеет высокий Precision для некоторых классов, но очень низкий Recall, что указывает на то, что модель часто пропускает примеры для менее представленных классов\n",
    "* По микро-метрикам логистическая регрессия опережает случайный лес (F1-Score 0.61 против 0.58), что делает её более предпочтительной"
   ]
  },
  {
   "cell_type": "markdown",
   "metadata": {},
   "source": [
    "`За кадром был проведен эксперимент по обучению бустинга для хабов, он в итоге не сошёлся (время обучения ушло в бесконечность), переходим сразу к рейтингу`"
   ]
  },
  {
   "cell_type": "code",
   "execution_count": 9,
   "metadata": {},
   "outputs": [],
   "source": [
    "# Пайплайн с LGBM в качестве модели\n",
    "pipeline_lgbm_r = Pipeline([\n",
    "    ('preprocessor', preprocessor),\n",
    "    ('clf', LGBMClassifier(n_jobs=-1, random_state=42, verbose=-1))])\n",
    "\n",
    "# Обучение модели и предсказание рейтинга\n",
    "pipeline_lgbm_r.fit(X_train, y_train_r)\n",
    "y_pred_lgbm_r = pipeline_lgbm_r.predict(X_test)"
   ]
  },
  {
   "cell_type": "code",
   "execution_count": 10,
   "metadata": {},
   "outputs": [
    {
     "name": "stdout",
     "output_type": "stream",
     "text": [
      "micro - {'Precision': 0.6321, 'Recall': 0.6321, 'F1-Score': 0.6321, 'Hamming Loss': 0.3679}\n",
      "macro - {'Precision': 0.5374, 'Recall': 0.4001, 'F1-Score': 0.4084, 'Hamming Loss': 0.3679}\n",
      "weighted - {'Precision': 0.6254, 'Recall': 0.6321, 'F1-Score': 0.6209, 'Hamming Loss': 0.3679}\n"
     ]
    }
   ],
   "source": [
    "# Расчёт метрик для предсказания рейтинга\n",
    "for i in ['micro', 'macro', 'weighted']:\n",
    "    lr_metrics = mu.calculate_metrics(y_test_r, y_pred_lgbm_r, i)\n",
    "    print(i,'-', lr_metrics)"
   ]
  },
  {
   "cell_type": "markdown",
   "metadata": {},
   "source": [
    "`Выводы для LGBMClassifier`\n",
    "* Все микро-метрики выросли (0.63), что свидетельствует о хорошей общей точности и полноте модели. Более низкий Hamming Loss (0.37) по сравнению с логистической регрессией (0.39) и случайным лесом (0.42) указывает на меньшее количество ошибок при классификации\n",
    "* Хотя макро-метрики свидетельствуют о том, что для некоторых классов точность (Recall и F1-Score) оставляет желать лучшего, стабильные взвешенные метрики подтверждают, что модель в целом показывает хорошее качество работы на данных с дисбалансом классов"
   ]
  },
  {
   "cell_type": "code",
   "execution_count": null,
   "metadata": {},
   "outputs": [],
   "source": [
    "# Предобработка таргета, чтобы XGB не ругался\n",
    "y_train_r_new = y_train_r.map({-2:0, -1:1, 0:2, 1:3, 2:4})\n",
    "y_test_r_new = y_test_r.map({-2:0, -1:1, 0:2, 1:3, 2:4})\n",
    "\n",
    "# Пайплайн с XGB в качестве модели\n",
    "pipeline_xgb_r = Pipeline([\n",
    "    ('preprocessor', preprocessor),\n",
    "    ('clf', XGBClassifier(n_jobs=-2, random_state=42))])\n",
    "\n",
    "# Обучение модели и предсказание рейтинга\n",
    "pipeline_xgb_r.fit(X_train, y_train_r_new)\n",
    "y_pred_xgb_r = pipeline_xgb_r.predict(X_test)"
   ]
  },
  {
   "cell_type": "code",
   "execution_count": 31,
   "metadata": {},
   "outputs": [
    {
     "name": "stdout",
     "output_type": "stream",
     "text": [
      "micro - {'Precision': 0.6258, 'Recall': 0.6258, 'F1-Score': 0.6258, 'Hamming Loss': 0.3742}\n",
      "macro - {'Precision': 0.4856, 'Recall': 0.3885, 'F1-Score': 0.3922, 'Hamming Loss': 0.3742}\n",
      "weighted - {'Precision': 0.6165, 'Recall': 0.6258, 'F1-Score': 0.6136, 'Hamming Loss': 0.3742}\n"
     ]
    }
   ],
   "source": [
    "# Расчёт метрик для предсказания рейтинга\n",
    "for i in ['micro', 'macro', 'weighted']:\n",
    "    lr_metrics = mu.calculate_metrics(y_test_r_new, y_pred_xgb_r, i)\n",
    "    print(i,'-', lr_metrics)"
   ]
  },
  {
   "cell_type": "markdown",
   "metadata": {},
   "source": [
    "`Выводы для XGBClassifier и CatBoostClassifier`\n",
    "* Обучение XGBClassifier заняло в несколько раз больше времени, чем LGBMClassifier, при этом все метрики ухудшились\n",
    "* За кадром также был протестировать CatBoostClassifier, его обучения занимает неприлично долго времени по сравнению с другими бустингами, не будем его использовать для нашей задачи"
   ]
  },
  {
   "cell_type": "markdown",
   "metadata": {},
   "source": [
    "`Итоговый вывод по нелинейным моделям`\n",
    "\n",
    "* Для предсказания хабов случайный лес и бустинги неприменимы, оставим связку (OneVSRescClassifier + SVC) и для неё подберём гиперпараметры через Optuna\n",
    "* Для предсказания рейтинга лучшей из моделей оказалась LGBMClassifier, возьмём её за основу и подберём гиперпараметры"
   ]
  },
  {
   "cell_type": "markdown",
   "metadata": {},
   "source": [
    "## Подбор гиперпараметров через Optuna"
   ]
  },
  {
   "cell_type": "markdown",
   "metadata": {},
   "source": [
    "### Хабы"
   ]
  },
  {
   "cell_type": "code",
   "execution_count": null,
   "metadata": {},
   "outputs": [],
   "source": [
    "# Optuna для поиска оптимальных гиперпараметров\n",
    "def objective_hubs(trial):    \n",
    "    # Подбираем гиперпараметры TF-IDF\n",
    "    tfidf_max_features = trial.suggest_int('preprocessor__text__tfidf__max_features', 10000, 20000, step=1000)\n",
    "    tfidf_min_df = trial.suggest_int('preprocessor__text__tfidf__min_df', 1, 10)\n",
    "    tfidf_max_df = trial.suggest_float('preprocessor__text__tfidf__max_df', 0.8, 1.0)\n",
    "\n",
    "    text_pipe = Pipeline([\n",
    "        ('tfidf', TfidfVectorizer(\n",
    "            max_features=tfidf_max_features,\n",
    "            min_df=tfidf_min_df,\n",
    "            max_df=tfidf_max_df))])\n",
    "\n",
    "    num_pipe = Pipeline([('scaler', StandardScaler())])\n",
    "\n",
    "    preprocessor = ColumnTransformer([\n",
    "        ('text', text_pipe, text_col),\n",
    "        ('num', num_pipe, num_cols)])\n",
    "\n",
    "    # Подбираем гиперпараметры SVC\n",
    "    C = trial.suggest_float('clf__estimator__C', 1e-2, 1e2, log=True)\n",
    "    penalty = trial.suggest_categorical('clf__estimator__penalty', ['l1', 'l2'])\n",
    "    class_weight = trial.suggest_categorical('clf__estimator__class_weight', [None, 'balanced'])\n",
    "\n",
    "    clf = OneVsRestClassifier(LinearSVC(\n",
    "        C=C,\n",
    "        penalty=penalty,\n",
    "        class_weight=class_weight,\n",
    "        random_state=42,\n",
    "        max_iter=1000), \n",
    "        n_jobs=7)\n",
    "\n",
    "    # Задаём модель\n",
    "    pipeline = Pipeline([\n",
    "        ('preprocessor', preprocessor),\n",
    "        ('clf', clf)])\n",
    "\n",
    "    score = cross_val_score(pipeline, X_train, y_train_h, cv=3, scoring=\"f1_micro\",  n_jobs=7).mean()\n",
    "    return score\n",
    "\n",
    "\n",
    "study_hubs = optuna.create_study(direction=\"maximize\")\n",
    "study_hubs.optimize(objective_hubs, n_trials=10)"
   ]
  },
  {
   "cell_type": "code",
   "execution_count": null,
   "metadata": {},
   "outputs": [
    {
     "data": {
      "text/plain": [
       "{'preprocessor__text__tfidf__max_features': 17000,\n",
       " 'preprocessor__text__tfidf__min_df': 1,\n",
       " 'preprocessor__text__tfidf__max_df': 0.9042581552013256,\n",
       " 'clf__estimator__C': 0.4146576759455364,\n",
       " 'clf__estimator__penalty': 'l2',\n",
       " 'clf__estimator__class_weight': 'balanced'}"
      ]
     },
     "execution_count": 28,
     "metadata": {},
     "output_type": "execute_result"
    }
   ],
   "source": [
    "# Сохраняем лучшие параметры для модели хабов\n",
    "best_params_h = study_hubs.best_params\n",
    "with open(\"best_params_h.pkl\", \"wb\") as f:\n",
    "    pickle.dump(best_params_h, f)\n",
    "best_params_h"
   ]
  },
  {
   "cell_type": "code",
   "execution_count": null,
   "metadata": {},
   "outputs": [],
   "source": [
    "# Снова поделим данные (чтобы не было ошибок)\n",
    "X_train, X_test, y_train_h, y_test_h = train_test_split(X, y_multi_reduced, test_size=0.25)\n",
    "\n",
    "# Лучший пайплайн для предсказания хабов\n",
    "pipeline_best_h = Pipeline([\n",
    "    ('preprocessor', ColumnTransformer([\n",
    "        ('text', Pipeline([('tfidf', TfidfVectorizer())]), text_col),\n",
    "        ('num', Pipeline([('scaler', StandardScaler())]), num_cols)])),\n",
    "    ('clf', OneVsRestClassifier(LinearSVC(max_iter=1000, random_state=42), n_jobs=7))])\n",
    "\n",
    "pipeline_best_h.set_params(**best_params_h)\n",
    "pipeline_best_h.fit(X_train, y_train_h)\n",
    "y_pred_h = pipeline_best_h.predict(X_test)"
   ]
  },
  {
   "cell_type": "code",
   "execution_count": 20,
   "metadata": {},
   "outputs": [
    {
     "name": "stdout",
     "output_type": "stream",
     "text": [
      "micro - {'Precision': 0.4468, 'Recall': 0.6108, 'F1-Score': 0.5161, 'Hamming Loss': 0.0242}\n",
      "macro - {'Precision': 0.4497, 'Recall': 0.5747, 'F1-Score': 0.5018, 'Hamming Loss': 0.0242}\n",
      "weighted - {'Precision': 0.4598, 'Recall': 0.6108, 'F1-Score': 0.5211, 'Hamming Loss': 0.0242}\n"
     ]
    }
   ],
   "source": [
    "for i in ['micro', 'macro', 'weighted']:\n",
    "    lr_metrics = mu.calculate_metrics(y_test_h, y_pred_h, i)\n",
    "    print(i,'-', lr_metrics)"
   ]
  },
  {
   "cell_type": "markdown",
   "metadata": {},
   "source": [
    "`Выводы по метрикам после подбора гиперпараметров`\n",
    "* По микро-метрикам (нашим основным) наблюдается общее снижение точности (Precision) модели с 0.79 до 0.45, повышение полноты (Recall) c 0.2 до 0.6 и повышение F1-score с 0.32 до 0.52, при этом немного вырос Hamming Locc с 0.018 до 0.0242, но в общем подбор гиперпараметров для модели даёт хороший буст по метрикам\n",
    "* Модель стала более \"агрессивной\", то есть лучше обнаруживает истинные метки за счет увеличения ложноположительных ошибок, что приводит к лучшему балансу (выше F1-Score) и более высокой полноте, но снижает точность"
   ]
  },
  {
   "cell_type": "code",
   "execution_count": 31,
   "metadata": {},
   "outputs": [
    {
     "data": {
      "image/png": "[encoded data removed]",
      "text/plain": [
       "<Figure size 800x600 with 1 Axes>"
      ]
     },
     "metadata": {},
     "output_type": "display_data"
    }
   ],
   "source": [
    "# Построим кривые обучения для полученной модели\n",
    "mu.plot_learning_curve(estimator=pipeline_best_h, X=X_train, y=y_train_h, cv=3, scoring=\"f1_micro\")"
   ]
  },
  {
   "cell_type": "markdown",
   "metadata": {},
   "source": [
    "`Вывод по кривой обучения`\n",
    "* Зазор между кривыми говорит о том, что модель переобучена: на тренировочных данных она показывает высокие результаты, но на отложенной выборке результаты хуже\n",
    "* Увеличение количества данных же улучшает обобщающую способность модели, но не устраняет полностью разрыв с тренировочной кривой"
   ]
  },
  {
   "cell_type": "markdown",
   "metadata": {},
   "source": [
    "### Рейтинг"
   ]
  },
  {
   "cell_type": "code",
   "execution_count": 21,
   "metadata": {},
   "outputs": [],
   "source": [
    "# Optuna для поиска оптимальных гиперпараметров\n",
    "def objective_rating(trial):    \n",
    "    # Подбираем гиперпараметры TF-IDF\n",
    "    tfidf_max_features = trial.suggest_int('preprocessor__text__tfidf__max_features', 10000, 20000, step=1000)\n",
    "    tfidf_min_df = trial.suggest_int('preprocessor__text__tfidf__min_df', 1, 10)\n",
    "    tfidf_max_df = trial.suggest_float('preprocessor__text__tfidf__max_df', 0.8, 1.0)\n",
    "\n",
    "    text_pipe = Pipeline([\n",
    "        ('tfidf', TfidfVectorizer(\n",
    "            max_features=tfidf_max_features,\n",
    "            min_df=tfidf_min_df,\n",
    "            max_df=tfidf_max_df))])\n",
    "\n",
    "    num_pipe = Pipeline([('scaler', StandardScaler())])\n",
    "\n",
    "    preprocessor = ColumnTransformer([\n",
    "        ('text', text_pipe, text_col),\n",
    "        ('num', num_pipe, num_cols)])\n",
    "\n",
    "    # Подбираем гиперпараметры LGBMClassifier\n",
    "    max_depth  = trial.suggest_int(\"clf__max_depth\", 3, 12)\n",
    "    learning_rate = trial.suggest_float('clf__learning_rate', 1e-3, 1e-1)\n",
    "    n_estimators = trial.suggest_int('clf__n_estimators', 100, 1000)\n",
    "\n",
    "    clf = LGBMClassifier(\n",
    "        max_depth = max_depth,\n",
    "        learning_rate = learning_rate,\n",
    "        n_estimators = n_estimators,\n",
    "        verbose = -1,\n",
    "        n_jobs=7,\n",
    "        random_state = 42)\n",
    "\n",
    "    # Задаём модель\n",
    "    pipeline = Pipeline([\n",
    "        ('preprocessor', preprocessor),\n",
    "        ('clf', clf)])\n",
    "\n",
    "    score = cross_val_score(pipeline, X_train, y_train_r, cv=3, scoring=\"f1_micro\",  n_jobs=7).mean()\n",
    "    return score\n",
    "\n",
    "\n",
    "study_rating = optuna.create_study(direction=\"maximize\")\n",
    "study_rating.optimize(objective_rating, n_trials=1)"
   ]
  },
  {
   "cell_type": "code",
   "execution_count": null,
   "metadata": {},
   "outputs": [
    {
     "data": {
      "text/plain": [
       "{'preprocessor__text__tfidf__max_features': 20000,\n",
       " 'preprocessor__text__tfidf__min_df': 10,\n",
       " 'preprocessor__text__tfidf__max_df': 0.9070462182751947,\n",
       " 'clf__max_depth': 8,\n",
       " 'clf__learning_rate': 0.07332512741088507,\n",
       " 'clf__n_estimators': 157}"
      ]
     },
     "execution_count": 27,
     "metadata": {},
     "output_type": "execute_result"
    }
   ],
   "source": [
    "# Сохраняем лучшие параметры для модели рейтинга\n",
    "best_params_r = study_hubs.best_params\n",
    "with open(\"best_params_r.pkl\", \"wb\") as f:\n",
    "    pickle.dump(best_params_r, f)\n",
    "best_params_r"
   ]
  },
  {
   "cell_type": "code",
   "execution_count": null,
   "metadata": {},
   "outputs": [],
   "source": [
    "# Снова поделим данные (чтобы не было ошибок)\n",
    "X_train, X_test, y_train_r, y_test_r = train_test_split(X, y_rating, test_size=0.25)\n",
    "\n",
    "# Лучший пайплайн для предсказания рейтинга статей\n",
    "pipeline_best_r = Pipeline([\n",
    "    ('preprocessor', ColumnTransformer([\n",
    "        ('text', Pipeline([('tfidf', TfidfVectorizer())]), text_col),\n",
    "        ('num', Pipeline([('scaler', StandardScaler())]), num_cols) ])),\n",
    "    ('clf', LGBMClassifier(verbose = -1, n_jobs=-1, random_state = 42))])\n",
    "\n",
    "pipeline_best_r.set_params(**best_params_r)\n",
    "\n",
    "pipeline_best_r.fit(X_train, y_train_r)\n",
    "y_pred_r = pipeline_best_r.predict(X_test)"
   ]
  },
  {
   "cell_type": "code",
   "execution_count": 35,
   "metadata": {},
   "outputs": [
    {
     "name": "stdout",
     "output_type": "stream",
     "text": [
      "micro - {'Precision': 0.6347, 'Recall': 0.6347, 'F1-Score': 0.6347, 'Hamming Loss': 0.3653}\n",
      "macro - {'Precision': 0.511, 'Recall': 0.4046, 'F1-Score': 0.411, 'Hamming Loss': 0.3653}\n",
      "weighted - {'Precision': 0.6245, 'Recall': 0.6347, 'F1-Score': 0.6229, 'Hamming Loss': 0.3653}\n"
     ]
    }
   ],
   "source": [
    "for i in ['micro', 'macro', 'weighted']:\n",
    "    lr_metrics = mu.calculate_metrics(y_test_r, y_pred_r, i)\n",
    "    print(i,'-', lr_metrics)"
   ]
  },
  {
   "cell_type": "markdown",
   "metadata": {},
   "source": [
    "`Выводы по метрикам после подбора гиперпараметров`\n",
    "* Для микро-метрик значения Precision, Recall и F1-Score увеличились с 0.6058 до 0.6347, при учёте всех классов в совокупности модель стала давать более точные и сбалансированные предсказания\n",
    "* Для макро-метрик Recall увеличился не так существенно (с 0.37 до 0.41), наблюдается значительный рост Precision (с 0.41 до 0.51) и F1-Score (с 0.37 до 0.41), то есть даже для редких классов модель с настройкой гиперпараметров показывает лучшие результаты\n",
    "* Для взвешенных метрик так же видна позитивная динамика (Precision вырос с 0.0.6 до 0.63, Recall с 0.61 до 0.64 и F1-Score с 0.59 до 0.62) что подтверждает то, что модель стала лучше справляться с классами различной частоты, улучшив предсказания в совокупности\n",
    "* Снижение Hamming Loss с 0.394 до 0.365 свидетельствует о том, что доля неверно предсказанных меток уменьшилась, это также позитив"
   ]
  },
  {
   "cell_type": "code",
   "execution_count": 36,
   "metadata": {},
   "outputs": [
    {
     "name": "stderr",
     "output_type": "stream",
     "text": [
      "c:\\Users\\dimas\\anaconda3\\envs\\data_sc\\lib\\site-packages\\joblib\\externals\\loky\\process_executor.py:752: UserWarning: A worker stopped while some jobs were given to the executor. This can be caused by a too short worker timeout or by a memory leak.\n",
      "  warnings.warn(\n"
     ]
    },
    {
     "data": {
      "image/png": "[encoded data removed]",
      "text/plain": [
       "<Figure size 800x600 with 1 Axes>"
      ]
     },
     "metadata": {},
     "output_type": "display_data"
    }
   ],
   "source": [
    "# Построим кривые обучения для полученной модели\n",
    "mu.plot_learning_curve(estimator=pipeline_best_r, X=X_train, y=y_train_r, cv=3, scoring=\"f1_micro\")"
   ]
  },
  {
   "cell_type": "markdown",
   "metadata": {},
   "source": [
    "`Вывод по кривой обучения`\n",
    "* Метрика F1-score (micro) для валидационной выборки изначально выше, начинается около 0.6 и продолжает расти ближе к 0.65\n",
    "* Разрыв между обучающей и валидационной кривыми тоже есть, но он меньше, чем для модели предсказания хабов, обучающая кривая опускается примерно с 0.95 до 0.85, а валидационная поднимается и постепенно приближается\n",
    "* Модель для рейтинга обобщается лучше (если смотреть на кривые), но она всё ещё переобучается (тренировочная метрика выше валидационной)"
   ]
  },
  {
   "cell_type": "markdown",
   "metadata": {},
   "source": [
    "## Обучение моделей на полном наборе данных"
   ]
  },
  {
   "cell_type": "markdown",
   "metadata": {},
   "source": [
    "### Предобработка данных"
   ]
  },
  {
   "cell_type": "code",
   "execution_count": 8,
   "metadata": {},
   "outputs": [],
   "source": [
    "# Теперь обучим лучшие пайплайны на всём наборе данных\n",
    "df = pd.read_parquet(\"df_l_fin.parquet\")\n",
    "\n",
    "# Выделение рейтинга статьи\n",
    "df['rating_level'] = mu.categorize_ratings(df)\n",
    "\n",
    "# Предобработка датасета: фильтрация, объединение текстовых токенов,\n",
    "# кодировка меток(хабов) и преобразование рейтингов\n",
    "(df_prepr, y_multi_reduced, selector, \n",
    "index_to_label, mlb, \n",
    "y_rating, inverse_rating_mapping) = mu.df_preprocess(df)\n",
    "\n",
    "# Оставим только необходимые столбцы\n",
    "X = df_prepr.drop(columns=['author', 'publication_date', 'url', 'text_pos_tags', 'hubs', 'rating_level', 'rating_new', 'hubs_encoded']).copy()\n",
    "\n",
    "# Кодировка individ/company\n",
    "X['individ/company'] = X['individ/company'].map({'individual':0, 'company':1})\n",
    "X = X.rename(columns={'individ/company':'is_company'})"
   ]
  },
  {
   "cell_type": "markdown",
   "metadata": {},
   "source": [
    "### Хабы"
   ]
  },
  {
   "cell_type": "code",
   "execution_count": 10,
   "metadata": {},
   "outputs": [],
   "source": [
    "# Разделение на выборки, обучение и предикт\n",
    "X_train, X_test, y_train_h, y_test_h = train_test_split(X, y_multi_reduced, test_size=0.25)\n",
    "pipeline_best_h.fit(X_train, y_train_h)\n",
    "y_pred_h = pipeline_best_h.predict(X_test)"
   ]
  },
  {
   "cell_type": "code",
   "execution_count": 42,
   "metadata": {},
   "outputs": [
    {
     "name": "stdout",
     "output_type": "stream",
     "text": [
      "micro - {'Precision': 0.3424, 'Recall': 0.7851, 'F1-Score': 0.4768, 'Hamming Loss': 0.0374}\n",
      "macro - {'Precision': 0.3599, 'Recall': 0.7647, 'F1-Score': 0.4818, 'Hamming Loss': 0.0374}\n",
      "weighted - {'Precision': 0.3755, 'Recall': 0.7851, 'F1-Score': 0.5006, 'Hamming Loss': 0.0374}\n"
     ]
    }
   ],
   "source": [
    "# Сохранение модели для предсказания хабов (тем) статей\n",
    "joblib.dump(pipeline_best_h, 'pipeline_h.pkl')\n",
    "\n",
    "# Метрики\n",
    "for i in ['micro', 'macro', 'weighted']:\n",
    "    lr_metrics = mu.calculate_metrics(y_test_h, y_pred_h, i)\n",
    "    print(i,'-', lr_metrics)"
   ]
  },
  {
   "cell_type": "markdown",
   "metadata": {},
   "source": [
    "`Выводы`\n",
    "* По сравнению моделью, обученной только на текстовых признаках, мы получили общее ухудшение всех метрик на несколько процентов\n",
    "* Можно заметить, что про использовании всех признаков модель становится более чувствительной и пропускает меньше истинных тем (высокий Recall), однако за счёт этого качество предсказаний ухудшается из-за роста ложных срабатываний (низкий Precision) и увеличения числа ошибок (Hamming Loss)\n",
    "* Если смотреть на наши целевые микро-метрики, то явно видно снижение Precision (с 0.38 до 0.34) и F1-Score (с 0.500 до 0.477), при этом Hamming Loss вырос с (0.0167 до 0.0374), единственный позитив это рост Recall (с 0.721 до 0.785)\n",
    "* Таким образом для задачи предсказания тем статей более предпочтительной является модель, полученная на прошлом этапе базового бейзлайна (обученная только на текстовых признаках)"
   ]
  },
  {
   "cell_type": "markdown",
   "metadata": {},
   "source": [
    "### Рейтинг"
   ]
  },
  {
   "cell_type": "code",
   "execution_count": 43,
   "metadata": {},
   "outputs": [],
   "source": [
    "# Разделение на выборки, обучение и предикт\n",
    "X_train, X_test, y_train_r, y_test_r = train_test_split(X, y_rating, test_size=0.25)\n",
    "pipeline_best_r.fit(X_train, y_train_r)\n",
    "y_pred_r = pipeline_best_r.predict(X_test)"
   ]
  },
  {
   "cell_type": "code",
   "execution_count": 44,
   "metadata": {},
   "outputs": [
    {
     "name": "stdout",
     "output_type": "stream",
     "text": [
      "micro - {'Precision': 0.6497, 'Recall': 0.6497, 'F1-Score': 0.6497, 'Hamming Loss': 0.3503}\n",
      "macro - {'Precision': 0.6049, 'Recall': 0.4126, 'F1-Score': 0.4225, 'Hamming Loss': 0.3503}\n",
      "weighted - {'Precision': 0.65, 'Recall': 0.6497, 'F1-Score': 0.6367, 'Hamming Loss': 0.3503}\n"
     ]
    }
   ],
   "source": [
    "# Сохранение модели для предсказания хабов (тем) статей\n",
    "joblib.dump(pipeline_best_r, 'pipeline_r.pkl')\n",
    "\n",
    "for i in ['micro', 'macro', 'weighted']:\n",
    "    lr_metrics = mu.calculate_metrics(y_test_r, y_pred_r, i)\n",
    "    print(i,'-', lr_metrics)"
   ]
  },
  {
   "cell_type": "markdown",
   "metadata": {},
   "source": [
    "`Выводы`\n",
    "* Для модели LGBMClassifier с подобранными гиперпараметрами и всеми признаками наблюдается существенный рост всех метрик (микро-F1-score вырос с 0.496 до 0.65, макро-F1-score вырос с 0.288 до 0.4225, взвешенный F1-score вырос с 0.5173 до 0.6367, Hamming Loss уменьшился с 0.504 до 0.3503)\n",
    "* Добавление признаков явно помогает модели лучше дифференцировать статьи по рейтингу, однако перекос в качестве по разным классам (разница между макро- и микро-F1-score) остаётся"
   ]
  }
 ],
 "metadata": {
  "kernelspec": {
   "display_name": "data_sc",
   "language": "python",
   "name": "python3"
  },
  "language_info": {
   "codemirror_mode": {
    "name": "ipython",
    "version": 3
   },
   "file_extension": ".py",
   "mimetype": "text/x-python",
   "name": "python",
   "nbconvert_exporter": "python",
   "pygments_lexer": "ipython3",
   "version": "3.10.15"
  }
 },
 "nbformat": 4,
 "nbformat_minor": 2
}

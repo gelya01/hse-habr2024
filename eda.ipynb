{
 "cells": [
  {
   "cell_type": "code",
   "execution_count": 30,
   "metadata": {},
   "outputs": [],
   "source": [
    "!jt -t chesterish"
   ]
  },
  {
   "cell_type": "code",
   "execution_count": 31,
   "metadata": {},
   "outputs": [],
   "source": [
    "!jt -t grade3 -T -N"
   ]
  },
  {
   "cell_type": "markdown",
   "metadata": {},
   "source": [
    "# Библиотеки"
   ]
  },
  {
   "cell_type": "code",
   "execution_count": 9,
   "metadata": {},
   "outputs": [],
   "source": [
    "import pandas as pd\n",
    "import numpy as np\n",
    "import seaborn as sns\n",
    "import pyarrow"
   ]
  },
  {
   "cell_type": "markdown",
   "metadata": {},
   "source": [
    "# Импорт"
   ]
  },
  {
   "cell_type": "code",
   "execution_count": 14,
   "metadata": {},
   "outputs": [],
   "source": [
    "df = pd.read_parquet('/Users/vitaly/Documents/1_Образование/Государственное/ВШЭ/Годовой проект/Датасеты/habr_articles_parsed_final.parquet',\n",
    "                     engine = 'pyarrow')"
   ]
  },
  {
   "cell_type": "markdown",
   "metadata": {},
   "source": [
    "# Общая характеристика"
   ]
  },
  {
   "cell_type": "code",
   "execution_count": 21,
   "metadata": {
    "scrolled": true
   },
   "outputs": [
    {
     "data": {
      "text/html": [
       "<div>\n",
       "<style scoped>\n",
       "    .dataframe tbody tr th:only-of-type {\n",
       "        vertical-align: middle;\n",
       "    }\n",
       "\n",
       "    .dataframe tbody tr th {\n",
       "        vertical-align: top;\n",
       "    }\n",
       "\n",
       "    .dataframe thead th {\n",
       "        text-align: right;\n",
       "    }\n",
       "</style>\n",
       "<table border=\"1\" class=\"dataframe\">\n",
       "  <thead>\n",
       "    <tr style=\"text-align: right;\">\n",
       "      <th></th>\n",
       "      <th>Title</th>\n",
       "      <th>Author</th>\n",
       "      <th>Publication_date</th>\n",
       "      <th>Hubs</th>\n",
       "      <th>Tags</th>\n",
       "      <th>Content</th>\n",
       "      <th>Comments</th>\n",
       "      <th>Views</th>\n",
       "      <th>URL</th>\n",
       "      <th>Reading_time</th>\n",
       "      <th>Images_links</th>\n",
       "      <th>Individ/Company</th>\n",
       "      <th>Rating</th>\n",
       "      <th>Positive/Negative</th>\n",
       "      <th>Bookmarks_cnt</th>\n",
       "    </tr>\n",
       "  </thead>\n",
       "  <tbody>\n",
       "    <tr>\n",
       "      <th>0</th>\n",
       "      <td>Лечение приступов лени</td>\n",
       "      <td>complex</td>\n",
       "      <td>2009-08-03 14:34:35+00:00</td>\n",
       "      <td>GTD</td>\n",
       "      <td>лень, учись работать, самомотивация, мотивация</td>\n",
       "      <td>Пора лишать девственности свой бложик.\\nТак ка...</td>\n",
       "      <td>67</td>\n",
       "      <td>6800</td>\n",
       "      <td>https://habr.com/ru/articles/66091/</td>\n",
       "      <td>2.0</td>\n",
       "      <td></td>\n",
       "      <td>individual</td>\n",
       "      <td>4</td>\n",
       "      <td>positive</td>\n",
       "      <td>25.0</td>\n",
       "    </tr>\n",
       "    <tr>\n",
       "      <th>1</th>\n",
       "      <td>Как я работал по два часа в день</td>\n",
       "      <td>Konovalov</td>\n",
       "      <td>2009-07-30 13:50:03+00:00</td>\n",
       "      <td>GTD</td>\n",
       "      <td>тайм-менеджмент, timemanagement, работа, эффек...</td>\n",
       "      <td>Когда я только перешёл от офисной работы к дом...</td>\n",
       "      <td>99</td>\n",
       "      <td>21000</td>\n",
       "      <td>https://habr.com/ru/articles/65783/</td>\n",
       "      <td>3.0</td>\n",
       "      <td></td>\n",
       "      <td>individual</td>\n",
       "      <td>193</td>\n",
       "      <td>positive</td>\n",
       "      <td>114.0</td>\n",
       "    </tr>\n",
       "    <tr>\n",
       "      <th>2</th>\n",
       "      <td>Итоги первой недели</td>\n",
       "      <td>Irokez</td>\n",
       "      <td>2009-05-10 13:43:21+00:00</td>\n",
       "      <td>GTD</td>\n",
       "      <td>тайм-менеджмент, пинарик, ворктрек</td>\n",
       "      <td>Итак, за прошедшую неделю хабраюзеры попробова...</td>\n",
       "      <td>29</td>\n",
       "      <td>1000</td>\n",
       "      <td>https://habr.com/ru/articles/59272/</td>\n",
       "      <td>1.0</td>\n",
       "      <td>https://habrastorage.org/r/w1560/getpro/megamo...</td>\n",
       "      <td>individual</td>\n",
       "      <td>15</td>\n",
       "      <td>positive</td>\n",
       "      <td>5.0</td>\n",
       "    </tr>\n",
       "    <tr>\n",
       "      <th>3</th>\n",
       "      <td>Правильно поставленная задача время бережет</td>\n",
       "      <td>object</td>\n",
       "      <td>2009-05-05 00:05:11+00:00</td>\n",
       "      <td>GTD</td>\n",
       "      <td>постановка задачи, планирование</td>\n",
       "      <td>Хочу поделиться своими мыслями по оптимизации ...</td>\n",
       "      <td>95</td>\n",
       "      <td>18000</td>\n",
       "      <td>https://habr.com/ru/articles/58889/</td>\n",
       "      <td>3.0</td>\n",
       "      <td></td>\n",
       "      <td>individual</td>\n",
       "      <td>64</td>\n",
       "      <td>positive</td>\n",
       "      <td>75.0</td>\n",
       "    </tr>\n",
       "    <tr>\n",
       "      <th>4</th>\n",
       "      <td>ChatterBlocker или Вон из моей головы!</td>\n",
       "      <td>waitekk</td>\n",
       "      <td>2009-05-31 20:54:23+00:00</td>\n",
       "      <td>GTD</td>\n",
       "      <td>chatterblocker, аудио</td>\n",
       "      <td>Как-то привык я к тому, что предметы вокруг ме...</td>\n",
       "      <td>56</td>\n",
       "      <td>5700</td>\n",
       "      <td>https://habr.com/ru/articles/60989/</td>\n",
       "      <td>1.0</td>\n",
       "      <td>http://www.picamatic.com/show/2009/06/01/01/01...</td>\n",
       "      <td>individual</td>\n",
       "      <td>28</td>\n",
       "      <td>positive</td>\n",
       "      <td>33.0</td>\n",
       "    </tr>\n",
       "  </tbody>\n",
       "</table>\n",
       "</div>"
      ],
      "text/plain": [
       "                                         Title     Author  \\\n",
       "0                       Лечение приступов лени    complex   \n",
       "1             Как я работал по два часа в день  Konovalov   \n",
       "2                          Итоги первой недели     Irokez   \n",
       "3  Правильно поставленная задача время бережет     object   \n",
       "4       ChatterBlocker или Вон из моей головы!    waitekk   \n",
       "\n",
       "           Publication_date Hubs  \\\n",
       "0 2009-08-03 14:34:35+00:00  GTD   \n",
       "1 2009-07-30 13:50:03+00:00  GTD   \n",
       "2 2009-05-10 13:43:21+00:00  GTD   \n",
       "3 2009-05-05 00:05:11+00:00  GTD   \n",
       "4 2009-05-31 20:54:23+00:00  GTD   \n",
       "\n",
       "                                                Tags  \\\n",
       "0     лень, учись работать, самомотивация, мотивация   \n",
       "1  тайм-менеджмент, timemanagement, работа, эффек...   \n",
       "2                 тайм-менеджмент, пинарик, ворктрек   \n",
       "3                    постановка задачи, планирование   \n",
       "4                              chatterblocker, аудио   \n",
       "\n",
       "                                             Content  Comments  Views  \\\n",
       "0  Пора лишать девственности свой бложик.\\nТак ка...        67   6800   \n",
       "1  Когда я только перешёл от офисной работы к дом...        99  21000   \n",
       "2  Итак, за прошедшую неделю хабраюзеры попробова...        29   1000   \n",
       "3  Хочу поделиться своими мыслями по оптимизации ...        95  18000   \n",
       "4  Как-то привык я к тому, что предметы вокруг ме...        56   5700   \n",
       "\n",
       "                                   URL  Reading_time  \\\n",
       "0  https://habr.com/ru/articles/66091/           2.0   \n",
       "1  https://habr.com/ru/articles/65783/           3.0   \n",
       "2  https://habr.com/ru/articles/59272/           1.0   \n",
       "3  https://habr.com/ru/articles/58889/           3.0   \n",
       "4  https://habr.com/ru/articles/60989/           1.0   \n",
       "\n",
       "                                        Images_links Individ/Company  Rating  \\\n",
       "0                                                         individual       4   \n",
       "1                                                         individual     193   \n",
       "2  https://habrastorage.org/r/w1560/getpro/megamo...      individual      15   \n",
       "3                                                         individual      64   \n",
       "4  http://www.picamatic.com/show/2009/06/01/01/01...      individual      28   \n",
       "\n",
       "  Positive/Negative  Bookmarks_cnt  \n",
       "0          positive           25.0  \n",
       "1          positive          114.0  \n",
       "2          positive            5.0  \n",
       "3          positive           75.0  \n",
       "4          positive           33.0  "
      ]
     },
     "execution_count": 21,
     "metadata": {},
     "output_type": "execute_result"
    }
   ],
   "source": [
    "df.head()"
   ]
  },
  {
   "cell_type": "markdown",
   "metadata": {},
   "source": [
    "## Типы данных"
   ]
  },
  {
   "cell_type": "code",
   "execution_count": 28,
   "metadata": {
    "scrolled": true
   },
   "outputs": [
    {
     "data": {
      "text/plain": [
       "Title                             object\n",
       "Author                            object\n",
       "Publication_date     datetime64[us, UTC]\n",
       "Hubs                              object\n",
       "Tags                              object\n",
       "Content                           object\n",
       "Comments                           int64\n",
       "Views                              int64\n",
       "URL                               object\n",
       "Reading_time                     float64\n",
       "Images_links                      object\n",
       "Individ/Company                   object\n",
       "Rating                             int64\n",
       "Positive/Negative                 object\n",
       "Bookmarks_cnt                    float64\n",
       "dtype: object"
      ]
     },
     "execution_count": 28,
     "metadata": {},
     "output_type": "execute_result"
    }
   ],
   "source": [
    "df.dtypes\n",
    "# типы корректны"
   ]
  },
  {
   "cell_type": "markdown",
   "metadata": {},
   "source": [
    "## кол-во строк, столбцов"
   ]
  },
  {
   "cell_type": "code",
   "execution_count": 20,
   "metadata": {},
   "outputs": [
    {
     "data": {
      "text/plain": [
       "(285499, 15)"
      ]
     },
     "execution_count": 20,
     "metadata": {},
     "output_type": "execute_result"
    }
   ],
   "source": [
    "df.shape"
   ]
  },
  {
   "cell_type": "markdown",
   "metadata": {},
   "source": [
    "## Пропуски"
   ]
  },
  {
   "cell_type": "code",
   "execution_count": 25,
   "metadata": {},
   "outputs": [
    {
     "data": {
      "text/plain": [
       "Title                  1\n",
       "Author               115\n",
       "Publication_date       1\n",
       "Hubs                   0\n",
       "Tags                   0\n",
       "Content                1\n",
       "Comments               0\n",
       "Views                  0\n",
       "URL                    0\n",
       "Reading_time         601\n",
       "Images_links           0\n",
       "Individ/Company        0\n",
       "Rating                 0\n",
       "Positive/Negative      0\n",
       "Bookmarks_cnt          1\n",
       "dtype: int64"
      ]
     },
     "execution_count": 25,
     "metadata": {},
     "output_type": "execute_result"
    }
   ],
   "source": [
    "df.isna().sum()\n",
    "# есть явные пропуски у автора, времени чтения, названии статьи, дате публикации, ... "
   ]
  },
  {
   "cell_type": "markdown",
   "metadata": {},
   "source": [
    "## Дубликаты"
   ]
  },
  {
   "cell_type": "code",
   "execution_count": 27,
   "metadata": {},
   "outputs": [
    {
     "data": {
      "text/plain": [
       "False"
      ]
     },
     "execution_count": 27,
     "metadata": {},
     "output_type": "execute_result"
    }
   ],
   "source": [
    "df.duplicated().any()\n",
    "# дубликатов полных записей нет"
   ]
  },
  {
   "cell_type": "markdown",
   "metadata": {},
   "source": [
    "# Описательные характеристики"
   ]
  },
  {
   "cell_type": "code",
   "execution_count": null,
   "metadata": {},
   "outputs": [],
   "source": []
  },
  {
   "cell_type": "code",
   "execution_count": null,
   "metadata": {},
   "outputs": [],
   "source": []
  }
 ],
 "metadata": {
  "kernelspec": {
   "display_name": "Python 3",
   "language": "python",
   "name": "python3"
  },
  "language_info": {
   "codemirror_mode": {
    "name": "ipython",
    "version": 3
   },
   "file_extension": ".py",
   "mimetype": "text/x-python",
   "name": "python",
   "nbconvert_exporter": "python",
   "pygments_lexer": "ipython3",
   "version": "3.8.5"
  },
  "toc": {
   "base_numbering": 1,
   "nav_menu": {},
   "number_sections": true,
   "sideBar": true,
   "skip_h1_title": false,
   "title_cell": "Table of Contents",
   "title_sidebar": "Contents",
   "toc_cell": false,
   "toc_position": {},
   "toc_section_display": true,
   "toc_window_display": false
  }
 },
 "nbformat": 4,
 "nbformat_minor": 4
}

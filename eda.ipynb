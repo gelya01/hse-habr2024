{
 "cells": [
  {
   "cell_type": "markdown",
   "metadata": {},
   "source": [
    "# Библиотеки"
   ]
  },
  {
   "cell_type": "code",
   "execution_count": 2,
   "metadata": {},
   "outputs": [],
   "source": [
    "import pandas as pd\n",
    "import numpy as np\n",
    "import seaborn as sns\n",
    "import pyarrow"
   ]
  },
  {
   "cell_type": "markdown",
   "metadata": {},
   "source": [
    "# Импорт"
   ]
  },
  {
   "cell_type": "code",
   "execution_count": 3,
   "metadata": {},
   "outputs": [],
   "source": [
    "df = pd.read_parquet('/Users/vitaly/Documents/1_Образование/Государственное/ВШЭ/Годовой проект/Датасеты/habr_articles_parsed_final.parquet',\n",
    "                     engine = 'pyarrow')"
   ]
  },
  {
   "cell_type": "code",
   "execution_count": 4,
   "metadata": {},
   "outputs": [
    {
     "data": {
      "text/html": [
       "<div>\n",
       "<style scoped>\n",
       "    .dataframe tbody tr th:only-of-type {\n",
       "        vertical-align: middle;\n",
       "    }\n",
       "\n",
       "    .dataframe tbody tr th {\n",
       "        vertical-align: top;\n",
       "    }\n",
       "\n",
       "    .dataframe thead th {\n",
       "        text-align: right;\n",
       "    }\n",
       "</style>\n",
       "<table border=\"1\" class=\"dataframe\">\n",
       "  <thead>\n",
       "    <tr style=\"text-align: right;\">\n",
       "      <th></th>\n",
       "      <th>Title</th>\n",
       "      <th>Author</th>\n",
       "      <th>Publication_date</th>\n",
       "      <th>Hubs</th>\n",
       "      <th>Tags</th>\n",
       "      <th>Content</th>\n",
       "      <th>Comments</th>\n",
       "      <th>Views</th>\n",
       "      <th>URL</th>\n",
       "      <th>Reading_time</th>\n",
       "      <th>Images_links</th>\n",
       "      <th>Individ/Company</th>\n",
       "      <th>Rating</th>\n",
       "      <th>Positive/Negative</th>\n",
       "      <th>Bookmarks_cnt</th>\n",
       "    </tr>\n",
       "  </thead>\n",
       "  <tbody>\n",
       "    <tr>\n",
       "      <th>0</th>\n",
       "      <td>Лечение приступов лени</td>\n",
       "      <td>complex</td>\n",
       "      <td>2009-08-03 14:34:35+00:00</td>\n",
       "      <td>GTD</td>\n",
       "      <td>лень, учись работать, самомотивация, мотивация</td>\n",
       "      <td>Пора лишать девственности свой бложик.\\nТак ка...</td>\n",
       "      <td>67</td>\n",
       "      <td>6800</td>\n",
       "      <td>https://habr.com/ru/articles/66091/</td>\n",
       "      <td>2.0</td>\n",
       "      <td></td>\n",
       "      <td>individual</td>\n",
       "      <td>4</td>\n",
       "      <td>positive</td>\n",
       "      <td>25.0</td>\n",
       "    </tr>\n",
       "  </tbody>\n",
       "</table>\n",
       "</div>"
      ],
      "text/plain": [
       "                    Title   Author          Publication_date Hubs  \\\n",
       "0  Лечение приступов лени  complex 2009-08-03 14:34:35+00:00  GTD   \n",
       "\n",
       "                                             Tags  \\\n",
       "0  лень, учись работать, самомотивация, мотивация   \n",
       "\n",
       "                                             Content  Comments  Views  \\\n",
       "0  Пора лишать девственности свой бложик.\\nТак ка...        67   6800   \n",
       "\n",
       "                                   URL  Reading_time Images_links  \\\n",
       "0  https://habr.com/ru/articles/66091/           2.0                \n",
       "\n",
       "  Individ/Company  Rating Positive/Negative  Bookmarks_cnt  \n",
       "0      individual       4          positive           25.0  "
      ]
     },
     "execution_count": 4,
     "metadata": {},
     "output_type": "execute_result"
    }
   ],
   "source": [
    "df.head(1)"
   ]
  },
  {
   "cell_type": "markdown",
   "metadata": {},
   "source": [
    "# Понижение регистра столбцов"
   ]
  },
  {
   "cell_type": "code",
   "execution_count": 5,
   "metadata": {},
   "outputs": [],
   "source": [
    "for column_name in df.columns:\n",
    "    df.rename(columns = {column_name: str.lower(column_name)},\n",
    "              inplace = True)"
   ]
  },
  {
   "cell_type": "markdown",
   "metadata": {},
   "source": [
    "# Общая характеристика"
   ]
  },
  {
   "cell_type": "code",
   "execution_count": 6,
   "metadata": {
    "scrolled": true
   },
   "outputs": [
    {
     "data": {
      "text/html": [
       "<div>\n",
       "<style scoped>\n",
       "    .dataframe tbody tr th:only-of-type {\n",
       "        vertical-align: middle;\n",
       "    }\n",
       "\n",
       "    .dataframe tbody tr th {\n",
       "        vertical-align: top;\n",
       "    }\n",
       "\n",
       "    .dataframe thead th {\n",
       "        text-align: right;\n",
       "    }\n",
       "</style>\n",
       "<table border=\"1\" class=\"dataframe\">\n",
       "  <thead>\n",
       "    <tr style=\"text-align: right;\">\n",
       "      <th></th>\n",
       "      <th>title</th>\n",
       "      <th>author</th>\n",
       "      <th>publication_date</th>\n",
       "      <th>hubs</th>\n",
       "      <th>tags</th>\n",
       "      <th>content</th>\n",
       "      <th>comments</th>\n",
       "      <th>views</th>\n",
       "      <th>url</th>\n",
       "      <th>reading_time</th>\n",
       "      <th>images_links</th>\n",
       "      <th>individ/company</th>\n",
       "      <th>rating</th>\n",
       "      <th>positive/negative</th>\n",
       "      <th>bookmarks_cnt</th>\n",
       "    </tr>\n",
       "  </thead>\n",
       "  <tbody>\n",
       "    <tr>\n",
       "      <th>0</th>\n",
       "      <td>Лечение приступов лени</td>\n",
       "      <td>complex</td>\n",
       "      <td>2009-08-03 14:34:35+00:00</td>\n",
       "      <td>GTD</td>\n",
       "      <td>лень, учись работать, самомотивация, мотивация</td>\n",
       "      <td>Пора лишать девственности свой бложик.\\nТак ка...</td>\n",
       "      <td>67</td>\n",
       "      <td>6800</td>\n",
       "      <td>https://habr.com/ru/articles/66091/</td>\n",
       "      <td>2.0</td>\n",
       "      <td></td>\n",
       "      <td>individual</td>\n",
       "      <td>4</td>\n",
       "      <td>positive</td>\n",
       "      <td>25.0</td>\n",
       "    </tr>\n",
       "    <tr>\n",
       "      <th>1</th>\n",
       "      <td>Как я работал по два часа в день</td>\n",
       "      <td>Konovalov</td>\n",
       "      <td>2009-07-30 13:50:03+00:00</td>\n",
       "      <td>GTD</td>\n",
       "      <td>тайм-менеджмент, timemanagement, работа, эффек...</td>\n",
       "      <td>Когда я только перешёл от офисной работы к дом...</td>\n",
       "      <td>99</td>\n",
       "      <td>21000</td>\n",
       "      <td>https://habr.com/ru/articles/65783/</td>\n",
       "      <td>3.0</td>\n",
       "      <td></td>\n",
       "      <td>individual</td>\n",
       "      <td>193</td>\n",
       "      <td>positive</td>\n",
       "      <td>114.0</td>\n",
       "    </tr>\n",
       "    <tr>\n",
       "      <th>2</th>\n",
       "      <td>Итоги первой недели</td>\n",
       "      <td>Irokez</td>\n",
       "      <td>2009-05-10 13:43:21+00:00</td>\n",
       "      <td>GTD</td>\n",
       "      <td>тайм-менеджмент, пинарик, ворктрек</td>\n",
       "      <td>Итак, за прошедшую неделю хабраюзеры попробова...</td>\n",
       "      <td>29</td>\n",
       "      <td>1000</td>\n",
       "      <td>https://habr.com/ru/articles/59272/</td>\n",
       "      <td>1.0</td>\n",
       "      <td>https://habrastorage.org/r/w1560/getpro/megamo...</td>\n",
       "      <td>individual</td>\n",
       "      <td>15</td>\n",
       "      <td>positive</td>\n",
       "      <td>5.0</td>\n",
       "    </tr>\n",
       "    <tr>\n",
       "      <th>3</th>\n",
       "      <td>Правильно поставленная задача время бережет</td>\n",
       "      <td>object</td>\n",
       "      <td>2009-05-05 00:05:11+00:00</td>\n",
       "      <td>GTD</td>\n",
       "      <td>постановка задачи, планирование</td>\n",
       "      <td>Хочу поделиться своими мыслями по оптимизации ...</td>\n",
       "      <td>95</td>\n",
       "      <td>18000</td>\n",
       "      <td>https://habr.com/ru/articles/58889/</td>\n",
       "      <td>3.0</td>\n",
       "      <td></td>\n",
       "      <td>individual</td>\n",
       "      <td>64</td>\n",
       "      <td>positive</td>\n",
       "      <td>75.0</td>\n",
       "    </tr>\n",
       "    <tr>\n",
       "      <th>4</th>\n",
       "      <td>ChatterBlocker или Вон из моей головы!</td>\n",
       "      <td>waitekk</td>\n",
       "      <td>2009-05-31 20:54:23+00:00</td>\n",
       "      <td>GTD</td>\n",
       "      <td>chatterblocker, аудио</td>\n",
       "      <td>Как-то привык я к тому, что предметы вокруг ме...</td>\n",
       "      <td>56</td>\n",
       "      <td>5700</td>\n",
       "      <td>https://habr.com/ru/articles/60989/</td>\n",
       "      <td>1.0</td>\n",
       "      <td>http://www.picamatic.com/show/2009/06/01/01/01...</td>\n",
       "      <td>individual</td>\n",
       "      <td>28</td>\n",
       "      <td>positive</td>\n",
       "      <td>33.0</td>\n",
       "    </tr>\n",
       "  </tbody>\n",
       "</table>\n",
       "</div>"
      ],
      "text/plain": [
       "                                         title     author  \\\n",
       "0                       Лечение приступов лени    complex   \n",
       "1             Как я работал по два часа в день  Konovalov   \n",
       "2                          Итоги первой недели     Irokez   \n",
       "3  Правильно поставленная задача время бережет     object   \n",
       "4       ChatterBlocker или Вон из моей головы!    waitekk   \n",
       "\n",
       "           publication_date hubs  \\\n",
       "0 2009-08-03 14:34:35+00:00  GTD   \n",
       "1 2009-07-30 13:50:03+00:00  GTD   \n",
       "2 2009-05-10 13:43:21+00:00  GTD   \n",
       "3 2009-05-05 00:05:11+00:00  GTD   \n",
       "4 2009-05-31 20:54:23+00:00  GTD   \n",
       "\n",
       "                                                tags  \\\n",
       "0     лень, учись работать, самомотивация, мотивация   \n",
       "1  тайм-менеджмент, timemanagement, работа, эффек...   \n",
       "2                 тайм-менеджмент, пинарик, ворктрек   \n",
       "3                    постановка задачи, планирование   \n",
       "4                              chatterblocker, аудио   \n",
       "\n",
       "                                             content  comments  views  \\\n",
       "0  Пора лишать девственности свой бложик.\\nТак ка...        67   6800   \n",
       "1  Когда я только перешёл от офисной работы к дом...        99  21000   \n",
       "2  Итак, за прошедшую неделю хабраюзеры попробова...        29   1000   \n",
       "3  Хочу поделиться своими мыслями по оптимизации ...        95  18000   \n",
       "4  Как-то привык я к тому, что предметы вокруг ме...        56   5700   \n",
       "\n",
       "                                   url  reading_time  \\\n",
       "0  https://habr.com/ru/articles/66091/           2.0   \n",
       "1  https://habr.com/ru/articles/65783/           3.0   \n",
       "2  https://habr.com/ru/articles/59272/           1.0   \n",
       "3  https://habr.com/ru/articles/58889/           3.0   \n",
       "4  https://habr.com/ru/articles/60989/           1.0   \n",
       "\n",
       "                                        images_links individ/company  rating  \\\n",
       "0                                                         individual       4   \n",
       "1                                                         individual     193   \n",
       "2  https://habrastorage.org/r/w1560/getpro/megamo...      individual      15   \n",
       "3                                                         individual      64   \n",
       "4  http://www.picamatic.com/show/2009/06/01/01/01...      individual      28   \n",
       "\n",
       "  positive/negative  bookmarks_cnt  \n",
       "0          positive           25.0  \n",
       "1          positive          114.0  \n",
       "2          positive            5.0  \n",
       "3          positive           75.0  \n",
       "4          positive           33.0  "
      ]
     },
     "execution_count": 6,
     "metadata": {},
     "output_type": "execute_result"
    }
   ],
   "source": [
    "df.head()"
   ]
  },
  {
   "cell_type": "markdown",
   "metadata": {},
   "source": [
    "## Типы данных"
   ]
  },
  {
   "cell_type": "code",
   "execution_count": 7,
   "metadata": {
    "scrolled": true
   },
   "outputs": [
    {
     "data": {
      "text/plain": [
       "title                             object\n",
       "author                            object\n",
       "publication_date     datetime64[us, UTC]\n",
       "hubs                              object\n",
       "tags                              object\n",
       "content                           object\n",
       "comments                           int64\n",
       "views                              int64\n",
       "url                               object\n",
       "reading_time                     float64\n",
       "images_links                      object\n",
       "individ/company                   object\n",
       "rating                             int64\n",
       "positive/negative                 object\n",
       "bookmarks_cnt                    float64\n",
       "dtype: object"
      ]
     },
     "execution_count": 7,
     "metadata": {},
     "output_type": "execute_result"
    }
   ],
   "source": [
    "df.dtypes\n",
    "# типы корректны"
   ]
  },
  {
   "cell_type": "markdown",
   "metadata": {},
   "source": [
    "## кол-во строк, столбцов"
   ]
  },
  {
   "cell_type": "code",
   "execution_count": 8,
   "metadata": {},
   "outputs": [
    {
     "data": {
      "text/plain": [
       "(285499, 15)"
      ]
     },
     "execution_count": 8,
     "metadata": {},
     "output_type": "execute_result"
    }
   ],
   "source": [
    "df.shape"
   ]
  },
  {
   "cell_type": "markdown",
   "metadata": {},
   "source": [
    "## Пропуски"
   ]
  },
  {
   "cell_type": "code",
   "execution_count": 9,
   "metadata": {
    "scrolled": true
   },
   "outputs": [
    {
     "data": {
      "text/plain": [
       "title                  1\n",
       "author               115\n",
       "publication_date       1\n",
       "hubs                   0\n",
       "tags                   0\n",
       "content                1\n",
       "comments               0\n",
       "views                  0\n",
       "url                    0\n",
       "reading_time         601\n",
       "images_links           0\n",
       "individ/company        0\n",
       "rating                 0\n",
       "positive/negative      0\n",
       "bookmarks_cnt          1\n",
       "dtype: int64"
      ]
     },
     "execution_count": 9,
     "metadata": {},
     "output_type": "execute_result"
    }
   ],
   "source": [
    "df.isna().sum()\n",
    "# есть явные пропуски у автора, времени чтения, названии статьи, дате публикации, ... "
   ]
  },
  {
   "cell_type": "markdown",
   "metadata": {},
   "source": [
    "у одной статьи нет текста - уберем"
   ]
  },
  {
   "cell_type": "code",
   "execution_count": 10,
   "metadata": {},
   "outputs": [],
   "source": [
    "df = df[df['content'].notna()]"
   ]
  },
  {
   "cell_type": "code",
   "execution_count": 11,
   "metadata": {},
   "outputs": [
    {
     "data": {
      "text/plain": [
       "(285498, 15)"
      ]
     },
     "execution_count": 11,
     "metadata": {},
     "output_type": "execute_result"
    }
   ],
   "source": [
    "df.shape"
   ]
  },
  {
   "cell_type": "markdown",
   "metadata": {},
   "source": [
    "## Дубликаты"
   ]
  },
  {
   "cell_type": "code",
   "execution_count": 12,
   "metadata": {},
   "outputs": [
    {
     "data": {
      "text/plain": [
       "False"
      ]
     },
     "execution_count": 12,
     "metadata": {},
     "output_type": "execute_result"
    }
   ],
   "source": [
    "df.duplicated().any()\n",
    "# дубликатов полных записей нет"
   ]
  },
  {
   "cell_type": "markdown",
   "metadata": {},
   "source": [
    "# Описательные характеристики"
   ]
  },
  {
   "cell_type": "code",
   "execution_count": 13,
   "metadata": {},
   "outputs": [
    {
     "data": {
      "text/html": [
       "<div>\n",
       "<style scoped>\n",
       "    .dataframe tbody tr th:only-of-type {\n",
       "        vertical-align: middle;\n",
       "    }\n",
       "\n",
       "    .dataframe tbody tr th {\n",
       "        vertical-align: top;\n",
       "    }\n",
       "\n",
       "    .dataframe thead th {\n",
       "        text-align: right;\n",
       "    }\n",
       "</style>\n",
       "<table border=\"1\" class=\"dataframe\">\n",
       "  <thead>\n",
       "    <tr style=\"text-align: right;\">\n",
       "      <th></th>\n",
       "      <th>comments</th>\n",
       "      <th>views</th>\n",
       "      <th>reading_time</th>\n",
       "      <th>rating</th>\n",
       "      <th>bookmarks_cnt</th>\n",
       "    </tr>\n",
       "  </thead>\n",
       "  <tbody>\n",
       "    <tr>\n",
       "      <th>count</th>\n",
       "      <td>285498.000000</td>\n",
       "      <td>285498.000000</td>\n",
       "      <td>284898.000000</td>\n",
       "      <td>285498.000000</td>\n",
       "      <td>285498.000000</td>\n",
       "    </tr>\n",
       "    <tr>\n",
       "      <th>mean</th>\n",
       "      <td>34.079398</td>\n",
       "      <td>20203.097920</td>\n",
       "      <td>5.480151</td>\n",
       "      <td>25.290149</td>\n",
       "      <td>58.557584</td>\n",
       "    </tr>\n",
       "    <tr>\n",
       "      <th>std</th>\n",
       "      <td>68.819456</td>\n",
       "      <td>42695.216023</td>\n",
       "      <td>5.431038</td>\n",
       "      <td>59.304338</td>\n",
       "      <td>118.763570</td>\n",
       "    </tr>\n",
       "    <tr>\n",
       "      <th>min</th>\n",
       "      <td>0.000000</td>\n",
       "      <td>-1.000000</td>\n",
       "      <td>1.000000</td>\n",
       "      <td>0.000000</td>\n",
       "      <td>0.000000</td>\n",
       "    </tr>\n",
       "    <tr>\n",
       "      <th>25%</th>\n",
       "      <td>4.000000</td>\n",
       "      <td>2600.000000</td>\n",
       "      <td>2.000000</td>\n",
       "      <td>6.000000</td>\n",
       "      <td>9.000000</td>\n",
       "    </tr>\n",
       "    <tr>\n",
       "      <th>50%</th>\n",
       "      <td>13.000000</td>\n",
       "      <td>8000.000000</td>\n",
       "      <td>4.000000</td>\n",
       "      <td>14.000000</td>\n",
       "      <td>26.000000</td>\n",
       "    </tr>\n",
       "    <tr>\n",
       "      <th>75%</th>\n",
       "      <td>36.000000</td>\n",
       "      <td>20000.000000</td>\n",
       "      <td>7.000000</td>\n",
       "      <td>29.000000</td>\n",
       "      <td>63.000000</td>\n",
       "    </tr>\n",
       "    <tr>\n",
       "      <th>max</th>\n",
       "      <td>2916.000000</td>\n",
       "      <td>998000.000000</td>\n",
       "      <td>127.000000</td>\n",
       "      <td>2879.000000</td>\n",
       "      <td>9278.000000</td>\n",
       "    </tr>\n",
       "  </tbody>\n",
       "</table>\n",
       "</div>"
      ],
      "text/plain": [
       "            comments          views   reading_time         rating  \\\n",
       "count  285498.000000  285498.000000  284898.000000  285498.000000   \n",
       "mean       34.079398   20203.097920       5.480151      25.290149   \n",
       "std        68.819456   42695.216023       5.431038      59.304338   \n",
       "min         0.000000      -1.000000       1.000000       0.000000   \n",
       "25%         4.000000    2600.000000       2.000000       6.000000   \n",
       "50%        13.000000    8000.000000       4.000000      14.000000   \n",
       "75%        36.000000   20000.000000       7.000000      29.000000   \n",
       "max      2916.000000  998000.000000     127.000000    2879.000000   \n",
       "\n",
       "       bookmarks_cnt  \n",
       "count  285498.000000  \n",
       "mean       58.557584  \n",
       "std       118.763570  \n",
       "min         0.000000  \n",
       "25%         9.000000  \n",
       "50%        26.000000  \n",
       "75%        63.000000  \n",
       "max      9278.000000  "
      ]
     },
     "execution_count": 13,
     "metadata": {},
     "output_type": "execute_result"
    }
   ],
   "source": [
    "df.describe()\n",
    "# кол-во просмотров не мб отрицательным - изучим"
   ]
  },
  {
   "cell_type": "code",
   "execution_count": 14,
   "metadata": {},
   "outputs": [
    {
     "data": {
      "text/html": [
       "<div>\n",
       "<style scoped>\n",
       "    .dataframe tbody tr th:only-of-type {\n",
       "        vertical-align: middle;\n",
       "    }\n",
       "\n",
       "    .dataframe tbody tr th {\n",
       "        vertical-align: top;\n",
       "    }\n",
       "\n",
       "    .dataframe thead th {\n",
       "        text-align: right;\n",
       "    }\n",
       "</style>\n",
       "<table border=\"1\" class=\"dataframe\">\n",
       "  <thead>\n",
       "    <tr style=\"text-align: right;\">\n",
       "      <th></th>\n",
       "      <th>title</th>\n",
       "      <th>author</th>\n",
       "      <th>hubs</th>\n",
       "      <th>tags</th>\n",
       "      <th>content</th>\n",
       "      <th>url</th>\n",
       "      <th>images_links</th>\n",
       "      <th>individ/company</th>\n",
       "      <th>positive/negative</th>\n",
       "    </tr>\n",
       "  </thead>\n",
       "  <tbody>\n",
       "    <tr>\n",
       "      <th>count</th>\n",
       "      <td>285498</td>\n",
       "      <td>285384</td>\n",
       "      <td>285498</td>\n",
       "      <td>285498</td>\n",
       "      <td>285498</td>\n",
       "      <td>285498</td>\n",
       "      <td>285498</td>\n",
       "      <td>285498</td>\n",
       "      <td>285498</td>\n",
       "    </tr>\n",
       "    <tr>\n",
       "      <th>unique</th>\n",
       "      <td>284094</td>\n",
       "      <td>53047</td>\n",
       "      <td>91880</td>\n",
       "      <td>266381</td>\n",
       "      <td>284545</td>\n",
       "      <td>285498</td>\n",
       "      <td>217675</td>\n",
       "      <td>2</td>\n",
       "      <td>2</td>\n",
       "    </tr>\n",
       "    <tr>\n",
       "      <th>top</th>\n",
       "      <td>ТОП-3 ИБ-событий недели по версии Jet CSIRT</td>\n",
       "      <td>alizar</td>\n",
       "      <td>Чулан</td>\n",
       "      <td>книги</td>\n",
       "      <td></td>\n",
       "      <td>https://habr.com/ru/articles/66091/</td>\n",
       "      <td></td>\n",
       "      <td>individual</td>\n",
       "      <td>positive</td>\n",
       "    </tr>\n",
       "    <tr>\n",
       "      <th>freq</th>\n",
       "      <td>92</td>\n",
       "      <td>7704</td>\n",
       "      <td>26963</td>\n",
       "      <td>262</td>\n",
       "      <td>575</td>\n",
       "      <td>1</td>\n",
       "      <td>65693</td>\n",
       "      <td>198216</td>\n",
       "      <td>267930</td>\n",
       "    </tr>\n",
       "  </tbody>\n",
       "</table>\n",
       "</div>"
      ],
      "text/plain": [
       "                                              title  author    hubs    tags  \\\n",
       "count                                        285498  285384  285498  285498   \n",
       "unique                                       284094   53047   91880  266381   \n",
       "top     ТОП-3 ИБ-событий недели по версии Jet CSIRT  alizar   Чулан   книги   \n",
       "freq                                             92    7704   26963     262   \n",
       "\n",
       "       content                                  url images_links  \\\n",
       "count   285498                               285498       285498   \n",
       "unique  284545                               285498       217675   \n",
       "top             https://habr.com/ru/articles/66091/                \n",
       "freq       575                                    1        65693   \n",
       "\n",
       "       individ/company positive/negative  \n",
       "count           285498            285498  \n",
       "unique               2                 2  \n",
       "top         individual          positive  \n",
       "freq            198216            267930  "
      ]
     },
     "execution_count": 14,
     "metadata": {},
     "output_type": "execute_result"
    }
   ],
   "source": [
    "df.describe(include = [object])\n",
    "# не все заголовки (title) уникальны - почему?"
   ]
  },
  {
   "cell_type": "markdown",
   "metadata": {},
   "source": [
    "## Отрицательное кол-во просмотров"
   ]
  },
  {
   "cell_type": "code",
   "execution_count": 15,
   "metadata": {},
   "outputs": [
    {
     "data": {
      "text/html": [
       "<div>\n",
       "<style scoped>\n",
       "    .dataframe tbody tr th:only-of-type {\n",
       "        vertical-align: middle;\n",
       "    }\n",
       "\n",
       "    .dataframe tbody tr th {\n",
       "        vertical-align: top;\n",
       "    }\n",
       "\n",
       "    .dataframe thead th {\n",
       "        text-align: right;\n",
       "    }\n",
       "</style>\n",
       "<table border=\"1\" class=\"dataframe\">\n",
       "  <thead>\n",
       "    <tr style=\"text-align: right;\">\n",
       "      <th></th>\n",
       "      <th>title</th>\n",
       "      <th>author</th>\n",
       "      <th>publication_date</th>\n",
       "      <th>hubs</th>\n",
       "      <th>tags</th>\n",
       "      <th>content</th>\n",
       "      <th>comments</th>\n",
       "      <th>views</th>\n",
       "      <th>url</th>\n",
       "      <th>reading_time</th>\n",
       "      <th>images_links</th>\n",
       "      <th>individ/company</th>\n",
       "      <th>rating</th>\n",
       "      <th>positive/negative</th>\n",
       "      <th>bookmarks_cnt</th>\n",
       "    </tr>\n",
       "  </thead>\n",
       "  <tbody>\n",
       "    <tr>\n",
       "      <th>12213</th>\n",
       "      <td>Wi-Fi: неочевидные нюансы (на примере домашней...</td>\n",
       "      <td>apcsb</td>\n",
       "      <td>2012-08-12 12:23:38+00:00</td>\n",
       "      <td>Беспроводные технологии, Сетевые технологии</td>\n",
       "      <td>Wi-Fi, беспроводные сети, беспроводная связь, ...</td>\n",
       "      <td>Сейчас многие покупают точки доступа 802.11n, ...</td>\n",
       "      <td>138</td>\n",
       "      <td>-1</td>\n",
       "      <td>https://habr.com/ru/articles/149447/</td>\n",
       "      <td>14.0</td>\n",
       "      <td>https://habrastorage.org/r/w1560/storage2/abd/...</td>\n",
       "      <td>individual</td>\n",
       "      <td>228</td>\n",
       "      <td>positive</td>\n",
       "      <td>3273.0</td>\n",
       "    </tr>\n",
       "    <tr>\n",
       "      <th>15019</th>\n",
       "      <td>SQL запросы быстро. Часть 1</td>\n",
       "      <td>sokolov_alexr</td>\n",
       "      <td>2019-12-17 17:25:36+00:00</td>\n",
       "      <td>MySQL, SQL, SQLite</td>\n",
       "      <td>SQL, быстро, студентам</td>\n",
       "      <td>Подписаться в telegram:\\nt.me/korocheproduct\\n...</td>\n",
       "      <td>36</td>\n",
       "      <td>-1</td>\n",
       "      <td>https://habr.com/ru/articles/480838/</td>\n",
       "      <td>5.0</td>\n",
       "      <td>https://habrastorage.org/r/w1560/storage3/263/...</td>\n",
       "      <td>individual</td>\n",
       "      <td>12</td>\n",
       "      <td>positive</td>\n",
       "      <td>1003.0</td>\n",
       "    </tr>\n",
       "    <tr>\n",
       "      <th>15751</th>\n",
       "      <td>Нормализация отношений. Шесть нормальных форм</td>\n",
       "      <td>DevilAngel</td>\n",
       "      <td>2015-04-02 15:53:20+00:00</td>\n",
       "      <td>MySQL, SQL</td>\n",
       "      <td>реляционные базы данных, БД, нормальные формы,...</td>\n",
       "      <td>В данной теме я затрону 6 нормальных форм и ме...</td>\n",
       "      <td>14</td>\n",
       "      <td>-1</td>\n",
       "      <td>https://habr.com/ru/articles/254773/</td>\n",
       "      <td>8.0</td>\n",
       "      <td></td>\n",
       "      <td>individual</td>\n",
       "      <td>7</td>\n",
       "      <td>positive</td>\n",
       "      <td>1165.0</td>\n",
       "    </tr>\n",
       "    <tr>\n",
       "      <th>15785</th>\n",
       "      <td>14 вопросов об индексах в SQL Server, которые ...</td>\n",
       "      <td>dude_sam</td>\n",
       "      <td>2015-01-13 11:48:49+00:00</td>\n",
       "      <td>Программирование, SQL, Microsoft SQL Server, В...</td>\n",
       "      <td>sql, sql server, index, dummies, базы данных, ...</td>\n",
       "      <td>Индексы\\n— это первое, что необходимо хорошо п...</td>\n",
       "      <td>44</td>\n",
       "      <td>-1</td>\n",
       "      <td>https://habr.com/ru/articles/247373/</td>\n",
       "      <td>26.0</td>\n",
       "      <td>https://habrastorage.org/r/w780q1/getpro/habr/...</td>\n",
       "      <td>individual</td>\n",
       "      <td>34</td>\n",
       "      <td>positive</td>\n",
       "      <td>1642.0</td>\n",
       "    </tr>\n",
       "    <tr>\n",
       "      <th>28788</th>\n",
       "      <td>Как получить доступ к chatGPT в России</td>\n",
       "      <td>VolkoIvan</td>\n",
       "      <td>2022-12-09 18:22:43+00:00</td>\n",
       "      <td>Веб-разработка, Разработка мобильных приложени...</td>\n",
       "      <td>chatgpt, llm, openai, доступ, gpt, chat, bot, ...</td>\n",
       "      <td>Всем привет! Перед началом статьи сразу скажу:...</td>\n",
       "      <td>268</td>\n",
       "      <td>-1</td>\n",
       "      <td>https://habr.com/ru/articles/704600/</td>\n",
       "      <td>4.0</td>\n",
       "      <td>https://habrastorage.org/r/w1560/getpro/habr/u...</td>\n",
       "      <td>individual</td>\n",
       "      <td>67</td>\n",
       "      <td>positive</td>\n",
       "      <td>754.0</td>\n",
       "    </tr>\n",
       "    <tr>\n",
       "      <th>...</th>\n",
       "      <td>...</td>\n",
       "      <td>...</td>\n",
       "      <td>...</td>\n",
       "      <td>...</td>\n",
       "      <td>...</td>\n",
       "      <td>...</td>\n",
       "      <td>...</td>\n",
       "      <td>...</td>\n",
       "      <td>...</td>\n",
       "      <td>...</td>\n",
       "      <td>...</td>\n",
       "      <td>...</td>\n",
       "      <td>...</td>\n",
       "      <td>...</td>\n",
       "      <td>...</td>\n",
       "    </tr>\n",
       "    <tr>\n",
       "      <th>245720</th>\n",
       "      <td>Прекратите скручивать (восклицательный знак)</td>\n",
       "      <td>vvzvlad</td>\n",
       "      <td>2012-11-11 00:19:27+00:00</td>\n",
       "      <td>DIY или Сделай сам</td>\n",
       "      <td>скрутка, как не надо делать, делай правильно</td>\n",
       "      <td>Ну действительно, прекратите. Есть куча прикол...</td>\n",
       "      <td>360</td>\n",
       "      <td>-1</td>\n",
       "      <td>https://habr.com/ru/articles/157947/</td>\n",
       "      <td>6.0</td>\n",
       "      <td>https://habrastorage.org/r/w780q1/storage2/bb1...</td>\n",
       "      <td>individual</td>\n",
       "      <td>652</td>\n",
       "      <td>positive</td>\n",
       "      <td>4527.0</td>\n",
       "    </tr>\n",
       "    <tr>\n",
       "      <th>247814</th>\n",
       "      <td>Простым языком об HTTP</td>\n",
       "      <td>aruseni</td>\n",
       "      <td>2014-03-08 23:16:04+00:00</td>\n",
       "      <td>Программирование, Веб-разработка</td>\n",
       "      <td>http, alizar, spdy</td>\n",
       "      <td>Вашему вниманию предлагается описание основных...</td>\n",
       "      <td>35</td>\n",
       "      <td>-1</td>\n",
       "      <td>https://habr.com/ru/articles/215117/</td>\n",
       "      <td>9.0</td>\n",
       "      <td></td>\n",
       "      <td>individual</td>\n",
       "      <td>70</td>\n",
       "      <td>positive</td>\n",
       "      <td>1812.0</td>\n",
       "    </tr>\n",
       "    <tr>\n",
       "      <th>247893</th>\n",
       "      <td>Еще раз про IP-адреса, маски подсетей и вообще</td>\n",
       "      <td>salium</td>\n",
       "      <td>2011-10-10 21:37:08+00:00</td>\n",
       "      <td>Системное администрирование</td>\n",
       "      <td>ликбез, маска подсети, ip-адрес</td>\n",
       "      <td>Чуточку ликбеза. Навеяно предшествующими копип...</td>\n",
       "      <td>204</td>\n",
       "      <td>-1</td>\n",
       "      <td>https://habr.com/ru/articles/129664/</td>\n",
       "      <td>7.0</td>\n",
       "      <td></td>\n",
       "      <td>individual</td>\n",
       "      <td>236</td>\n",
       "      <td>positive</td>\n",
       "      <td>2387.0</td>\n",
       "    </tr>\n",
       "    <tr>\n",
       "      <th>249073</th>\n",
       "      <td>Сети для самых маленьких. Часть нулевая. Плани...</td>\n",
       "      <td>eucariot</td>\n",
       "      <td>2011-12-22 07:57:43+00:00</td>\n",
       "      <td>Системное администрирование</td>\n",
       "      <td>сети для самых маленьких, cisco, планирование,...</td>\n",
       "      <td>Это первая статья из серии «Сети для самых мал...</td>\n",
       "      <td>134</td>\n",
       "      <td>-1</td>\n",
       "      <td>https://habr.com/ru/articles/134892/</td>\n",
       "      <td>7.0</td>\n",
       "      <td>https://habrastorage.org/r/w1560/getpro/habr/p...</td>\n",
       "      <td>individual</td>\n",
       "      <td>96</td>\n",
       "      <td>positive</td>\n",
       "      <td>5246.0</td>\n",
       "    </tr>\n",
       "    <tr>\n",
       "      <th>249766</th>\n",
       "      <td>Хакинтош: разворачиваем macOS Sierra на Intel-...</td>\n",
       "      <td>Nathan_Foxy</td>\n",
       "      <td>2016-12-26 10:35:35+00:00</td>\n",
       "      <td>Системное администрирование</td>\n",
       "      <td>apple, hackintosh, mac, хакинтош</td>\n",
       "      <td>ПРОЧТИ МЕНЯ ПОЖАЛУСТО\\nЕсли вы НЕ МОЖЕТЕ распа...</td>\n",
       "      <td>146</td>\n",
       "      <td>-1</td>\n",
       "      <td>https://habr.com/ru/articles/318448/</td>\n",
       "      <td>13.0</td>\n",
       "      <td>https://habrastorage.org/r/w780q1/getpro/habr/...</td>\n",
       "      <td>individual</td>\n",
       "      <td>62</td>\n",
       "      <td>positive</td>\n",
       "      <td>711.0</td>\n",
       "    </tr>\n",
       "  </tbody>\n",
       "</table>\n",
       "<p>61 rows × 15 columns</p>\n",
       "</div>"
      ],
      "text/plain": [
       "                                                    title         author  \\\n",
       "12213   Wi-Fi: неочевидные нюансы (на примере домашней...          apcsb   \n",
       "15019                         SQL запросы быстро. Часть 1  sokolov_alexr   \n",
       "15751       Нормализация отношений. Шесть нормальных форм     DevilAngel   \n",
       "15785   14 вопросов об индексах в SQL Server, которые ...       dude_sam   \n",
       "28788              Как получить доступ к chatGPT в России      VolkoIvan   \n",
       "...                                                   ...            ...   \n",
       "245720       Прекратите скручивать (восклицательный знак)        vvzvlad   \n",
       "247814                             Простым языком об HTTP        aruseni   \n",
       "247893     Еще раз про IP-адреса, маски подсетей и вообще         salium   \n",
       "249073  Сети для самых маленьких. Часть нулевая. Плани...       eucariot   \n",
       "249766  Хакинтош: разворачиваем macOS Sierra на Intel-...    Nathan_Foxy   \n",
       "\n",
       "                publication_date  \\\n",
       "12213  2012-08-12 12:23:38+00:00   \n",
       "15019  2019-12-17 17:25:36+00:00   \n",
       "15751  2015-04-02 15:53:20+00:00   \n",
       "15785  2015-01-13 11:48:49+00:00   \n",
       "28788  2022-12-09 18:22:43+00:00   \n",
       "...                          ...   \n",
       "245720 2012-11-11 00:19:27+00:00   \n",
       "247814 2014-03-08 23:16:04+00:00   \n",
       "247893 2011-10-10 21:37:08+00:00   \n",
       "249073 2011-12-22 07:57:43+00:00   \n",
       "249766 2016-12-26 10:35:35+00:00   \n",
       "\n",
       "                                                     hubs  \\\n",
       "12213         Беспроводные технологии, Сетевые технологии   \n",
       "15019                                  MySQL, SQL, SQLite   \n",
       "15751                                          MySQL, SQL   \n",
       "15785   Программирование, SQL, Microsoft SQL Server, В...   \n",
       "28788   Веб-разработка, Разработка мобильных приложени...   \n",
       "...                                                   ...   \n",
       "245720                                 DIY или Сделай сам   \n",
       "247814                   Программирование, Веб-разработка   \n",
       "247893                        Системное администрирование   \n",
       "249073                        Системное администрирование   \n",
       "249766                        Системное администрирование   \n",
       "\n",
       "                                                     tags  \\\n",
       "12213   Wi-Fi, беспроводные сети, беспроводная связь, ...   \n",
       "15019                              SQL, быстро, студентам   \n",
       "15751   реляционные базы данных, БД, нормальные формы,...   \n",
       "15785   sql, sql server, index, dummies, базы данных, ...   \n",
       "28788   chatgpt, llm, openai, доступ, gpt, chat, bot, ...   \n",
       "...                                                   ...   \n",
       "245720       скрутка, как не надо делать, делай правильно   \n",
       "247814                                 http, alizar, spdy   \n",
       "247893                    ликбез, маска подсети, ip-адрес   \n",
       "249073  сети для самых маленьких, cisco, планирование,...   \n",
       "249766                   apple, hackintosh, mac, хакинтош   \n",
       "\n",
       "                                                  content  comments  views  \\\n",
       "12213   Сейчас многие покупают точки доступа 802.11n, ...       138     -1   \n",
       "15019   Подписаться в telegram:\\nt.me/korocheproduct\\n...        36     -1   \n",
       "15751   В данной теме я затрону 6 нормальных форм и ме...        14     -1   \n",
       "15785   Индексы\\n— это первое, что необходимо хорошо п...        44     -1   \n",
       "28788   Всем привет! Перед началом статьи сразу скажу:...       268     -1   \n",
       "...                                                   ...       ...    ...   \n",
       "245720  Ну действительно, прекратите. Есть куча прикол...       360     -1   \n",
       "247814  Вашему вниманию предлагается описание основных...        35     -1   \n",
       "247893  Чуточку ликбеза. Навеяно предшествующими копип...       204     -1   \n",
       "249073  Это первая статья из серии «Сети для самых мал...       134     -1   \n",
       "249766  ПРОЧТИ МЕНЯ ПОЖАЛУСТО\\nЕсли вы НЕ МОЖЕТЕ распа...       146     -1   \n",
       "\n",
       "                                         url  reading_time  \\\n",
       "12213   https://habr.com/ru/articles/149447/          14.0   \n",
       "15019   https://habr.com/ru/articles/480838/           5.0   \n",
       "15751   https://habr.com/ru/articles/254773/           8.0   \n",
       "15785   https://habr.com/ru/articles/247373/          26.0   \n",
       "28788   https://habr.com/ru/articles/704600/           4.0   \n",
       "...                                      ...           ...   \n",
       "245720  https://habr.com/ru/articles/157947/           6.0   \n",
       "247814  https://habr.com/ru/articles/215117/           9.0   \n",
       "247893  https://habr.com/ru/articles/129664/           7.0   \n",
       "249073  https://habr.com/ru/articles/134892/           7.0   \n",
       "249766  https://habr.com/ru/articles/318448/          13.0   \n",
       "\n",
       "                                             images_links individ/company  \\\n",
       "12213   https://habrastorage.org/r/w1560/storage2/abd/...      individual   \n",
       "15019   https://habrastorage.org/r/w1560/storage3/263/...      individual   \n",
       "15751                                                          individual   \n",
       "15785   https://habrastorage.org/r/w780q1/getpro/habr/...      individual   \n",
       "28788   https://habrastorage.org/r/w1560/getpro/habr/u...      individual   \n",
       "...                                                   ...             ...   \n",
       "245720  https://habrastorage.org/r/w780q1/storage2/bb1...      individual   \n",
       "247814                                                         individual   \n",
       "247893                                                         individual   \n",
       "249073  https://habrastorage.org/r/w1560/getpro/habr/p...      individual   \n",
       "249766  https://habrastorage.org/r/w780q1/getpro/habr/...      individual   \n",
       "\n",
       "        rating positive/negative  bookmarks_cnt  \n",
       "12213      228          positive         3273.0  \n",
       "15019       12          positive         1003.0  \n",
       "15751        7          positive         1165.0  \n",
       "15785       34          positive         1642.0  \n",
       "28788       67          positive          754.0  \n",
       "...        ...               ...            ...  \n",
       "245720     652          positive         4527.0  \n",
       "247814      70          positive         1812.0  \n",
       "247893     236          positive         2387.0  \n",
       "249073      96          positive         5246.0  \n",
       "249766      62          positive          711.0  \n",
       "\n",
       "[61 rows x 15 columns]"
      ]
     },
     "execution_count": 15,
     "metadata": {},
     "output_type": "execute_result"
    }
   ],
   "source": [
    "df.query('views == -1')"
   ]
  },
  {
   "cell_type": "markdown",
   "metadata": {},
   "source": [
    "61 строка - очень скромно для нашего датасета -> можно удалить  "
   ]
  },
  {
   "cell_type": "code",
   "execution_count": 16,
   "metadata": {},
   "outputs": [],
   "source": [
    "df = df.query('views > -1')"
   ]
  },
  {
   "cell_type": "code",
   "execution_count": 17,
   "metadata": {},
   "outputs": [
    {
     "data": {
      "text/plain": [
       "23"
      ]
     },
     "execution_count": 17,
     "metadata": {},
     "output_type": "execute_result"
    }
   ],
   "source": [
    "df.views.min()"
   ]
  },
  {
   "cell_type": "markdown",
   "metadata": {},
   "source": [
    "## Правда ли есть одинаковые названия статей при разных статьях?"
   ]
  },
  {
   "cell_type": "code",
   "execution_count": 18,
   "metadata": {},
   "outputs": [
    {
     "data": {
      "text/html": [
       "<div>\n",
       "<style scoped>\n",
       "    .dataframe tbody tr th:only-of-type {\n",
       "        vertical-align: middle;\n",
       "    }\n",
       "\n",
       "    .dataframe tbody tr th {\n",
       "        vertical-align: top;\n",
       "    }\n",
       "\n",
       "    .dataframe thead th {\n",
       "        text-align: right;\n",
       "    }\n",
       "</style>\n",
       "<table border=\"1\" class=\"dataframe\">\n",
       "  <thead>\n",
       "    <tr style=\"text-align: right;\">\n",
       "      <th></th>\n",
       "      <th>title</th>\n",
       "      <th>author</th>\n",
       "      <th>publication_date</th>\n",
       "      <th>hubs</th>\n",
       "      <th>tags</th>\n",
       "      <th>content</th>\n",
       "      <th>comments</th>\n",
       "      <th>views</th>\n",
       "      <th>url</th>\n",
       "      <th>reading_time</th>\n",
       "      <th>images_links</th>\n",
       "      <th>individ/company</th>\n",
       "      <th>rating</th>\n",
       "      <th>positive/negative</th>\n",
       "      <th>bookmarks_cnt</th>\n",
       "    </tr>\n",
       "  </thead>\n",
       "  <tbody>\n",
       "    <tr>\n",
       "      <th>76</th>\n",
       "      <td>Как дела?</td>\n",
       "      <td>hooey</td>\n",
       "      <td>2008-11-03 11:15:41+00:00</td>\n",
       "      <td>GTD</td>\n",
       "      <td>icq, общение, мини-сервисы</td>\n",
       "      <td>(открываю топик снова — в первый раз я его уда...</td>\n",
       "      <td>62</td>\n",
       "      <td>694</td>\n",
       "      <td>https://habr.com/ru/articles/43861/</td>\n",
       "      <td>1.0</td>\n",
       "      <td></td>\n",
       "      <td>individual</td>\n",
       "      <td>59</td>\n",
       "      <td>positive</td>\n",
       "      <td>16.0</td>\n",
       "    </tr>\n",
       "    <tr>\n",
       "      <th>170</th>\n",
       "      <td>Цитата</td>\n",
       "      <td>petrovnn</td>\n",
       "      <td>2007-04-22 12:16:02+00:00</td>\n",
       "      <td>GTD</td>\n",
       "      <td>Цитаты, Форбс, Работа</td>\n",
       "      <td>Проснувшись утром, откройте журнал «Форбс» и п...</td>\n",
       "      <td>7</td>\n",
       "      <td>904</td>\n",
       "      <td>https://habr.com/ru/articles/7330/</td>\n",
       "      <td>1.0</td>\n",
       "      <td></td>\n",
       "      <td>individual</td>\n",
       "      <td>4</td>\n",
       "      <td>positive</td>\n",
       "      <td>3.0</td>\n",
       "    </tr>\n",
       "    <tr>\n",
       "      <th>496</th>\n",
       "      <td>Приглашаем на Ozon Tech Community Go Meetup</td>\n",
       "      <td>ur2dc</td>\n",
       "      <td>2023-09-14 12:21:11+00:00</td>\n",
       "      <td>Блог компании Ozon Tech, Высокая производитель...</td>\n",
       "      <td>митап, ozon tech, meetup, go, highload</td>\n",
       "      <td>Всем привет! Я – Влад, руководитель группы пои...</td>\n",
       "      <td>2</td>\n",
       "      <td>1500</td>\n",
       "      <td>https://habr.com/ru/companies/ozontech/article...</td>\n",
       "      <td>2.0</td>\n",
       "      <td>https://habrastorage.org/r/w1560/getpro/habr/u...</td>\n",
       "      <td>company</td>\n",
       "      <td>7</td>\n",
       "      <td>positive</td>\n",
       "      <td>10.0</td>\n",
       "    </tr>\n",
       "    <tr>\n",
       "      <th>623</th>\n",
       "      <td>Fuzzing-тесты в Go после v1.18: знакомство и п...</td>\n",
       "      <td>Doctor_IT</td>\n",
       "      <td>2023-01-19 09:09:28+00:00</td>\n",
       "      <td>Блог компании Selectel, Блог компании Конферен...</td>\n",
       "      <td>selectel, highload, go, fuzzing, тестирование,...</td>\n",
       "      <td>Когда говорят о Go 1.18, обычно вспоминают про...</td>\n",
       "      <td>2</td>\n",
       "      <td>8200</td>\n",
       "      <td>https://habr.com/ru/companies/selectel/article...</td>\n",
       "      <td>6.0</td>\n",
       "      <td>https://habrastorage.org/r/w1560/webt/hk/a7/lw...</td>\n",
       "      <td>company</td>\n",
       "      <td>40</td>\n",
       "      <td>positive</td>\n",
       "      <td>52.0</td>\n",
       "    </tr>\n",
       "    <tr>\n",
       "      <th>642</th>\n",
       "      <td>Приглашаем на Ozon Tech Community Go Meetup</td>\n",
       "      <td>moguchev</td>\n",
       "      <td>2022-12-06 12:43:16+00:00</td>\n",
       "      <td>Блог компании Ozon Tech, Go, Конференции</td>\n",
       "      <td>go, ozon, ozon tech, meetup</td>\n",
       "      <td>UPD:\\nприложили записи докладов и слайды\\nВсем...</td>\n",
       "      <td>1</td>\n",
       "      <td>2500</td>\n",
       "      <td>https://habr.com/ru/companies/ozontech/article...</td>\n",
       "      <td>2.0</td>\n",
       "      <td>https://habrastorage.org/r/w1560/getpro/habr/u...</td>\n",
       "      <td>company</td>\n",
       "      <td>15</td>\n",
       "      <td>positive</td>\n",
       "      <td>11.0</td>\n",
       "    </tr>\n",
       "    <tr>\n",
       "      <th>...</th>\n",
       "      <td>...</td>\n",
       "      <td>...</td>\n",
       "      <td>...</td>\n",
       "      <td>...</td>\n",
       "      <td>...</td>\n",
       "      <td>...</td>\n",
       "      <td>...</td>\n",
       "      <td>...</td>\n",
       "      <td>...</td>\n",
       "      <td>...</td>\n",
       "      <td>...</td>\n",
       "      <td>...</td>\n",
       "      <td>...</td>\n",
       "      <td>...</td>\n",
       "      <td>...</td>\n",
       "    </tr>\n",
       "    <tr>\n",
       "      <th>284514</th>\n",
       "      <td>Карьера, коммерция и управление проектами/зада...</td>\n",
       "      <td>megamozg</td>\n",
       "      <td>2015-06-03 17:27:13+00:00</td>\n",
       "      <td>Управление проектами, Управление продуктом, Уп...</td>\n",
       "      <td>тостер, коммерция, финансы, юриспруденция, авт...</td>\n",
       "      <td>Специально для читателей «Мегамозга» наша реда...</td>\n",
       "      <td>4</td>\n",
       "      <td>5500</td>\n",
       "      <td>https://habr.com/ru/articles/291226/</td>\n",
       "      <td>4.0</td>\n",
       "      <td>https://habrastorage.org/r/w1560/files/d92/2b1...</td>\n",
       "      <td>individual</td>\n",
       "      <td>11</td>\n",
       "      <td>positive</td>\n",
       "      <td>20.0</td>\n",
       "    </tr>\n",
       "    <tr>\n",
       "      <th>284604</th>\n",
       "      <td>Дизайн-система Gravity UI: как легко построить...</td>\n",
       "      <td>AlexeyW100</td>\n",
       "      <td>2023-11-15 07:01:08+00:00</td>\n",
       "      <td>Блог компании Яндекс, Блог компании Yandex Clo...</td>\n",
       "      <td>ui, интерфейс, дизайн-система, дизайн интерфей...</td>\n",
       "      <td>Всем привет, я Алексей Сизиков, руководитель о...</td>\n",
       "      <td>27</td>\n",
       "      <td>44000</td>\n",
       "      <td>https://habr.com/ru/companies/yandex/articles/...</td>\n",
       "      <td>7.0</td>\n",
       "      <td>https://habrastorage.org/r/w1560/getpro/habr/u...</td>\n",
       "      <td>company</td>\n",
       "      <td>67</td>\n",
       "      <td>positive</td>\n",
       "      <td>220.0</td>\n",
       "    </tr>\n",
       "    <tr>\n",
       "      <th>284715</th>\n",
       "      <td>Переизобретаем файловую систему: (Open)ZFS</td>\n",
       "      <td>gmelikov</td>\n",
       "      <td>2023-10-30 10:40:27+00:00</td>\n",
       "      <td>Блог компании VK, Блог компании Конференции Ол...</td>\n",
       "      <td>zfs, openzfs, zfsonlinux, file system, storage</td>\n",
       "      <td>Хранение данных — это всегда боль, у которой м...</td>\n",
       "      <td>80</td>\n",
       "      <td>20000</td>\n",
       "      <td>https://habr.com/ru/companies/vk/articles/770300/</td>\n",
       "      <td>17.0</td>\n",
       "      <td>https://vk.com/rtrg?p=VK-RTRG-460882-4O3w8, ht...</td>\n",
       "      <td>company</td>\n",
       "      <td>60</td>\n",
       "      <td>positive</td>\n",
       "      <td>109.0</td>\n",
       "    </tr>\n",
       "    <tr>\n",
       "      <th>285110</th>\n",
       "      <td>Как TeamViewer хранит пароли</td>\n",
       "      <td>GlobalSign_admin</td>\n",
       "      <td>2020-03-18 19:34:40+00:00</td>\n",
       "      <td>Блог компании GlobalSign, Информационная безоп...</td>\n",
       "      <td>TeamViewer, BulletPassView, пароли, шифрование...</td>\n",
       "      <td>TeamViewer — популярная программа для удалённо...</td>\n",
       "      <td>42</td>\n",
       "      <td>24000</td>\n",
       "      <td>https://habr.com/ru/companies/globalsign/artic...</td>\n",
       "      <td>3.0</td>\n",
       "      <td>https://habrastorage.org/r/w1560/webt/wf/27/n8...</td>\n",
       "      <td>company</td>\n",
       "      <td>21</td>\n",
       "      <td>positive</td>\n",
       "      <td>84.0</td>\n",
       "    </tr>\n",
       "    <tr>\n",
       "      <th>285266</th>\n",
       "      <td>ТОП-3 ИБ-событий недели по версии Jet CSIRT</td>\n",
       "      <td>CSIRT</td>\n",
       "      <td>2022-08-12 09:09:44+00:00</td>\n",
       "      <td>Блог компании Инфосистемы Джет, Информационная...</td>\n",
       "      <td>cyberattack, cybersecurity</td>\n",
       "      <td>Компания Microsoft выпустила обновления безопа...</td>\n",
       "      <td>0</td>\n",
       "      <td>684</td>\n",
       "      <td>https://habr.com/ru/companies/jetinfosystems/a...</td>\n",
       "      <td>1.0</td>\n",
       "      <td>https://habrastorage.org/r/w1560/getpro/habr/u...</td>\n",
       "      <td>company</td>\n",
       "      <td>0</td>\n",
       "      <td>positive</td>\n",
       "      <td>5.0</td>\n",
       "    </tr>\n",
       "  </tbody>\n",
       "</table>\n",
       "<p>2311 rows × 15 columns</p>\n",
       "</div>"
      ],
      "text/plain": [
       "                                                    title            author  \\\n",
       "76                                              Как дела?             hooey   \n",
       "170                                                Цитата          petrovnn   \n",
       "496           Приглашаем на Ozon Tech Community Go Meetup             ur2dc   \n",
       "623     Fuzzing-тесты в Go после v1.18: знакомство и п...         Doctor_IT   \n",
       "642           Приглашаем на Ozon Tech Community Go Meetup          moguchev   \n",
       "...                                                   ...               ...   \n",
       "284514  Карьера, коммерция и управление проектами/зада...          megamozg   \n",
       "284604  Дизайн-система Gravity UI: как легко построить...        AlexeyW100   \n",
       "284715         Переизобретаем файловую систему: (Open)ZFS          gmelikov   \n",
       "285110                       Как TeamViewer хранит пароли  GlobalSign_admin   \n",
       "285266        ТОП-3 ИБ-событий недели по версии Jet CSIRT             CSIRT   \n",
       "\n",
       "                publication_date  \\\n",
       "76     2008-11-03 11:15:41+00:00   \n",
       "170    2007-04-22 12:16:02+00:00   \n",
       "496    2023-09-14 12:21:11+00:00   \n",
       "623    2023-01-19 09:09:28+00:00   \n",
       "642    2022-12-06 12:43:16+00:00   \n",
       "...                          ...   \n",
       "284514 2015-06-03 17:27:13+00:00   \n",
       "284604 2023-11-15 07:01:08+00:00   \n",
       "284715 2023-10-30 10:40:27+00:00   \n",
       "285110 2020-03-18 19:34:40+00:00   \n",
       "285266 2022-08-12 09:09:44+00:00   \n",
       "\n",
       "                                                     hubs  \\\n",
       "76                                                    GTD   \n",
       "170                                                   GTD   \n",
       "496     Блог компании Ozon Tech, Высокая производитель...   \n",
       "623     Блог компании Selectel, Блог компании Конферен...   \n",
       "642              Блог компании Ozon Tech, Go, Конференции   \n",
       "...                                                   ...   \n",
       "284514  Управление проектами, Управление продуктом, Уп...   \n",
       "284604  Блог компании Яндекс, Блог компании Yandex Clo...   \n",
       "284715  Блог компании VK, Блог компании Конференции Ол...   \n",
       "285110  Блог компании GlobalSign, Информационная безоп...   \n",
       "285266  Блог компании Инфосистемы Джет, Информационная...   \n",
       "\n",
       "                                                     tags  \\\n",
       "76                             icq, общение, мини-сервисы   \n",
       "170                                 Цитаты, Форбс, Работа   \n",
       "496                митап, ozon tech, meetup, go, highload   \n",
       "623     selectel, highload, go, fuzzing, тестирование,...   \n",
       "642                           go, ozon, ozon tech, meetup   \n",
       "...                                                   ...   \n",
       "284514  тостер, коммерция, финансы, юриспруденция, авт...   \n",
       "284604  ui, интерфейс, дизайн-система, дизайн интерфей...   \n",
       "284715     zfs, openzfs, zfsonlinux, file system, storage   \n",
       "285110  TeamViewer, BulletPassView, пароли, шифрование...   \n",
       "285266                         cyberattack, cybersecurity   \n",
       "\n",
       "                                                  content  comments  views  \\\n",
       "76      (открываю топик снова — в первый раз я его уда...        62    694   \n",
       "170     Проснувшись утром, откройте журнал «Форбс» и п...         7    904   \n",
       "496     Всем привет! Я – Влад, руководитель группы пои...         2   1500   \n",
       "623     Когда говорят о Go 1.18, обычно вспоминают про...         2   8200   \n",
       "642     UPD:\\nприложили записи докладов и слайды\\nВсем...         1   2500   \n",
       "...                                                   ...       ...    ...   \n",
       "284514  Специально для читателей «Мегамозга» наша реда...         4   5500   \n",
       "284604  Всем привет, я Алексей Сизиков, руководитель о...        27  44000   \n",
       "284715  Хранение данных — это всегда боль, у которой м...        80  20000   \n",
       "285110  TeamViewer — популярная программа для удалённо...        42  24000   \n",
       "285266  Компания Microsoft выпустила обновления безопа...         0    684   \n",
       "\n",
       "                                                      url  reading_time  \\\n",
       "76                    https://habr.com/ru/articles/43861/           1.0   \n",
       "170                    https://habr.com/ru/articles/7330/           1.0   \n",
       "496     https://habr.com/ru/companies/ozontech/article...           2.0   \n",
       "623     https://habr.com/ru/companies/selectel/article...           6.0   \n",
       "642     https://habr.com/ru/companies/ozontech/article...           2.0   \n",
       "...                                                   ...           ...   \n",
       "284514               https://habr.com/ru/articles/291226/           4.0   \n",
       "284604  https://habr.com/ru/companies/yandex/articles/...           7.0   \n",
       "284715  https://habr.com/ru/companies/vk/articles/770300/          17.0   \n",
       "285110  https://habr.com/ru/companies/globalsign/artic...           3.0   \n",
       "285266  https://habr.com/ru/companies/jetinfosystems/a...           1.0   \n",
       "\n",
       "                                             images_links individ/company  \\\n",
       "76                                                             individual   \n",
       "170                                                            individual   \n",
       "496     https://habrastorage.org/r/w1560/getpro/habr/u...         company   \n",
       "623     https://habrastorage.org/r/w1560/webt/hk/a7/lw...         company   \n",
       "642     https://habrastorage.org/r/w1560/getpro/habr/u...         company   \n",
       "...                                                   ...             ...   \n",
       "284514  https://habrastorage.org/r/w1560/files/d92/2b1...      individual   \n",
       "284604  https://habrastorage.org/r/w1560/getpro/habr/u...         company   \n",
       "284715  https://vk.com/rtrg?p=VK-RTRG-460882-4O3w8, ht...         company   \n",
       "285110  https://habrastorage.org/r/w1560/webt/wf/27/n8...         company   \n",
       "285266  https://habrastorage.org/r/w1560/getpro/habr/u...         company   \n",
       "\n",
       "        rating positive/negative  bookmarks_cnt  \n",
       "76          59          positive           16.0  \n",
       "170          4          positive            3.0  \n",
       "496          7          positive           10.0  \n",
       "623         40          positive           52.0  \n",
       "642         15          positive           11.0  \n",
       "...        ...               ...            ...  \n",
       "284514      11          positive           20.0  \n",
       "284604      67          positive          220.0  \n",
       "284715      60          positive          109.0  \n",
       "285110      21          positive           84.0  \n",
       "285266       0          positive            5.0  \n",
       "\n",
       "[2311 rows x 15 columns]"
      ]
     },
     "execution_count": 18,
     "metadata": {},
     "output_type": "execute_result"
    }
   ],
   "source": [
    "df[df.duplicated(subset = ['title'], keep = False)]\n",
    "# видимо при одинаковом названии статьи произошло либо обновление статьи, либо \"2 часть\" и т.д."
   ]
  },
  {
   "cell_type": "markdown",
   "metadata": {},
   "source": [
    "# Создание логических столбцов для positive/negative, individ/company\t"
   ]
  },
  {
   "cell_type": "code",
   "execution_count": 19,
   "metadata": {},
   "outputs": [],
   "source": [
    "df['is_individ'] = df['individ/company'].apply(lambda x: 1 if x == 'individual' else 0)"
   ]
  },
  {
   "cell_type": "code",
   "execution_count": 20,
   "metadata": {},
   "outputs": [],
   "source": [
    "df['is_positive'] = df['positive/negative'].apply(lambda x: 1 if x == 'positive' else 0)"
   ]
  },
  {
   "cell_type": "code",
   "execution_count": 21,
   "metadata": {},
   "outputs": [
    {
     "data": {
      "text/html": [
       "<div>\n",
       "<style scoped>\n",
       "    .dataframe tbody tr th:only-of-type {\n",
       "        vertical-align: middle;\n",
       "    }\n",
       "\n",
       "    .dataframe tbody tr th {\n",
       "        vertical-align: top;\n",
       "    }\n",
       "\n",
       "    .dataframe thead th {\n",
       "        text-align: right;\n",
       "    }\n",
       "</style>\n",
       "<table border=\"1\" class=\"dataframe\">\n",
       "  <thead>\n",
       "    <tr style=\"text-align: right;\">\n",
       "      <th></th>\n",
       "      <th>title</th>\n",
       "      <th>author</th>\n",
       "      <th>publication_date</th>\n",
       "      <th>hubs</th>\n",
       "      <th>tags</th>\n",
       "      <th>content</th>\n",
       "      <th>comments</th>\n",
       "      <th>views</th>\n",
       "      <th>url</th>\n",
       "      <th>reading_time</th>\n",
       "      <th>images_links</th>\n",
       "      <th>individ/company</th>\n",
       "      <th>rating</th>\n",
       "      <th>positive/negative</th>\n",
       "      <th>bookmarks_cnt</th>\n",
       "      <th>is_individ</th>\n",
       "      <th>is_positive</th>\n",
       "    </tr>\n",
       "  </thead>\n",
       "  <tbody>\n",
       "    <tr>\n",
       "      <th>0</th>\n",
       "      <td>Лечение приступов лени</td>\n",
       "      <td>complex</td>\n",
       "      <td>2009-08-03 14:34:35+00:00</td>\n",
       "      <td>GTD</td>\n",
       "      <td>лень, учись работать, самомотивация, мотивация</td>\n",
       "      <td>Пора лишать девственности свой бложик.\\nТак ка...</td>\n",
       "      <td>67</td>\n",
       "      <td>6800</td>\n",
       "      <td>https://habr.com/ru/articles/66091/</td>\n",
       "      <td>2.0</td>\n",
       "      <td></td>\n",
       "      <td>individual</td>\n",
       "      <td>4</td>\n",
       "      <td>positive</td>\n",
       "      <td>25.0</td>\n",
       "      <td>1</td>\n",
       "      <td>1</td>\n",
       "    </tr>\n",
       "    <tr>\n",
       "      <th>1</th>\n",
       "      <td>Как я работал по два часа в день</td>\n",
       "      <td>Konovalov</td>\n",
       "      <td>2009-07-30 13:50:03+00:00</td>\n",
       "      <td>GTD</td>\n",
       "      <td>тайм-менеджмент, timemanagement, работа, эффек...</td>\n",
       "      <td>Когда я только перешёл от офисной работы к дом...</td>\n",
       "      <td>99</td>\n",
       "      <td>21000</td>\n",
       "      <td>https://habr.com/ru/articles/65783/</td>\n",
       "      <td>3.0</td>\n",
       "      <td></td>\n",
       "      <td>individual</td>\n",
       "      <td>193</td>\n",
       "      <td>positive</td>\n",
       "      <td>114.0</td>\n",
       "      <td>1</td>\n",
       "      <td>1</td>\n",
       "    </tr>\n",
       "    <tr>\n",
       "      <th>2</th>\n",
       "      <td>Итоги первой недели</td>\n",
       "      <td>Irokez</td>\n",
       "      <td>2009-05-10 13:43:21+00:00</td>\n",
       "      <td>GTD</td>\n",
       "      <td>тайм-менеджмент, пинарик, ворктрек</td>\n",
       "      <td>Итак, за прошедшую неделю хабраюзеры попробова...</td>\n",
       "      <td>29</td>\n",
       "      <td>1000</td>\n",
       "      <td>https://habr.com/ru/articles/59272/</td>\n",
       "      <td>1.0</td>\n",
       "      <td>https://habrastorage.org/r/w1560/getpro/megamo...</td>\n",
       "      <td>individual</td>\n",
       "      <td>15</td>\n",
       "      <td>positive</td>\n",
       "      <td>5.0</td>\n",
       "      <td>1</td>\n",
       "      <td>1</td>\n",
       "    </tr>\n",
       "  </tbody>\n",
       "</table>\n",
       "</div>"
      ],
      "text/plain": [
       "                              title     author          publication_date hubs  \\\n",
       "0            Лечение приступов лени    complex 2009-08-03 14:34:35+00:00  GTD   \n",
       "1  Как я работал по два часа в день  Konovalov 2009-07-30 13:50:03+00:00  GTD   \n",
       "2               Итоги первой недели     Irokez 2009-05-10 13:43:21+00:00  GTD   \n",
       "\n",
       "                                                tags  \\\n",
       "0     лень, учись работать, самомотивация, мотивация   \n",
       "1  тайм-менеджмент, timemanagement, работа, эффек...   \n",
       "2                 тайм-менеджмент, пинарик, ворктрек   \n",
       "\n",
       "                                             content  comments  views  \\\n",
       "0  Пора лишать девственности свой бложик.\\nТак ка...        67   6800   \n",
       "1  Когда я только перешёл от офисной работы к дом...        99  21000   \n",
       "2  Итак, за прошедшую неделю хабраюзеры попробова...        29   1000   \n",
       "\n",
       "                                   url  reading_time  \\\n",
       "0  https://habr.com/ru/articles/66091/           2.0   \n",
       "1  https://habr.com/ru/articles/65783/           3.0   \n",
       "2  https://habr.com/ru/articles/59272/           1.0   \n",
       "\n",
       "                                        images_links individ/company  rating  \\\n",
       "0                                                         individual       4   \n",
       "1                                                         individual     193   \n",
       "2  https://habrastorage.org/r/w1560/getpro/megamo...      individual      15   \n",
       "\n",
       "  positive/negative  bookmarks_cnt  is_individ  is_positive  \n",
       "0          positive           25.0           1            1  \n",
       "1          positive          114.0           1            1  \n",
       "2          positive            5.0           1            1  "
      ]
     },
     "execution_count": 21,
     "metadata": {},
     "output_type": "execute_result"
    }
   ],
   "source": [
    "df.head(3)"
   ]
  },
  {
   "cell_type": "code",
   "execution_count": 22,
   "metadata": {},
   "outputs": [
    {
     "data": {
      "text/plain": [
       "is_individ\n",
       "1    198162\n",
       "0     87275\n",
       "Name: count, dtype: int64"
      ]
     },
     "execution_count": 22,
     "metadata": {},
     "output_type": "execute_result"
    }
   ],
   "source": [
    "df['is_individ'].value_counts()"
   ]
  },
  {
   "cell_type": "code",
   "execution_count": 23,
   "metadata": {},
   "outputs": [
    {
     "data": {
      "text/plain": [
       "is_positive\n",
       "1    267870\n",
       "0     17567\n",
       "Name: count, dtype: int64"
      ]
     },
     "execution_count": 23,
     "metadata": {},
     "output_type": "execute_result"
    }
   ],
   "source": [
    "df['is_positive'].value_counts()"
   ]
  },
  {
   "cell_type": "markdown",
   "metadata": {},
   "source": [
    "# Анализ текста по 10% выборке"
   ]
  },
  {
   "cell_type": "code",
   "execution_count": 24,
   "metadata": {},
   "outputs": [],
   "source": [
    "df_10 = pd.read_parquet('/Users/vitaly/Documents/1_Образование/Государственное/ВШЭ/Годовой проект/Датасеты/df_pos_tags_10.parquet', \n",
    "                        engine = 'pyarrow')"
   ]
  },
  {
   "cell_type": "code",
   "execution_count": 26,
   "metadata": {
    "scrolled": false
   },
   "outputs": [
    {
     "data": {
      "text/html": [
       "<div>\n",
       "<style scoped>\n",
       "    .dataframe tbody tr th:only-of-type {\n",
       "        vertical-align: middle;\n",
       "    }\n",
       "\n",
       "    .dataframe tbody tr th {\n",
       "        vertical-align: top;\n",
       "    }\n",
       "\n",
       "    .dataframe thead th {\n",
       "        text-align: right;\n",
       "    }\n",
       "</style>\n",
       "<table border=\"1\" class=\"dataframe\">\n",
       "  <thead>\n",
       "    <tr style=\"text-align: right;\">\n",
       "      <th></th>\n",
       "      <th>Title</th>\n",
       "      <th>Author</th>\n",
       "      <th>Publication_date</th>\n",
       "      <th>Hubs</th>\n",
       "      <th>Tags</th>\n",
       "      <th>Content</th>\n",
       "      <th>Comments</th>\n",
       "      <th>Views</th>\n",
       "      <th>URL</th>\n",
       "      <th>Reading_time</th>\n",
       "      <th>Images_links</th>\n",
       "      <th>Individ/Company</th>\n",
       "      <th>Rating</th>\n",
       "      <th>Positive/Negative</th>\n",
       "      <th>Bookmarks_cnt</th>\n",
       "      <th>cleaned_text</th>\n",
       "      <th>text_length</th>\n",
       "      <th>tokens</th>\n",
       "      <th>pos_tags</th>\n",
       "    </tr>\n",
       "  </thead>\n",
       "  <tbody>\n",
       "    <tr>\n",
       "      <th>0</th>\n",
       "      <td>Лечение приступов лени</td>\n",
       "      <td>complex</td>\n",
       "      <td>2009-08-03 14:34:35+00:00</td>\n",
       "      <td>GTD</td>\n",
       "      <td>лень, учись работать, самомотивация, мотивация</td>\n",
       "      <td>Пора лишать девственности свой бложик.\n",
       "Так как...</td>\n",
       "      <td>67</td>\n",
       "      <td>6800</td>\n",
       "      <td>https://habr.com/ru/articles/66091/</td>\n",
       "      <td>2.0</td>\n",
       "      <td></td>\n",
       "      <td>individual</td>\n",
       "      <td>4</td>\n",
       "      <td>positive</td>\n",
       "      <td>25.0</td>\n",
       "      <td>пора лишать девственности свой бложик так как ...</td>\n",
       "      <td>2027</td>\n",
       "      <td>['лишать' 'девственность' 'бложик' 'происходит...</td>\n",
       "      <td>[NOUN, VERB, NOUN, DET, NOUN, ADV, SCONJ, PRON...</td>\n",
       "    </tr>\n",
       "    <tr>\n",
       "      <th>1</th>\n",
       "      <td>Организация рабочего времени с помощью цвета</td>\n",
       "      <td>popotam2</td>\n",
       "      <td>2009-07-15 20:24:31+00:00</td>\n",
       "      <td>GTD</td>\n",
       "      <td>развитие, работоспособность, организация дел, ...</td>\n",
       "      <td>Предлагаю еще один вариант сделать себя более ...</td>\n",
       "      <td>13</td>\n",
       "      <td>3100</td>\n",
       "      <td>https://habr.com/ru/articles/64586/</td>\n",
       "      <td>1.0</td>\n",
       "      <td>http://www.neo-systems.ru/upload/image/calenda...</td>\n",
       "      <td>individual</td>\n",
       "      <td>1</td>\n",
       "      <td>positive</td>\n",
       "      <td>6.0</td>\n",
       "      <td>предлагаю еще один вариант сделать себя более ...</td>\n",
       "      <td>424</td>\n",
       "      <td>['предлагать' 'вариант' 'сделать' 'организован...</td>\n",
       "      <td>[VERB, ADV, NUM, NOUN, VERB, PRON, ADV, ADJ, C...</td>\n",
       "    </tr>\n",
       "    <tr>\n",
       "      <th>2</th>\n",
       "      <td>Контроль потерянного времени на Flash: «Обновл...</td>\n",
       "      <td>COOL_ALMANAH</td>\n",
       "      <td>2009-05-13 11:37:50+00:00</td>\n",
       "      <td>GTD</td>\n",
       "      <td>Flash, работа, время, контроль, шахматные часы</td>\n",
       "      <td>Таймер обновился\n",
       ", теперь им, надеюсь, будет у...</td>\n",
       "      <td>22</td>\n",
       "      <td>1300</td>\n",
       "      <td>https://habr.com/ru/articles/59477/</td>\n",
       "      <td>1.0</td>\n",
       "      <td>https://habrastorage.org/r/w780q1/getpro/megam...</td>\n",
       "      <td>individual</td>\n",
       "      <td>4</td>\n",
       "      <td>positive</td>\n",
       "      <td>6.0</td>\n",
       "      <td>таймер обновился  теперь им надеюсь будет удоб...</td>\n",
       "      <td>1084</td>\n",
       "      <td>['таймер' 'обновиться' 'надеяться' 'удобный' '...</td>\n",
       "      <td>[NOUN, VERB, SPACE, ADV, PRON, VERB, AUX, ADJ,...</td>\n",
       "    </tr>\n",
       "    <tr>\n",
       "      <th>3</th>\n",
       "      <td>Когда достигнут потолок зарплаты</td>\n",
       "      <td>ZakharS</td>\n",
       "      <td>2009-05-14 11:13:12+00:00</td>\n",
       "      <td>GTD</td>\n",
       "      <td>карьера, IT, финансы, рост</td>\n",
       "      <td>Хочу сразу предупредить, что несмотря на два э...</td>\n",
       "      <td>314</td>\n",
       "      <td>6700</td>\n",
       "      <td>https://habr.com/ru/articles/59584/</td>\n",
       "      <td>5.0</td>\n",
       "      <td>https://habrastorage.org/r/w780q1/getpro/megam...</td>\n",
       "      <td>individual</td>\n",
       "      <td>147</td>\n",
       "      <td>positive</td>\n",
       "      <td>104.0</td>\n",
       "      <td>хочу сразу предупредить что несмотря на два эк...</td>\n",
       "      <td>7852</td>\n",
       "      <td>['предупредить' 'несмотря' 'экран' 'текст' 'ст...</td>\n",
       "      <td>[VERB, ADV, VERB, PRON, ADV, ADP, NUM, NOUN, N...</td>\n",
       "    </tr>\n",
       "    <tr>\n",
       "      <th>4</th>\n",
       "      <td>5 вещей которые должны знать ваши клиенты</td>\n",
       "      <td>Kerf</td>\n",
       "      <td>2009-03-19 14:44:04+00:00</td>\n",
       "      <td>GTD</td>\n",
       "      <td>бизнес, корпорации, веб-дизайн, контент</td>\n",
       "      <td>&lt;img align=«left» title=\"\" border=«0» alt=\"\" s...</td>\n",
       "      <td>3</td>\n",
       "      <td>892</td>\n",
       "      <td>https://habr.com/ru/articles/54970/</td>\n",
       "      <td>6.0</td>\n",
       "      <td></td>\n",
       "      <td>individual</td>\n",
       "      <td>3</td>\n",
       "      <td>positive</td>\n",
       "      <td>16.0</td>\n",
       "      <td>вы когдалибо чувствовали как вы бесконечно пов...</td>\n",
       "      <td>8872</td>\n",
       "      <td>['когдалибо' 'чувствовать' 'бесконечно' 'повто...</td>\n",
       "      <td>[PRON, PRON, VERB, SCONJ, PRON, ADV, VERB, DET...</td>\n",
       "    </tr>\n",
       "  </tbody>\n",
       "</table>\n",
       "</div>"
      ],
      "text/plain": [
       "                                               Title        Author  \\\n",
       "0                             Лечение приступов лени       complex   \n",
       "1       Организация рабочего времени с помощью цвета      popotam2   \n",
       "2  Контроль потерянного времени на Flash: «Обновл...  COOL_ALMANAH   \n",
       "3                   Когда достигнут потолок зарплаты       ZakharS   \n",
       "4          5 вещей которые должны знать ваши клиенты          Kerf   \n",
       "\n",
       "           Publication_date Hubs  \\\n",
       "0 2009-08-03 14:34:35+00:00  GTD   \n",
       "1 2009-07-15 20:24:31+00:00  GTD   \n",
       "2 2009-05-13 11:37:50+00:00  GTD   \n",
       "3 2009-05-14 11:13:12+00:00  GTD   \n",
       "4 2009-03-19 14:44:04+00:00  GTD   \n",
       "\n",
       "                                                Tags  \\\n",
       "0     лень, учись работать, самомотивация, мотивация   \n",
       "1  развитие, работоспособность, организация дел, ...   \n",
       "2     Flash, работа, время, контроль, шахматные часы   \n",
       "3                         карьера, IT, финансы, рост   \n",
       "4            бизнес, корпорации, веб-дизайн, контент   \n",
       "\n",
       "                                             Content  Comments  Views  \\\n",
       "0  Пора лишать девственности свой бложик.\n",
       "Так как...        67   6800   \n",
       "1  Предлагаю еще один вариант сделать себя более ...        13   3100   \n",
       "2  Таймер обновился\n",
       ", теперь им, надеюсь, будет у...        22   1300   \n",
       "3  Хочу сразу предупредить, что несмотря на два э...       314   6700   \n",
       "4  <img align=«left» title=\"\" border=«0» alt=\"\" s...         3    892   \n",
       "\n",
       "                                   URL  Reading_time  \\\n",
       "0  https://habr.com/ru/articles/66091/           2.0   \n",
       "1  https://habr.com/ru/articles/64586/           1.0   \n",
       "2  https://habr.com/ru/articles/59477/           1.0   \n",
       "3  https://habr.com/ru/articles/59584/           5.0   \n",
       "4  https://habr.com/ru/articles/54970/           6.0   \n",
       "\n",
       "                                        Images_links Individ/Company  Rating  \\\n",
       "0                                                         individual       4   \n",
       "1  http://www.neo-systems.ru/upload/image/calenda...      individual       1   \n",
       "2  https://habrastorage.org/r/w780q1/getpro/megam...      individual       4   \n",
       "3  https://habrastorage.org/r/w780q1/getpro/megam...      individual     147   \n",
       "4                                                         individual       3   \n",
       "\n",
       "  Positive/Negative  Bookmarks_cnt  \\\n",
       "0          positive           25.0   \n",
       "1          positive            6.0   \n",
       "2          positive            6.0   \n",
       "3          positive          104.0   \n",
       "4          positive           16.0   \n",
       "\n",
       "                                        cleaned_text  text_length  \\\n",
       "0  пора лишать девственности свой бложик так как ...         2027   \n",
       "1  предлагаю еще один вариант сделать себя более ...          424   \n",
       "2  таймер обновился  теперь им надеюсь будет удоб...         1084   \n",
       "3  хочу сразу предупредить что несмотря на два эк...         7852   \n",
       "4  вы когдалибо чувствовали как вы бесконечно пов...         8872   \n",
       "\n",
       "                                              tokens  \\\n",
       "0  ['лишать' 'девственность' 'бложик' 'происходит...   \n",
       "1  ['предлагать' 'вариант' 'сделать' 'организован...   \n",
       "2  ['таймер' 'обновиться' 'надеяться' 'удобный' '...   \n",
       "3  ['предупредить' 'несмотря' 'экран' 'текст' 'ст...   \n",
       "4  ['когдалибо' 'чувствовать' 'бесконечно' 'повто...   \n",
       "\n",
       "                                            pos_tags  \n",
       "0  [NOUN, VERB, NOUN, DET, NOUN, ADV, SCONJ, PRON...  \n",
       "1  [VERB, ADV, NUM, NOUN, VERB, PRON, ADV, ADJ, C...  \n",
       "2  [NOUN, VERB, SPACE, ADV, PRON, VERB, AUX, ADJ,...  \n",
       "3  [VERB, ADV, VERB, PRON, ADV, ADP, NUM, NOUN, N...  \n",
       "4  [PRON, PRON, VERB, SCONJ, PRON, ADV, VERB, DET...  "
      ]
     },
     "execution_count": 26,
     "metadata": {},
     "output_type": "execute_result"
    }
   ],
   "source": [
    "df_10.head()"
   ]
  },
  {
   "cell_type": "code",
   "execution_count": 27,
   "metadata": {},
   "outputs": [
    {
     "data": {
      "text/plain": [
       "(28469, 19)"
      ]
     },
     "execution_count": 27,
     "metadata": {},
     "output_type": "execute_result"
    }
   ],
   "source": [
    "df_10.shape"
   ]
  },
  {
   "cell_type": "markdown",
   "metadata": {},
   "source": [
    "## Столбец со словами из текста"
   ]
  },
  {
   "cell_type": "code",
   "execution_count": 28,
   "metadata": {},
   "outputs": [],
   "source": [
    "# df.content.loc[0]"
   ]
  },
  {
   "cell_type": "markdown",
   "metadata": {},
   "source": [
    "видны HTML теги, знаки пунктуации - их нужно убрать для составления массива из слов статьи"
   ]
  },
  {
   "cell_type": "code",
   "execution_count": 30,
   "metadata": {},
   "outputs": [],
   "source": [
    "# import nltk \n",
    "# nltk.download('punkt')"
   ]
  },
  {
   "cell_type": "code",
   "execution_count": 29,
   "metadata": {},
   "outputs": [],
   "source": [
    "# from nltk.tokenize import word_tokenize\n",
    "# from nltk.tokenize import sent_tokenize"
   ]
  },
  {
   "cell_type": "code",
   "execution_count": 31,
   "metadata": {},
   "outputs": [],
   "source": [
    "# df['content_tokenize'] = df['content'].apply(word_tokenize)"
   ]
  },
  {
   "cell_type": "markdown",
   "metadata": {},
   "source": [
    "## Столбец с предложениями"
   ]
  },
  {
   "cell_type": "code",
   "execution_count": 32,
   "metadata": {},
   "outputs": [],
   "source": [
    "# sent_tokenize(df.content.loc[0])"
   ]
  },
  {
   "cell_type": "code",
   "execution_count": 33,
   "metadata": {},
   "outputs": [],
   "source": [
    "# df['content_sentences'] = df['content'].apply(sent_tokenize)"
   ]
  },
  {
   "cell_type": "markdown",
   "metadata": {},
   "source": [
    "## Столбец с кол-вом слов"
   ]
  },
  {
   "cell_type": "code",
   "execution_count": 34,
   "metadata": {},
   "outputs": [],
   "source": [
    "# df['cnt_content_words'] = df['content_words'].apply(lambda x: len(x))"
   ]
  },
  {
   "cell_type": "code",
   "execution_count": 35,
   "metadata": {},
   "outputs": [],
   "source": [
    "# df['cnt_content_words']"
   ]
  },
  {
   "cell_type": "markdown",
   "metadata": {},
   "source": [
    "## Длина текста"
   ]
  },
  {
   "cell_type": "markdown",
   "metadata": {},
   "source": [
    "### распределение"
   ]
  },
  {
   "cell_type": "code",
   "execution_count": 36,
   "metadata": {},
   "outputs": [],
   "source": [
    "import seaborn as sns"
   ]
  },
  {
   "cell_type": "code",
   "execution_count": 44,
   "metadata": {},
   "outputs": [
    {
     "data": {
      "text/plain": [
       "<AxesSubplot:xlabel='text_length', ylabel='Count'>"
      ]
     },
     "execution_count": 44,
     "metadata": {},
     "output_type": "execute_result"
    },
    {
     "data": {
      "image/png": "[encoded data removed]",
      "text/plain": [
       "<Figure size 432x288 with 1 Axes>"
      ]
     },
     "metadata": {
      "needs_background": "light"
     },
     "output_type": "display_data"
    }
   ],
   "source": [
    "sns.histplot(df_10['text_length'])"
   ]
  },
  {
   "cell_type": "markdown",
   "metadata": {},
   "source": [
    "### средняя"
   ]
  },
  {
   "cell_type": "code",
   "execution_count": 38,
   "metadata": {},
   "outputs": [
    {
     "data": {
      "text/plain": [
       "7882.958551406793"
      ]
     },
     "execution_count": 38,
     "metadata": {},
     "output_type": "execute_result"
    }
   ],
   "source": [
    "df_10['text_length'].mean()"
   ]
  },
  {
   "cell_type": "code",
   "execution_count": 39,
   "metadata": {},
   "outputs": [
    {
     "data": {
      "text/plain": [
       "5792.0"
      ]
     },
     "execution_count": 39,
     "metadata": {},
     "output_type": "execute_result"
    }
   ],
   "source": [
    "df_10['text_length'].median()"
   ]
  },
  {
   "cell_type": "markdown",
   "metadata": {},
   "source": [
    "### минимальная"
   ]
  },
  {
   "cell_type": "code",
   "execution_count": 40,
   "metadata": {
    "scrolled": true
   },
   "outputs": [
    {
     "data": {
      "text/plain": [
       "1"
      ]
     },
     "execution_count": 40,
     "metadata": {},
     "output_type": "execute_result"
    }
   ],
   "source": [
    "df_10['text_length'].min()"
   ]
  },
  {
   "cell_type": "markdown",
   "metadata": {},
   "source": [
    "### максимальная"
   ]
  },
  {
   "cell_type": "code",
   "execution_count": 42,
   "metadata": {
    "scrolled": true
   },
   "outputs": [
    {
     "data": {
      "text/plain": [
       "183557"
      ]
     },
     "execution_count": 42,
     "metadata": {},
     "output_type": "execute_result"
    }
   ],
   "source": [
    "df_10['text_length'].max()"
   ]
  },
  {
   "cell_type": "markdown",
   "metadata": {},
   "source": [
    "## Облако слов"
   ]
  },
  {
   "cell_type": "code",
   "execution_count": 57,
   "metadata": {},
   "outputs": [
    {
     "data": {
      "text/html": [
       "<div>\n",
       "<style scoped>\n",
       "    .dataframe tbody tr th:only-of-type {\n",
       "        vertical-align: middle;\n",
       "    }\n",
       "\n",
       "    .dataframe tbody tr th {\n",
       "        vertical-align: top;\n",
       "    }\n",
       "\n",
       "    .dataframe thead th {\n",
       "        text-align: right;\n",
       "    }\n",
       "</style>\n",
       "<table border=\"1\" class=\"dataframe\">\n",
       "  <thead>\n",
       "    <tr style=\"text-align: right;\">\n",
       "      <th></th>\n",
       "      <th>Title</th>\n",
       "      <th>Author</th>\n",
       "      <th>Publication_date</th>\n",
       "      <th>Hubs</th>\n",
       "      <th>Tags</th>\n",
       "      <th>Content</th>\n",
       "      <th>Comments</th>\n",
       "      <th>Views</th>\n",
       "      <th>URL</th>\n",
       "      <th>Reading_time</th>\n",
       "      <th>Images_links</th>\n",
       "      <th>Individ/Company</th>\n",
       "      <th>Rating</th>\n",
       "      <th>Positive/Negative</th>\n",
       "      <th>Bookmarks_cnt</th>\n",
       "      <th>cleaned_text</th>\n",
       "      <th>text_length</th>\n",
       "      <th>tokens</th>\n",
       "      <th>pos_tags</th>\n",
       "    </tr>\n",
       "  </thead>\n",
       "  <tbody>\n",
       "    <tr>\n",
       "      <th>0</th>\n",
       "      <td>Лечение приступов лени</td>\n",
       "      <td>complex</td>\n",
       "      <td>2009-08-03 14:34:35+00:00</td>\n",
       "      <td>GTD</td>\n",
       "      <td>лень, учись работать, самомотивация, мотивация</td>\n",
       "      <td>Пора лишать девственности свой бложик.\n",
       "Так как...</td>\n",
       "      <td>67</td>\n",
       "      <td>6800</td>\n",
       "      <td>https://habr.com/ru/articles/66091/</td>\n",
       "      <td>2.0</td>\n",
       "      <td></td>\n",
       "      <td>individual</td>\n",
       "      <td>4</td>\n",
       "      <td>positive</td>\n",
       "      <td>25.0</td>\n",
       "      <td>пора лишать девственности свой бложик так как ...</td>\n",
       "      <td>2027</td>\n",
       "      <td>['лишать' 'девственность' 'бложик' 'происходит...</td>\n",
       "      <td>[NOUN, VERB, NOUN, DET, NOUN, ADV, SCONJ, PRON...</td>\n",
       "    </tr>\n",
       "  </tbody>\n",
       "</table>\n",
       "</div>"
      ],
      "text/plain": [
       "                    Title   Author          Publication_date Hubs  \\\n",
       "0  Лечение приступов лени  complex 2009-08-03 14:34:35+00:00  GTD   \n",
       "\n",
       "                                             Tags  \\\n",
       "0  лень, учись работать, самомотивация, мотивация   \n",
       "\n",
       "                                             Content  Comments  Views  \\\n",
       "0  Пора лишать девственности свой бложик.\n",
       "Так как...        67   6800   \n",
       "\n",
       "                                   URL  Reading_time Images_links  \\\n",
       "0  https://habr.com/ru/articles/66091/           2.0                \n",
       "\n",
       "  Individ/Company  Rating Positive/Negative  Bookmarks_cnt  \\\n",
       "0      individual       4          positive           25.0   \n",
       "\n",
       "                                        cleaned_text  text_length  \\\n",
       "0  пора лишать девственности свой бложик так как ...         2027   \n",
       "\n",
       "                                              tokens  \\\n",
       "0  ['лишать' 'девственность' 'бложик' 'происходит...   \n",
       "\n",
       "                                            pos_tags  \n",
       "0  [NOUN, VERB, NOUN, DET, NOUN, ADV, SCONJ, PRON...  "
      ]
     },
     "execution_count": 57,
     "metadata": {},
     "output_type": "execute_result"
    }
   ],
   "source": [
    "df_10.head(1)"
   ]
  },
  {
   "cell_type": "code",
   "execution_count": 58,
   "metadata": {},
   "outputs": [
    {
     "data": {
      "text/plain": [
       "\"['лишать' 'девственность' 'бложик' 'происходить' 'сегодня' 'понедельник'\\n 'день' 'неделя' 'крокодил' 'ловится' 'расти' 'кокос' 'закину'\\n 'соответствующий' 'пост' 'самомотивация' 'период' 'жизнь' 'инициативный'\\n 'неугомонный' 'трудоголик' 'смотреть' 'подумаешь' 'периодически'\\n 'происходить' 'нападать' 'тотальный' 'апатия' 'лень' 'происходить'\\n 'неимение' 'возможность' 'устроить' 'выходной' 'неделя' 'подряд'\\n 'происходить' 'избавиться' 'пост' 'написать' 'учись' 'работать'\\n 'мотивация' 'заставлять' 'работать' 'избавляться' 'состояние' 'работать'\\n 'хотеться' 'человек' 'инициативный' 'неугомонный' 'трудоголик'\\n 'гордиться' 'временами' 'день' 'ночь' 'сутками' 'работа' 'работать'\\n 'попадать' 'ступор' 'мозг' 'напрочь' 'отказываться' 'чтолибо' 'думать'\\n 'соответственно' 'чтото' 'делать' 'получаться' 'плохо' 'голова'\\n 'вериться' 'фраза' 'работать' 'делать' 'хотеться' 'озвучить' 'многих'\\n 'топика' 'хабре' 'лекарство' 'помогать' 'отключить' 'интернет'\\n 'представить' 'миллион' 'заработаешь' 'подумать' 'зп' 'урезать'\\n 'пересилить' 'станешь' 'работать' 'тп' 'средство' 'пытаться' 'пересилить'\\n 'заставлять' 'работать' 'хотеться' 'сделать' 'противный' 'горд' 'бывать'\\n 'стыдно' 'помогать' 'лекарство' 'напиться' 'синяк' 'месяц' 'практикую'\\n 'твой' 'жизнь' 'пара' 'суток' 'улетать' 'больший' 'количество' 'вещь'\\n 'кои' 'ценить' 'здоровье' 'время' 'деньга' 'контакт' 'апатия'\\n 'улетучивается' 'понимать' 'отрезвев' 'поиграть' 'игра' 'заядлый'\\n 'геймер' 'истечение' 'какогото' 'время' 'почувствовать' 'усиливаться'\\n 'переживание' 'время' 'тратить' 'впустую' 'полезный' 'сделать' 'человек']\""
      ]
     },
     "execution_count": 58,
     "metadata": {},
     "output_type": "execute_result"
    }
   ],
   "source": [
    "df_10.tokens.iloc[0]"
   ]
  },
  {
   "cell_type": "code",
   "execution_count": null,
   "metadata": {},
   "outputs": [],
   "source": []
  },
  {
   "cell_type": "code",
   "execution_count": null,
   "metadata": {},
   "outputs": [],
   "source": []
  },
  {
   "cell_type": "markdown",
   "metadata": {},
   "source": [
    "# Анализ атрибутов (связи)"
   ]
  },
  {
   "cell_type": "markdown",
   "metadata": {},
   "source": [
    "## Распределения"
   ]
  },
  {
   "cell_type": "code",
   "execution_count": 45,
   "metadata": {},
   "outputs": [
    {
     "data": {
      "text/html": [
       "<div>\n",
       "<style scoped>\n",
       "    .dataframe tbody tr th:only-of-type {\n",
       "        vertical-align: middle;\n",
       "    }\n",
       "\n",
       "    .dataframe tbody tr th {\n",
       "        vertical-align: top;\n",
       "    }\n",
       "\n",
       "    .dataframe thead th {\n",
       "        text-align: right;\n",
       "    }\n",
       "</style>\n",
       "<table border=\"1\" class=\"dataframe\">\n",
       "  <thead>\n",
       "    <tr style=\"text-align: right;\">\n",
       "      <th></th>\n",
       "      <th>title</th>\n",
       "      <th>author</th>\n",
       "      <th>publication_date</th>\n",
       "      <th>hubs</th>\n",
       "      <th>tags</th>\n",
       "      <th>content</th>\n",
       "      <th>comments</th>\n",
       "      <th>views</th>\n",
       "      <th>url</th>\n",
       "      <th>reading_time</th>\n",
       "      <th>images_links</th>\n",
       "      <th>individ/company</th>\n",
       "      <th>rating</th>\n",
       "      <th>positive/negative</th>\n",
       "      <th>bookmarks_cnt</th>\n",
       "      <th>is_individ</th>\n",
       "      <th>is_positive</th>\n",
       "    </tr>\n",
       "  </thead>\n",
       "  <tbody>\n",
       "    <tr>\n",
       "      <th>0</th>\n",
       "      <td>Лечение приступов лени</td>\n",
       "      <td>complex</td>\n",
       "      <td>2009-08-03 14:34:35+00:00</td>\n",
       "      <td>GTD</td>\n",
       "      <td>лень, учись работать, самомотивация, мотивация</td>\n",
       "      <td>Пора лишать девственности свой бложик.\\nТак ка...</td>\n",
       "      <td>67</td>\n",
       "      <td>6800</td>\n",
       "      <td>https://habr.com/ru/articles/66091/</td>\n",
       "      <td>2.0</td>\n",
       "      <td></td>\n",
       "      <td>individual</td>\n",
       "      <td>4</td>\n",
       "      <td>positive</td>\n",
       "      <td>25.0</td>\n",
       "      <td>1</td>\n",
       "      <td>1</td>\n",
       "    </tr>\n",
       "  </tbody>\n",
       "</table>\n",
       "</div>"
      ],
      "text/plain": [
       "                    title   author          publication_date hubs  \\\n",
       "0  Лечение приступов лени  complex 2009-08-03 14:34:35+00:00  GTD   \n",
       "\n",
       "                                             tags  \\\n",
       "0  лень, учись работать, самомотивация, мотивация   \n",
       "\n",
       "                                             content  comments  views  \\\n",
       "0  Пора лишать девственности свой бложик.\\nТак ка...        67   6800   \n",
       "\n",
       "                                   url  reading_time images_links  \\\n",
       "0  https://habr.com/ru/articles/66091/           2.0                \n",
       "\n",
       "  individ/company  rating positive/negative  bookmarks_cnt  is_individ  \\\n",
       "0      individual       4          positive           25.0           1   \n",
       "\n",
       "   is_positive  \n",
       "0            1  "
      ]
     },
     "execution_count": 45,
     "metadata": {},
     "output_type": "execute_result"
    }
   ],
   "source": [
    "df.head(1)"
   ]
  },
  {
   "cell_type": "code",
   "execution_count": 46,
   "metadata": {},
   "outputs": [
    {
     "data": {
      "text/plain": [
       "<AxesSubplot:xlabel='bookmarks_cnt', ylabel='Count'>"
      ]
     },
     "execution_count": 46,
     "metadata": {},
     "output_type": "execute_result"
    },
    {
     "data": {
      "image/png": "[encoded data removed]",
      "text/plain": [
       "<Figure size 432x288 with 1 Axes>"
      ]
     },
     "metadata": {
      "needs_background": "light"
     },
     "output_type": "display_data"
    }
   ],
   "source": [
    "sns.histplot(df.query('bookmarks_cnt < 500')['bookmarks_cnt'])"
   ]
  },
  {
   "cell_type": "code",
   "execution_count": 47,
   "metadata": {
    "scrolled": true
   },
   "outputs": [
    {
     "name": "stderr",
     "output_type": "stream",
     "text": [
      "/Users/vitaly/opt/anaconda3/lib/python3.8/site-packages/seaborn/_decorators.py:36: FutureWarning: Pass the following variable as a keyword arg: x. From version 0.12, the only valid positional argument will be `data`, and passing other arguments without an explicit keyword will result in an error or misinterpretation.\n",
      "  warnings.warn(\n"
     ]
    },
    {
     "data": {
      "text/plain": [
       "<AxesSubplot:xlabel='rating'>"
      ]
     },
     "execution_count": 47,
     "metadata": {},
     "output_type": "execute_result"
    },
    {
     "data": {
      "image/png": "[encoded data removed]",
      "text/plain": [
       "<Figure size 432x288 with 1 Axes>"
      ]
     },
     "metadata": {
      "needs_background": "light"
     },
     "output_type": "display_data"
    }
   ],
   "source": [
    "sns.violinplot(df.query('rating < 200')['rating'])"
   ]
  },
  {
   "cell_type": "code",
   "execution_count": 48,
   "metadata": {},
   "outputs": [
    {
     "data": {
      "text/plain": [
       "<AxesSubplot:xlabel='reading_time', ylabel='Count'>"
      ]
     },
     "execution_count": 48,
     "metadata": {},
     "output_type": "execute_result"
    },
    {
     "data": {
      "image/png": "[encoded data removed]",
      "text/plain": [
       "<Figure size 432x288 with 1 Axes>"
      ]
     },
     "metadata": {
      "needs_background": "light"
     },
     "output_type": "display_data"
    }
   ],
   "source": [
    "sns.histplot(df['reading_time'])"
   ]
  },
  {
   "cell_type": "code",
   "execution_count": 49,
   "metadata": {
    "scrolled": true
   },
   "outputs": [
    {
     "data": {
      "text/plain": [
       "<AxesSubplot:xlabel='views', ylabel='Count'>"
      ]
     },
     "execution_count": 49,
     "metadata": {},
     "output_type": "execute_result"
    },
    {
     "data": {
      "image/png": "[encoded data removed]",
      "text/plain": [
       "<Figure size 432x288 with 1 Axes>"
      ]
     },
     "metadata": {
      "needs_background": "light"
     },
     "output_type": "display_data"
    }
   ],
   "source": [
    "sns.histplot(df['views'])"
   ]
  },
  {
   "cell_type": "code",
   "execution_count": 50,
   "metadata": {},
   "outputs": [
    {
     "data": {
      "text/plain": [
       "<AxesSubplot:xlabel='comments', ylabel='Count'>"
      ]
     },
     "execution_count": 50,
     "metadata": {},
     "output_type": "execute_result"
    },
    {
     "data": {
      "image/png": "[encoded data removed]",
      "text/plain": [
       "<Figure size 432x288 with 1 Axes>"
      ]
     },
     "metadata": {
      "needs_background": "light"
     },
     "output_type": "display_data"
    }
   ],
   "source": [
    "sns.histplot(df['comments'])"
   ]
  },
  {
   "cell_type": "code",
   "execution_count": 51,
   "metadata": {},
   "outputs": [
    {
     "data": {
      "text/plain": [
       "<seaborn.axisgrid.PairGrid at 0x7fc76d5bddf0>"
      ]
     },
     "execution_count": 51,
     "metadata": {},
     "output_type": "execute_result"
    },
    {
     "data": {
      "image/png": "[encoded data removed]",
      "text/plain": [
       "<Figure size 1260x1260 with 56 Axes>"
      ]
     },
     "metadata": {
      "needs_background": "light"
     },
     "output_type": "display_data"
    }
   ],
   "source": [
    "sns.pairplot(df)"
   ]
  },
  {
   "cell_type": "code",
   "execution_count": 52,
   "metadata": {},
   "outputs": [
    {
     "data": {
      "text/html": [
       "<div>\n",
       "<style scoped>\n",
       "    .dataframe tbody tr th:only-of-type {\n",
       "        vertical-align: middle;\n",
       "    }\n",
       "\n",
       "    .dataframe tbody tr th {\n",
       "        vertical-align: top;\n",
       "    }\n",
       "\n",
       "    .dataframe thead th {\n",
       "        text-align: right;\n",
       "    }\n",
       "</style>\n",
       "<table border=\"1\" class=\"dataframe\">\n",
       "  <thead>\n",
       "    <tr style=\"text-align: right;\">\n",
       "      <th></th>\n",
       "      <th>bookmarks_cnt</th>\n",
       "      <th>rating</th>\n",
       "      <th>reading_time</th>\n",
       "      <th>views</th>\n",
       "      <th>comments</th>\n",
       "    </tr>\n",
       "  </thead>\n",
       "  <tbody>\n",
       "    <tr>\n",
       "      <th>bookmarks_cnt</th>\n",
       "      <td>1.000000</td>\n",
       "      <td>0.240125</td>\n",
       "      <td>0.211739</td>\n",
       "      <td>0.655055</td>\n",
       "      <td>0.190889</td>\n",
       "    </tr>\n",
       "    <tr>\n",
       "      <th>rating</th>\n",
       "      <td>0.240125</td>\n",
       "      <td>1.000000</td>\n",
       "      <td>0.054705</td>\n",
       "      <td>0.201484</td>\n",
       "      <td>0.296066</td>\n",
       "    </tr>\n",
       "    <tr>\n",
       "      <th>reading_time</th>\n",
       "      <td>0.211739</td>\n",
       "      <td>0.054705</td>\n",
       "      <td>1.000000</td>\n",
       "      <td>0.135618</td>\n",
       "      <td>-0.008614</td>\n",
       "    </tr>\n",
       "    <tr>\n",
       "      <th>views</th>\n",
       "      <td>0.655055</td>\n",
       "      <td>0.201484</td>\n",
       "      <td>0.135618</td>\n",
       "      <td>1.000000</td>\n",
       "      <td>0.295405</td>\n",
       "    </tr>\n",
       "    <tr>\n",
       "      <th>comments</th>\n",
       "      <td>0.190889</td>\n",
       "      <td>0.296066</td>\n",
       "      <td>-0.008614</td>\n",
       "      <td>0.295405</td>\n",
       "      <td>1.000000</td>\n",
       "    </tr>\n",
       "  </tbody>\n",
       "</table>\n",
       "</div>"
      ],
      "text/plain": [
       "               bookmarks_cnt    rating  reading_time     views  comments\n",
       "bookmarks_cnt       1.000000  0.240125      0.211739  0.655055  0.190889\n",
       "rating              0.240125  1.000000      0.054705  0.201484  0.296066\n",
       "reading_time        0.211739  0.054705      1.000000  0.135618 -0.008614\n",
       "views               0.655055  0.201484      0.135618  1.000000  0.295405\n",
       "comments            0.190889  0.296066     -0.008614  0.295405  1.000000"
      ]
     },
     "execution_count": 52,
     "metadata": {},
     "output_type": "execute_result"
    }
   ],
   "source": [
    "df[['bookmarks_cnt', 'rating', 'reading_time', 'views', 'comments']].corr()"
   ]
  },
  {
   "cell_type": "markdown",
   "metadata": {},
   "source": [
    "статистисчески наблюдается связь между кол-вом просмотров и количеством отметок (закладок) пользователями"
   ]
  },
  {
   "cell_type": "markdown",
   "metadata": {},
   "source": [
    "## Категориальные признаки, даты"
   ]
  },
  {
   "cell_type": "code",
   "execution_count": 53,
   "metadata": {},
   "outputs": [
    {
     "data": {
      "text/html": [
       "<div>\n",
       "<style scoped>\n",
       "    .dataframe tbody tr th:only-of-type {\n",
       "        vertical-align: middle;\n",
       "    }\n",
       "\n",
       "    .dataframe tbody tr th {\n",
       "        vertical-align: top;\n",
       "    }\n",
       "\n",
       "    .dataframe thead th {\n",
       "        text-align: right;\n",
       "    }\n",
       "</style>\n",
       "<table border=\"1\" class=\"dataframe\">\n",
       "  <thead>\n",
       "    <tr style=\"text-align: right;\">\n",
       "      <th></th>\n",
       "      <th>title</th>\n",
       "      <th>author</th>\n",
       "      <th>publication_date</th>\n",
       "      <th>hubs</th>\n",
       "      <th>tags</th>\n",
       "      <th>content</th>\n",
       "      <th>comments</th>\n",
       "      <th>views</th>\n",
       "      <th>url</th>\n",
       "      <th>reading_time</th>\n",
       "      <th>images_links</th>\n",
       "      <th>individ/company</th>\n",
       "      <th>rating</th>\n",
       "      <th>positive/negative</th>\n",
       "      <th>bookmarks_cnt</th>\n",
       "      <th>is_individ</th>\n",
       "      <th>is_positive</th>\n",
       "    </tr>\n",
       "  </thead>\n",
       "  <tbody>\n",
       "    <tr>\n",
       "      <th>0</th>\n",
       "      <td>Лечение приступов лени</td>\n",
       "      <td>complex</td>\n",
       "      <td>2009-08-03 14:34:35+00:00</td>\n",
       "      <td>GTD</td>\n",
       "      <td>лень, учись работать, самомотивация, мотивация</td>\n",
       "      <td>Пора лишать девственности свой бложик.\\nТак ка...</td>\n",
       "      <td>67</td>\n",
       "      <td>6800</td>\n",
       "      <td>https://habr.com/ru/articles/66091/</td>\n",
       "      <td>2.0</td>\n",
       "      <td></td>\n",
       "      <td>individual</td>\n",
       "      <td>4</td>\n",
       "      <td>positive</td>\n",
       "      <td>25.0</td>\n",
       "      <td>1</td>\n",
       "      <td>1</td>\n",
       "    </tr>\n",
       "  </tbody>\n",
       "</table>\n",
       "</div>"
      ],
      "text/plain": [
       "                    title   author          publication_date hubs  \\\n",
       "0  Лечение приступов лени  complex 2009-08-03 14:34:35+00:00  GTD   \n",
       "\n",
       "                                             tags  \\\n",
       "0  лень, учись работать, самомотивация, мотивация   \n",
       "\n",
       "                                             content  comments  views  \\\n",
       "0  Пора лишать девственности свой бложик.\\nТак ка...        67   6800   \n",
       "\n",
       "                                   url  reading_time images_links  \\\n",
       "0  https://habr.com/ru/articles/66091/           2.0                \n",
       "\n",
       "  individ/company  rating positive/negative  bookmarks_cnt  is_individ  \\\n",
       "0      individual       4          positive           25.0           1   \n",
       "\n",
       "   is_positive  \n",
       "0            1  "
      ]
     },
     "execution_count": 53,
     "metadata": {},
     "output_type": "execute_result"
    }
   ],
   "source": [
    "df.head(1)"
   ]
  },
  {
   "cell_type": "code",
   "execution_count": 54,
   "metadata": {},
   "outputs": [
    {
     "data": {
      "text/html": [
       "<div>\n",
       "<style scoped>\n",
       "    .dataframe tbody tr th:only-of-type {\n",
       "        vertical-align: middle;\n",
       "    }\n",
       "\n",
       "    .dataframe tbody tr th {\n",
       "        vertical-align: top;\n",
       "    }\n",
       "\n",
       "    .dataframe thead th {\n",
       "        text-align: right;\n",
       "    }\n",
       "</style>\n",
       "<table border=\"1\" class=\"dataframe\">\n",
       "  <thead>\n",
       "    <tr style=\"text-align: right;\">\n",
       "      <th></th>\n",
       "      <th>mean_comments</th>\n",
       "      <th>mean_views</th>\n",
       "      <th>mean_reading_time</th>\n",
       "      <th>mean_rating</th>\n",
       "      <th>mean_bookmarks_cnt</th>\n",
       "    </tr>\n",
       "    <tr>\n",
       "      <th>is_positive</th>\n",
       "      <th></th>\n",
       "      <th></th>\n",
       "      <th></th>\n",
       "      <th></th>\n",
       "      <th></th>\n",
       "    </tr>\n",
       "  </thead>\n",
       "  <tbody>\n",
       "    <tr>\n",
       "      <th>0</th>\n",
       "      <td>10.0</td>\n",
       "      <td>2300.0</td>\n",
       "      <td>2.0</td>\n",
       "      <td>5.0</td>\n",
       "      <td>5.0</td>\n",
       "    </tr>\n",
       "    <tr>\n",
       "      <th>1</th>\n",
       "      <td>13.0</td>\n",
       "      <td>8500.0</td>\n",
       "      <td>4.0</td>\n",
       "      <td>14.0</td>\n",
       "      <td>28.0</td>\n",
       "    </tr>\n",
       "  </tbody>\n",
       "</table>\n",
       "</div>"
      ],
      "text/plain": [
       "             mean_comments  mean_views  mean_reading_time  mean_rating  \\\n",
       "is_positive                                                              \n",
       "0                     10.0      2300.0                2.0          5.0   \n",
       "1                     13.0      8500.0                4.0         14.0   \n",
       "\n",
       "             mean_bookmarks_cnt  \n",
       "is_positive                      \n",
       "0                           5.0  \n",
       "1                          28.0  "
      ]
     },
     "execution_count": 54,
     "metadata": {},
     "output_type": "execute_result"
    }
   ],
   "source": [
    "df.groupby('is_positive').agg(mean_comments = ('comments', 'median'),\n",
    "                              mean_views = ('views', 'median'),\n",
    "                              mean_reading_time = ('reading_time', 'median'),\n",
    "                              mean_rating = ('rating', 'median'),\n",
    "                              mean_bookmarks_cnt = ('bookmarks_cnt', 'median'))\n",
    "# закономерно у статей с позитивным рейтингом все показатели лучше"
   ]
  },
  {
   "cell_type": "code",
   "execution_count": 55,
   "metadata": {},
   "outputs": [
    {
     "data": {
      "text/html": [
       "<div>\n",
       "<style scoped>\n",
       "    .dataframe tbody tr th:only-of-type {\n",
       "        vertical-align: middle;\n",
       "    }\n",
       "\n",
       "    .dataframe tbody tr th {\n",
       "        vertical-align: top;\n",
       "    }\n",
       "\n",
       "    .dataframe thead th {\n",
       "        text-align: right;\n",
       "    }\n",
       "</style>\n",
       "<table border=\"1\" class=\"dataframe\">\n",
       "  <thead>\n",
       "    <tr style=\"text-align: right;\">\n",
       "      <th></th>\n",
       "      <th>mean_comments</th>\n",
       "      <th>mean_views</th>\n",
       "      <th>mean_reading_time</th>\n",
       "      <th>mean_rating</th>\n",
       "      <th>mean_bookmarks_cnt</th>\n",
       "    </tr>\n",
       "    <tr>\n",
       "      <th>is_individ</th>\n",
       "      <th></th>\n",
       "      <th></th>\n",
       "      <th></th>\n",
       "      <th></th>\n",
       "      <th></th>\n",
       "    </tr>\n",
       "  </thead>\n",
       "  <tbody>\n",
       "    <tr>\n",
       "      <th>0</th>\n",
       "      <td>7.0</td>\n",
       "      <td>9200.0</td>\n",
       "      <td>6.0</td>\n",
       "      <td>13.0</td>\n",
       "      <td>30.0</td>\n",
       "    </tr>\n",
       "    <tr>\n",
       "      <th>1</th>\n",
       "      <td>17.0</td>\n",
       "      <td>7300.0</td>\n",
       "      <td>3.0</td>\n",
       "      <td>14.0</td>\n",
       "      <td>24.0</td>\n",
       "    </tr>\n",
       "  </tbody>\n",
       "</table>\n",
       "</div>"
      ],
      "text/plain": [
       "            mean_comments  mean_views  mean_reading_time  mean_rating  \\\n",
       "is_individ                                                              \n",
       "0                     7.0      9200.0                6.0         13.0   \n",
       "1                    17.0      7300.0                3.0         14.0   \n",
       "\n",
       "            mean_bookmarks_cnt  \n",
       "is_individ                      \n",
       "0                         30.0  \n",
       "1                         24.0  "
      ]
     },
     "execution_count": 55,
     "metadata": {},
     "output_type": "execute_result"
    }
   ],
   "source": [
    "df.groupby('is_individ').agg(mean_comments = ('comments', 'median'),\n",
    "                              mean_views = ('views', 'median'),\n",
    "                              mean_reading_time = ('reading_time', 'median'),\n",
    "                              mean_rating = ('rating', 'median'),\n",
    "                              mean_bookmarks_cnt = ('bookmarks_cnt', 'median'))\n",
    "# у простых авторов больше комментариев, и немного больше рейтинг\n",
    "# у представителей компаний больше кол-во просмотров, время просмотра и кол-во заметок"
   ]
  },
  {
   "cell_type": "code",
   "execution_count": null,
   "metadata": {},
   "outputs": [],
   "source": []
  },
  {
   "cell_type": "code",
   "execution_count": null,
   "metadata": {},
   "outputs": [],
   "source": []
  }
 ],
 "metadata": {
  "kernelspec": {
   "display_name": "Python 3",
   "language": "python",
   "name": "python3"
  },
  "language_info": {
   "codemirror_mode": {
    "name": "ipython",
    "version": 3
   },
   "file_extension": ".py",
   "mimetype": "text/x-python",
   "name": "python",
   "nbconvert_exporter": "python",
   "pygments_lexer": "ipython3",
   "version": "3.8.5"
  },
  "toc": {
   "base_numbering": 1,
   "nav_menu": {
    "height": "220px",
    "width": "243.991px"
   },
   "number_sections": true,
   "sideBar": true,
   "skip_h1_title": false,
   "title_cell": "Table of Contents",
   "title_sidebar": "Contents",
   "toc_cell": false,
   "toc_position": {
    "height": "calc(100% - 180px)",
    "left": "10px",
    "top": "150px",
    "width": "224.361px"
   },
   "toc_section_display": true,
   "toc_window_display": true
  }
 },
 "nbformat": 4,
 "nbformat_minor": 4
}
